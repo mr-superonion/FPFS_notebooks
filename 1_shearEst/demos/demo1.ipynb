{
 "cells": [
  {
   "cell_type": "markdown",
   "id": "9d3eb588-be03-44c6-9e85-a9b5be50aa04",
   "metadata": {},
   "source": [
    "# Demo1 "
   ]
  },
  {
   "cell_type": "code",
   "execution_count": 1,
   "id": "ec2d446f-677d-4fe5-ace5-776239f5faa2",
   "metadata": {},
   "outputs": [],
   "source": [
    "%matplotlib inline\n",
    "import gc\n",
    "import pdet\n",
    "import time\n",
    "import fpfs\n",
    "import wselutil\n",
    "\n",
    "import numpy as np\n",
    "import matplotlib.pyplot as plt\n",
    "import numpy.lib.recfunctions as rfn"
   ]
  },
  {
   "cell_type": "markdown",
   "id": "71935789-49e9-4693-ad77-cbd2a4de6840",
   "metadata": {},
   "source": [
    "## image simulation\n",
    "+ fpfs.simutil.sim_test is the test to simulation simple galaxy image and test shear estimation"
   ]
  },
  {
   "cell_type": "code",
   "execution_count": 2,
   "id": "af3737af-c142-4e14-bd1c-95a5f6772776",
   "metadata": {},
   "outputs": [
    {
     "name": "stdout",
     "output_type": "stream",
     "text": [
      "SNR is inf\n",
      "0.023523938 0.023523938\n"
     ]
    },
    {
     "name": "stderr",
     "output_type": "stream",
     "text": [
      "/var/tmp/pbs.100536.idark/ipykernel_81775/474466019.py:10: RuntimeWarning: divide by zero encountered in true_divide\n",
      "  print('SNR is %.2f' %(flux_gal/(noi_std*5)))\n",
      "/var/tmp/pbs.100536.idark/ipykernel_81775/474466019.py:13: RuntimeWarning: divide by zero encountered in true_divide\n",
      "  _=plt.title(r'SNR=$%.2f$'%(flux_gal/(noi_std*5)),fontsize=20)\n"
     ]
    },
    {
     "data": {
      "image/png": "[encoded data removed]",
      "text/plain": [
       "<Figure size 432x288 with 1 Axes>"
      ]
     },
     "metadata": {
      "needs_background": "light"
     },
     "output_type": "display_data"
    }
   ],
   "source": [
    "rng     =   np.random.RandomState(212)\n",
    "ngrid   =   64\n",
    "testTask=   fpfs.simutil.sim_test(shear=[0,0],rng=rng,ngrid=ngrid)\n",
    "\n",
    "noi_std =   0.\n",
    "sims= testTask.make_image(noise=noi_std,psf_noise=0.)\n",
    "gal = sims[0]\n",
    "psf = sims[1]\n",
    "flux_gal=   np.sum(testTask.img[ngrid//2-2:ngrid//2+3,ngrid//2-2:ngrid//2+3])\n",
    "print('SNR is %.2f' %(flux_gal/(noi_std*5)))\n",
    "plt.close()\n",
    "plt.imshow(gal)\n",
    "_=plt.title(r'SNR=$%.2f$'%(flux_gal/(noi_std*5)),fontsize=20)\n",
    "print(gal.max(),gal[32,32])"
   ]
  },
  {
   "cell_type": "code",
   "execution_count": 3,
   "id": "888dc7ab-2fc4-42c6-97f7-14c6b10daa5b",
   "metadata": {},
   "outputs": [
    {
     "data": {
      "text/plain": [
       "(32, 32)"
      ]
     },
     "execution_count": 3,
     "metadata": {},
     "output_type": "execute_result"
    }
   ],
   "source": [
    "np.unravel_index(np.argmax(gal),(64,64))"
   ]
  },
  {
   "cell_type": "code",
   "execution_count": 4,
   "id": "f6b477b1-9d4f-49ec-8f52-5f770c570618",
   "metadata": {},
   "outputs": [
    {
     "data": {
      "image/png": "[encoded data removed]",
      "text/plain": [
       "<Figure size 432x288 with 1 Axes>"
      ]
     },
     "metadata": {
      "needs_background": "light"
     },
     "output_type": "display_data"
    }
   ],
   "source": [
    "plt.close()\n",
    "plt.imshow(psf)\n",
    "_=plt.title('PSF',fontsize=20)"
   ]
  },
  {
   "cell_type": "code",
   "execution_count": 5,
   "id": "c7c561bf-b906-4155-b972-7999cdb184bf",
   "metadata": {},
   "outputs": [
    {
     "data": {
      "text/plain": [
       "(0.049834613, 0.049834613)"
      ]
     },
     "execution_count": 5,
     "metadata": {},
     "output_type": "execute_result"
    }
   ],
   "source": [
    "psf.max(),psf[32,32]"
   ]
  },
  {
   "cell_type": "markdown",
   "id": "0e954806-0cbd-4024-a41b-2ec9d499afd8",
   "metadata": {},
   "source": [
    "## shear estimation\n",
    "+ fpfs.fpfsBase.fpfsTask is the task to measure shear from galaxies"
   ]
  },
  {
   "cell_type": "code",
   "execution_count": 49,
   "id": "e93fd6d5",
   "metadata": {},
   "outputs": [],
   "source": [
    "indsAll=[]\n",
    "indsAll.append((2,2))\n",
    "indsAll.append((2,1))\n",
    "indsAll.append((2,3))\n",
    "indsAll.append((1,2))\n",
    "indsAll.append((3,2))\n",
    "\n",
    "dccAll=[]\n",
    "dccAll.append(0.01)\n",
    "for _ in range(len(indsAll)-1):\n",
    "    dccAll.append(1e-3)\n",
    "cutAll=[]\n",
    "cutAll.append(0.015)\n",
    "for _ in range(len(indsAll)-1):\n",
    "    cutAll.append(1.5e-3)\n",
    "    \n",
    "def analyze_FPFS(rng, input_shear, num_gals,noi_stds,noi_psf=0.):\n",
    "    noi_stds=   np.array(noi_stds)\n",
    "    \n",
    "    if len(noi_stds.shape)==0:\n",
    "        noi_stds=np.array([noi_stds])\n",
    "    elif len(noi_stds.shape)>=2:\n",
    "        raise ValueError('The input noi_stds should be float or 1d list')\n",
    "    x       =   []      # SNR\n",
    "    y       =   []      # estimated shear\n",
    "    y_err   =   []      # error on shear\n",
    "    # I am calling this task to simulate galaxy images:\n",
    "    # https://github.com/mr-superonion/FPFS/blob/188ba8679b4db401129e7504ea5126143bafdee4/fpfs/simutil.py#L163\n",
    "    ngrid   =   64\n",
    "    testTask=   fpfs.simutil.sim_test(shear=input_shear,rng=rng,ngrid=ngrid)\n",
    "    # get an aperture flux for SNR estimation\n",
    "    gal =   testTask.make_image(noise=0.,psf_noise=noi_psf)[0]\n",
    "    flux_gal=   np.sum(gal[ngrid//2-2:ngrid//2+3,ngrid//2-2:ngrid//2+3])\n",
    "    # cutout PSF\n",
    "    rcut    =   16\n",
    "    beg     =   ngrid//2-rcut\n",
    "    end     =   beg+2*rcut\n",
    "    # cutout PSF into postage stamp with width=2rcut\n",
    "    psf     =   testTask.psf[beg:end,beg:end]\n",
    "    gc.collect()\n",
    "    num_tests=  noi_stds.size\n",
    "    for i in range(num_tests):\n",
    "        noii    =   noi_stds[i]\n",
    "        print(noii)\n",
    "        x.append(flux_gal/(noii*5))\n",
    "        # initialize FPFS task with an average psf and noise variance (or power spectrum)\n",
    "        # beta<1 is the FPFS scale parameter\n",
    "        fpTask  =   fpfs.fpfsBase.fpfsTask(psf,noiFit=noii**2.,beta=0.75)\n",
    "        start= time.time()\n",
    "        results =   []\n",
    "        for _ in range(num_gals):\n",
    "            # simulate one galaxy\n",
    "            doShift=False\n",
    "            gal =   testTask.make_image(noise=noii,psf_noise=noi_psf,do_shift=doShift)[0]\n",
    "            \n",
    "            if not doShift:\n",
    "                coords  =   np.array(np.zeros(1),dtype=[('pdet_y','i4'),('pdet_x','i4')])\n",
    "                coords['pdet_y']=   32\n",
    "                coords['pdet_x']=   32\n",
    "            else:\n",
    "                coords = None\n",
    "            out1=   pdet.get_shear_response_rfft(gal,testTask.psf,gsigma=fpTask.sigmaF,\\\n",
    "                    coords=coords,thres=noii*1)\n",
    "            if len(out1)>0:\n",
    "                imgList =   [gal[cc['pdet_y']-rcut:cc['pdet_y']+rcut,\\\n",
    "                        cc['pdet_x']-rcut:cc['pdet_x']+rcut] for cc in out1]\n",
    "                # FPFS measurement\n",
    "                modes   =   fpTask.measure(imgList)\n",
    "                # detection array\n",
    "                modes   =   rfn.merge_arrays([modes,out1],flatten=True,usemask=False)\n",
    "                out1    =   pdet.peak2det(modes)\n",
    "                modes   =   rfn.merge_arrays([modes,out1],flatten=True,usemask=False)\n",
    "                # append measured modes to the results list\n",
    "                results.append(modes)\n",
    "                del modes\n",
    "            del gal,out1,imgList\n",
    "        end =   time.time()\n",
    "        print('%.5f seconds to process %d galaxies' %(end-start,num_gals))\n",
    "        mms =   rfn.stack_arrays(results,usemask=False)\n",
    "        print(len(mms))\n",
    "        # set C = std(\\delta M_00) * 5.\n",
    "        C   =   np.sqrt(np.average(mms['fpfs_N00N00']))*5.\n",
    "        ells=   fpfs.fpfsBase.fpfsM2E(mms,const=C,noirev=True)\n",
    "        ells=   rfn.merge_arrays([ells,mms],flatten=True,usemask=False)\n",
    "\n",
    "        # weight array\n",
    "        ws1 = np.ones(len(ells))\n",
    "        for _ in range(len(cutAll)):\n",
    "            pn='v%d%d' %indsAll[_]\n",
    "            _wtmp= wselutil.truncSine_func(ells['pdet_%s' %pn],mu=cutAll[_],sigma=dccAll[_])\n",
    "            ws1=ws1*_wtmp\n",
    "        del mms,results,fpTask\n",
    "        \n",
    "        corg1,corg2 = wselutil.get_detbias_list(ells,ws1,indsAll,cutAll,dccAll)\n",
    "        resp=np.sum(ells['fpfs_RE']*ws1)+corg1\n",
    "        shear=np.sum(ells['fpfs_e1']*ws1)/resp\n",
    "        shear_err=np.sqrt(np.sum(ells['fpfs_e1']**2.*ws1**2.))/np.abs(resp)\n",
    "        \n",
    "        y.append(shear)\n",
    "        y_err.append(shear_err)\n",
    "    return np.array(x),np.array(y), np.array(y_err)"
   ]
  },
  {
   "cell_type": "code",
   "execution_count": 50,
   "id": "1bbc6a71-e94c-41a1-b131-aea3184b9a48",
   "metadata": {},
   "outputs": [
    {
     "name": "stdout",
     "output_type": "stream",
     "text": [
      "0.0001\n",
      "137.45067 seconds to process 100000 galaxies\n",
      "100000\n",
      "apply cut on pdet_v22 at 0.015\n",
      "apply cut on pdet_v21 at 0.002\n",
      "apply cut on pdet_v23 at 0.002\n",
      "apply cut on pdet_v12 at 0.002\n",
      "apply cut on pdet_v32 at 0.002\n",
      "0.00046415888336127773\n",
      "137.04607 seconds to process 100000 galaxies\n",
      "100000\n",
      "apply cut on pdet_v22 at 0.015\n",
      "apply cut on pdet_v21 at 0.002\n",
      "apply cut on pdet_v23 at 0.002\n",
      "apply cut on pdet_v12 at 0.002\n",
      "apply cut on pdet_v32 at 0.002\n",
      "0.002154434690031882\n",
      "138.75336 seconds to process 100000 galaxies\n",
      "100000\n",
      "apply cut on pdet_v22 at 0.015\n",
      "apply cut on pdet_v21 at 0.002\n",
      "apply cut on pdet_v23 at 0.002\n",
      "apply cut on pdet_v12 at 0.002\n",
      "apply cut on pdet_v32 at 0.002\n",
      "0.01\n",
      "138.18471 seconds to process 100000 galaxies\n",
      "100000\n",
      "apply cut on pdet_v22 at 0.015\n",
      "apply cut on pdet_v21 at 0.002\n",
      "apply cut on pdet_v23 at 0.002\n",
      "apply cut on pdet_v12 at 0.002\n",
      "apply cut on pdet_v32 at 0.002\n"
     ]
    },
    {
     "data": {
      "text/plain": [
       "0"
      ]
     },
     "execution_count": 50,
     "metadata": {},
     "output_type": "execute_result"
    }
   ],
   "source": [
    "# the processing time here includes time to simulate galaxies\n",
    "noi_stds=   np.logspace(-4, -2, 4, base=10.0)\n",
    "num_gals=   100000\n",
    "snr,g1,g1err=   analyze_FPFS(rng,np.array([0.03, 0.00]),num_gals,noi_stds)\n",
    "gc.collect()"
   ]
  },
  {
   "cell_type": "code",
   "execution_count": 51,
   "id": "c33bb684-b05d-4eee-8159-8cec0e62b82d",
   "metadata": {},
   "outputs": [
    {
     "data": {
      "image/png": "[encoded data removed]",
      "text/plain": [
       "<Figure size 432x288 with 1 Axes>"
      ]
     },
     "metadata": {
      "needs_background": "light"
     },
     "output_type": "display_data"
    }
   ],
   "source": [
    "plt.close()\n",
    "plt.errorbar(snr,g1,g1err)\n",
    "plt.xlabel('SNR',fontsize=20,weight='bold')\n",
    "plt.ylabel(r'$\\hat{g}_1$')\n",
    "plt.grid()\n",
    "plt.xscale('log')"
   ]
  },
  {
   "cell_type": "code",
   "execution_count": null,
   "id": "b8621eb4-e906-4d5d-bbc9-9bbcfd5aa572",
   "metadata": {},
   "outputs": [],
   "source": []
  }
 ],
 "metadata": {
  "kernelspec": {
   "display_name": "Python 3 (ipykernel)",
   "language": "python",
   "name": "python3"
  },
  "language_info": {
   "codemirror_mode": {
    "name": "ipython",
    "version": 3
   },
   "file_extension": ".py",
   "mimetype": "text/x-python",
   "name": "python",
   "nbconvert_exporter": "python",
   "pygments_lexer": "ipython3",
   "version": "3.10.6"
  }
 },
 "nbformat": 4,
 "nbformat_minor": 5
}
