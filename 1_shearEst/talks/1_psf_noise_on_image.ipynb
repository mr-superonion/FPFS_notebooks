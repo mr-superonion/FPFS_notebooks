{
 "cells": [
  {
   "cell_type": "code",
   "execution_count": 21,
   "metadata": {},
   "outputs": [],
   "source": [
    "%matplotlib inline\n",
    "import os\n",
    "import gc\n",
    "import galsim\n",
    "import numpy as np\n",
    "import astropy.io.fits as pyfits\n",
    "from astropy.visualization import simple_norm\n",
    "\n",
    "baseDir=os.path.join(os.environ['homeWrk'],'FPFS2/sim')"
   ]
  },
  {
   "cell_type": "code",
   "execution_count": 32,
   "metadata": {},
   "outputs": [
    {
     "data": {
      "image/png": "[encoded data removed]",
      "text/plain": [
       "<Figure size 936x288 with 3 Axes>"
      ]
     },
     "metadata": {
      "needs_background": "light"
     },
     "output_type": "display_data"
    }
   ],
   "source": [
    "ngrid       =   28\n",
    "nx          =   1\n",
    "ny          =   1\n",
    "ndata       =   nx*ny\n",
    "nrot        =   4\n",
    "scale       =   0.168\n",
    "bigfft      =   galsim.GSParams(maximum_fft_size=10240)\n",
    "flux_scaling=   2.587\n",
    "\n",
    "variance    =   0.0035\n",
    "ud          =   galsim.UniformDeviate(1)\n",
    "np.random.seed(1)\n",
    "\n",
    "# training data\n",
    "catName     =   'real_galaxy_catalog_25.2.fits'\n",
    "directory   =   os.path.join(os.environ['homeWrk'],'COSMOS/galsim_train/COSMOS_25.2_training_sample/')\n",
    "\n",
    "# Get the psf\n",
    "psfFname    =   os.path.join(baseDir,'galaxy_basic3Shift_psf60/psf-60.fits')\n",
    "psfImg      =   galsim.fits.read(psfFname)\n",
    "psfInt      =   galsim.InterpolatedImage(psfImg,scale=scale,flux = 1.)\n",
    "\n",
    "#simulate the galaxy\n",
    "gal0    =   galsim.Sersic(n=1.,half_light_radius=0.3,trunc=3,flux=0.1)\n",
    "gal0    =   gal0.shear(g1=0.14,g2=0.2)\n",
    "gal0b   =   gal0.shift(0.3,0.8)\n",
    "gal1b   =   galsim.Sersic(n=1.1,half_light_radius=0.2,trunc=3,flux=0.08)\n",
    "gal1b   =   gal1b.shear(g1=-0.1,g2=0.13).shift(-0.3,-0.8)\n",
    "gal0    =   gal0b+gal1b\n",
    "final1  =   gal0\n",
    "final2  =   galsim.Convolve([psfInt,gal0],gsparams=bigfft)\n",
    "gal_image1  =   galsim.ImageF(nx*ngrid*8,ny*ngrid*8,scale=scale/8.)\n",
    "final1.drawImage(gal_image1,method='real_space')\n",
    "gal_image2  =   galsim.ImageF(nx*ngrid,ny*ngrid,scale=scale)\n",
    "final2.drawImage(gal_image2)\n",
    "del gal0,final1,final2\n",
    "gc.collect\n",
    "\n",
    "plt.close()\n",
    "cc='black'\n",
    "fs=16\n",
    "figure=plt.figure(figsize=(13,4))\n",
    "ax=figure.add_subplot(1,3,1)\n",
    "ax.set_title(r'Lensed galaxies',fontsize=fs,weight='bold')\n",
    "im=ax.imshow(gal_image1.array,origin='lower',aspect='equal',cmap='RdYlBu_r',interpolation='None',\\\n",
    "             norm=simple_norm(gal_image1.array,'linear'))\n",
    "ax.get_xaxis().set_visible(False)\n",
    "ax.get_yaxis().set_visible(False)\n",
    "for pos in ['top','right','left','bottom']:\n",
    "    sp=ax.spines[pos]\n",
    "    sp.set_color(cc)\n",
    "    sp.set_linewidth(2)\n",
    "\n",
    "ax=figure.add_subplot(1,3,2)\n",
    "ax.set_title(r'With PSF',fontsize=fs,weight='bold')\n",
    "im=ax.imshow(gal_image2.array,origin='lower',aspect='equal',cmap='RdYlBu_r',interpolation='None',\\\n",
    "             norm=simple_norm(gal_image2.array,'linear'))\n",
    "ax.get_xaxis().set_visible(False)\n",
    "ax.get_yaxis().set_visible(False)\n",
    "for pos in ['top','right','left','bottom']:\n",
    "    sp=ax.spines[pos]\n",
    "    sp.set_color(cc)\n",
    "    sp.set_linewidth(2)\n",
    "    \n",
    "vn          =   galsim.GaussianNoise(ud,6e-5)\n",
    "gal_image2.addNoise(vn)\n",
    "ax=figure.add_subplot(1,3,3)\n",
    "ax.set_title(r'With noise',fontsize=fs,weight='bold')\n",
    "im=ax.imshow(gal_image2.array,origin='lower',aspect='equal',cmap='RdYlBu_r',interpolation='None',\\\n",
    "             norm=simple_norm(gal_image2.array,'linear'))\n",
    "ax.get_xaxis().set_visible(False)\n",
    "ax.get_yaxis().set_visible(False)\n",
    "for pos in ['top','right','left','bottom']:\n",
    "    sp=ax.spines[pos]\n",
    "    sp.set_color(cc)\n",
    "    sp.set_linewidth(2)\n",
    "\n",
    "figure.subplots_adjust(left=0.02,\n",
    "                bottom=0.02, \n",
    "                right=0.98, \n",
    "                top=0.90, \n",
    "                wspace=-0.3)\n",
    "#figure.savefig(os.path.join(pltDir,'shearEstSystematics.png'))"
   ]
  },
  {
   "cell_type": "code",
   "execution_count": 29,
   "metadata": {},
   "outputs": [
    {
     "name": "stdout",
     "output_type": "stream",
     "text": [
      "Help on function simple_norm in module astropy.visualization.mpl_normalize:\n",
      "\n",
      "simple_norm(data, stretch='linear', power=1.0, asinh_a=0.1, min_cut=None, max_cut=None, min_percent=None, max_percent=None, percent=None, clip=False, log_a=1000, invalid=-1.0)\n",
      "    Return a Normalization class that can be used for displaying images\n",
      "    with Matplotlib.\n",
      "    \n",
      "    This function enables only a subset of image stretching functions\n",
      "    available in `~astropy.visualization.mpl_normalize.ImageNormalize`.\n",
      "    \n",
      "    This function is used by the\n",
      "    ``astropy.visualization.scripts.fits2bitmap`` script.\n",
      "    \n",
      "    Parameters\n",
      "    ----------\n",
      "    data : ndarray\n",
      "        The image array.\n",
      "    \n",
      "    stretch : {'linear', 'sqrt', 'power', log', 'asinh'}, optional\n",
      "        The stretch function to apply to the image.  The default is\n",
      "        'linear'.\n",
      "    \n",
      "    power : float, optional\n",
      "        The power index for ``stretch='power'``.  The default is 1.0.\n",
      "    \n",
      "    asinh_a : float, optional\n",
      "        For ``stretch='asinh'``, the value where the asinh curve\n",
      "        transitions from linear to logarithmic behavior, expressed as a\n",
      "        fraction of the normalized image.  Must be in the range between\n",
      "        0 and 1.  The default is 0.1.\n",
      "    \n",
      "    min_cut : float, optional\n",
      "        The pixel value of the minimum cut level.  Data values less than\n",
      "        ``min_cut`` will set to ``min_cut`` before stretching the image.\n",
      "        The default is the image minimum.  ``min_cut`` overrides\n",
      "        ``min_percent``.\n",
      "    \n",
      "    max_cut : float, optional\n",
      "        The pixel value of the maximum cut level.  Data values greater\n",
      "        than ``min_cut`` will set to ``min_cut`` before stretching the\n",
      "        image.  The default is the image maximum.  ``max_cut`` overrides\n",
      "        ``max_percent``.\n",
      "    \n",
      "    min_percent : float, optional\n",
      "        The percentile value used to determine the pixel value of\n",
      "        minimum cut level.  The default is 0.0.  ``min_percent``\n",
      "        overrides ``percent``.\n",
      "    \n",
      "    max_percent : float, optional\n",
      "        The percentile value used to determine the pixel value of\n",
      "        maximum cut level.  The default is 100.0.  ``max_percent``\n",
      "        overrides ``percent``.\n",
      "    \n",
      "    percent : float, optional\n",
      "        The percentage of the image values used to determine the pixel\n",
      "        values of the minimum and maximum cut levels.  The lower cut\n",
      "        level will set at the ``(100 - percent) / 2`` percentile, while\n",
      "        the upper cut level will be set at the ``(100 + percent) / 2``\n",
      "        percentile.  The default is 100.0.  ``percent`` is ignored if\n",
      "        either ``min_percent`` or ``max_percent`` is input.\n",
      "    \n",
      "    clip : bool, optional\n",
      "        If `True`, data values outside the [0:1] range are clipped to\n",
      "        the [0:1] range.\n",
      "    \n",
      "    log_a : float, optional\n",
      "        The log index for ``stretch='log'``. The default is 1000.\n",
      "    \n",
      "    invalid : None or float, optional\n",
      "        Value to assign NaN values generated by the normalization.  NaNs\n",
      "        in the input ``data`` array are not changed.  For matplotlib\n",
      "        normalization, the ``invalid`` value should map to the\n",
      "        matplotlib colormap \"under\" value (i.e., any finite value < 0).\n",
      "        If `None`, then NaN values are not replaced.  This keyword has\n",
      "        no effect if ``clip=True``.\n",
      "    \n",
      "    Returns\n",
      "    -------\n",
      "    result : `ImageNormalize` instance\n",
      "        An `ImageNormalize` instance that can be used for displaying\n",
      "        images with Matplotlib.\n",
      "\n"
     ]
    }
   ],
   "source": [
    "help(simple_norm)"
   ]
  },
  {
   "cell_type": "code",
   "execution_count": 24,
   "metadata": {},
   "outputs": [
    {
     "data": {
      "text/plain": [
       "0.00040548455"
      ]
     },
     "execution_count": 24,
     "metadata": {},
     "output_type": "execute_result"
    }
   ],
   "source": [
    "gal_image1.array.max()"
   ]
  },
  {
   "cell_type": "code",
   "execution_count": null,
   "metadata": {},
   "outputs": [],
   "source": []
  }
 ],
 "metadata": {
  "kernelspec": {
   "display_name": "Python 3 (ipykernel)",
   "language": "python",
   "name": "python3"
  },
  "language_info": {
   "codemirror_mode": {
    "name": "ipython",
    "version": 3
   },
   "file_extension": ".py",
   "mimetype": "text/x-python",
   "name": "python",
   "nbconvert_exporter": "python",
   "pygments_lexer": "ipython3",
   "version": "3.8.13"
  }
 },
 "nbformat": 4,
 "nbformat_minor": 4
}
