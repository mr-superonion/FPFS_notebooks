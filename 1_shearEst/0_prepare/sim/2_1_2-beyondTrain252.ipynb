{
 "cells": [
  {
   "cell_type": "code",
   "execution_count": 1,
   "metadata": {},
   "outputs": [
    {
     "name": "stdout",
     "output_type": "stream",
     "text": [
      "%pylab is deprecated, use %matplotlib inline and import the required libraries.\n",
      "Populating the interactive namespace from numpy and matplotlib\n"
     ]
    }
   ],
   "source": [
    "%pylab inline\n",
    "import os\n",
    "import gc\n",
    "import scipy\n",
    "import smatch\n",
    "import fitsio\n",
    "import healpy as hp\n",
    "import numpy as np\n",
    "import catutil as utilities\n",
    "import imgSimutil as hscimgUtil\n",
    "import astropy.table as astTable\n",
    "import numpy.lib.recfunctions as rfn\n",
    "def calcDistanceAngle(a1, a2, d1, d2):\n",
    "    a1_f64 = np.array(a1, dtype = np.float64)\n",
    "    d1_f64 = np.array(d1, dtype = np.float64)\n",
    "    a2_f64 = np.array(a2, dtype = np.float64)\n",
    "    d2_f64 = np.array(d2, dtype = np.float64)\n",
    "    return np.arccos(np.cos(d1_f64)*np.cos(d2_f64)*np.cos(a1_f64-a2_f64)+np.sin(d1_f64)*np.sin(d2_f64))"
   ]
  },
  {
   "cell_type": "code",
   "execution_count": 2,
   "metadata": {},
   "outputs": [
    {
     "name": "stdout",
     "output_type": "stream",
     "text": [
      "/lustre/work/xiangchong.li/work/FPFS2/sim2\n"
     ]
    }
   ],
   "source": [
    "cd wrkDir/FPFS2/sim2"
   ]
  },
  {
   "cell_type": "markdown",
   "metadata": {},
   "source": [
    "# Train vs L07 vs L15\n",
    "\n",
    "+ The Galsim Training sample is a subset of L07 catalog;\n",
    "+ The Galsim Training sample has a 25.2 magnitude cut."
   ]
  },
  {
   "cell_type": "code",
   "execution_count": 4,
   "metadata": {},
   "outputs": [
    {
     "data": {
      "text/plain": [
       "Text(0, 0.5, 'log(N)')"
      ]
     },
     "execution_count": 4,
     "metadata": {},
     "output_type": "execute_result"
    },
    {
     "data": {
      "image/png": "[encoded data removed]",
      "text/plain": [
       "<Figure size 432x288 with 1 Axes>"
      ]
     },
     "metadata": {
      "needs_background": "light"
     },
     "output_type": "display_data"
    }
   ],
   "source": [
    "nside=512\n",
    "cosmo252=hscimgUtil.cosmoHSTGal('252')\n",
    "hpInfo=fitsio.read(hscimgUtil.hpInfofname %nside)\n",
    "cosmo252.readHSTsample()\n",
    "cat=cosmo252.catused\n",
    "bds=np.linspace(17,28,15)\n",
    "bdc=(bds[1:]+bds[:-1])/2.\n",
    "nums,bds=np.histogram(cat['mag_auto'],bins=bds,density=False)\n",
    "\n",
    "\n",
    "fname=os.path.join(os.environ['homeWrk'],'COSMOS/Leauthaud2007/acs_clean_only.fits')\n",
    "data=astTable.Table.read(fname)\n",
    "data=data[(data['MU_CLASS']==1)&(data['NEARSTAR']==1)&data['MASKED']==1]\n",
    "nums2,bds2=np.histogram(data['MAG_AUTO'],bins=bds,density=False)\n",
    "\n",
    "plt.plot(bdc,np.log10(nums+0.000001),label='Galsim Train')\n",
    "plt.plot(bdc,np.log10(nums2+0.00001),label='L07')\n",
    "plt.legend()\n",
    "plt.ylim(0,6)\n",
    "plt.xlabel('magnitude')\n",
    "plt.ylabel('log(N)')"
   ]
  },
  {
   "cell_type": "code",
   "execution_count": null,
   "metadata": {},
   "outputs": [],
   "source": [
    "zname=os.path.join(os.environ['homeWrk'],'COSMOS/cosmos_laigle2015/COSMOS2015_Laigle+_v1.1.fits')\n",
    "zata=astTable.Table.read(zname)\n",
    "msk=(zata['PHOTOZ']>1e-5)&(zata['PHOTOZ']<6.)\n",
    "zata=zata[msk]"
   ]
  },
  {
   "cell_type": "markdown",
   "metadata": {},
   "source": [
    "# Match"
   ]
  },
  {
   "cell_type": "code",
   "execution_count": 24,
   "metadata": {},
   "outputs": [],
   "source": [
    "# match between train and L07\n",
    "nside=4096 # healpix nside\n",
    "maxmatch=1 # return closest match\n",
    "\n",
    "# ra,dec,radius in degrees\n",
    "matches = smatch.match(cat['ra'],cat['dec'], 0.3/3600.,\n",
    "                       data['ALPHA_J2000'],data['DELTA_J2000'],\n",
    "                       nside=nside, maxmatch=maxmatch)\n",
    "data['TRAIN_IND']=-99\n",
    "data['TRAIN_IND'][matches['i2']]=cat['index'][matches['i1']]\n",
    "data['L2015_num']=-99\n",
    "matched=data[data['TRAIN_IND']>-1]\n",
    "unmatched=data[data['TRAIN_IND']<-1]"
   ]
  },
  {
   "cell_type": "code",
   "execution_count": 20,
   "metadata": {},
   "outputs": [
    {
     "name": "stdout",
     "output_type": "stream",
     "text": [
      "1.0\n"
     ]
    },
    {
     "name": "stderr",
     "output_type": "stream",
     "text": [
      "/lustre/work/xiangchong.li/ana/lsst_stack/conda/miniconda3-py37_4.8.2/envs/lsst-scipipe-cb4e2dc/lib/python3.7/site-packages/ipykernel_launcher.py:18: RuntimeWarning: invalid value encountered in arccos\n"
     ]
    }
   ],
   "source": [
    "raA=cat['ra'][matches['i1']]/180.*np.pi\n",
    "raB=data['ALPHA_J2000'][matches['i2']]/180.*np.pi\n",
    "decA=cat['dec'][matches['i1']]/180.*np.pi\n",
    "decB=data['DELTA_J2000'][matches['i2']]/180.*np.pi\n",
    "disA=calcDistanceAngle(raA,raB,decA,decB)*180./np.pi*3600.\n",
    "print(len(np.unique(matches['i2']))/len(matches))"
   ]
  },
  {
   "cell_type": "code",
   "execution_count": 32,
   "metadata": {},
   "outputs": [
    {
     "name": "stdout",
     "output_type": "stream",
     "text": [
      "1.0\n",
      "Only 35.89 percent galaxies have redshift estimation.\n"
     ]
    }
   ],
   "source": [
    "# match between unmatched and L15\n",
    "matches = smatch.match(zata['ALPHA_J2000'],zata['DELTA_J2000'], 0.5/3600.,\n",
    "                       unmatched['ALPHA_J2000'],unmatched['DELTA_J2000'],\n",
    "                       nside=nside, maxmatch=maxmatch)\n",
    "final=unmatched[matches['i2']]\n",
    "final['zphot']=zata[matches['i1']]['PHOTOZ']\n",
    "final['L2015_num']=zata[matches['i1']]['NUMBER']\n",
    "print(len(np.unique(matches['i1']))/len(matches))\n",
    "print('Only %.2f percent galaxies have redshift estimation.' %(100*len(np.unique(matches['i2']))/len(unmatched)))"
   ]
  },
  {
   "cell_type": "code",
   "execution_count": 22,
   "metadata": {},
   "outputs": [],
   "source": [
    "sel=np.ones(len(unmatched),dtype=bool)\n",
    "sel[matches['i2']]=False\n",
    "unmatchedF=unmatched[sel]"
   ]
  },
  {
   "cell_type": "code",
   "execution_count": 23,
   "metadata": {},
   "outputs": [
    {
     "name": "stdout",
     "output_type": "stream",
     "text": [
      "77.13383838383838\n",
      "113.50791245791247\n"
     ]
    }
   ],
   "source": [
    "print((len(final)+len(matched))/1.65/3600.)\n",
    "print(len(unmatchedF)/1.65/3600.)"
   ]
  },
  {
   "cell_type": "code",
   "execution_count": 12,
   "metadata": {},
   "outputs": [],
   "source": [
    "oname1=os.path.join(os.environ['homeWrk'],'COSMOS/galsim_train/COSMOS_25.2_extended','L07xG3train252.fits')\n",
    "matched.write(oname1,overwrite=True)"
   ]
  },
  {
   "cell_type": "code",
   "execution_count": 13,
   "metadata": {},
   "outputs": [],
   "source": [
    "oname3=os.path.join(os.environ['homeWrk'],'COSMOS/galsim_train/COSMOS_25.2_extended','L07_left.fits')\n",
    "unmatchedF.write(oname3,overwrite=True)"
   ]
  },
  {
   "cell_type": "markdown",
   "metadata": {},
   "source": [
    "## Then, match L07x15z to the traning sample by radius"
   ]
  },
  {
   "cell_type": "code",
   "execution_count": 14,
   "metadata": {},
   "outputs": [],
   "source": [
    "e1M=(matched['CXX_IMAGE']-matched['CYY_IMAGE'])/(matched['CXX_IMAGE']+matched['CYY_IMAGE'])\n",
    "e2M=2*matched['CXY_IMAGE']/(matched['CXX_IMAGE']+matched['CYY_IMAGE'])\n",
    "absEM=np.sqrt(e1M**2.+e2M**2.)\n",
    "xyRef=np.vstack([absEM,matched['FWHM_IMAGE']/25]).T\n",
    "\n",
    "e1=(final['CXX_IMAGE']-final['CYY_IMAGE'])/(final['CXX_IMAGE']+final['CYY_IMAGE'])\n",
    "e2=2*final['CXY_IMAGE']/(final['CXX_IMAGE']+final['CYY_IMAGE'])\n",
    "absE=np.sqrt(e1**2.+e2**2.)\n",
    "xyDat   =   np.vstack([absE,final['FWHM_IMAGE']/25]).T\n",
    "\n",
    "#plt.hist(absE,bins=50)\n",
    "#plt.hist(final['FWHM_IMAGE']/25,bins=50,range=(0,2))"
   ]
  },
  {
   "cell_type": "code",
   "execution_count": 15,
   "metadata": {},
   "outputs": [],
   "source": [
    "tree    =   scipy.spatial.cKDTree(xyRef)\n",
    "dis,inds=tree.query(xyDat,k=1)\n",
    "final['TRAIN_IND']=matched['TRAIN_IND'][inds]\n",
    "\n",
    "oname2=os.path.join(os.environ['homeWrk'],'COSMOS/galsim_train/COSMOS_25.2_extended','L07xL15z.fits')\n",
    "final.write(oname2,overwrite=True)"
   ]
  },
  {
   "cell_type": "markdown",
   "metadata": {},
   "source": [
    "## Healpix "
   ]
  },
  {
   "cell_type": "code",
   "execution_count": 2,
   "metadata": {},
   "outputs": [
    {
     "name": "stdout",
     "output_type": "stream",
     "text": [
      "/lustre/work/xiangchong.li/work/FPFS2/sim\n"
     ]
    }
   ],
   "source": [
    "cd wrkDir/FPFS2/sim"
   ]
  },
  {
   "cell_type": "code",
   "execution_count": 17,
   "metadata": {},
   "outputs": [],
   "source": [
    "from pixel3D import cartesianGrid3D\n",
    "from configparser import ConfigParser\n",
    "names=['ALPHA_J2000','DELTA_J2000','MAG_AUTO','TRAIN_IND','zphot']\n",
    "\n",
    "oname2=os.path.join(os.environ['homeWrk'],'COSMOS/galsim_train/COSMOS_25.2_extended','L07xL15z.fits')\n",
    "final=astTable.Table.read(oname2)[names]\n",
    "final.rename_column('ALPHA_J2000','ra')\n",
    "final.rename_column('DELTA_J2000','dec')\n",
    "final.rename_column('TRAIN_IND','index')\n",
    "final.rename_column('MAG_AUTO','mag_auto')"
   ]
  },
  {
   "cell_type": "code",
   "execution_count": 20,
   "metadata": {},
   "outputs": [],
   "source": [
    "nside=512\n",
    "hpInfo=pyfits.getdata(hscimgUtil.hpInfofname %nside)\n",
    "\n",
    "parser  =   ConfigParser()\n",
    "configName='config-pix-nl1.ini'\n",
    "parser.read(configName)\n",
    "gridInfo=   cartesianGrid3D(parser)\n",
    "# prepare healPIX inds\n",
    "for pixId in hscimgUtil.cosmoHSThpix:\n",
    "    # setup projected plane\n",
    "    dd =  hpInfo[hpInfo['pix']==pixId]\n",
    "    nx =  int(dd['dra']/gridInfo.delta)\n",
    "    ny =  int(dd['ddec']/gridInfo.delta)\n",
    "    gridInfo.setupNaivePlane(nx,ny,dd['raMin'],dd['decMin'])\n",
    "    mask  =   (final['ra']>dd['raMin'])\\\n",
    "            &(final['ra']<dd['raMax'])\\\n",
    "            &(final['dec']>dd['decMin'])\\\n",
    "            &(final['dec']<dd['decMax'])\n",
    "    out   =   final[mask]\n",
    "    del mask\n",
    "    x,y=  gridInfo.project_tan(out['ra'],out['dec'],pix=True)\n",
    "    xI =  np.int_(x+0.5)\n",
    "    yI =  np.int_(y+0.5)\n",
    "    np.random.seed(pixId)\n",
    "    dx =  np.random.rand(len(x))-0.5\n",
    "    dy =  np.random.rand(len(y))-0.5\n",
    "    out['xI']=xI\n",
    "    out['yI']=yI\n",
    "    out['dx']=dx\n",
    "    out['dy']=dy\n",
    "    ofname  =   os.path.join(os.environ['homeWrk'],\\\n",
    "             'COSMOS/galsim_train/COSMOS_25.2_extended/healpix-nside512','cat-%d-25.2.fits' %pixId)\n",
    "    out.write(ofname,overwrite=True)\n",
    "    del out\n",
    "    gc.collect()"
   ]
  },
  {
   "cell_type": "code",
   "execution_count": 3,
   "metadata": {},
   "outputs": [
    {
     "name": "stdout",
     "output_type": "stream",
     "text": [
      "1744591\n",
      "1744611\n"
     ]
    }
   ],
   "source": [
    "for pixId in hscimgUtil.cosmoHSThpix:\n",
    "    ofname  =   os.path.join(os.environ['homeWrk'],\\\n",
    "             'COSMOS/galsim_train/COSMOS_25.2_extended/healpix-nside512','cat-%d-25.2.fits' %pixId)\n",
    "    aa=pyfits.getdata(ofname)\n",
    "    if len(aa)<5:\n",
    "        print(pixId)\n",
    "        os.popen('rm ofname')\n",
    "    del aa\n",
    "    gc.collect()"
   ]
  },
  {
   "cell_type": "markdown",
   "metadata": {},
   "source": [
    "# healpix 1743743"
   ]
  },
  {
   "cell_type": "code",
   "execution_count": 6,
   "metadata": {},
   "outputs": [],
   "source": [
    "pix_scale=  0.168/3600.\n",
    "pixId=hscimgUtil.cosmoHSThpix[4]\n",
    "cosmo252 =  hscimgUtil.cosmoHSTGal('252')\n",
    "cosmo252E=  hscimgUtil.cosmoHSTGal('252E')\n",
    "\n",
    "info    =   cosmo252.hpInfo[cosmo252.hpInfo['pix']==pixId]\n",
    "nx      =   int(info['dra']/pix_scale)\n",
    "ny      =   int(info['ddec']/pix_scale)\n",
    "\n",
    "cat_tmp1=   cosmo252.readHpixSample(pixId)[['xI','yI','zphot','mag_auto','index']]\n",
    "cat_tmp2=   cosmo252E.readHpixSample(pixId)[['xI','yI','zphot','mag_auto','index']]\n",
    "hstcat  =   rfn.stack_arrays([cat_tmp1,cat_tmp2],usemask=False,autoconvert=True)"
   ]
  },
  {
   "cell_type": "code",
   "execution_count": null,
   "metadata": {},
   "outputs": [],
   "source": [
    "psfInfo=astTable.Table.read('s19-pre/info.csv')\n",
    "psfId=np.arange(len(psfInfo))\n",
    "msk=(psfInfo['psf_ra']>info['raMin']-0.1)&((psfInfo['psf_ra']<=info['raMax']+0.1))\\\n",
    "    &(psfInfo['psf_dec']>info['decMin']-0.1)&((psfInfo['psf_dec']<=info['decMax']+0.1))\n",
    "pId=psfId[msk][0]\n",
    "pfname='s19-pre/psfPre/psf-%05d.fits' %pId\n",
    "psfData=pyfits.getdata(pfname)\n",
    "psfHead=pyfits.getheader(pfname)\n",
    "pyfits.writeto('galaxy_cosmoE_psfHSC/psf-HSC.fits',psfData)\n",
    "pyfits.writeto('galaxy_cosmoR_psfHSC/psf-HSC.fits',psfData)"
   ]
  },
  {
   "cell_type": "code",
   "execution_count": 8,
   "metadata": {},
   "outputs": [
    {
     "data": {
      "text/plain": [
       "0.5755273178672791"
      ]
     },
     "execution_count": 8,
     "metadata": {},
     "output_type": "execute_result"
    }
   ],
   "source": [
    "psfInfo[pId]['fwhm']*0.168"
   ]
  },
  {
   "cell_type": "code",
   "execution_count": 4,
   "metadata": {},
   "outputs": [
    {
     "data": {
      "text/plain": [
       "1680.0"
      ]
     },
     "execution_count": 4,
     "metadata": {},
     "output_type": "execute_result"
    }
   ],
   "source": [
    "56000*0.03"
   ]
  },
  {
   "cell_type": "code",
   "execution_count": 9,
   "metadata": {},
   "outputs": [
    {
     "name": "stdout",
     "output_type": "stream",
     "text": [
      "141.48012255999998\n",
      "87.96995489399441\n"
     ]
    },
    {
     "data": {
      "image/png": "[encoded data removed]",
      "text/plain": [
       "<Figure size 432x288 with 1 Axes>"
      ]
     },
     "metadata": {
      "needs_background": "light"
     },
     "output_type": "display_data"
    }
   ],
   "source": [
    "pltDir='plot/simDemo/'\n",
    "if not os.path.isdir(pltDir):\n",
    "    os.mkdir(pltDir)\n",
    "    \n",
    "if True:\n",
    "    hstfname='hstcatR.fits'\n",
    "    if not os.path.isfile(hstfname):\n",
    "        hstcat['xI']=40+(nx-80)*np.random.rand(len(hstcat))\n",
    "        hstcat['yI']=40+(ny-80)*np.random.rand(len(hstcat))\n",
    "        fitsio.write(hstfname,hstcat)\n",
    "    else:\n",
    "        hstcat=fitsio.read(hstfname)\n",
    "else:\n",
    "    hstfname='hstcatE.fits'\n",
    "    if not os.path.isfile(hstfname):\n",
    "        hstcat['xI']=hstcat['xI']+np.random.rand(len(hstcat))-0.5\n",
    "        hstcat['yI']=hstcat['yI']+np.random.rand(len(hstcat))-0.5\n",
    "        fitsio.write(hstfname,hstcat)\n",
    "    else:\n",
    "        hstcat=fitsio.read(hstfname)\n",
    "plt.scatter(hstcat['xI'],hstcat['yI'],s=0.01)\n",
    "plt.xlabel('x[pix]')\n",
    "plt.ylabel('y[pix]')\n",
    "plt.tight_layout()\n",
    "plt.savefig(os.path.join(pltDir,'%s.png' %hstfname.split('.fits')[0]))\n",
    "area=(hstcat['yI'].max()-hstcat['yI'].min())*(hstcat['xI'].max()-hstcat['xI'].min())*(0.168/60.)**2.\n",
    "print(area)\n",
    "print(len(hstcat)/area)"
   ]
  },
  {
   "cell_type": "code",
   "execution_count": 62,
   "metadata": {},
   "outputs": [
    {
     "data": {
      "text/plain": [
       "Text(0.5, 0, 'cosmos z')"
      ]
     },
     "execution_count": 62,
     "metadata": {},
     "output_type": "execute_result"
    },
    {
     "data": {
      "image/png": "[encoded data removed]",
      "text/plain": [
       "<Figure size 432x288 with 1 Axes>"
      ]
     },
     "metadata": {
      "needs_background": "light"
     },
     "output_type": "display_data"
    }
   ],
   "source": [
    "# redshift distribution\n",
    "_=plt.hist(hstcat['zphot'],bins=30,alpha=0.6)\n",
    "plt.xlabel('cosmos z')"
   ]
  }
 ],
 "metadata": {
  "kernelspec": {
   "display_name": "Python 3 (ipykernel)",
   "language": "python",
   "name": "python3"
  },
  "language_info": {
   "codemirror_mode": {
    "name": "ipython",
    "version": 3
   },
   "file_extension": ".py",
   "mimetype": "text/x-python",
   "name": "python",
   "nbconvert_exporter": "python",
   "pygments_lexer": "ipython3",
   "version": "3.8.13"
  }
 },
 "nbformat": 4,
 "nbformat_minor": 4
}
