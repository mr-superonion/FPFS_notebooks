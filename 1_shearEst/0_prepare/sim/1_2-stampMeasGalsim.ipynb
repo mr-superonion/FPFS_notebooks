{
 "cells": [
  {
   "cell_type": "code",
   "execution_count": 2,
   "metadata": {},
   "outputs": [
    {
     "name": "stdout",
     "output_type": "stream",
     "text": [
      "Populating the interactive namespace from numpy and matplotlib\n"
     ]
    }
   ],
   "source": [
    "%pylab inline\n",
    "import gc\n",
    "import galsim\n",
    "import numpy as np\n",
    "import fpfsBase\n",
    "import astropy.io.fits as pyfits"
   ]
  },
  {
   "cell_type": "code",
   "execution_count": 3,
   "metadata": {},
   "outputs": [
    {
     "name": "stdout",
     "output_type": "stream",
     "text": [
      "/lustre/work/xiangchong.li/work/FPFS2/sim\n"
     ]
    }
   ],
   "source": [
    "cd wrkDir/FPFS2/sim"
   ]
  },
  {
   "cell_type": "code",
   "execution_count": 149,
   "metadata": {},
   "outputs": [
    {
     "name": "stdout",
     "output_type": "stream",
     "text": [
      "PSF FWHM: 0.678 arcsec\n"
     ]
    }
   ],
   "source": [
    "ngrid       =   64\n",
    "nx          =   100\n",
    "ny          =   100\n",
    "ndata       =   nx*ny\n",
    "scale       =   0.168\n",
    "psfFWHM =   0.6\n",
    "psfInt  =   galsim.Moffat(beta=3.5,fwhm=psfFWHM,trunc=psfFWHM*4.)\n",
    "psfInt  =   psfInt.shear(e1=0.02,e2=-0.02)\n",
    "psfImg  =   psfInt.drawImage(nx=45,ny=45,scale=scale)\n",
    "print('PSF FWHM: %.3f arcsec' % (psfImg.FindAdaptiveMom().moments_sigma*scale*2.355))"
   ]
  },
  {
   "cell_type": "code",
   "execution_count": 150,
   "metadata": {},
   "outputs": [
    {
     "name": "stdout",
     "output_type": "stream",
     "text": [
      "galaxy radius: 2.50\n",
      "galaxy radius: 2.37\n"
     ]
    },
    {
     "data": {
      "image/png": "[encoded data removed]",
      "text/plain": [
       "<Figure size 432x288 with 1 Axes>"
      ]
     },
     "metadata": {
      "needs_background": "light"
     },
     "output_type": "display_data"
    }
   ],
   "source": [
    "gal_image=galsim.fits.read('sim20210301/galaxy_basic_psf60/image-0-g1-0000.fits')\n",
    "for i in range(1858,1859):\n",
    "    ix      =   i%nx\n",
    "    iy      =   i//nx\n",
    "    b       =   galsim.BoundsI(ix*ngrid,(ix+1)*ngrid-1,iy*ngrid,(iy+1)*ngrid-1)\n",
    "    sub_img =   gal_image[b]\n",
    "    plt.close()\n",
    "    plt.imshow(sub_img.array)\n",
    "    try:\n",
    "        print('galaxy radius: %.2f' %sub_img.FindAdaptiveMom().moments_sigma)\n",
    "        print('galaxy radius: %.2f' %galsim.hsm.EstimateShear(sub_img,psfImg).moments_sigma)\n",
    "    except:\n",
    "        pass"
   ]
  },
  {
   "cell_type": "code",
   "execution_count": 151,
   "metadata": {},
   "outputs": [
    {
     "name": "stdout",
     "output_type": "stream",
     "text": [
      "galaxy radius: 2.51\n",
      "galaxy radius: 2.38\n"
     ]
    },
    {
     "data": {
      "image/png": "[encoded data removed]",
      "text/plain": [
       "<Figure size 432x288 with 1 Axes>"
      ]
     },
     "metadata": {
      "needs_background": "light"
     },
     "output_type": "display_data"
    }
   ],
   "source": [
    "gal_image=galsim.fits.read('sim20210301/galaxy_basic_psf60/image-0-g1-2222.fits')\n",
    "for i in range(1858,1859):\n",
    "    ix      =   i%nx\n",
    "    iy      =   i//nx\n",
    "    b       =   galsim.BoundsI(ix*ngrid,(ix+1)*ngrid-1,iy*ngrid,(iy+1)*ngrid-1)\n",
    "    sub_img =   gal_image[b]\n",
    "    plt.close()\n",
    "    plt.imshow(sub_img.array)\n",
    "    try:\n",
    "        print('galaxy radius: %.2f' %sub_img.FindAdaptiveMom().moments_sigma)\n",
    "        print('galaxy radius: %.2f' %galsim.hsm.EstimateShear(sub_img,psfImg).moments_sigma)\n",
    "    except:\n",
    "        pass"
   ]
  },
  {
   "cell_type": "markdown",
   "metadata": {},
   "source": [
    "## Basic Test\n",
    "+ what hsm measures"
   ]
  },
  {
   "cell_type": "code",
   "execution_count": 146,
   "metadata": {},
   "outputs": [
    {
     "name": "stdout",
     "output_type": "stream",
     "text": [
      "14.142135620117188 14.142135620117188\n"
     ]
    }
   ],
   "source": [
    "galaxy = galsim.Gaussian(flux=1.0, sigma=1.0)\n",
    "psf = galsim.Gaussian(flux=1.0, sigma=1.0)\n",
    "final = galsim.Convolve(galaxy, psf)\n",
    "final_image = final.drawImage(scale=0.1,method='no_pixel')\n",
    "final_epsf_image = psf.drawImage(scale=0.1,method='no_pixel')\n",
    "result = galsim.hsm.EstimateShear(final_image, final_epsf_image)\n",
    "result2= galsim.hsm.FindAdaptiveMom(final_image)\n",
    "print(result.moments_sigma,result2.moments_sigma)"
   ]
  },
  {
   "cell_type": "code",
   "execution_count": 140,
   "metadata": {},
   "outputs": [
    {
     "data": {
      "text/plain": [
       "array([1857])"
      ]
     },
     "execution_count": 140,
     "metadata": {},
     "output_type": "execute_result"
    }
   ],
   "source": [
    "out=pyfits.getdata('sim20210301/galaxy_basic_psf60/hsm-0-g1-0000.fits')\n",
    "np.arange(10000)[out['regauss_detR']<0]"
   ]
  }
 ],
 "metadata": {
  "kernelspec": {
   "display_name": "Python 3",
   "language": "python",
   "name": "python3"
  },
  "language_info": {
   "codemirror_mode": {
    "name": "ipython",
    "version": 3
   },
   "file_extension": ".py",
   "mimetype": "text/x-python",
   "name": "python",
   "nbconvert_exporter": "python",
   "pygments_lexer": "ipython3",
   "version": "3.7.8"
  }
 },
 "nbformat": 4,
 "nbformat_minor": 4
}
