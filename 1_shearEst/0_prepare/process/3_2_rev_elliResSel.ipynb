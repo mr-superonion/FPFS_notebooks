{
 "cells": [
  {
   "cell_type": "code",
   "execution_count": 1,
   "metadata": {},
   "outputs": [
    {
     "name": "stdout",
     "output_type": "stream",
     "text": [
      "Populating the interactive namespace from numpy and matplotlib\n"
     ]
    }
   ],
   "source": [
    "%pylab inline\n",
    "import gc\n",
    "import galsim\n",
    "import numpy as np\n",
    "import astropy.io.fits as pyfits\n",
    "\n",
    "import fpfsBase"
   ]
  },
  {
   "cell_type": "code",
   "execution_count": 2,
   "metadata": {},
   "outputs": [
    {
     "data": {
      "text/latex": [
       "$\\displaystyle 6 a^{2} b x^{2} - 3 a^{2} b x + a^{2} b - 3 a^{2} x^{2} + a^{2} x + y^{2} \\left(6 b x^{2} - 3 b x + b - 3 x^{2} + x\\right) + y \\left(12 a b x^{2} - 6 a b x + 2 a b - 6 a x^{2} + 2 a x\\right)$"
      ],
      "text/plain": [
       "6*a**2*b*x**2 - 3*a**2*b*x + a**2*b - 3*a**2*x**2 + a**2*x + y**2*(6*b*x**2 - 3*b*x + b - 3*x**2 + x) + y*(12*a*b*x**2 - 6*a*b*x + 2*a*b - 6*a*x**2 + 2*a*x)"
      ]
     },
     "execution_count": 2,
     "metadata": {},
     "output_type": "execute_result"
    }
   ],
   "source": [
    "import sympy\n",
    "from sympy.series import series\n",
    "x,y,a,b = sympy.var('x,y,a,b')\n",
    "expr=(a+y)**2*(b+x)/(1+x)**3\n",
    "expr.series(x,x0=0,n=3).removeO().series(y,x0=0,n=3).removeO()"
   ]
  },
  {
   "cell_type": "code",
   "execution_count": 3,
   "metadata": {},
   "outputs": [
    {
     "data": {
      "text/latex": [
       "$\\displaystyle 3 a^{2} x^{2} - 2 a^{2} x + a^{2} + y^{2} \\left(3 x^{2} - 2 x + 1\\right) + y \\left(6 a x^{2} - 4 a x + 2 a\\right)$"
      ],
      "text/plain": [
       "3*a**2*x**2 - 2*a**2*x + a**2 + y**2*(3*x**2 - 2*x + 1) + y*(6*a*x**2 - 4*a*x + 2*a)"
      ]
     },
     "execution_count": 3,
     "metadata": {},
     "output_type": "execute_result"
    }
   ],
   "source": [
    "x,y,a,b = sympy.var('x,y,a,b')\n",
    "expr=(a+y)**2/(1+x)**2\n",
    "expr.series(x,x0=0,n=3).removeO().series(y,x0=0,n=3).removeO()"
   ]
  },
  {
   "cell_type": "code",
   "execution_count": 4,
   "metadata": {},
   "outputs": [
    {
     "data": {
      "text/latex": [
       "$\\displaystyle a^{2} + x^{2} \\left(3 a^{2} - 4 a + 1\\right) + x \\left(- 2 a^{2} + 2 a\\right)$"
      ],
      "text/plain": [
       "a**2 + x**2*(3*a**2 - 4*a + 1) + x*(-2*a**2 + 2*a)"
      ]
     },
     "execution_count": 4,
     "metadata": {},
     "output_type": "execute_result"
    }
   ],
   "source": [
    "x,y,a,b = sympy.var('x,y,a,b')\n",
    "expr=(a+x)**2/(1+x)**2\n",
    "expr.series(x,x0=0,n=3).removeO()"
   ]
  },
  {
   "cell_type": "code",
   "execution_count": 5,
   "metadata": {},
   "outputs": [
    {
     "data": {
      "text/latex": [
       "$\\displaystyle 3 a b x^{2} - 2 a b x + a b - 2 b x^{2} + b x + y \\left(3 a x^{2} - 2 a x + a - 2 x^{2} + x\\right)$"
      ],
      "text/plain": [
       "3*a*b*x**2 - 2*a*b*x + a*b - 2*b*x**2 + b*x + y*(3*a*x**2 - 2*a*x + a - 2*x**2 + x)"
      ]
     },
     "execution_count": 5,
     "metadata": {},
     "output_type": "execute_result"
    }
   ],
   "source": [
    "x,y,a,b = sympy.var('x,y,a,b')\n",
    "expr=(a+x)*(b+y)/(1+x)**2\n",
    "expr.series(x,x0=0,n=3).removeO().series(y,x0=0,n=3).removeO()"
   ]
  },
  {
   "cell_type": "code",
   "execution_count": 6,
   "metadata": {},
   "outputs": [
    {
     "name": "stdout",
     "output_type": "stream",
     "text": [
      "/lustre/work/xiangchong.li/work/FPFS2/sim\n"
     ]
    }
   ],
   "source": [
    "cd wrkDir/FPFS2/sim"
   ]
  },
  {
   "cell_type": "markdown",
   "metadata": {},
   "source": [
    "+ corrections for ellipticity, response and flux ratio \n",
    "\n",
    "$\\frac{x}{1+x}=x-x^2$\n",
    "\n",
    "$\\frac{y}{1+x}=y(1-x)$\n",
    "\n",
    "$\\frac{a}{1+x}=a(1-x+x^2)$\n",
    "\n",
    "$\\frac{a^2}{(1+x)^2}=a^2(1-2x+3x^2)$\n",
    "\n",
    "$\\frac{(a+y)^2}{(1+x)^2}=a^2(1-2x+3x^2)+y^2+2ay(1-2x)$\n",
    "\n",
    "$\\frac{(a+y)^2(b+x)}{(1+x)^3}=(a+y)^2(b+x)(1-3x+6x^2)$\n",
    "\n",
    "$(a^2b+2aby+by^2+a^2x+2axy+xy^2)(1-3x+6x^2)$\n",
    "\n",
    "\n",
    "$a^2b(1+6x^2)+2aby(1-3x)+a^2x(1-3x)+by^2+2axy$\n",
    "\n",
    "\n",
    "$a^2b(1+6x^2)-3a^2x^2+by^2+2a(1-3b)xy$\n"
   ]
  },
  {
   "cell_type": "code",
   "execution_count": 7,
   "metadata": {},
   "outputs": [
    {
     "data": {
      "text/plain": [
       "<matplotlib.image.AxesImage at 0x2ac5424e0e50>"
      ]
     },
     "execution_count": 7,
     "metadata": {},
     "output_type": "execute_result"
    },
    {
     "data": {
      "image/png": "[encoded data removed]",
      "text/plain": [
       "<Figure size 432x288 with 1 Axes>"
      ]
     },
     "metadata": {
      "needs_background": "light"
     },
     "output_type": "display_data"
    }
   ],
   "source": [
    "ngrid=64\n",
    "nx=100;ny=100\n",
    "ngal=nx*ny\n",
    "psfFWHM=0.60\n",
    "scale=0.168\n",
    "igal=42\n",
    "beta=0.75\n",
    "\n",
    "hsmCat=pyfits.getdata('galaxy_basic_psf%d/hsm-0-g1-2222.fits' %(psfFWHM*100))\n",
    "rcutArray=np.maximum(np.minimum(np.int_(hsmCat['regauss_detR']*5),15),11)\n",
    "rcut=rcutArray[igal]\n",
    "    \n",
    "beg=ngrid//2-rcut\n",
    "end=beg+2*rcut\n",
    "galImgAll=pyfits.getdata('galaxy_basic_psf%d/image-0-g1-2222.fits' %(psfFWHM*100))\n",
    "img=galImgAll[igal//nx*ngrid+beg:igal//nx*ngrid+end,igal%nx*ngrid+beg:igal%nx*ngrid+end]/10.\n",
    "plt.imshow(img)"
   ]
  },
  {
   "cell_type": "code",
   "execution_count": 8,
   "metadata": {},
   "outputs": [
    {
     "name": "stdout",
     "output_type": "stream",
     "text": [
      "(12.53078177, 3.20816112, -1.90802405, 1.47132046) ('fpfs_M00', 'fpfs_M22c', 'fpfs_M22s', 'fpfs_M40')\n",
      "[(0.00316846, -0.00188441, 0.00773305, 0.0123757, 1.35901297e-05, 9.4907464e-06)] ('fpfs_e1', 'fpfs_e2', 'fpfs_RE', 'fpfs_s0', 'fpfs_eSquare', 'fpfs_RS')\n"
     ]
    }
   ],
   "source": [
    "# Initialize the fpfsTask\n",
    "psfInt  =   galsim.Moffat(beta=3.5,fwhm=psfFWHM,trunc=psfFWHM*4.)\n",
    "psfInt  =   psfInt.shear(e1=0.02,e2=-0.02)\n",
    "psfImg  =   psfInt.drawImage(nx=64,ny=64,scale=scale)\n",
    "psfData =   psfImg.array[beg:end,beg:end]\n",
    "fpTask0=fpfsBase.fpfsTask(psfData,beta=beta)\n",
    "\n",
    "a0=fpTask0.measure(img)\n",
    "C=1000\n",
    "b0=fpfsBase.fpfsM2E(a0,C)\n",
    "print(a0,a0.dtype.names)\n",
    "print(b0,b0.dtype.names)"
   ]
  },
  {
   "cell_type": "code",
   "execution_count": 9,
   "metadata": {},
   "outputs": [],
   "source": [
    "# Noise\n",
    "corPre      =   'corPre'\n",
    "corFname    =   os.path.join(corPre,'correlation.fits')\n",
    "variance    =   8e-3\n",
    "ngrid=64\n",
    "\n",
    "if False:\n",
    "    corIn=pyfits.getdata(corFname)*variance\n",
    "    corIn=np.pad(corIn,(23-32+rcut,22-32+rcut))\n",
    "\n",
    "    corNum=np.fft.fftshift(np.fft.ifft2(np.abs(np.fft.fft2(np.ones(img.shape)))**2.)).real\n",
    "    corIn=corIn*corNum\n",
    "    powIn=np.fft.fftshift(np.fft.fft2(np.fft.fftshift(corIn)).real)\n",
    "else:\n",
    "    powIn=np.load('corPre/noiPows2.npy',allow_pickle=True).item()['%s'%rcut]*variance*100\n",
    "powModel=np.zeros((1,img.shape[0],img.shape[1]))\n",
    "powModel[0]=powIn\n",
    "#fpTask=fpfsBase.fpfsTask(psfData,noiModel=powModel)\n",
    "fpTask=fpfsBase.fpfsTask(psfData,noiFit=powModel[0],beta=beta)"
   ]
  },
  {
   "cell_type": "code",
   "execution_count": 10,
   "metadata": {},
   "outputs": [
    {
     "name": "stdout",
     "output_type": "stream",
     "text": [
      "CPU times: user 3min 33s, sys: 14.6 s, total: 3min 47s\n",
      "Wall time: 3min 48s\n"
     ]
    }
   ],
   "source": [
    "%%time\n",
    "\n",
    "import numpy.lib.recfunctions as rfn\n",
    "a=[]\n",
    "for j in range(0,40):\n",
    "    noiAll=pyfits.getdata('noise/noi%04d.fits' %j)*np.sqrt(variance*100.)\n",
    "    imgList=[noiAll[i//nx*ngrid+beg:i//nx*ngrid+end,i%nx*ngrid+beg:i%nx*ngrid+end]+img for i in range(ngal)]\n",
    "    #plt.imshow(imgList[5])\n",
    "    res=fpTask.measure(imgList)\n",
    "    a.append(res)\n",
    "    del noiAll,imgList\n",
    "    gc.collect()\n",
    "a =   rfn.stack_arrays(a,usemask=False)"
   ]
  },
  {
   "cell_type": "markdown",
   "metadata": {},
   "source": [
    "## Test1: shapelet modes covariance"
   ]
  },
  {
   "cell_type": "code",
   "execution_count": 11,
   "metadata": {},
   "outputs": [
    {
     "name": "stdout",
     "output_type": "stream",
     "text": [
      "variance of N00 from simulation and equation:\n",
      "418.20833666336836 419.05625779699847\n",
      "variance of N40 from simulation and equation:\n",
      "25318.943471736173 25295.271920488845\n",
      "variance of N22c from simulation and equation:\n",
      "1240.1099677434004 1235.363643513283\n",
      "variance of N22s from simulation and equation:\n",
      "1226.9997919772616 1219.9856915316414\n",
      "cov of N22cN00 from simulation and equation:\n",
      "50.14818872689406 47.735687760569014\n",
      "cov of N22cN00 from simulation and equation:\n",
      "-35.4586392618787 -35.39497052352448\n",
      "cov of N40N00 from simulation and equation:\n",
      "740.5903961784259 744.8122473466215\n"
     ]
    }
   ],
   "source": [
    "print('variance of N00 from simulation and equation:')\n",
    "print(np.var(a['fpfs_M00']),np.average(a['fpfs_N00N00']))\n",
    "print('variance of N40 from simulation and equation:')\n",
    "print(np.var(a['fpfs_M40']),np.average(a['fpfs_N40N40']))\n",
    "print('variance of N22c from simulation and equation:')\n",
    "print(np.var(a['fpfs_M22c']),np.average(a['fpfs_N22cN22c']))\n",
    "print('variance of N22s from simulation and equation:')\n",
    "print(np.var(a['fpfs_M22s']),np.average(a['fpfs_N22sN22s']))\n",
    "print('cov of N22cN00 from simulation and equation:')\n",
    "print(np.average(a['fpfs_M22c']*a['fpfs_M00'])-np.average(a['fpfs_M22c'])*np.average(a['fpfs_M00']),np.average(a['fpfs_N00N22c']))\n",
    "print('cov of N22cN00 from simulation and equation:')\n",
    "print(np.average(a['fpfs_M22s']*a['fpfs_M00'])-np.average(a['fpfs_M22s'])*np.average(a['fpfs_M00']),np.average(a['fpfs_N00N22s']))\n",
    "print('cov of N40N00 from simulation and equation:')\n",
    "print(np.average(a['fpfs_M40']*a['fpfs_M00'])-np.average(a['fpfs_M40'])*np.average(a['fpfs_M00']),np.average(a['fpfs_N00N40']))"
   ]
  },
  {
   "cell_type": "code",
   "execution_count": 12,
   "metadata": {},
   "outputs": [],
   "source": [
    "b=fpfsBase.fpfsM2E(a,C)"
   ]
  },
  {
   "cell_type": "code",
   "execution_count": 13,
   "metadata": {},
   "outputs": [
    {
     "name": "stdout",
     "output_type": "stream",
     "text": [
      "Discrepancy in ellipticities and Response\n",
      "e1: 6.08550448670149e-05\n",
      "e2: 7.448101276735894e-05\n",
      "esq1: 0.001198060157484226\n",
      "esq2: 0.0011851767189961595\n",
      "ssq0: 0.0003824631603258491\n",
      "s0: -0.0003607413129871218\n",
      "s4: -0.0002683194520261981\n",
      "RE: 0.001619850831917775\n",
      "e1sqS: 2.0058313432842374e-05\n",
      "e2sqS: 1.955052360645987e-05\n"
     ]
    }
   ],
   "source": [
    "print('Discrepancy in ellipticities and Response')\n",
    "print('e1:',np.average(b['fpfs_e1'])-np.average(b0['fpfs_e1']))\n",
    "print('e2:',np.average(b['fpfs_e2'])-np.average(b0['fpfs_e2']))\n",
    "print('esq1:',np.average(b['fpfs_e1']**2.)-np.average(b0['fpfs_e1']**2.))\n",
    "print('esq2:',np.average(b['fpfs_e2']**2.)-np.average(b0['fpfs_e2']**2.))\n",
    "print('ssq0:',np.average(b['fpfs_s0']**2.)-np.average(b0['fpfs_s0']**2.))\n",
    "print('s0:',np.average(a['fpfs_M00']/(a['fpfs_M00']+C))-np.average(a0['fpfs_M00']/(a0['fpfs_M00']+C)))\n",
    "print('s4:',np.average(a['fpfs_M40']/(a['fpfs_M00']+C))-np.average(a0['fpfs_M40']/(a0['fpfs_M00']+C)))\n",
    "print('RE:',np.average(b['fpfs_RE'])-np.average(b0['fpfs_RE']))\n",
    "print('e1sqS:',np.average(b['fpfs_e1']**2.*(a['fpfs_M00']/(a['fpfs_M00']+C)))-np.average(b0['fpfs_e1']**2.*(a0['fpfs_M00']/(a0['fpfs_M00']+C))))\n",
    "print('e2sqS:',np.average(b['fpfs_e2']**2.*(a['fpfs_M00']/(a['fpfs_M00']+C)))-np.average(b0['fpfs_e2']**2.*(a0['fpfs_M00']/(a0['fpfs_M00']+C))))"
   ]
  },
  {
   "cell_type": "code",
   "execution_count": 14,
   "metadata": {},
   "outputs": [
    {
     "name": "stdout",
     "output_type": "stream",
     "text": [
      "0.00010495342329080223 0.03312444972577899\n",
      "4.146034563974545e-05 -0.02200175425516726\n"
     ]
    }
   ],
   "source": [
    "# e\n",
    "ratio=a['fpfs_N00N00']/(a['fpfs_M00']+C)**2.\n",
    "e1=np.average((b['fpfs_e1']+a['fpfs_N00N22c']/(a['fpfs_M00']+C)**2.)/(1+ratio))\n",
    "e2=np.average((b['fpfs_e2']+a['fpfs_N00N22s']/(a['fpfs_M00']+C)**2.)/(1+ratio))\n",
    "print(e1-np.average(b0['fpfs_e1']),e1/np.average(b0['fpfs_e1'])-1)\n",
    "print(e2-np.average(b0['fpfs_e2']),e2/np.average(b0['fpfs_e2'])-1)"
   ]
  },
  {
   "cell_type": "code",
   "execution_count": 15,
   "metadata": {},
   "outputs": [
    {
     "name": "stdout",
     "output_type": "stream",
     "text": [
      "2.8958937940573316e-05 2.884607694722366\n",
      "2.9357387279560726e-05 8.267347346523197\n"
     ]
    }
   ],
   "source": [
    "e1sq=np.average((b['fpfs_e1']**2.-a['fpfs_N22cN22c']/(a['fpfs_M00']+C)**2.+4.*b['fpfs_e1']*a['fpfs_N00N22c']/(a['fpfs_M00']+C)**2.)/(1.+3*ratio))\n",
    "e2sq=np.average((b['fpfs_e2']**2.-a['fpfs_N22sN22s']/(a['fpfs_M00']+C)**2.+4.*b['fpfs_e2']*a['fpfs_N00N22s']/(a['fpfs_M00']+C)**2.)/(1.+3*ratio))\n",
    "print(e1sq-np.average(b0['fpfs_e1']**2.),e1sq/np.average(b0['fpfs_e1']**2.)-1)\n",
    "print(e2sq-np.average(b0['fpfs_e2']**2.),e2sq/np.average(b0['fpfs_e2']**2.)-1)"
   ]
  },
  {
   "cell_type": "code",
   "execution_count": 16,
   "metadata": {},
   "outputs": [
    {
     "name": "stdout",
     "output_type": "stream",
     "text": [
      "3.34719246758014e-05\n",
      "0.000455085174992009\n",
      "-0.0002568897193196539\n"
     ]
    }
   ],
   "source": [
    "#s0 s4\n",
    "s0=np.average((a['fpfs_M00']/(a['fpfs_M00']+C)+a['fpfs_N00N00']/(a['fpfs_M00']+C)**2.)/(1+ratio))\n",
    "s4=np.average((a['fpfs_M40']/(a['fpfs_M00']+C)+a['fpfs_N00N40']/(a['fpfs_M00']+C)**2.)/(1+ratio))\n",
    "RE=(s0-s4+e1sq+e2sq)/np.sqrt(2.)\n",
    "print(s0-np.average(a0['fpfs_M00']/(a0['fpfs_M00']+C)))\n",
    "print(s4-np.average(a0['fpfs_M40']/(a0['fpfs_M00']+C)))\n",
    "print(RE-np.average(b0['fpfs_RE']))"
   ]
  },
  {
   "cell_type": "code",
   "execution_count": 17,
   "metadata": {},
   "outputs": [
    {
     "name": "stdout",
     "output_type": "stream",
     "text": [
      "0.028117205107472343\n",
      "-0.0028275555785594875\n"
     ]
    }
   ],
   "source": [
    "print(e1/RE-np.average(b0['fpfs_e1'])/np.average(b0['fpfs_RE']))\n",
    "print(e2/RE-np.average(b0['fpfs_e2'])/np.average(b0['fpfs_RE']))"
   ]
  },
  {
   "cell_type": "code",
   "execution_count": 18,
   "metadata": {},
   "outputs": [
    {
     "name": "stdout",
     "output_type": "stream",
     "text": [
      "-0.06445546751248854\n",
      "0.050167410933557255\n"
     ]
    }
   ],
   "source": [
    "print(np.average(b['fpfs_e1'])/np.average(b['fpfs_RE'])-np.average(b0['fpfs_e1'])/np.average(b0['fpfs_RE']))\n",
    "print(np.average(b['fpfs_e2'])/np.average(b['fpfs_RE'])-np.average(b0['fpfs_e2'])/np.average(b0['fpfs_RE']))"
   ]
  },
  {
   "cell_type": "markdown",
   "metadata": {},
   "source": [
    "$a^2b(1+6x^2)-3a^2x^2+by^2+2a(1-3b)xy$"
   ]
  },
  {
   "cell_type": "code",
   "execution_count": 19,
   "metadata": {},
   "outputs": [
    {
     "name": "stdout",
     "output_type": "stream",
     "text": [
      "2.1738292846864937e-06\n",
      "2.0167664463535307e-06\n"
     ]
    }
   ],
   "source": [
    "tmp=a['fpfs_M00']/(a['fpfs_M00']+C)\n",
    "e1sqS=b['fpfs_e1']**2.*tmp+3.*b['fpfs_e1']**2.*a['fpfs_N00N00']/(a['fpfs_M00']+C)**2.-tmp*a['fpfs_N22cN22c']/(a['fpfs_M00']+C)**2.\n",
    "e1sqS=np.average(e1sqS/(1+6.*ratio))\n",
    "e2sqS=b['fpfs_e2']**2.*tmp+3.*b['fpfs_e2']**2.*a['fpfs_N00N00']/(a['fpfs_M00']+C)**2.-tmp*a['fpfs_N22sN22s']/(a['fpfs_M00']+C)**2.\n",
    "e2sqS=np.average(e2sqS/(1+6.*ratio))\n",
    "print(e1sqS-np.average(b0['fpfs_e1']**2.*a0['fpfs_M00']/(a0['fpfs_M00']+C)))\n",
    "print(e2sqS-np.average(b0['fpfs_e2']**2.*a0['fpfs_M00']/(a0['fpfs_M00']+C)))"
   ]
  },
  {
   "cell_type": "code",
   "execution_count": 20,
   "metadata": {},
   "outputs": [],
   "source": [
    "def fpfsM2E(moments,const=1.,mcalib=0.,rev=False):\n",
    "    \"\"\"\n",
    "    # Estimate FPFS ellipticities from fpfs moments\n",
    "\n",
    "    Parameters:\n",
    "    -----------\n",
    "    moments:    input FPFS moments     [float array]\n",
    "    const:      the weighting Constant [float]\n",
    "    mcalib:     multiplicative bias [float array]\n",
    "\n",
    "    Returns:\n",
    "    -------------\n",
    "    out :       an array of FPFS ellipticities,\n",
    "                FPFS ellipticity response,\n",
    "                FPFS flux ratio, and FPFS selection response\n",
    "    \"\"\"\n",
    "    #Get weight\n",
    "    weight  =   moments['fpfs_M00']+const\n",
    "    #Ellipticity\n",
    "    e1      =   moments['fpfs_M22c']/weight\n",
    "    e2      =   moments['fpfs_M22s']/weight\n",
    "    e1sq    =   e1*e1\n",
    "    e2sq    =   e2*e2\n",
    "    #FPFS flux ratio\n",
    "    s0      =   moments['fpfs_M00']/weight\n",
    "    s4      =   moments['fpfs_M40']/weight\n",
    "    #FPFS sel Respose (part1)\n",
    "    e1sqS0  =   e1sq*s0\n",
    "    e2sqS0  =   e2sq*s0\n",
    "\n",
    "    if rev:\n",
    "        assert 'fpfs_N00N00' in moments.dtype.names\n",
    "        assert 'fpfs_N00N22c' in moments.dtype.names\n",
    "        assert 'fpfs_N00N22s' in moments.dtype.names\n",
    "        assert 'fpfs_N00N40' in moments.dtype.names\n",
    "        ratio=  moments['fpfs_N00N00']/weight**2.\n",
    "        \n",
    "        e1sqS0= (e1sqS0+3.*e1sq*moments['fpfs_N00N00']/weight**2.\\\n",
    "                -s0*moments['fpfs_N22cN22c']/weight**2.)/(1+6.*ratio)\n",
    "        e2sqS0= (e2sqS0+3.*e2sq*moments['fpfs_N00N00']/weight**2.\\\n",
    "                -s0*moments['fpfs_N22sN22s']/weight**2.)/(1+6.*ratio)\n",
    "        \n",
    "        e1  =   (e1+moments['fpfs_N00N22c']\\\n",
    "                /weight**2.)/(1+ratio)\n",
    "        e2  =   (e2+moments['fpfs_N00N22s']\\\n",
    "                /weight**2.)/(1+ratio)\n",
    "        e1sq=   (e1sq-moments['fpfs_N22cN22c']/weight**2.\\\n",
    "                +4.*e1*moments['fpfs_N00N22c']/weight**2.)\\\n",
    "                /(1.+3*ratio)\n",
    "        e2sq=   (e2sq-moments['fpfs_N22sN22s']/weight**2.\\\n",
    "                +4.*e2*moments['fpfs_N00N22s']/weight**2.)\\\n",
    "                /(1.+3*ratio)\n",
    "        s0Sq=  (s0**2.-moments['fpfs_N00N00']/weight**2.\\\n",
    "                +4.*s0*moments['fpfs_N00N00']/weight**2.)\\\n",
    "                /(1.+3*ratio)\n",
    "        s0  =   (s0+moments['fpfs_N00N00']\\\n",
    "                /weight**2.)/(1+ratio)\n",
    "        s4  =   (s4+moments['fpfs_N00N40']\\\n",
    "                /weight**2.)/(1+ratio)\n",
    "\n",
    "\n",
    "    eSq     =   e1sq+e2sq\n",
    "    eSqS0   =   e1sqS0+e2sqS0\n",
    "    #Response factor\n",
    "    RE      =   1./np.sqrt(2.)*(s0-s4+e1sq+e2sq)\n",
    "    types   =   [('fpfs_e1','>f8'),('fpfs_e2','>f8'),('fpfs_RE','>f8'),\\\n",
    "                ('fpfs_s0','>f8'), ('fpfs_eSquare','>f8'), ('fpfs_s0Square','>f8'), \\\n",
    "                ('fpfs_RS','>f8')]\n",
    "    ellDat  =   np.array(np.zeros(moments.size),dtype=types)\n",
    "    ellDat['fpfs_e1']   =   e1\n",
    "    ellDat['fpfs_e2']   =   e2\n",
    "    ellDat['fpfs_RE']   =   RE\n",
    "    ellDat['fpfs_s0']   =   s0\n",
    "    ellDat['fpfs_eSquare']  =   eSq\n",
    "    ellDat['fpfs_s0Square']  =   s0Sq\n",
    "    ellDat['fpfs_RS']   =   (eSq-eSqS0)/np.sqrt(2.)\n",
    "    return ellDat\n",
    "\n",
    "def fpfsM2Err(moments,const=1.):\n",
    "    \"\"\"\n",
    "    # Estimate FPFS ellipticities from fpfs moments\n",
    "\n",
    "    Parameters:\n",
    "    -----------\n",
    "    moments:    input FPFS moments     [float array]\n",
    "    const:      the weighting Constant [float]\n",
    "    mcalib:     multiplicative bias [float array]\n",
    "\n",
    "    Returns:\n",
    "    -------------\n",
    "    out :       an array of measurement error for,\n",
    "                FPFS ellipticity,\n",
    "                FPFS flux ratio \n",
    "    \"\"\"\n",
    "    assert 'fpfs_N00N00' in moments.dtype.names\n",
    "    assert 'fpfs_N00N22c' in moments.dtype.names\n",
    "    assert 'fpfs_N00N22s' in moments.dtype.names\n",
    "    assert 'fpfs_N00N40' in moments.dtype.names\n",
    "    \n",
    "    #Get weight\n",
    "    weight  =   moments['fpfs_M00']+const\n",
    "    #FPFS Ellipticity\n",
    "    e1      =   moments['fpfs_M22c']/weight\n",
    "    e2      =   moments['fpfs_M22s']/weight\n",
    "    #FPFS flux ratio\n",
    "    s0      =   moments['fpfs_M00']/weight\n",
    "    e1sq    =   e1*e1\n",
    "    e2sq    =   e2*e2\n",
    "    s0sq    =   s0*s0\n",
    "    ratio   =   moments['fpfs_N00N00']/weight**2.\n",
    "    \n",
    "    e1Err    =   moments['fpfs_N22cN22c']/weight**2.\\\n",
    "            -4.*e1*moments['fpfs_N00N22c']/weight**2.\\\n",
    "            +3*ratio*e1sq\n",
    "    e2Err    =   moments['fpfs_N22sN22s']/weight**2.\\\n",
    "            -4.*e2*moments['fpfs_N00N22s']/weight**2.\\\n",
    "            +3*ratio*e2sq\n",
    "    s0Err    =   moments['fpfs_N00N00']/weight**2.\\\n",
    "            -4.*s0*moments['fpfs_N00N00']/weight**2.\\\n",
    "             +3*ratio*s0sq\n",
    "    \n",
    "    e1s0Cov =   moments['fpfs_N00N22c']/weight**2.\\\n",
    "            -2.*s0*moments['fpfs_N00N22c']/weight**2.\\\n",
    "            -2.*e1*moments['fpfs_N00N00']/weight**2.\\\n",
    "            +3*ratio*e1*s0\n",
    "    \n",
    "    e2s0Cov =   moments['fpfs_N00N22s']/weight**2.\\\n",
    "            -2.*s0*moments['fpfs_N00N22s']/weight**2.\\\n",
    "            -2.*e2*moments['fpfs_N00N00']/weight**2.\\\n",
    "            +3*ratio*e2*s0\n",
    "\n",
    "    types   =   [('fpfs_e1Err','>f8'),('fpfs_e2Err','>f8'),('fpfs_s0Err','>f8'),\\\n",
    "                    ('fpfs_e1s0Cov','>f8'),('fpfs_e2s0Cov','>f8')]\n",
    "    ellDat  =   np.array(np.zeros(moments.size),dtype=types)\n",
    "    ellDat['fpfs_e1Err']   =   e1Err\n",
    "    ellDat['fpfs_e2Err']   =   e2Err\n",
    "    ellDat['fpfs_s0Err']   =   s0Err\n",
    "    ellDat['fpfs_e1s0Cov'] =   e1s0Cov\n",
    "    ellDat['fpfs_e2s0Cov'] =   e2s0Cov\n",
    "    return ellDat\n",
    "\n",
    "b2=fpfsM2E(a,C,rev=True)\n",
    "bErr2=fpfsM2Err(a,C)"
   ]
  },
  {
   "cell_type": "markdown",
   "metadata": {},
   "source": [
    "## Test2: average revision"
   ]
  },
  {
   "cell_type": "code",
   "execution_count": 21,
   "metadata": {},
   "outputs": [
    {
     "name": "stdout",
     "output_type": "stream",
     "text": [
      "0.00010495342329080154\n",
      "4.146034563974414e-05\n",
      "-0.00025667178917088916\n",
      "3.3471924675803475e-05\n",
      "0.028104442243594818\n",
      "-0.0028203700082052585\n",
      "5.86245249921643e-05\n",
      "1.1307764871056633e-05\n",
      "3.849060050716978e-05\n"
     ]
    }
   ],
   "source": [
    "print(np.average(b2['fpfs_e1']-b0['fpfs_e1']))\n",
    "print(np.average(b2['fpfs_e2']-b0['fpfs_e2']))\n",
    "print(np.average(b2['fpfs_RE']-b0['fpfs_RE']))\n",
    "print(np.average(b2['fpfs_s0']-b0['fpfs_s0']))\n",
    "print(np.average(b2['fpfs_e1'])/np.average(b2['fpfs_RE'])-np.average(b0['fpfs_e1'])/np.average(b0['fpfs_RE']))\n",
    "print(np.average(b2['fpfs_e2'])/np.average(b2['fpfs_RE'])-np.average(b0['fpfs_e2'])/np.average(b0['fpfs_RE']))\n",
    "print(np.average(b2['fpfs_eSquare'])-np.average(b0['fpfs_eSquare']))\n",
    "print(np.average(b2['fpfs_s0Square'])-np.average(b0['fpfs_s0']**2.))\n",
    "print(np.average(b2['fpfs_RS'])-np.average(b0['fpfs_RS']))"
   ]
  },
  {
   "cell_type": "code",
   "execution_count": 22,
   "metadata": {},
   "outputs": [
    {
     "name": "stdout",
     "output_type": "stream",
     "text": [
      "6.08550448670137e-05\n",
      "7.448101276735803e-05\n",
      "0.0016198508319177772\n",
      "-0.00036074131298712464\n",
      "-0.06445546751248854\n",
      "0.050167410933557255\n",
      "0.0023832368764803865\n",
      "0.0016571952792677233\n"
     ]
    }
   ],
   "source": [
    "print(np.average(b['fpfs_e1']-b0['fpfs_e1']))\n",
    "print(np.average(b['fpfs_e2']-b0['fpfs_e2']))\n",
    "print(np.average(b['fpfs_RE']-b0['fpfs_RE']))\n",
    "print(np.average(b['fpfs_s0']-b0['fpfs_s0']))\n",
    "print(np.average(b['fpfs_e1'])/np.average(b['fpfs_RE'])-np.average(b0['fpfs_e1'])/np.average(b0['fpfs_RE']))\n",
    "print(np.average(b['fpfs_e2'])/np.average(b['fpfs_RE'])-np.average(b0['fpfs_e2'])/np.average(b0['fpfs_RE']))\n",
    "print(np.average(b['fpfs_eSquare'])-np.average(b0['fpfs_eSquare']))\n",
    "print(np.average(b['fpfs_RS'])-np.average(b0['fpfs_RS']))"
   ]
  },
  {
   "cell_type": "markdown",
   "metadata": {},
   "source": [
    "## Test3: Measurement error"
   ]
  },
  {
   "cell_type": "code",
   "execution_count": null,
   "metadata": {},
   "outputs": [],
   "source": [
    "print(np.var(b['fpfs_e1']-b0['fpfs_e1']),np.average(bErr2['fpfs_e1Err']))\n",
    "print(np.var(b['fpfs_e2']-b0['fpfs_e2']),np.average(bErr2['fpfs_e2Err']))\n",
    "print(np.var(b['fpfs_s0']-b0['fpfs_s0']),np.average(bErr2['fpfs_s0Err']))\n",
    "print(np.average((b['fpfs_s0']-b0['fpfs_s0'])*(b['fpfs_e1']-b0['fpfs_e1'])),np.average(bErr2['fpfs_e1s0Cov']))\n",
    "print(np.average((b['fpfs_s0']-b0['fpfs_s0'])*(b['fpfs_e2']-b0['fpfs_e2'])),np.average(bErr2['fpfs_e2s0Cov']))"
   ]
  },
  {
   "cell_type": "code",
   "execution_count": 24,
   "metadata": {},
   "outputs": [
    {
     "name": "stdout",
     "output_type": "stream",
     "text": [
      "0.0003912618818260021\n"
     ]
    },
    {
     "data": {
      "image/png": "[encoded data removed]",
      "text/plain": [
       "<Figure size 432x288 with 1 Axes>"
      ]
     },
     "metadata": {
      "needs_background": "light"
     },
     "output_type": "display_data"
    }
   ],
   "source": [
    "plt.hist(b['fpfs_s0']-b0['fpfs_s0'],range=(-0.6,0.6),bins=50)\n",
    "print(np.var(b['fpfs_s0']-b0['fpfs_s0']))"
   ]
  },
  {
   "cell_type": "code",
   "execution_count": 25,
   "metadata": {},
   "outputs": [
    {
     "name": "stdout",
     "output_type": "stream",
     "text": [
      "0.00039695889021213257\n"
     ]
    },
    {
     "data": {
      "image/png": "[encoded data removed]",
      "text/plain": [
       "<Figure size 432x288 with 1 Axes>"
      ]
     },
     "metadata": {
      "needs_background": "light"
     },
     "output_type": "display_data"
    }
   ],
   "source": [
    "plt.hist(b2['fpfs_s0']-b0['fpfs_s0'],range=(-0.6,0.6),bins=50)\n",
    "print(np.var(b2['fpfs_s0']-b0['fpfs_s0']))"
   ]
  },
  {
   "cell_type": "code",
   "execution_count": 26,
   "metadata": {},
   "outputs": [
    {
     "name": "stdout",
     "output_type": "stream",
     "text": [
      "0.0011976708208565501\n"
     ]
    },
    {
     "data": {
      "image/png": "[encoded data removed]",
      "text/plain": [
       "<Figure size 432x288 with 1 Axes>"
      ]
     },
     "metadata": {
      "needs_background": "light"
     },
     "output_type": "display_data"
    }
   ],
   "source": [
    "_=plt.hist(b['fpfs_e1']-b0['fpfs_e1'],range=(-0.8,0.8),bins=50)\n",
    "print(np.var(b['fpfs_e1']-b0['fpfs_e1']))"
   ]
  },
  {
   "cell_type": "code",
   "execution_count": 27,
   "metadata": {},
   "outputs": [
    {
     "name": "stdout",
     "output_type": "stream",
     "text": [
      "0.0012088647980896638\n"
     ]
    },
    {
     "data": {
      "image/png": "[encoded data removed]",
      "text/plain": [
       "<Figure size 432x288 with 1 Axes>"
      ]
     },
     "metadata": {
      "needs_background": "light"
     },
     "output_type": "display_data"
    }
   ],
   "source": [
    "plt.hist(b2['fpfs_e1']-b0['fpfs_e1'],range=(-0.8,0.8),bins=50)\n",
    "print(np.var(b2['fpfs_e1']-b0['fpfs_e1']))"
   ]
  }
 ],
 "metadata": {
  "kernelspec": {
   "display_name": "Python 3",
   "language": "python",
   "name": "python3"
  },
  "language_info": {
   "codemirror_mode": {
    "name": "ipython",
    "version": 3
   },
   "file_extension": ".py",
   "mimetype": "text/x-python",
   "name": "python",
   "nbconvert_exporter": "python",
   "pygments_lexer": "ipython3",
   "version": "3.7.8"
  }
 },
 "nbformat": 4,
 "nbformat_minor": 4
}
