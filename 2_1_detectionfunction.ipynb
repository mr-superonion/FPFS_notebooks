{
 "cells": [
  {
   "cell_type": "code",
   "execution_count": 1,
   "id": "a8916355-47a0-4b39-acac-edc5b66b6a0f",
   "metadata": {},
   "outputs": [
    {
     "name": "stdout",
     "output_type": "stream",
     "text": [
      "Populating the interactive namespace from numpy and matplotlib\n",
      "Do not have lsst pipeline!\n"
     ]
    }
   ],
   "source": [
    "%pylab inline\n",
    "\n",
    "import gc\n",
    "import fpfs\n",
    "import numpy as np\n",
    "from fpfs import simutil\n",
    "import scipy.ndimage as ndi\n",
    "import matplotlib.pylab as plt\n",
    "import astropy.io.fits as pyfits\n",
    "from fpfs.imgutil import gauss_kernel\n",
    "import sys\n",
    "sys.path.insert(1, 'run')\n",
    "import pdet"
   ]
  },
  {
   "cell_type": "code",
   "execution_count": 2,
   "id": "2703f65b-005d-452b-9b1b-5aca49a5a3b9",
   "metadata": {},
   "outputs": [
    {
     "data": {
      "text/plain": [
       "12"
      ]
     },
     "execution_count": 2,
     "metadata": {},
     "output_type": "execute_result"
    }
   ],
   "source": [
    "ishear=1\n",
    "igroup=-1\n",
    "do_plot=False\n",
    "ngrid=64\n",
    "if igroup>=0:\n",
    "    ngal=100\n",
    "    img1=pyfits.getdata('../../FPFS2/sim/galaxy_basicShift_psf60/image-%d-g%d-0000.fits' %(igroup,ishear))\n",
    "    img2=pyfits.getdata('../../FPFS2/sim/galaxy_basicShift_psf60/image-%d-g%d-2222.fits' %(igroup,ishear))\n",
    "else:\n",
    "    ngal=10\n",
    "    img1=simutil.make_basic_sim('basicCenter_psf60','g%d-0000' %ishear,0,ny=ngal,nx=ngal,do_write=False)\n",
    "    img2=simutil.make_basic_sim('basicCenter_psf60','g%d-2222' %ishear,0,ny=ngal,nx=ngal,do_write=False)\n",
    "ngrid2=ngrid*ngal\n",
    "\n",
    "# PSF\n",
    "psf=pyfits.getdata('../../FPFS2/sim/galaxy_basic_psf60/psf-60.fits')\n",
    "npad       =   (ngrid2-psf.shape[0])//2\n",
    "psfData    =   np.pad(psf,(npad+1,npad),mode='constant')\n",
    "assert psfData.shape[0]==ngrid2\n",
    "psfF=np.fft.fft2(np.fft.ifftshift(psfData))\n",
    "gsigma=3.*2.*np.pi/64\n",
    "x   = np.fft.fftfreq(ngrid2,1/np.pi/2.)\n",
    "\n",
    "gKer,grids=gauss_kernel(ngrid2,ngrid2,gsigma,return_grid=True)\n",
    "k2grid,k1grid=grids\n",
    "\n",
    "imgF1=np.fft.fft2(img1)/psfF*gKer\n",
    "imgF2=np.fft.fft2(img2)/psfF*gKer\n",
    "imgCov1=np.fft.ifft2(imgF1).real\n",
    "imgCov2=np.fft.ifft2(imgF2).real\n",
    "gc.collect()"
   ]
  },
  {
   "cell_type": "code",
   "execution_count": 3,
   "id": "6ee835d8-3c26-4337-9142-1defbd56a6e2",
   "metadata": {},
   "outputs": [
    {
     "data": {
      "text/plain": [
       "23"
      ]
     },
     "execution_count": 3,
     "metadata": {},
     "output_type": "execute_result"
    }
   ],
   "source": [
    "npixt = 1\n",
    "sizet = 1 + 2 * npixt\n",
    "\n",
    "footprint = np.zeros((sizet, sizet))\n",
    "footprint[npixt, npixt] = 1.\n",
    "footprint[npixt+1, npixt] = -1.\n",
    "imgCovACov1=ndi.convolve(imgCov1,footprint,mode='constant')\n",
    "gc.collect()"
   ]
  },
  {
   "cell_type": "code",
   "execution_count": 4,
   "id": "345b61d7-b1ac-4b44-affb-fd80b239914a",
   "metadata": {},
   "outputs": [],
   "source": [
    "thres=1.*np.sqrt(4e-3)\n",
    "indX=np.arange(32,ngal*64,64)\n",
    "indY=np.arange(32,ngal*64,64)\n",
    "inds=np.meshgrid(indY,indX,indexing='ij')"
   ]
  },
  {
   "cell_type": "code",
   "execution_count": 5,
   "id": "921fd1c2-98c9-414c-b56a-c960e2915a46",
   "metadata": {},
   "outputs": [],
   "source": [
    "if True:\n",
    "    coords   = np.array(np.zeros(inds[0].size),dtype=[('pdet_y','i4'),('pdet_x','i4')])\n",
    "    coords['pdet_y']=np.ravel(inds[0])\n",
    "    coords['pdet_x']=np.ravel(inds[1])\n",
    "else:\n",
    "    coords=pdet.detect_coords(imgCov1,thres)"
   ]
  },
  {
   "cell_type": "code",
   "execution_count": 6,
   "id": "0f77aeea-8e3e-4a2d-bff8-9a7bc07c6462",
   "metadata": {},
   "outputs": [
    {
     "name": "stdout",
     "output_type": "stream",
     "text": [
      "100\n"
     ]
    },
    {
     "data": {
      "text/plain": [
       "15"
      ]
     },
     "execution_count": 6,
     "metadata": {},
     "output_type": "execute_result"
    },
    {
     "data": {
      "image/png": "[encoded data removed]",
      "text/plain": [
       "<Figure size 432x288 with 1 Axes>"
      ]
     },
     "metadata": {
      "needs_background": "light"
     },
     "output_type": "display_data"
    }
   ],
   "source": [
    "print(len(coords))\n",
    "plt.close()\n",
    "plt.hist(imgCovACov1[coords['pdet_y'],coords['pdet_x']],bins=50)\n",
    "plt.yscale('log')\n",
    "gc.collect()"
   ]
  },
  {
   "cell_type": "code",
   "execution_count": 7,
   "id": "7959de89-ba4e-411f-b483-d52706ee5207",
   "metadata": {},
   "outputs": [
    {
     "data": {
      "text/plain": [
       "10062"
      ]
     },
     "execution_count": 7,
     "metadata": {},
     "output_type": "execute_result"
    },
    {
     "data": {
      "image/png": "[encoded data removed]",
      "text/plain": [
       "<Figure size 432x288 with 1 Axes>"
      ]
     },
     "metadata": {
      "needs_background": "light"
     },
     "output_type": "display_data"
    }
   ],
   "source": [
    "plt.close()\n",
    "plt.hist(imgCov1[coords['pdet_y'],coords['pdet_x']],bins=50)\n",
    "plt.yscale('log')\n",
    "gc.collect()"
   ]
  },
  {
   "cell_type": "code",
   "execution_count": 8,
   "id": "3e064b1a-9d2d-4f27-97d8-38b6f6fc4617",
   "metadata": {},
   "outputs": [
    {
     "data": {
      "text/plain": [
       "<matplotlib.image.AxesImage at 0x2b8f47210810>"
      ]
     },
     "execution_count": 8,
     "metadata": {},
     "output_type": "execute_result"
    },
    {
     "data": {
      "image/png": "[encoded data removed]",
      "text/plain": [
       "<Figure size 432x288 with 1 Axes>"
      ]
     },
     "metadata": {
      "needs_background": "light"
     },
     "output_type": "display_data"
    }
   ],
   "source": [
    "plt.imshow(img1[coords['pdet_y'][82]-96:coords['pdet_y'][82]+96,coords['pdet_x'][82]-96:coords['pdet_x'][82]+96])"
   ]
  },
  {
   "cell_type": "code",
   "execution_count": 9,
   "id": "b5cd3dfd-5c8e-473b-8ba0-5e00ad52486c",
   "metadata": {},
   "outputs": [
    {
     "name": "stdout",
     "output_type": "stream",
     "text": [
      "544 160\n"
     ]
    }
   ],
   "source": [
    "print(coords['pdet_y'][82],coords['pdet_x'][82])"
   ]
  },
  {
   "cell_type": "code",
   "execution_count": 11,
   "id": "b98e7fe8-bb24-4eea-9c8c-00de3f78eb0e",
   "metadata": {},
   "outputs": [
    {
     "name": "stdout",
     "output_type": "stream",
     "text": [
      "1 1\n",
      "0.00010602621921064939 98\n",
      "0.006419819986216394\n",
      "1 2\n",
      "-0.0004914138487009862 39\n",
      "0.018356963956405667\n",
      "1 3\n",
      "3.9734479418415695e-05 98\n",
      "0.006927926423084964\n",
      "2 1\n",
      "0.00029216856983838247 92\n",
      "0.006924395965418512\n",
      "2 2\n",
      "7.593829105688738e-05 98\n",
      "0.004641215154109246\n",
      "2 3\n",
      "0.0002912399855473138 92\n",
      "0.006912301570814832\n",
      "3 1\n",
      "4.3341523568507645e-05 98\n",
      "0.006979587592574589\n",
      "3 2\n",
      "-0.0004893447704808616 39\n",
      "0.018365487866435288\n",
      "3 3\n",
      "0.00010069349051468954 98\n",
      "0.006410363144938051\n"
     ]
    }
   ],
   "source": [
    "out1=pdet.get_shear_response(img1,psfData,gsigma=6*2*np.pi/64,coords=coords)\n",
    "out2=pdet.get_shear_response(img2,psfData,gsigma=6*2*np.pi/64,coords=coords)\n",
    "for j in range(1,4):\n",
    "    for i in range(1,4):\n",
    "        print(j,i)\n",
    "        resEst=(out2['pdet_v%d%d' %(j,i)]-out1['pdet_v%d%d'%(j,i)])/0.04\n",
    "        res=(out2['pdet_v%d%dr%d'%(j,i,ishear)]+out1['pdet_v%d%dr%d'%(j,i,ishear)])/2.\n",
    "        print(np.average((res-resEst)/np.abs(resEst)),np.argmax(np.abs((res-resEst)/resEst)))\n",
    "        print(np.max(np.abs((res-resEst)/resEst)))"
   ]
  },
  {
   "cell_type": "code",
   "execution_count": 9,
   "id": "ee2a457b-2529-4067-8df2-bacd74675748",
   "metadata": {},
   "outputs": [
    {
     "data": {
      "text/plain": [
       "array([-3.35385172e-03, -5.19815985e-03,  1.85911334e-01, -1.00077268e-01,\n",
       "       -1.33010686e-02,  8.06973484e-02,  2.97252473e-02, -5.96238024e-02,\n",
       "        6.27024568e-02,  3.48810109e+00,  5.17709392e-02, -3.35645792e-02,\n",
       "        2.12505525e-02,  8.47065310e-02, -1.01858617e-01, -4.82741547e-02,\n",
       "        6.45548658e-02, -8.72116922e-02,  5.33562876e-02, -9.88342861e-02,\n",
       "        5.13061384e-02,  1.99385539e-01,  8.61519318e-02,  1.79298440e-02,\n",
       "        4.62409628e-03,  3.33915665e-02, -2.62206273e-02, -3.66156518e-01,\n",
       "        3.04837829e-01,  7.41139155e-02,  4.47682457e-02,  2.06242741e-02,\n",
       "        2.60342280e-01, -8.89987695e-02, -5.07774062e-01,  1.78498824e-02,\n",
       "        1.80791048e-02,  2.27217288e-02, -1.29259030e-01,  2.33486925e-02,\n",
       "        7.23935173e-02,  1.31710763e-01,  2.44577012e-01,  4.23015221e-02,\n",
       "        5.51005302e-03,  6.21824261e-02,  1.09715500e-01, -4.25599680e-02,\n",
       "       -4.54475641e-02, -2.66690091e-02, -2.51459550e-03, -6.18231074e-02,\n",
       "       -6.22406589e-02, -3.22746255e-03,  1.51423283e-02,  6.55967250e-02,\n",
       "       -1.57471240e-01,  5.73909021e-02, -1.54464200e-01,  1.35877494e-01,\n",
       "       -1.61385093e-02,  5.21083572e-02,  2.10700929e-01,  3.90368261e-02,\n",
       "        2.80828444e-02,  1.03434552e-01, -9.34659393e-03,  5.85849092e-02,\n",
       "       -4.74947653e-02,  8.78609658e-02,  7.79160626e-02,  1.02132056e-02,\n",
       "       -1.21927967e-01, -5.61924108e-02,  7.78647719e-02,  1.77103033e-01,\n",
       "       -3.97714454e-02,  9.16593828e-02, -4.87014020e-03, -3.41560307e-03,\n",
       "       -2.56623163e-02,  1.94926089e-02, -1.55771969e-02, -1.96032189e-02,\n",
       "       -3.15841935e+00,  2.82760854e-03,  2.20553212e-03,  1.23706830e-01,\n",
       "        6.90879420e-02,  1.36935443e-01,  3.78856606e-02,  4.13981528e-02,\n",
       "       -9.00870908e-03, -4.79634125e-02, -1.72694830e-02,  4.83605372e-02,\n",
       "       -2.58206456e-01, -3.84291962e-03,  5.07168429e-04, -9.98064690e-02])"
      ]
     },
     "execution_count": 9,
     "metadata": {},
     "output_type": "execute_result"
    }
   ],
   "source": [
    "out1['pdet_v22r1']"
   ]
  },
  {
   "cell_type": "code",
   "execution_count": 11,
   "id": "ab5faed6-d623-478c-ad47-ed79fe8486e8",
   "metadata": {},
   "outputs": [
    {
     "data": {
      "text/plain": [
       "array([-2.34399734e-03, -2.62648205e-03,  1.70082584e-01, -1.00067894e-01,\n",
       "       -8.30269055e-03,  6.41336256e-02,  2.12598199e-02, -6.81753784e-02,\n",
       "        3.51485983e-02,  2.40702054e+00,  3.72200982e-02, -2.14257906e-02,\n",
       "        1.14339238e-02,  8.18836107e-02, -9.52012642e-02, -3.09410559e-02,\n",
       "        3.48414122e-02, -4.67771574e-02,  2.74255492e-02, -8.36275465e-02,\n",
       "        2.49508034e-02,  1.53756647e-01,  6.53578461e-02,  1.80599536e-02,\n",
       "        1.99154022e-03,  1.99581784e-02, -2.49924564e-02, -2.85403437e-01,\n",
       "        2.07899353e-01,  6.54452852e-02,  2.58131330e-02,  1.02224465e-02,\n",
       "        1.89807986e-01, -6.18919042e-02, -4.13166076e-01,  1.24341131e-02,\n",
       "        1.17969522e-02,  1.41752838e-02, -7.32339367e-02,  1.37638129e-02,\n",
       "        4.12322456e-02,  9.92163054e-02,  2.33188333e-01,  3.24873484e-02,\n",
       "        3.79631190e-03,  6.71883184e-02,  7.89235991e-02, -2.43232449e-02,\n",
       "       -4.15701983e-02, -1.60878841e-02, -1.59057947e-03, -3.90048576e-02,\n",
       "       -3.49535830e-02, -2.44088594e-03,  4.87330882e-03,  4.26136606e-02,\n",
       "       -9.24128050e-02,  4.55871900e-02, -1.28870741e-01,  9.69291337e-02,\n",
       "       -1.03741796e-02,  2.68716236e-02,  1.71645952e-01,  2.30718233e-02,\n",
       "        1.80406176e-02,  7.66713527e-02, -7.39074056e-03,  3.23232375e-02,\n",
       "       -4.23595333e-02,  6.37506658e-02,  7.56101526e-02,  5.84859744e-03,\n",
       "       -8.97235208e-02, -3.65959122e-02,  6.49753446e-02,  1.13827194e-01,\n",
       "       -3.49003592e-02,  6.71265063e-02, -2.69452102e-03, -2.75064936e-03,\n",
       "       -2.91955199e-02,  1.00231937e-02, -8.94693283e-03, -1.49212062e-02,\n",
       "       -2.95226934e+00,  1.56886663e-03,  1.48124654e-03,  1.11454009e-01,\n",
       "        4.85717778e-02,  1.12254939e-01,  2.39864804e-02,  2.98818420e-02,\n",
       "       -6.00907671e-03, -2.90658536e-02, -1.00115417e-02,  3.10830507e-02,\n",
       "       -2.61858173e-01, -3.27466985e-03,  2.96232125e-04, -7.46173392e-02])"
      ]
     },
     "execution_count": 11,
     "metadata": {},
     "output_type": "execute_result"
    }
   ],
   "source": [
    "out1['pdet_v33r1']"
   ]
  },
  {
   "cell_type": "code",
   "execution_count": null,
   "id": "d356669b-37ff-4654-8d33-aaed5525d320",
   "metadata": {},
   "outputs": [],
   "source": []
  }
 ],
 "metadata": {
  "kernelspec": {
   "display_name": "Python 3 (ipykernel)",
   "language": "python",
   "name": "python3"
  },
  "language_info": {
   "codemirror_mode": {
    "name": "ipython",
    "version": 3
   },
   "file_extension": ".py",
   "mimetype": "text/x-python",
   "name": "python",
   "nbconvert_exporter": "python",
   "pygments_lexer": "ipython3",
   "version": "3.7.12"
  }
 },
 "nbformat": 4,
 "nbformat_minor": 5
}
