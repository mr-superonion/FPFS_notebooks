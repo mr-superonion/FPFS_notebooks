{
 "cells": [
  {
   "cell_type": "code",
   "execution_count": 2,
   "id": "a8916355-47a0-4b39-acac-edc5b66b6a0f",
   "metadata": {},
   "outputs": [
    {
     "name": "stdout",
     "output_type": "stream",
     "text": [
      "Populating the interactive namespace from numpy and matplotlib\n",
      "Do not have lsst pipeline!\n"
     ]
    }
   ],
   "source": [
    "%pylab inline\n",
    "\n",
    "import gc\n",
    "import fpfs\n",
    "import numpy as np\n",
    "from fpfs import simutil\n",
    "import scipy.ndimage as ndi\n",
    "import matplotlib.pylab as plt\n",
    "import astropy.io.fits as pyfits\n",
    "from fpfs.imgutil import gauss_kernel"
   ]
  },
  {
   "cell_type": "code",
   "execution_count": 6,
   "id": "2703f65b-005d-452b-9b1b-5aca49a5a3b9",
   "metadata": {},
   "outputs": [],
   "source": [
    "gc.collect()\n",
    "igroup=0\n",
    "do_plot=False\n",
    "ngrid=64\n",
    "if igroup>=0:\n",
    "    ngal=100\n",
    "    img1=pyfits.getdata('../../FPFS2/sim/galaxy_basicShift_psf60/image-%d-g1-0000.fits' %igroup)\n",
    "    img2=pyfits.getdata('../../FPFS2/sim/galaxy_basicShift_psf60/image-%d-g1-2222.fits' %igroup)\n",
    "else:\n",
    "    ngal=20\n",
    "    img1=simutil.make_basic_sim('basicShift_psf60','g1-0000',0,ny=ngal,nx=ngal,do_write=False)\n",
    "    img2=simutil.make_basic_sim('basicShift_psf60','g1-2222',0,ny=ngal,nx=ngal,do_write=False)\n",
    "ngrid2=ngrid*ngal\n",
    "\n",
    "# PSF\n",
    "psf=pyfits.getdata('../../FPFS2/sim/galaxy_basic_psf60/psf-60.fits')\n",
    "npad       =   (ngrid2-psf.shape[0])//2\n",
    "psfData    =   np.pad(psf,(npad+1,npad),mode='constant')\n",
    "assert psfData.shape[0]==ngrid2\n",
    "psfF=np.fft.fft2(np.fft.ifftshift(psfData))\n",
    "gsigma=3.*2.*np.pi/64\n",
    "x   = np.fft.fftfreq(ngrid2,1/np.pi/2.)\n",
    "\n",
    "gKer,grids=gauss_kernel(ngrid2,ngrid2,gsigma,return_grid=True)\n",
    "k2grid,k1grid=grids\n",
    "\n",
    "imgF1=np.fft.fft2(img1)/psfF*gKer\n",
    "imgFQA1=imgF1*(k1grid**2.-k2grid**2.)/gsigma**2.\n",
    "imgFQB1=imgF1*(2.*k1grid*k2grid)/gsigma**2.\n",
    "imgFDA1=imgF1*(-1j*k1grid)\n",
    "imgFDB1=imgF1*(-1j*k2grid)\n",
    "\n",
    "imgF2=np.fft.fft2(img2)/psfF*gKer\n",
    "imgFQA2=imgF2*(k1grid**2.-k2grid**2.)/gsigma**2.\n",
    "imgFQB2=imgF2*(2.*k1grid*k2grid)/gsigma**2.\n",
    "imgFDA2=imgF2*(-1j*k1grid)\n",
    "imgFDB2=imgF2*(-1j*k2grid)\n",
    "\n",
    "imgCov1=np.fft.ifft2(imgF1).real\n",
    "imgCovQA1=np.fft.ifft2(imgFQA1).real\n",
    "imgCovQB1=np.fft.ifft2(imgFQB1).real\n",
    "imgCovDA1=np.fft.ifft2(imgFDA1).real\n",
    "imgCovDB1=np.fft.ifft2(imgFDB1).real\n",
    "\n",
    "imgCov2=np.fft.ifft2(imgF2).real\n",
    "imgCovQA2=np.fft.ifft2(imgFQA2).real\n",
    "imgCovQB2=np.fft.ifft2(imgFQB2).real\n",
    "imgCovDA2=np.fft.ifft2(imgFDA2).real\n",
    "imgCovDB2=np.fft.ifft2(imgFDB2).real\n",
    "\n",
    "indX=np.arange(32,6400,64)\n",
    "indY=np.arange(32,6400,64)\n",
    "ind1=np.ix_(indY,indX)\n",
    "ind2=np.ix_(indY,indX)\n",
    "\n",
    "res1=imgCovQA1[ind1]#+0.5*imgCovDA1[ind1]-0.5*imgCovDB1[ind1]\n",
    "res2=imgCovQA2[ind2]#+0.5*imgCovDA2[ind2]-0.5*imgCovDB2[ind2]\n",
    "response=np.average((res1+res2)/2.)\n",
    "meas1=imgCov1[ind1]\n",
    "meas2=imgCov2[ind2]\n",
    "resEst=np.average((meas2-meas1)/0.04)"
   ]
  },
  {
   "cell_type": "code",
   "execution_count": 25,
   "id": "8e8a2a70-9567-446b-8fcf-92cf3b973cab",
   "metadata": {},
   "outputs": [
    {
     "name": "stderr",
     "output_type": "stream",
     "text": [
      "/lustre/work/xiangchong.li/ana/miniconda3/envs/cosmosis-mpich/lib/python3.7/site-packages/ipykernel_launcher.py:12: UserWarning: ignoring size because footprint is set\n",
      "  if sys.path[0] == '':\n"
     ]
    },
    {
     "data": {
      "text/plain": [
       "51563"
      ]
     },
     "execution_count": 25,
     "metadata": {},
     "output_type": "execute_result"
    }
   ],
   "source": [
    "npixt = 1\n",
    "sizet = 1 + 2 * npixt\n",
    "\n",
    "footprint = np.zeros((sizet, sizet))\n",
    "footprint[npixt, npixt] = 1.\n",
    "footprint[npixt+1, npixt] = -1.\n",
    "imgCovACov1=ndi.convolve(imgCov1,footprint,mode='constant')\n",
    "\n",
    "\n",
    "footprint = np.ones((sizet, sizet))\n",
    "footprint[npixt, npixt] = 0\n",
    "filtered=ndi.maximum_filter(imgCov1,size=(sizet,sizet),footprint=footprint,mode='constant')\n",
    "mask_local_maxima = (imgCov1 > filtered)\n",
    "coords = np.int_(np.asarray(np.where(mask_local_maxima)).T)\n",
    "gc.collect()"
   ]
  },
  {
   "cell_type": "code",
   "execution_count": 15,
   "id": "e33c7e6c-0c2d-4689-b127-369913710426",
   "metadata": {},
   "outputs": [
    {
     "data": {
      "image/png": "[encoded data removed]",
      "text/plain": [
       "<Figure size 720x360 with 2 Axes>"
      ]
     },
     "metadata": {
      "needs_background": "light"
     },
     "output_type": "display_data"
    }
   ],
   "source": [
    "plt.close()\n",
    "dpad=0\n",
    "ii=1;jj=4\n",
    "fig=plt.figure(figsize=(10,5))\n",
    "ax=fig.add_subplot(1,2,1)\n",
    "ax.imshow(img1[jj*64+dpad:(jj+1)*64-dpad,ii*64+dpad:(ii+1)*64-dpad],origin='lower',cmap='gray')\n",
    "ax.set_axis_off()\n",
    "ax=fig.add_subplot(1,2,2)\n",
    "ax.imshow(mask_local_maxima[jj*64+dpad:(jj+1)*64-dpad,ii*64+dpad:(ii+1)*64-dpad],origin='lower',cmap='gray')\n",
    "ax.set_axis_off()\n",
    "plt.tight_layout()"
   ]
  },
  {
   "cell_type": "code",
   "execution_count": 24,
   "id": "e825eade-dc63-4188-b20d-e2682ceeca42",
   "metadata": {},
   "outputs": [
    {
     "name": "stdout",
     "output_type": "stream",
     "text": [
      "3132\n"
     ]
    },
    {
     "data": {
      "image/png": "[encoded data removed]",
      "text/plain": [
       "<Figure size 432x288 with 1 Axes>"
      ]
     },
     "metadata": {
      "needs_background": "light"
     },
     "output_type": "display_data"
    }
   ],
   "source": [
    "thres=3.*np.sqrt(7e-3)\n",
    "plt.close()\n",
    "plt.hist(np.ravel(imgCovACov1[(imgCov1>thres)&(mask_local_maxima)]),bins=50)\n",
    "plt.yscale('log')\n",
    "print(np.sum((imgCov1>thres)&mask_local_maxima))"
   ]
  },
  {
   "cell_type": "code",
   "execution_count": 27,
   "id": "a739470b-a4db-40b4-8ca6-e5f646a981da",
   "metadata": {},
   "outputs": [
    {
     "data": {
      "image/png": "[encoded data removed]",
      "text/plain": [
       "<Figure size 432x288 with 1 Axes>"
      ]
     },
     "metadata": {
      "needs_background": "light"
     },
     "output_type": "display_data"
    }
   ],
   "source": [
    "plt.close()\n",
    "plt.hist(np.ravel(imgCov1[mask_local_maxima]),bins=50)\n",
    "plt.yscale('log')"
   ]
  },
  {
   "cell_type": "code",
   "execution_count": null,
   "id": "16b7e293-5758-49bd-9d68-aab6cc58a308",
   "metadata": {},
   "outputs": [],
   "source": []
  }
 ],
 "metadata": {
  "kernelspec": {
   "display_name": "Python 3 (ipykernel)",
   "language": "python",
   "name": "python3"
  },
  "language_info": {
   "codemirror_mode": {
    "name": "ipython",
    "version": 3
   },
   "file_extension": ".py",
   "mimetype": "text/x-python",
   "name": "python",
   "nbconvert_exporter": "python",
   "pygments_lexer": "ipython3",
   "version": "3.7.12"
  }
 },
 "nbformat": 4,
 "nbformat_minor": 5
}
