{
 "cells": [
  {
   "cell_type": "code",
   "execution_count": 1,
   "id": "a8916355-47a0-4b39-acac-edc5b66b6a0f",
   "metadata": {},
   "outputs": [
    {
     "name": "stdout",
     "output_type": "stream",
     "text": [
      "Populating the interactive namespace from numpy and matplotlib\n",
      "Do not have lsst pipeline!\n"
     ]
    }
   ],
   "source": [
    "%pylab inline\n",
    "\n",
    "import gc\n",
    "import fpfs\n",
    "import numpy as np\n",
    "from fpfs import simutil\n",
    "import scipy.ndimage as ndi\n",
    "import matplotlib.pylab as plt\n",
    "import astropy.io.fits as pyfits\n",
    "from fpfs.imgutil import gauss_kernel\n",
    "import sys\n",
    "sys.path.insert(1, 'run')\n",
    "import pdet"
   ]
  },
  {
   "cell_type": "code",
   "execution_count": 12,
   "id": "2703f65b-005d-452b-9b1b-5aca49a5a3b9",
   "metadata": {},
   "outputs": [
    {
     "data": {
      "text/plain": [
       "9887"
      ]
     },
     "execution_count": 12,
     "metadata": {},
     "output_type": "execute_result"
    }
   ],
   "source": [
    "ishear=1\n",
    "igroup=0\n",
    "do_plot=False\n",
    "ngrid=64\n",
    "if igroup>=0:\n",
    "    ngal=100\n",
    "    img1=pyfits.getdata('../../FPFS2/sim/galaxy_basicCenter_psf60/image-%d-g%d-0000.fits' %(igroup,ishear))\n",
    "    img2=pyfits.getdata('../../FPFS2/sim/galaxy_basicCenter_psf60/image-%d-g%d-2222.fits' %(igroup,ishear))\n",
    "else:\n",
    "    ngal=10\n",
    "    img1=simutil.make_basic_sim('basicCenter_psf60','g%d-0000' %ishear,0,ny=ngal,nx=ngal,do_write=False)\n",
    "    img2=simutil.make_basic_sim('basicCenter_psf60','g%d-2222' %ishear,0,ny=ngal,nx=ngal,do_write=False)\n",
    "ngrid2=ngrid*ngal\n",
    "\n",
    "# PSF\n",
    "psf=pyfits.getdata('../../FPFS2/sim/galaxy_basic_psf60/psf-60.fits')\n",
    "npad       =   (ngrid2-psf.shape[0])//2\n",
    "psfData    =   np.pad(psf,(npad+1,npad),mode='constant')\n",
    "assert psfData.shape[0]==ngrid2\n",
    "psfF=np.fft.fft2(np.fft.ifftshift(psfData))\n",
    "gsigma=3.*2.*np.pi/64\n",
    "x   = np.fft.fftfreq(ngrid2,1/np.pi/2.)\n",
    "\n",
    "gKer,grids=gauss_kernel(ngrid2,ngrid2,gsigma,return_grid=True)\n",
    "k2grid,k1grid=grids\n",
    "\n",
    "imgF1=np.fft.fft2(img1)/psfF*gKer\n",
    "imgF2=np.fft.fft2(img2)/psfF*gKer\n",
    "imgCov1=np.fft.ifft2(imgF1).real\n",
    "imgCov2=np.fft.ifft2(imgF2).real\n",
    "gc.collect()"
   ]
  },
  {
   "cell_type": "code",
   "execution_count": 13,
   "id": "6ee835d8-3c26-4337-9142-1defbd56a6e2",
   "metadata": {},
   "outputs": [
    {
     "data": {
      "text/plain": [
       "23"
      ]
     },
     "execution_count": 13,
     "metadata": {},
     "output_type": "execute_result"
    }
   ],
   "source": [
    "npixt = 1\n",
    "sizet = 1 + 2 * npixt\n",
    "\n",
    "footprint = np.zeros((sizet, sizet))\n",
    "footprint[npixt, npixt] = 1.\n",
    "footprint[npixt+1, npixt] = -1.\n",
    "imgCovACov1=ndi.convolve(imgCov1,footprint,mode='constant')\n",
    "gc.collect()"
   ]
  },
  {
   "cell_type": "code",
   "execution_count": 14,
   "id": "345b61d7-b1ac-4b44-affb-fd80b239914a",
   "metadata": {},
   "outputs": [],
   "source": [
    "thres=1.*np.sqrt(4e-3)\n",
    "indX=np.arange(32,ngal*64,64)\n",
    "indY=np.arange(32,ngal*64,64)\n",
    "inds=np.meshgrid(indY,indX,indexing='ij')"
   ]
  },
  {
   "cell_type": "code",
   "execution_count": 15,
   "id": "921fd1c2-98c9-414c-b56a-c960e2915a46",
   "metadata": {},
   "outputs": [],
   "source": [
    "if True:\n",
    "    coords   = np.array(np.zeros(inds[0].size),dtype=[('pdet_y','i4'),('pdet_x','i4')])\n",
    "    coords['pdet_y']=np.ravel(inds[0])\n",
    "    coords['pdet_x']=np.ravel(inds[1])\n",
    "else:\n",
    "    coords=pdet.detect_coords(imgCov1,thres)"
   ]
  },
  {
   "cell_type": "code",
   "execution_count": 16,
   "id": "0f77aeea-8e3e-4a2d-bff8-9a7bc07c6462",
   "metadata": {},
   "outputs": [
    {
     "name": "stdout",
     "output_type": "stream",
     "text": [
      "10000\n"
     ]
    },
    {
     "data": {
      "text/plain": [
       "25"
      ]
     },
     "execution_count": 16,
     "metadata": {},
     "output_type": "execute_result"
    },
    {
     "data": {
      "image/png": "[encoded data removed]",
      "text/plain": [
       "<Figure size 432x288 with 1 Axes>"
      ]
     },
     "metadata": {
      "needs_background": "light"
     },
     "output_type": "display_data"
    }
   ],
   "source": [
    "print(len(coords))\n",
    "plt.close()\n",
    "plt.hist(imgCovACov1[coords['pdet_y'],coords['pdet_x']],bins=50)\n",
    "plt.yscale('log')\n",
    "gc.collect()"
   ]
  },
  {
   "cell_type": "code",
   "execution_count": 17,
   "id": "7959de89-ba4e-411f-b483-d52706ee5207",
   "metadata": {},
   "outputs": [
    {
     "data": {
      "text/plain": [
       "12475"
      ]
     },
     "execution_count": 17,
     "metadata": {},
     "output_type": "execute_result"
    },
    {
     "data": {
      "image/png": "[encoded data removed]",
      "text/plain": [
       "<Figure size 432x288 with 1 Axes>"
      ]
     },
     "metadata": {
      "needs_background": "light"
     },
     "output_type": "display_data"
    }
   ],
   "source": [
    "plt.close()\n",
    "plt.hist(imgCov1[coords['pdet_y'],coords['pdet_x']],bins=50)\n",
    "plt.yscale('log')\n",
    "gc.collect()"
   ]
  },
  {
   "cell_type": "code",
   "execution_count": 20,
   "id": "fd1c78ca-07d2-41f5-9546-c6a4a35a0a4d",
   "metadata": {},
   "outputs": [],
   "source": [
    "out1=pdet.get_shear_response(img1,psfData,gsigma=6*2*np.pi/64,coords=coords)\n",
    "out2=pdet.get_shear_response(img2,psfData,gsigma=6*2*np.pi/64,coords=coords)"
   ]
  },
  {
   "cell_type": "code",
   "execution_count": 21,
   "id": "d8b3fbed-2adb-4a42-b609-7e4b57a88f50",
   "metadata": {},
   "outputs": [
    {
     "name": "stdout",
     "output_type": "stream",
     "text": [
      "1 1\n",
      "4.376968682417121e-05 6345\n",
      "[0.0019717  0.00058608 0.00072386 ... 0.00103501 0.00061758 0.00089157]\n",
      "2 1\n",
      "0.0013431791350987867 1857\n",
      "[0.00127664 0.0002623  0.00063356 ... 0.00144484 0.00058407 0.000665  ]\n",
      "3 1\n",
      "-2.3138129169392546e-05 7903\n",
      "[0.00268173 0.00035459 0.00061597 ... 0.00101553 0.00068214 0.00063861]\n"
     ]
    }
   ],
   "source": [
    "for j in range(1,4):\n",
    "    for i in range(1,4):\n",
    "        print(j,i)\n",
    "        resEst=(out2['pdet_v%d%d' %(j,i)]-out1['pdet_v%d%d'%(j,i)])/0.04\n",
    "        res=(out2['pdet_v%d%dr%d'%(j,i,ishear)]+out1['pdet_v%d%dr%d'%(j,i,ishear)])/2.\n",
    "        print(np.average((res-resEst)/np.abs(resEst)),np.argmax(np.abs((res-resEst)/resEst)))\n",
    "        print(np.abs((res-resEst)/resEst))\n",
    "        break"
   ]
  },
  {
   "cell_type": "code",
   "execution_count": 2,
   "id": "b8eb661a-0616-4369-8392-afc029352dd4",
   "metadata": {},
   "outputs": [
    {
     "data": {
      "text/plain": [
       "6"
      ]
     },
     "execution_count": 2,
     "metadata": {},
     "output_type": "execute_result"
    }
   ],
   "source": [
    "import fitsio\n",
    "import numpy.lib.recfunctions as rfn\n",
    "\n",
    "out1=[]\n",
    "out2=[]\n",
    "for _i in range(128):\n",
    "    _a1=fitsio.read('../sim/outBasic-var0em0/psf60/fpfs-cut16-%04d-g1-0000.fits' %_i)\n",
    "    _a2=fitsio.read('../sim/outBasic-var0em0/psf60/fpfs-cut16-%04d-g1-2222.fits' %_i)\n",
    "    out1.append(_a1)\n",
    "    out2.append(_a2)\n",
    "out1 =   rfn.stack_arrays(out1,usemask=False)\n",
    "out2 =   rfn.stack_arrays(out2,usemask=False)\n",
    "    \n",
    "gc.collect()"
   ]
  },
  {
   "cell_type": "code",
   "execution_count": 3,
   "id": "4918c41e-e0b6-4172-b51e-b6479341314d",
   "metadata": {},
   "outputs": [],
   "source": [
    "ell1=fpfs.fpfsBase.fpfsM2E(out1,const=100)\n",
    "ell2=fpfs.fpfsBase.fpfsM2E(out2,const=100)"
   ]
  },
  {
   "cell_type": "code",
   "execution_count": 4,
   "id": "8a34d914-3f9c-4292-b889-6506a1d1e7fe",
   "metadata": {},
   "outputs": [
    {
     "data": {
      "text/plain": [
       "0"
      ]
     },
     "execution_count": 4,
     "metadata": {},
     "output_type": "execute_result"
    }
   ],
   "source": [
    "y1=[]\n",
    "y2=[]\n",
    "for i in range(0,10):\n",
    "    msk1=out1['pdet_v22']>0.2*i\n",
    "    msk2=out2['pdet_v22']>0.2*i\n",
    "    msks1=(out1['pdet_v22']>0.2*i)&(out1['pdet_v22']<0.2*i+0.02)\n",
    "    msks2=(out2['pdet_v22']>0.2*i)&(out2['pdet_v22']<0.2*i+0.02)\n",
    "    if np.sum(msks1)==0:\n",
    "        cor1=0.\n",
    "    else:\n",
    "        cor1=np.sum(ell1[msks1]['fpfs_e1']*out1[msks1]['pdet_v22r1'])/0.02\n",
    "    if np.sum(msks2)==0:\n",
    "        cor2=0.\n",
    "    else:\n",
    "        cor2=np.sum(ell2[msks2]['fpfs_e1']*out2[msks2]['pdet_v22r1'])/0.02\n",
    "        \n",
    "    de=np.sum(ell2[msk2]['fpfs_e1'])-np.sum(ell1[msk1]['fpfs_e1'])\n",
    "    rave=(np.sum(ell2[msk2]['fpfs_RE'])+np.sum(ell1[msk1]['fpfs_RE']))/2.\n",
    "    raveR=(np.sum(ell2[msk2]['fpfs_RE'])+np.sum(ell1[msk1]['fpfs_RE'])+cor1+cor2)/2.\n",
    "    y1.append(de/rave/0.04-1)\n",
    "    y2.append(de/raveR/0.04-1)\n",
    "    del msk1,msk2,msks1,msks2\n",
    "gc.collect()"
   ]
  },
  {
   "cell_type": "code",
   "execution_count": 6,
   "id": "d427b295-eed0-4a0b-9a43-9a7e9372653a",
   "metadata": {},
   "outputs": [
    {
     "data": {
      "text/plain": [
       "<matplotlib.legend.Legend at 0x2b366c828f90>"
      ]
     },
     "execution_count": 6,
     "metadata": {},
     "output_type": "execute_result"
    },
    {
     "data": {
      "image/png": "[encoded data removed]",
      "text/plain": [
       "<Figure size 432x288 with 1 Axes>"
      ]
     },
     "metadata": {
      "needs_background": "light"
     },
     "output_type": "display_data"
    }
   ],
   "source": [
    "import pltutil\n",
    "cuts=np.arange(0,2,0.2)\n",
    "\n",
    "plt.plot(cuts,np.array(y1),label='w/o correction',color=pltutil.colors[0])\n",
    "plt.plot(cuts,np.array(y2),label='with correction',color=pltutil.colors[1])\n",
    "plt.xlabel('peak value cut')\n",
    "plt.ylabel('multiplicative bias')\n",
    "plt.legend()"
   ]
  },
  {
   "cell_type": "code",
   "execution_count": 7,
   "id": "ca183c51-2066-465a-9594-4d165315e579",
   "metadata": {},
   "outputs": [
    {
     "data": {
      "text/plain": [
       "Text(0, 0.5, 'number')"
      ]
     },
     "execution_count": 7,
     "metadata": {},
     "output_type": "execute_result"
    },
    {
     "data": {
      "image/png": "[encoded data removed]",
      "text/plain": [
       "<Figure size 432x288 with 1 Axes>"
      ]
     },
     "metadata": {
      "needs_background": "light"
     },
     "output_type": "display_data"
    }
   ],
   "source": [
    "plt.close()\n",
    "plt.hist(out1['pdet_v22'],range=(0,3),bins=300,color=pltutil.colors[0])\n",
    "plt.yscale('log')\n",
    "plt.xlabel('peak value')\n",
    "plt.ylabel('number')\n"
   ]
  },
  {
   "cell_type": "code",
   "execution_count": null,
   "id": "bd2f5d28-0c0c-4f9b-909d-019c8c405670",
   "metadata": {},
   "outputs": [],
   "source": []
  }
 ],
 "metadata": {
  "kernelspec": {
   "display_name": "Python 3 (ipykernel)",
   "language": "python",
   "name": "python3"
  },
  "language_info": {
   "codemirror_mode": {
    "name": "ipython",
    "version": 3
   },
   "file_extension": ".py",
   "mimetype": "text/x-python",
   "name": "python",
   "nbconvert_exporter": "python",
   "pygments_lexer": "ipython3",
   "version": "3.7.12"
  }
 },
 "nbformat": 4,
 "nbformat_minor": 5
}
