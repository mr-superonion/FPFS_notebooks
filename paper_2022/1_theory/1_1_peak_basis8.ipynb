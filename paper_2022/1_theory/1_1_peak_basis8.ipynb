{
 "cells": [
  {
   "cell_type": "code",
   "execution_count": 1,
   "id": "a8916355-47a0-4b39-acac-edc5b66b6a0f",
   "metadata": {},
   "outputs": [
    {
     "name": "stderr",
     "output_type": "stream",
     "text": [
      "/var/tmp/pbs.104007.idark/ipykernel_188574/99519768.py:12: MatplotlibDeprecationWarning: Support for setting an rcParam that expects a str value to a non-str value is deprecated since 3.5 and support will be removed two minor releases later.\n",
      "  mpl.rcParams['text.latex.preamble']=[r\"\\usepackage{amsmath}\"]\n"
     ]
    }
   ],
   "source": [
    "%matplotlib inline\n",
    "\n",
    "import gc\n",
    "import fpfs\n",
    "import pltutil\n",
    "import numpy as np\n",
    "import matplotlib.pylab as plt\n",
    "from mpl_toolkits.axes_grid1 import ImageGrid\n",
    "\n",
    "import matplotlib as mpl\n",
    "mpl.rcParams['axes.linewidth'] = 2.0 #set the value globally\n",
    "mpl.rcParams['text.latex.preamble']=[r\"\\usepackage{amsmath}\"]"
   ]
  },
  {
   "cell_type": "code",
   "execution_count": 2,
   "id": "612896bc-fdd0-4d28-97cb-92b97ce96443",
   "metadata": {},
   "outputs": [],
   "source": [
    "wrkDir=os.environ['homeWrk']\n",
    "simDir=os.path.join(wrkDir,'FPFS2/sim')\n",
    "assert os.path.isdir(simDir)\n",
    "galDir=os.path.join(simDir,'galaxy_basic2Shift_psf60')\n",
    "assert os.path.isdir(galDir)"
   ]
  },
  {
   "cell_type": "code",
   "execution_count": 21,
   "id": "3101126a-210d-4669-a49d-495dfff13dbd",
   "metadata": {},
   "outputs": [],
   "source": [
    "ngrid       =   64\n",
    "pixScale    =   0.168\n",
    "psfFWHM     =   60 # arcsec\n",
    "\n",
    "# FPFS Basic\n",
    "beta        =   0.50 # try2\n",
    "rcut        =   16   #max(min(int(psfFWHMF/pixScale*4+0.5),15),12)\n",
    "beg         =   ngrid//2-rcut\n",
    "end         =   beg+2*rcut\n",
    "# PSF\n",
    "psfFname    =   os.path.join(galDir,'psf-%s.fits' %psfFWHM)\n",
    "psfData     =   pyfits.open(psfFname)[0].data\n",
    "npad        =   (ngrid-psfData.shape[0])//2\n",
    "psfData2    =   np.pad(psfData,(npad+1,npad),mode='constant')\n",
    "psfData2    =   psfData2[beg:end,beg:end]\n",
    "measTask    =   fpfs.image.measure_source(psfData2,beta=beta)\n",
    "psfFou      =   np.fft.fftshift(np.fft.fft2(np.fft.ifftshift(psfData2)))[measTask._indY,measTask._indX]"
   ]
  },
  {
   "cell_type": "code",
   "execution_count": 22,
   "id": "fa5381b0-607c-4099-90a8-e193c301cb4b",
   "metadata": {},
   "outputs": [
    {
     "name": "stderr",
     "output_type": "stream",
     "text": [
      "/var/tmp/pbs.104007.idark/ipykernel_188574/1109600679.py:35: UserWarning: This figure includes Axes that are not compatible with tight_layout, so results might be incorrect.\n",
      "  fig.tight_layout()\n",
      "/var/tmp/pbs.104007.idark/ipykernel_188574/1109600679.py:39: ComplexWarning: Casting complex values to real discards the imaginary part\n",
      "  print('flux scaling is %.3f' %(0.168**3./np.sqrt(np.sum((fun/psfFou)**2.))))\n"
     ]
    },
    {
     "name": "stdout",
     "output_type": "stream",
     "text": [
      "flux scaling is 1.559\n",
      "FWHM of re-smoothing kernel is: 1.397\n"
     ]
    },
    {
     "data": {
      "image/png": "[encoded data removed]",
      "text/plain": [
       "<Figure size 936x864 with 18 Axes>"
      ]
     },
     "metadata": {
      "needs_background": "light"
     },
     "output_type": "display_data"
    }
   ],
   "source": [
    "inds=[5,2,1,0,3,6,7,8]\n",
    "plt.close()\n",
    "fig=plt.figure(figsize=(13,12))\n",
    "grid = ImageGrid(fig, 111,          # as in plt.subplot(111)\n",
    "                 nrows_ncols=(3,3),\n",
    "                 axes_pad=0.1,\n",
    "                 share_all=True,\n",
    "                 cbar_location=\"right\",\n",
    "                 cbar_mode=\"single\",\n",
    "                 cbar_size=\"2%\",\n",
    "                 cbar_pad=0.15,\n",
    "                 )\n",
    "\n",
    "for i in range(8):\n",
    "    ax=grid[inds[i]]\n",
    "    fun=measTask.Psi[::3][i]\n",
    "    fun2=np.fft.fftshift(np.fft.ifft2(np.fft.ifftshift(fun/psfFou)).real)*32**2./(0.168)**2.\n",
    "    im=ax.imshow(fun2,aspect='equal',origin='lower',cmap='bwr',vmin=-0.2,vmax=0.2)\n",
    "    ax.set_xticklabels([])\n",
    "    ax.set_yticklabels([])\n",
    "    ax.set_xticks([])\n",
    "    ax.set_yticks([])\n",
    "    #ax.grid(color='black', linestyle='-', linewidth=2)\n",
    "    #ax.set_title(tlist[i])\n",
    "    for x in ax.spines.values():\n",
    "        x.set_linewidth(2.)\n",
    "\n",
    "grid[4].axis('off')\n",
    "grid[4].text(5,5,r'$\\mathcal{F}^{-1}\\left(\\frac{\\psi_{i}}{p_\\mathbf{k}}\\right)$',fontsize=40)\n",
    "\n",
    "cbar=ax.cax.colorbar(im)\n",
    "cbar.ax.tick_params(labelsize=30)\n",
    "cbar.ax.set_yticks([-0.2,-0.1,0.,0.1,0.2])\n",
    "gc.collect()\n",
    "fig.tight_layout()\n",
    "#fig.savefig('psi_demo.pdf')\n",
    "\n",
    "fun=measTask.Chi[0]\n",
    "print('flux scaling is %.3f' %(0.168**3./np.sqrt(np.sum((fun/psfFou)**2.))))\n",
    "\n",
    "print('FWHM of re-smoothing kernel is: %.3f' %(1./measTask.sigmaF*0.168*2.35))"
   ]
  },
  {
   "cell_type": "code",
   "execution_count": 70,
   "id": "bd89d6f3-3e3f-4880-8527-52fe5f872b57",
   "metadata": {},
   "outputs": [
    {
     "name": "stdout",
     "output_type": "stream",
     "text": [
      "flux scaling is 1.103\n",
      "FWHM of re-smoothing kernel is: 1.058 arcsec\n"
     ]
    },
    {
     "name": "stderr",
     "output_type": "stream",
     "text": [
      "/var/tmp/pbs.104007.idark/ipykernel_188574/335514806.py:22: ComplexWarning: Casting complex values to real discards the imaginary part\n",
      "  print('flux scaling is %.3f' %(1./np.sum((fun/psfFou*measTask.ngrid**2.*measTask._dk)**2.)))\n"
     ]
    }
   ],
   "source": [
    "ngrid       =   64\n",
    "pixScale    =   0.168\n",
    "psfFWHM     =   60 # arcsec\n",
    "\n",
    "# FPFS Basic\n",
    "beta        =   0.50 # try2\n",
    "rcut        =   32\n",
    "beg         =   ngrid//2-rcut\n",
    "end         =   beg+2*rcut\n",
    "\n",
    "# PSF\n",
    "psfFname    =   os.path.join(galDir,'psf-%s.fits' %psfFWHM)\n",
    "psfData     =   pyfits.open(psfFname)[0].data\n",
    "npad        =   (ngrid-psfData.shape[0])//2\n",
    "psfData2    =   np.pad(psfData,(npad+1,npad),mode='constant')\n",
    "psfData2    =   psfData2[beg:end,beg:end]\n",
    "measTask    =   fpfs.image.measure_source(psfData2,beta=beta)\n",
    "psfFou      =   np.fft.fftshift(np.fft.fft2(np.fft.ifftshift(psfData2)))[measTask._indY,measTask._indX]\n",
    "measTask    =   fpfs.image.measure_source(psfData2,beta=beta,sigma_arcsec=0.45)\n",
    "psfFou      =   np.fft.fftshift(np.fft.fft2(np.fft.ifftshift(psfData2)))[measTask._indY,measTask._indX]\n",
    "fun=measTask.Chi[0]\n",
    "print('flux scaling is %.3f' %(1./np.sum((fun/psfFou*measTask.ngrid**2.*measTask._dk)**2.)))\n",
    "print('FWHM of re-smoothing kernel is: %.3f arcsec' %(1./measTask.sigmaF*0.168*2.35))"
   ]
  },
  {
   "cell_type": "code",
   "execution_count": 73,
   "id": "c7731741-ca44-43a0-988a-97404f107876",
   "metadata": {},
   "outputs": [
    {
     "data": {
      "text/plain": [
       "0.2979660192980217"
      ]
     },
     "execution_count": 73,
     "metadata": {},
     "output_type": "execute_result"
    }
   ],
   "source": [
    "np.log10(2.5/1.9)*2.5"
   ]
  },
  {
   "cell_type": "code",
   "execution_count": 74,
   "id": "7de54130-0660-4390-aaac-68a43007b162",
   "metadata": {},
   "outputs": [
    {
     "data": {
      "text/plain": [
       "0.994850021680094"
      ]
     },
     "execution_count": 74,
     "metadata": {},
     "output_type": "execute_result"
    }
   ],
   "source": [
    "np.log10(2.5)*2.5"
   ]
  },
  {
   "cell_type": "code",
   "execution_count": 75,
   "id": "08ad4e39-fd61-484b-8189-6dcf23cbe73a",
   "metadata": {},
   "outputs": [
    {
     "data": {
      "text/plain": [
       "0.10348171289556268"
      ]
     },
     "execution_count": 75,
     "metadata": {},
     "output_type": "execute_result"
    }
   ],
   "source": [
    "np.log10(1.1)*2.5"
   ]
  },
  {
   "cell_type": "code",
   "execution_count": 79,
   "id": "88236702-e9f6-4b05-b825-36a33793cff1",
   "metadata": {},
   "outputs": [
    {
     "data": {
      "text/plain": [
       "0.6186057577920533"
      ]
     },
     "execution_count": 79,
     "metadata": {},
     "output_type": "execute_result"
    }
   ],
   "source": [
    "0.65/0.45/2.335"
   ]
  },
  {
   "cell_type": "code",
   "execution_count": 81,
   "id": "7c05bce7-fc0c-4a7b-924e-f00663b8aaf3",
   "metadata": {},
   "outputs": [
    {
     "data": {
      "text/plain": [
       "24104.234059415507"
      ]
     },
     "execution_count": 81,
     "metadata": {},
     "output_type": "execute_result"
    }
   ],
   "source": [
    "(2300*0.168/60)**2.*np.pi*185"
   ]
  },
  {
   "cell_type": "code",
   "execution_count": 9,
   "id": "65fb2c3e-b464-469a-bd64-0b1caeed4d3d",
   "metadata": {},
   "outputs": [
    {
     "data": {
      "text/plain": [
       "<matplotlib.image.AxesImage at 0x2b7d4d98d280>"
      ]
     },
     "execution_count": 9,
     "metadata": {},
     "output_type": "execute_result"
    },
    {
     "data": {
      "image/png": "[encoded data removed]",
      "text/plain": [
       "<Figure size 432x288 with 1 Axes>"
      ]
     },
     "metadata": {
      "needs_background": "light"
     },
     "output_type": "display_data"
    }
   ],
   "source": [
    "plt.imshow(fun)"
   ]
  },
  {
   "cell_type": "code",
   "execution_count": 8,
   "id": "f35f5ac4-7a51-44fa-a64f-c3a81d03e167",
   "metadata": {},
   "outputs": [
    {
     "name": "stderr",
     "output_type": "stream",
     "text": [
      "/var/tmp/pbs.103819.idark/ipykernel_265030/3784411168.py:34: UserWarning: This figure includes Axes that are not compatible with tight_layout, so results might be incorrect.\n",
      "  fig.tight_layout()\n"
     ]
    },
    {
     "data": {
      "image/png": "[encoded data removed]",
      "text/plain": [
       "<Figure size 936x864 with 18 Axes>"
      ]
     },
     "metadata": {
      "needs_background": "light"
     },
     "output_type": "display_data"
    }
   ],
   "source": [
    "inds=[5,2,1,0,3,6,7,8]\n",
    "plt.close()\n",
    "fig=plt.figure(figsize=(13,12))\n",
    "grid = ImageGrid(fig, 111,          # as in plt.subplot(111)\n",
    "                 nrows_ncols=(3,3),\n",
    "                 axes_pad=0.1,\n",
    "                 share_all=True,\n",
    "                 cbar_location=\"right\",\n",
    "                 cbar_mode=\"single\",\n",
    "                 cbar_size=\"2%\",\n",
    "                 cbar_pad=0.15,\n",
    "                 )\n",
    "\n",
    "for i in range(8):\n",
    "    ax=grid[inds[i]]\n",
    "    fun=measTask.Psi[1::3][i]\n",
    "    fun2=np.fft.fftshift(np.fft.ifft2(np.fft.ifftshift(fun)).real)*32**2./(0.168)**2.\n",
    "    im=ax.imshow(fun2,aspect='equal',origin='lower',cmap='bwr',vmin=-0.2,vmax=0.2)\n",
    "    ax.set_xticklabels([])\n",
    "    ax.set_yticklabels([])\n",
    "    ax.set_xticks([])\n",
    "    ax.set_yticks([])\n",
    "    #ax.grid(color='black', linestyle='-', linewidth=2)\n",
    "    #ax.set_title(tlist[i])\n",
    "    for x in ax.spines.values():\n",
    "        x.set_linewidth(2.)\n",
    "grid[4].axis('off')\n",
    "grid[4].text(5.,5,r'$\\mathcal{F}^{-1}\\left(\\frac{\\psi_{i;1}}{p_{\\mathbf{k}}}\\right)$',fontsize=40)\n",
    "\n",
    "cbar=ax.cax.colorbar(im)\n",
    "cbar.ax.tick_params(labelsize=30)\n",
    "cbar.ax.set_yticks([-0.2,-0.1,0.,0.1,0.2])\n",
    "gc.collect()\n",
    "fig.tight_layout()\n",
    "fig.savefig('psidg1_demo.pdf')"
   ]
  },
  {
   "cell_type": "code",
   "execution_count": null,
   "id": "d9e7ec76-83c2-4f14-90ab-8a1e2d908637",
   "metadata": {},
   "outputs": [],
   "source": []
  }
 ],
 "metadata": {
  "kernelspec": {
   "display_name": "Python 3 (ipykernel)",
   "language": "python",
   "name": "python3"
  },
  "language_info": {
   "codemirror_mode": {
    "name": "ipython",
    "version": 3
   },
   "file_extension": ".py",
   "mimetype": "text/x-python",
   "name": "python",
   "nbconvert_exporter": "python",
   "pygments_lexer": "ipython3",
   "version": "3.8.13"
  }
 },
 "nbformat": 4,
 "nbformat_minor": 5
}
