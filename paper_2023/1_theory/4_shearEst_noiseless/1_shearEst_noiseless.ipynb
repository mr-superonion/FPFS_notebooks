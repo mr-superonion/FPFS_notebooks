{
 "cells": [
  {
   "cell_type": "code",
   "execution_count": 1,
   "id": "49ed575e-ee8a-4d7c-b548-74c0d944a3f0",
   "metadata": {},
   "outputs": [],
   "source": [
    "%load_ext autoreload\n",
    "%autoreload 2\n",
    "%matplotlib inline\n",
    "\n",
    "\n",
    "import gc\n",
    "import os \n",
    "import fpfs\n",
    "import fitsio\n",
    "import galsim\n",
    "import logging\n",
    "import matplotlib.pylab as plt\n",
    "from astropy.visualization import simple_norm\n",
    "from mpl_toolkits.axes_grid1 import ImageGrid\n",
    "import numpy.lib.recfunctions as rfn\n",
    "\n",
    "import matplotlib as mpl\n",
    "mpl.rcParams['axes.linewidth'] = 2.0 #set the value globally"
   ]
  },
  {
   "cell_type": "code",
   "execution_count": 2,
   "id": "65e5b437-1070-44a5-ad8c-8770a3687e7a",
   "metadata": {},
   "outputs": [
    {
     "data": {
      "text/plain": [
       "1.3879240000003406"
      ]
     },
     "execution_count": 2,
     "metadata": {},
     "output_type": "execute_result"
    }
   ],
   "source": [
    "1/0.2826379542395*0.168*2.335"
   ]
  },
  {
   "cell_type": "code",
   "execution_count": 3,
   "id": "b738c3f6-7789-4dbc-b45d-c3460e05d435",
   "metadata": {},
   "outputs": [
    {
     "data": {
      "text/plain": [
       "15"
      ]
     },
     "execution_count": 3,
     "metadata": {},
     "output_type": "execute_result"
    },
    {
     "data": {
      "image/png": "[encoded data removed]",
      "text/plain": [
       "<Figure size 432x288 with 1 Axes>"
      ]
     },
     "metadata": {
      "needs_background": "light"
     },
     "output_type": "display_data"
    }
   ],
   "source": [
    "outDir='galaxy_basicShift_psf60'\n",
    "a=fpfs.simutil.make_basic_sim(outDir,'g1-0000',Id0=6,ny=1,nx=2,do_write=False,return_array=True)\n",
    "plt.close()\n",
    "plt.imshow(a,aspect='equal',cmap='RdYlBu_r',origin='lower',interpolation='None',\\\n",
    "             norm=simple_norm(a,'asinh',asinh_a=0.1,min_cut=-0.01,max_cut=0.2))\n",
    "gc.collect()"
   ]
  },
  {
   "cell_type": "code",
   "execution_count": 4,
   "id": "243fab68-e8a8-4faa-8f32-5e99eb78073f",
   "metadata": {},
   "outputs": [
    {
     "data": {
      "text/plain": [
       "15"
      ]
     },
     "execution_count": 4,
     "metadata": {},
     "output_type": "execute_result"
    },
    {
     "data": {
      "image/png": "[encoded data removed]",
      "text/plain": [
       "<Figure size 432x288 with 1 Axes>"
      ]
     },
     "metadata": {
      "needs_background": "light"
     },
     "output_type": "display_data"
    }
   ],
   "source": [
    "rcut=16\n",
    "scale=0.168\n",
    "ngrid=64\n",
    "beg =   ngrid//2-rcut\n",
    "end =   beg+2*rcut\n",
    "\n",
    "psfFWHM =   0.6\n",
    "psfInt  =   galsim.Moffat(beta=3.5,fwhm=psfFWHM,trunc=psfFWHM*4.)\n",
    "psfInt  =   psfInt.shear(e1=0.02,e2=-0.02)\n",
    "psfInt  =   psfInt.shift(\n",
    "    dx  =   0.5*scale,\n",
    "    dy  =   0.5*scale,\n",
    ")\n",
    "ig=32\n",
    "\n",
    "outDir='galaxy_basicCenter_psf60'\n",
    "psfData =   psfInt.drawImage(nx=ngrid,ny=ngrid,scale=scale).array[beg:end,beg:end]\n",
    "fpTask  =   fpfs.image.measure_source(psfData,noiFit=0.,beta=0.75,sigma_arcsec=0.7)\n",
    "gal=fpfs.simutil.make_basic_sim(outDir,'g1-0000',Id0=ig,ny=1,nx=2,do_write=False,return_array=True)\n",
    "gal =   gal[beg:end,beg:end]\n",
    "modes1=  fpTask.measure(gal)\n",
    "\n",
    "gal=fpfs.simutil.make_basic_sim(outDir,'g1-2222',Id0=ig,ny=1,nx=2,do_write=False,return_array=True)\n",
    "gal =   gal[beg:end,beg:end]\n",
    "modes2=  fpTask.measure(gal)\n",
    "    \n",
    "plt.close()\n",
    "plt.imshow(gal,aspect='equal',cmap='RdYlBu_r',origin='lower',interpolation='None',\\\n",
    "             norm=simple_norm(a,'asinh',asinh_a=0.1,min_cut=-0.01,max_cut=0.2))\n",
    "gc.collect()"
   ]
  },
  {
   "cell_type": "code",
   "execution_count": 5,
   "id": "16f3d241-609a-4afc-9805-b5bbeb28dcf3",
   "metadata": {},
   "outputs": [
    {
     "name": "stdout",
     "output_type": "stream",
     "text": [
      "[-0.14051897]\n"
     ]
    }
   ],
   "source": [
    "mms  =   rfn.stack_arrays(modes1,usemask=False)\n",
    "ells1=   fpfs.catalog.fpfsM2E(mms,const=12,noirev=False)\n",
    "mms  =   rfn.stack_arrays(modes2,usemask=False)\n",
    "ells2=   fpfs.catalog.fpfsM2E(mms,const=12,noirev=False)\n",
    "\n",
    "resp=(ells1['fpfs_R1E'] + ells2['fpfs_R1E'])/2.\n",
    "m=((ells2['fpfs_e1']-ells1['fpfs_e1'])/resp/0.04)-1\n",
    "print(m)"
   ]
  },
  {
   "cell_type": "code",
   "execution_count": 11,
   "id": "8488fc8d-7089-47a6-9c1a-c4fabf6c098a",
   "metadata": {},
   "outputs": [
    {
     "name": "stdout",
     "output_type": "stream",
     "text": [
      "0.0001041005405570325\n"
     ]
    },
    {
     "data": {
      "image/png": "[encoded data removed]",
      "text/plain": [
       "<Figure size 432x288 with 1 Axes>"
      ]
     },
     "metadata": {
      "needs_background": "light"
     },
     "output_type": "display_data"
    }
   ],
   "source": [
    "gc.collect()\n",
    "rcut=16\n",
    "scale=0.168\n",
    "ngrid=64\n",
    "beg =   ngrid//2-rcut\n",
    "end =   beg+2*rcut\n",
    "\n",
    "psfFWHM =   0.6\n",
    "psfInt  =   galsim.Moffat(beta=3.5,fwhm=psfFWHM,trunc=psfFWHM*4.)\n",
    "psfInt  =   psfInt.shear(e1=0.02,e2=-0.02)\n",
    "psfInt  =   psfInt.shift(\n",
    "    dx  =   0.5*scale,\n",
    "    dy  =   0.5*scale,\n",
    ")\n",
    "ig=32\n",
    "\n",
    "outDir='galaxy_basicCenter_psf60'\n",
    "psfData =   psfInt.drawImage(nx=ngrid,ny=ngrid,scale=scale).array[beg:end,beg:end]\n",
    "results=[]\n",
    "fpTask  =   fpfs.image.measure_source(psfData,noiFit=0.,beta=0.75,sigma_arcsec=0.7)\n",
    "\n",
    "nrot=4\n",
    "for _ in range(nrot):\n",
    "    rot2=np.pi/nrot*_\n",
    "    gal=fpfs.simutil.make_basic_sim(outDir,'g1-0000',Id0=ig,ny=1,nx=2,\\\n",
    "                                    do_write=False,return_array=True,rot2=rot2)\n",
    "    gal =   gal[beg:end,beg:end]\n",
    "    modes=  fpTask.measure(gal)\n",
    "    results.append(modes)\n",
    "    \n",
    "plt.close()\n",
    "plt.imshow(gal,aspect='equal',cmap='RdYlBu_r',origin='lower',interpolation='None',\\\n",
    "             norm=simple_norm(a,'asinh',asinh_a=0.1,min_cut=-0.01,max_cut=0.2))\n",
    "mms =   rfn.stack_arrays(results,usemask=False)\n",
    "ells=   fpfs.catalog.fpfsM2E(mms,const=12,noirev=False)\n",
    "resp=np.average(ells['fpfs_R1E'])\n",
    "shear=np.average(ells['fpfs_e1'])/resp\n",
    "print((shear+0.02)/0.02)"
   ]
  },
  {
   "cell_type": "code",
   "execution_count": 102,
   "id": "03ba8a01-d910-46f2-9388-892622bf49cb",
   "metadata": {},
   "outputs": [
    {
     "name": "stdout",
     "output_type": "stream",
     "text": [
      "-0.00012700476961224894\n",
      "0.2653144 2.6760738\n"
     ]
    },
    {
     "data": {
      "image/png": "[encoded data removed]",
      "text/plain": [
       "<Figure size 432x288 with 1 Axes>"
      ]
     },
     "metadata": {
      "needs_background": "light"
     },
     "output_type": "display_data"
    }
   ],
   "source": [
    "gc.collect()\n",
    "rcut=32\n",
    "scale=0.168\n",
    "ngrid=256\n",
    "beg =   ngrid//2-rcut\n",
    "end =   beg+2*rcut\n",
    "psfFWHM =   0.6\n",
    "psfInt  =   galsim.Moffat(beta=3.5,fwhm=psfFWHM,trunc=psfFWHM*4.)\n",
    "psfInt  =   psfInt.shear(e1=0.02,e2=-0.02)\n",
    "psfInt  =   psfInt.shift(\n",
    "    dx  =   0.5*scale,\n",
    "    dy  =   0.5*scale,\n",
    ")\n",
    "ig=43\n",
    "\n",
    "outDir='galaxy_cosmo250_psf60'\n",
    "psfData =   psfInt.drawImage(nx=ngrid,ny=ngrid,scale=scale).array[beg:end,beg:end]\n",
    "results=[]\n",
    "fpTask  =   fpfs.image.measure_source(psfData,noiFit=0.,beta=0.75,sigma_arcsec=0.7)\n",
    "nrot=4\n",
    "for _ in range(nrot):\n",
    "    rot2=np.pi/nrot*_\n",
    "    gal=fpfs.simutil.make_cosmo_sim(outDir,'g1-0000',Id0=ig,ny=256,nx=256,\\\n",
    "                                    rfrac=0.2,do_write=False,return_array=True,rot2=rot2)\n",
    "    gal =   gal[beg:end,beg:end]\n",
    "    modes=  fpTask.measure(gal) \n",
    "    results.append(modes)\n",
    "    \n",
    "plt.close()\n",
    "plt.imshow(gal,aspect='equal',cmap='RdYlBu_r',origin='lower',interpolation='None',\\\n",
    "             norm=simple_norm(gal,'asinh',asinh_a=0.1,min_cut=-0.01,max_cut=0.8))\n",
    "mms =   rfn.stack_arrays(results,usemask=False)\n",
    "ells=   fpfs.catalog.fpfsM2E(mms,const=12,noirev=False)\n",
    "resp=np.average(ells['fpfs_R1E'])\n",
    "shear=np.average(ells['fpfs_e1'])/resp\n",
    "print((shear+0.02)/0.02)\n",
    "print(gal[rcut,rcut],gal.max())"
   ]
  },
  {
   "cell_type": "code",
   "execution_count": null,
   "id": "39076daa-f435-4460-9b36-1a63f8468156",
   "metadata": {},
   "outputs": [],
   "source": []
  }
 ],
 "metadata": {
  "kernelspec": {
   "display_name": "Python 3 (ipykernel)",
   "language": "python",
   "name": "python3"
  },
  "language_info": {
   "codemirror_mode": {
    "name": "ipython",
    "version": 3
   },
   "file_extension": ".py",
   "mimetype": "text/x-python",
   "name": "python",
   "nbconvert_exporter": "python",
   "pygments_lexer": "ipython3",
   "version": "3.8.15"
  }
 },
 "nbformat": 4,
 "nbformat_minor": 5
}
