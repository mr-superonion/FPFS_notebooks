{
 "cells": [
  {
   "cell_type": "code",
   "execution_count": 1,
   "id": "0d8603a7-5f1d-4149-afae-6ca6873f8d40",
   "metadata": {},
   "outputs": [],
   "source": [
    "%load_ext autoreload\n",
    "%autoreload 2\n",
    "%matplotlib inline\n",
    "\n",
    "import gc\n",
    "import os\n",
    "import glob\n",
    "import fitsio\n",
    "from fpfs import pltutil\n",
    "import matplotlib.pylab as plt\n",
    "import matplotlib as mpl\n",
    "mpl.rcParams['axes.linewidth'] = 2.0 #set the value globally"
   ]
  },
  {
   "cell_type": "code",
   "execution_count": 13,
   "id": "4cfa695e-5238-49cb-ad67-2e234bb90116",
   "metadata": {},
   "outputs": [
    {
     "name": "stdout",
     "output_type": "stream",
     "text": [
      "0 10000\n",
      "1 10000\n",
      "2 10000\n",
      "3 10000\n",
      "4 10000\n",
      "[[-2.41094614e-03  1.09844307e-03  2.01436590e-05  8.25681776e-06]\n",
      " [-2.73873218e-03  1.12212335e-03  2.19112261e-05  8.35402290e-06]\n",
      " [-2.71124810e-03  1.23022879e-03  1.44290709e-05  8.39424779e-06]\n",
      " [-2.50030371e-03  1.44471402e-03  7.24759954e-06  8.12795492e-06]\n",
      " [ 3.84064177e-04  1.87176876e-03 -1.93276220e-06  8.64642239e-06]]\n"
     ]
    }
   ],
   "source": [
    "shear_value = 0.02\n",
    "ntry = 5\n",
    "outcomes = np.zeros((ntry, 4))\n",
    "for itry in range(ntry):\n",
    "    fnames = glob.glob('./mag%d_cosmo085_psf60_var3em3_try3/*.fits' %(itry+1))\n",
    "    nsims = len(fnames)\n",
    "    print(itry, nsims)\n",
    "    out = np.zeros((nsims, 4))\n",
    "    for ii,ff in enumerate(fnames):\n",
    "        out[ii] = fitsio.read(ff)[0:4,0]\n",
    "    res = np.average(out, axis=0)\n",
    "    err = np.std(out, axis=0)\n",
    "    outcomes[itry, 0] = (res[1] / res[3] / 2.0 - shear_value) / shear_value\n",
    "    outcomes[itry, 1] = (err[1] / res[3] / 2.0) / shear_value / np.sqrt(nsims)\n",
    "    outcomes[itry, 2] = res[2] / res[3]\n",
    "    outcomes[itry, 3] = err[2] / res[3] / np.sqrt(nsims)\n",
    "    del out, res, err, fnames, nsims\n",
    "    gc.collect()\n",
    "fitsio.write('output_mag_cut.fits', outcomes, clobber=True)\n",
    "print(outcomes)"
   ]
  },
  {
   "cell_type": "code",
   "execution_count": 3,
   "id": "11513c21-7136-453c-870b-08fec1b55a3f",
   "metadata": {},
   "outputs": [
    {
     "name": "stdout",
     "output_type": "stream",
     "text": [
      "0 10000\n",
      "1 10000\n",
      "2 10000\n",
      "3 10000\n",
      "4 10000\n",
      "[[-3.52048476e-03  1.09697157e-03  2.77537442e-05  8.06445984e-06]\n",
      " [-2.54689979e-03  1.10177797e-03  2.07897758e-05  8.26847936e-06]\n",
      " [-3.45076777e-03  1.10759365e-03  2.11185643e-05  8.44999799e-06]\n",
      " [-3.93419297e-03  1.11742305e-03  2.40614638e-05  8.45915181e-06]\n",
      " [-3.61654430e-03  1.14084790e-03  2.63902606e-05  8.74130295e-06]]\n"
     ]
    }
   ],
   "source": [
    "shear_value = 0.02\n",
    "ntry = 5\n",
    "outcomes = np.zeros((ntry, 4))\n",
    "for itry in range(ntry):\n",
    "    fnames = glob.glob('./res%d_cosmo085_psf60_var3em3_try3/*.fits' %(itry+1))\n",
    "    nsims = len(fnames)\n",
    "    print(itry, nsims)\n",
    "    out = np.zeros((nsims, 4))\n",
    "    for ii,ff in enumerate(fnames):\n",
    "        out[ii] = fitsio.read(ff)[0:4,0]\n",
    "    res = np.average(out, axis=0)\n",
    "    err = np.std(out, axis=0)\n",
    "    outcomes[itry, 0] = (res[1] / res[3] / 2.0 - shear_value) / shear_value\n",
    "    outcomes[itry, 1] = (err[1] / res[3] / 2.0) / shear_value / np.sqrt(nsims)\n",
    "    outcomes[itry, 2] = res[2] / res[3]\n",
    "    outcomes[itry, 3] = err[2] / res[3] / np.sqrt(nsims)\n",
    "    del out, res, err, fnames, nsims\n",
    "    gc.collect()\n",
    "fitsio.write('output_r2_cut.fits', outcomes, clobber=True)\n",
    "print(outcomes)"
   ]
  },
  {
   "cell_type": "code",
   "execution_count": 2,
   "id": "3fd35e90-a3f8-414a-90a3-f6dade5bd78c",
   "metadata": {},
   "outputs": [
    {
     "name": "stdout",
     "output_type": "stream",
     "text": [
      "0 10000\n",
      "1 10000\n",
      "2 10000\n",
      "3 10000\n",
      "4 10000\n",
      "[[-3.80326750e-03  1.16436093e-03  2.82204377e-05  9.44927411e-06]\n",
      " [-3.12564939e-03  1.19043906e-03  2.44398945e-05  9.49815871e-06]\n",
      " [-3.53225751e-03  1.28857531e-03  1.51883788e-05  9.31239770e-06]\n",
      " [-3.24114945e-03  1.49565356e-03  8.08896040e-06  8.88940349e-06]\n",
      " [-2.82877602e-04  1.91631989e-03 -4.52054857e-06  9.36799128e-06]]\n"
     ]
    }
   ],
   "source": [
    "gc.collect()\n",
    "shear_value = 0.02\n",
    "ntry = 5\n",
    "outcomes = np.zeros((ntry, 4))\n",
    "for itry in range(ntry):\n",
    "    fnames = glob.glob('./mag%d_cosmo085_psf60_var3em3_try3_2/*.fits' %(itry+1))\n",
    "    nsims = len(fnames)\n",
    "    print(itry, nsims)\n",
    "    out = np.zeros((nsims, 4))\n",
    "    for ii,ff in enumerate(fnames):\n",
    "        out[ii] = fitsio.read(ff)[0:4,0]\n",
    "    res = np.average(out, axis=0)\n",
    "    err = np.std(out, axis=0)\n",
    "    outcomes[itry, 0] = (res[1] / res[3] / 2.0 - shear_value) / shear_value\n",
    "    outcomes[itry, 1] = (err[1] / res[3] / 2.0) / shear_value / np.sqrt(nsims)\n",
    "    outcomes[itry, 2] = res[2] / res[3]\n",
    "    outcomes[itry, 3] = err[2] / res[3] / np.sqrt(nsims)\n",
    "    del out, res, err, fnames, nsims\n",
    "    gc.collect()\n",
    "fitsio.write('output_mag_cut_2.fits', outcomes, clobber=True)\n",
    "print(outcomes)"
   ]
  },
  {
   "cell_type": "code",
   "execution_count": 3,
   "id": "bb5de495-276b-4a9d-9562-61352526c591",
   "metadata": {},
   "outputs": [
    {
     "name": "stdout",
     "output_type": "stream",
     "text": [
      "0 10000\n",
      "1 10000\n",
      "2 10000\n",
      "3 10000\n",
      "4 10000\n",
      "[[-3.46047777e-03  1.16670255e-03  1.86765074e-05  9.41872673e-06]\n",
      " [-3.32222322e-03  1.17056226e-03  2.33097203e-05  9.50309902e-06]\n",
      " [-4.37482076e-03  1.17622948e-03  2.59907385e-05  9.63788563e-06]\n",
      " [-4.69141287e-03  1.18798044e-03  2.81295608e-05  9.65309086e-06]\n",
      " [-4.15987533e-03  1.21307556e-03  2.99138508e-05  9.82968781e-06]]\n"
     ]
    }
   ],
   "source": [
    "shear_value = 0.02\n",
    "ntry = 5\n",
    "outcomes = np.zeros((ntry, 4))\n",
    "for itry in range(ntry):\n",
    "    fnames = glob.glob('./res%d_cosmo085_psf60_var3em3_try3_2/*.fits' %(itry+1))\n",
    "    nsims = len(fnames)\n",
    "    print(itry, nsims)\n",
    "    out = np.zeros((nsims, 4))\n",
    "    for ii,ff in enumerate(fnames):\n",
    "        out[ii] = fitsio.read(ff)[0:4,0]\n",
    "    res = np.average(out, axis=0)\n",
    "    err = np.std(out, axis=0)\n",
    "    outcomes[itry, 0] = (res[1] / res[3] / 2.0 - shear_value) / shear_value \n",
    "    outcomes[itry, 1] = (err[1] / res[3] / 2.0) / shear_value / np.sqrt(nsims)\n",
    "    outcomes[itry, 2] = res[2] / res[3]\n",
    "    outcomes[itry, 3] = err[2] / res[3] / np.sqrt(nsims)\n",
    "    del out, res, err, fnames, nsims\n",
    "    gc.collect()\n",
    "fitsio.write('output_r2_cut_2.fits', outcomes, clobber=True)\n",
    "print(outcomes)"
   ]
  }
 ],
 "metadata": {
  "kernelspec": {
   "display_name": "Python 3 (ipykernel)",
   "language": "python",
   "name": "python3"
  },
  "language_info": {
   "codemirror_mode": {
    "name": "ipython",
    "version": 3
   },
   "file_extension": ".py",
   "mimetype": "text/x-python",
   "name": "python",
   "nbconvert_exporter": "python",
   "pygments_lexer": "ipython3",
   "version": "3.10.6"
  }
 },
 "nbformat": 4,
 "nbformat_minor": 5
}
