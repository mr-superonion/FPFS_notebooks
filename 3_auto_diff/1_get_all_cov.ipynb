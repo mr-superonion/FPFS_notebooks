{
 "cells": [
  {
   "cell_type": "code",
   "execution_count": 1,
   "id": "d03db39a-a790-4037-b03e-87635e2d1f36",
   "metadata": {},
   "outputs": [],
   "source": [
    "%load_ext autoreload\n",
    "%autoreload 2\n",
    "%matplotlib inline\n",
    "\n",
    "import os\n",
    "import fpfs\n",
    "import fitsio\n",
    "import impt\n",
    "import jax.numpy as jnp"
   ]
  },
  {
   "cell_type": "code",
   "execution_count": 2,
   "id": "7a0708a1-a727-41fd-ba51-84fa60658a20",
   "metadata": {},
   "outputs": [
    {
     "name": "stderr",
     "output_type": "stream",
     "text": [
      "2023/01/11 06:50:25 ---  Remote TPU is not linked into jax; skipping remote TPU.\n",
      "2023/01/11 06:50:25 ---  Unable to initialize backend 'tpu_driver': Could not initialize backend 'tpu_driver'\n",
      "2023/01/11 06:50:25 ---  Unable to initialize backend 'cuda': module 'jaxlib.xla_extension' has no attribute 'GpuAllocatorConfig'\n",
      "2023/01/11 06:50:25 ---  Unable to initialize backend 'rocm': module 'jaxlib.xla_extension' has no attribute 'GpuAllocatorConfig'\n",
      "2023/01/11 06:50:25 ---  Unable to initialize backend 'tpu': module 'jaxlib.xla_extension' has no attribute 'get_tpu_client'\n",
      "2023/01/11 06:50:25 ---  Unable to initialize backend 'plugin': xla_extension has no attributes named get_plugin_device_client. Compile TensorFlow with //tensorflow/compiler/xla/python:enable_plugin_device set to true (defaults to false) to enable this.\n",
      "2023/01/11 06:50:25 ---  No GPU/TPU found, falling back to CPU. (Set TF_CPP_MIN_LOG_LEVEL=0 and rerun for more info.)\n"
     ]
    }
   ],
   "source": [
    "test_fname = os.path.join(\n",
    "    impt.fpfs.__data_dir__,\n",
    "    \"fpfs-cut32-0000-g1-0000.fits\",\n",
    ")\n",
    "\n",
    "# impt.fpfs\n",
    "cat = impt.fpfs.read_catalog(test_fname)\n",
    "# FPFS\n",
    "data = fitsio.read(test_fname)\n",
    "cov_mat2 = impt.fpfs.utils.fpfscov_to_imptcov(data)"
   ]
  },
  {
   "cell_type": "code",
   "execution_count": 3,
   "id": "b85a05ab-4aab-4c2e-a1e8-ff68d6e17bef",
   "metadata": {},
   "outputs": [],
   "source": [
    "params = impt.fpfs.FpfsParams(\n",
    "    Const = 2.0,\n",
    "    lower_m00=0.5,\n",
    "    sigma_m00=0.5,\n",
    "    lower_r2=0.12,\n",
    "    sigma_r2=0.3,\n",
    "    sigma_v=0.3,\n",
    ")\n",
    "e1_impt = impt.fpfs.FpfsE1(params)\n",
    "e2_impt = impt.fpfs.FpfsE2(params)\n",
    "w_det = impt.fpfs.FpfsWeightDetect(params)\n",
    "w_sel = impt.fpfs.FpfsWeightSelect(params)\n",
    "we1 = e1_impt * w_det * w_sel\n",
    "we2 = e2_impt * w_det * w_sel\n",
    "\n",
    "dwe1_dg1 = impt.RespG1(we1)\n",
    "dwe2_dg2 = impt.RespG2(we2)"
   ]
  },
  {
   "cell_type": "code",
   "execution_count": 6,
   "id": "dfd6b468-3ac9-4376-869b-c2c738f25419",
   "metadata": {},
   "outputs": [],
   "source": [
    "de1_dg1 = impt.RespG1(e1_impt)"
   ]
  },
  {
   "cell_type": "code",
   "execution_count": 7,
   "id": "deb43ef6-ef6e-47d0-aa45-027ada0c09f8",
   "metadata": {},
   "outputs": [],
   "source": [
    "ell_fpfs = fpfs.catalog.fpfs_m2e(data, const=params.Const, noirev=False)\n",
    "fs = fpfs.catalog.summary_stats(data, ell_fpfs, use_sig=False, ratio=1.0)\n",
    "selnm = np.array([\"detect2\", \"M00\", \"R2\"])\n",
    "fs = impt.fpfs.test_utils.initialize_FPFS(fs, selnm, params)"
   ]
  },
  {
   "cell_type": "code",
   "execution_count": 8,
   "id": "ae40e4fd-8a72-4f20-a4ef-e251f9556592",
   "metadata": {},
   "outputs": [],
   "source": [
    "ell_fpfs2 = fpfs.catalog.fpfs_m2e(data, const=params.Const, noirev=True)\n",
    "fs2 = fpfs.catalog.summary_stats(data, ell_fpfs2, use_sig=False, ratio=1.0)\n",
    "fs2 = impt.fpfs.test_utils.initialize_FPFS(fs2, selnm, params)"
   ]
  },
  {
   "cell_type": "code",
   "execution_count": 11,
   "id": "b70ac8c6-9ec7-46cb-af26-8ba5202ac7d5",
   "metadata": {},
   "outputs": [
    {
     "data": {
      "text/plain": [
       "Array(-0.0229117, dtype=float64)"
      ]
     },
     "execution_count": 11,
     "metadata": {},
     "output_type": "execute_result"
    }
   ],
   "source": [
    "jnp.sum(we1.evaluate(cat)) + jnp.sum(we2.evaluate(cat))"
   ]
  },
  {
   "cell_type": "code",
   "execution_count": 19,
   "id": "036a61bd-39ab-44f8-a628-bbfd92048766",
   "metadata": {},
   "outputs": [
    {
     "data": {
      "text/plain": [
       "Array(0.17612553, dtype=float64)"
      ]
     },
     "execution_count": 19,
     "metadata": {},
     "output_type": "execute_result"
    }
   ],
   "source": [
    "bnoise = impt.BiasNoise(we1, cov_mat2)\n",
    "jnp.sum(bnoise.evaluate(cat))"
   ]
  },
  {
   "cell_type": "code",
   "execution_count": 17,
   "id": "431aa77f-7f23-460e-a815-1521e15d0dc6",
   "metadata": {},
   "outputs": [
    {
     "data": {
      "text/plain": [
       "-0.003958492561487458"
      ]
     },
     "execution_count": 17,
     "metadata": {},
     "output_type": "execute_result"
    }
   ],
   "source": [
    "fs2.sumE1 - fs.sumE1 + fs2.corE1"
   ]
  },
  {
   "cell_type": "code",
   "execution_count": 10,
   "id": "d4691454-7646-4403-9f9b-ec0a09f445a8",
   "metadata": {},
   "outputs": [
    {
     "data": {
      "text/plain": [
       "-0.022973782551999403"
      ]
     },
     "execution_count": 10,
     "metadata": {},
     "output_type": "execute_result"
    }
   ],
   "source": [
    "fs2.sumE1 + fs2.sumE2"
   ]
  },
  {
   "cell_type": "code",
   "execution_count": 104,
   "id": "b059fc68-e5fa-4ef4-862f-9830dafbf4d7",
   "metadata": {},
   "outputs": [
    {
     "data": {
      "text/plain": [
       "0.022308760428894524"
      ]
     },
     "execution_count": 104,
     "metadata": {},
     "output_type": "execute_result"
    }
   ],
   "source": [
    "fs2.sumR1 + fs2.sumR2 + fs2.corR1 + fs2.corR2"
   ]
  },
  {
   "cell_type": "code",
   "execution_count": 105,
   "id": "90f1f722-0276-46b8-bc8a-ad8b43c41eec",
   "metadata": {},
   "outputs": [
    {
     "data": {
      "text/plain": [
       "-0.009794882138155086"
      ]
     },
     "execution_count": 105,
     "metadata": {},
     "output_type": "execute_result"
    }
   ],
   "source": [
    "fs2.sumE1 + fs2.sumE2 + fs2.corE1 + fs2.corE2"
   ]
  },
  {
   "cell_type": "code",
   "execution_count": 106,
   "id": "2dd1ff05-4607-4bbe-a13e-58e22d558a3e",
   "metadata": {},
   "outputs": [
    {
     "data": {
      "text/plain": [
       "-1.715909172982086e-05"
      ]
     },
     "execution_count": 106,
     "metadata": {},
     "output_type": "execute_result"
    }
   ],
   "source": [
    "fs2.corE1 + fs2.corE2"
   ]
  },
  {
   "cell_type": "code",
   "execution_count": 15,
   "id": "8a80b6f0-b4b5-4708-a1f4-bc45f66b65ca",
   "metadata": {},
   "outputs": [
    {
     "data": {
      "text/plain": [
       "-0.0050717731940334194"
      ]
     },
     "execution_count": 15,
     "metadata": {},
     "output_type": "execute_result"
    }
   ],
   "source": [
    "np.sum(ell_fpfs['fpfs_e1']-ell_fpfs2['fpfs_e1'])"
   ]
  },
  {
   "cell_type": "code",
   "execution_count": 13,
   "id": "cd334280-c06d-43de-91fa-03599f31398d",
   "metadata": {},
   "outputs": [
    {
     "data": {
      "text/plain": [
       "Array(0.17612553, dtype=float64)"
      ]
     },
     "execution_count": 13,
     "metadata": {},
     "output_type": "execute_result"
    }
   ],
   "source": [
    "e1_final = impt.fpfs.FpfsWeightE1(params)\n",
    "bnoise = impt.BiasNoise(e1_final, cov_mat2)\n",
    "jnp.sum(bnoise.evaluate(cat))"
   ]
  },
  {
   "cell_type": "code",
   "execution_count": 14,
   "id": "424a0076-4cf8-4a0f-9b1d-08c411a733c7",
   "metadata": {},
   "outputs": [
    {
     "data": {
      "text/plain": [
       "Array(0.17612553, dtype=float64)"
      ]
     },
     "execution_count": 14,
     "metadata": {},
     "output_type": "execute_result"
    }
   ],
   "source": [
    "bnoise = impt.BiasNoise(we1, cov_mat2)\n",
    "jnp.sum(bnoise.evaluate(cat))"
   ]
  },
  {
   "cell_type": "code",
   "execution_count": 109,
   "id": "193c4c4f-ba09-4d3d-a27b-b9441c1239e2",
   "metadata": {},
   "outputs": [
    {
     "data": {
      "text/plain": [
       "Array(1.67618787e-05, dtype=float64)"
      ]
     },
     "execution_count": 109,
     "metadata": {},
     "output_type": "execute_result"
    }
   ],
   "source": [
    "e1_final = impt.fpfs.FpfsWeightE1(params)\n",
    "bnoise = impt.BiasNoise(e1_final, cov_mat2)\n",
    "jnp.sum(bnoise.evaluate(cat))"
   ]
  },
  {
   "cell_type": "code",
   "execution_count": 81,
   "id": "870e2f3f-72dd-43ef-8e14-1b2c144fccb8",
   "metadata": {},
   "outputs": [
    {
     "data": {
      "text/plain": [
       "Array(-6.07610356, dtype=float64)"
      ]
     },
     "execution_count": 81,
     "metadata": {},
     "output_type": "execute_result"
    }
   ],
   "source": [
    "e1_final = impt.fpfs.FpfsWeightE1(params)\n",
    "res1 = impt.RespG1(e1_final)\n",
    "bnoise = impt.BiasNoise(res1, cov_mat2)\n",
    "jnp.sum(bnoise.evaluate(cat))"
   ]
  },
  {
   "cell_type": "code",
   "execution_count": 82,
   "id": "a7e0c0fc-8069-40d4-abf6-f29f7d389e41",
   "metadata": {},
   "outputs": [
    {
     "data": {
      "text/plain": [
       "Array(0.17612553, dtype=float64)"
      ]
     },
     "execution_count": 82,
     "metadata": {},
     "output_type": "execute_result"
    }
   ],
   "source": [
    "e1_final = impt.fpfs.FpfsWeightE1(params)\n",
    "bnoise = impt.BiasNoise(e1_final, cov_mat2)\n",
    "jnp.sum(bnoise.evaluate(cat))"
   ]
  },
  {
   "cell_type": "code",
   "execution_count": 83,
   "id": "fd9ea164-e461-4445-b0f6-1a69ae7ec1fb",
   "metadata": {},
   "outputs": [
    {
     "data": {
      "text/plain": [
       "Array(0.17612553, dtype=float64)"
      ]
     },
     "execution_count": 83,
     "metadata": {},
     "output_type": "execute_result"
    }
   ],
   "source": [
    "bnoise = impt.BiasNoise(we1, cov_mat2)\n",
    "jnp.sum(bnoise.evaluate(cat))"
   ]
  },
  {
   "cell_type": "code",
   "execution_count": 84,
   "id": "ceb2b94e-06c0-4338-bd11-3d3bd1690e0a",
   "metadata": {},
   "outputs": [
    {
     "data": {
      "text/plain": [
       "Array(0.17612553, dtype=float64)"
      ]
     },
     "execution_count": 84,
     "metadata": {},
     "output_type": "execute_result"
    }
   ],
   "source": [
    "jnp.sum(bnoise.evaluate(cat))"
   ]
  },
  {
   "cell_type": "code",
   "execution_count": 85,
   "id": "240c5021-c33b-4bc2-9f71-77b078d1b344",
   "metadata": {},
   "outputs": [
    {
     "data": {
      "text/plain": [
       "2.4798659683593103"
      ]
     },
     "execution_count": 85,
     "metadata": {},
     "output_type": "execute_result"
    }
   ],
   "source": [
    "fs.sumR1 + fs.sumR2 + fs.corR1 + fs.corR2"
   ]
  },
  {
   "cell_type": "code",
   "execution_count": 86,
   "id": "a4e82e57-39b4-4175-83bf-ef5c5adda6f9",
   "metadata": {},
   "outputs": [],
   "source": [
    "import fitsio\n",
    "cov_fname = os.path.join(impt.fpfs.__data_dir__, \"modes_cov_mat_paper3_045.fits\")\n",
    "cov_mat = fitsio.read(cov_fname)"
   ]
  },
  {
   "cell_type": "code",
   "execution_count": 87,
   "id": "8ef419ac-0e2e-4c34-905b-caedb4f2c36d",
   "metadata": {},
   "outputs": [
    {
     "data": {
      "text/plain": [
       "Array(-5.86349852, dtype=float64)"
      ]
     },
     "execution_count": 87,
     "metadata": {},
     "output_type": "execute_result"
    }
   ],
   "source": [
    "bnoise=impt.BiasNoise(dwe1_dg1, jnp.array(cov_mat))\n",
    "jnp.sum(bnoise.evaluate(cat))"
   ]
  },
  {
   "cell_type": "code",
   "execution_count": 88,
   "id": "5d402a75-ab51-4b09-baf9-c295bffef4e3",
   "metadata": {},
   "outputs": [
    {
     "data": {
      "text/plain": [
       "Array(-3.95003624, dtype=float64)"
      ]
     },
     "execution_count": 88,
     "metadata": {},
     "output_type": "execute_result"
    }
   ],
   "source": [
    "bnoise=impt.BiasNoise(dwe2_dg2, jnp.array(cov_mat))\n",
    "jnp.sum(bnoise.evaluate(cat))"
   ]
  },
  {
   "cell_type": "code",
   "execution_count": 90,
   "id": "fa663713-d975-4f72-b592-307838a3b637",
   "metadata": {},
   "outputs": [],
   "source": [
    "cov_mat2 = impt.fpfs.utils.fpfscov_to_imptcov(data)"
   ]
  },
  {
   "cell_type": "code",
   "execution_count": 92,
   "id": "8f66d1ce-c1d1-45d7-be24-bf75b9274c4e",
   "metadata": {},
   "outputs": [
    {
     "data": {
      "text/plain": [
       "Array(0.19156662, dtype=float64)"
      ]
     },
     "execution_count": 92,
     "metadata": {},
     "output_type": "execute_result"
    }
   ],
   "source": [
    "bnoise2=impt.BiasNoise(de1_dg1, jnp.array(cov_mat))\n",
    "jnp.sum(bnoise2.evaluate(cat))"
   ]
  },
  {
   "cell_type": "code",
   "execution_count": 93,
   "id": "280f9a2a-3526-41a7-a659-06aa3329e4b7",
   "metadata": {},
   "outputs": [
    {
     "data": {
      "text/plain": [
       "Array(0.19156663, dtype=float64)"
      ]
     },
     "execution_count": 93,
     "metadata": {},
     "output_type": "execute_result"
    }
   ],
   "source": [
    "bnoise2=impt.BiasNoise(de1_dg1, jnp.array(cov_mat2))\n",
    "jnp.sum(bnoise2.evaluate(cat))"
   ]
  },
  {
   "cell_type": "code",
   "execution_count": 94,
   "id": "78d0d4d5-e8d5-48c0-bd2b-09f4096613c4",
   "metadata": {},
   "outputs": [
    {
     "data": {
      "text/plain": [
       "FpfsParams(Const=2.0, lower_m00=3.5, sigma_m00=0.5, lower_r2=0.12, upper_r2=2.0, sigma_r2=0.3, lower_v=0.005, sigma_v=0.3)"
      ]
     },
     "execution_count": 94,
     "metadata": {},
     "output_type": "execute_result"
    }
   ],
   "source": [
    "params"
   ]
  },
  {
   "cell_type": "code",
   "execution_count": null,
   "id": "a0525a28-751e-4df2-9e64-7bbdd192074f",
   "metadata": {},
   "outputs": [],
   "source": []
  }
 ],
 "metadata": {
  "kernelspec": {
   "display_name": "Python 3 (ipykernel)",
   "language": "python",
   "name": "python3"
  },
  "language_info": {
   "codemirror_mode": {
    "name": "ipython",
    "version": 3
   },
   "file_extension": ".py",
   "mimetype": "text/x-python",
   "name": "python",
   "nbconvert_exporter": "python",
   "pygments_lexer": "ipython3",
   "version": "3.8.15"
  }
 },
 "nbformat": 4,
 "nbformat_minor": 5
}
