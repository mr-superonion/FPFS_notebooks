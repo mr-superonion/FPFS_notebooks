{
 "cells": [
  {
   "cell_type": "code",
   "execution_count": 1,
   "id": "d03db39a-a790-4037-b03e-87635e2d1f36",
   "metadata": {},
   "outputs": [],
   "source": [
    "%load_ext autoreload\n",
    "%autoreload 2\n",
    "%matplotlib inline\n",
    "\n",
    "\n",
    "import os, psutil\n",
    "import gc\n",
    "import fpfs\n",
    "import fitsio\n",
    "import galsim\n",
    "import logging\n",
    "import matplotlib.pylab as plt\n",
    "from astropy.visualization import simple_norm\n",
    "from mpl_toolkits.axes_grid1 import ImageGrid\n",
    "import numpy.lib.recfunctions as rfn\n",
    "\n",
    "import matplotlib as mpl\n",
    "mpl.rcParams['axes.linewidth'] = 2.0 #set the value globally\n",
    "process = psutil.Process(os.getpid())"
   ]
  },
  {
   "cell_type": "code",
   "execution_count": 3,
   "id": "5735e2a3-89d2-4f2f-934c-517e8771d357",
   "metadata": {},
   "outputs": [
    {
     "name": "stderr",
     "output_type": "stream",
     "text": [
      "2023/01/10 03:55:17 ---  Processing for g1-0000, and shears for four redshift bins are [-0.02 -0.02 -0.02 -0.02].\n"
     ]
    },
    {
     "name": "stdout",
     "output_type": "stream",
     "text": [
      "175.73828125 MB\n",
      "Making Basic Simulation. ID: 2\n",
      "177.70703125 MB\n"
     ]
    },
    {
     "data": {
      "image/png": "[encoded data removed]",
      "text/plain": [
       "<Figure size 432x288 with 1 Axes>"
      ]
     },
     "metadata": {
      "needs_background": "light"
     },
     "output_type": "display_data"
    }
   ],
   "source": [
    "gc.collect()\n",
    "print(process.memory_info().rss / 1024 ** 2, \"MB\")  # in bytes \n",
    "scale = 0.168\n",
    "outDir='galaxy_basicCenter_psf60'\n",
    "psfInt = galsim.Moffat(\n",
    "    beta=3.5, fwhm=0.6, trunc=0.6 * 4.0\n",
    ").shear(e1=0.02, e2=-0.02)\n",
    "psfData = psfInt.shift(0.5 * scale, 0.5 * scale).drawImage(nx=64, ny=64, scale=scale).array\n",
    "\n",
    "gal_data = fpfs.simutil.make_basic_sim(\n",
    "    outDir,psf_obj=psfInt,gname='g1-0000',\n",
    "    Id0=2,ny=64,nx=256, scale=scale,\n",
    "    do_write=False,return_array=True)\n",
    "plt.close()\n",
    "plt.imshow(gal_data,aspect='equal',cmap='RdYlBu_r',origin='lower',interpolation='None',\\\n",
    "             norm=simple_norm(gal_data,'asinh',asinh_a=0.1,min_cut=-0.01,max_cut=0.3))\n",
    "gc.collect()\n",
    "print(process.memory_info().rss / 1024 ** 2, \"MB\")  # in bytes "
   ]
  },
  {
   "cell_type": "code",
   "execution_count": 4,
   "id": "77386add-c2ca-4eb3-8212-22c818a25222",
   "metadata": {},
   "outputs": [
    {
     "name": "stdout",
     "output_type": "stream",
     "text": [
      "182.52734375 MB\n"
     ]
    }
   ],
   "source": [
    "rcut = 32\n",
    "\n",
    "# fake detection\n",
    "indX = np.arange(32, 256, 64)\n",
    "indY = np.arange(32, 64, 64)\n",
    "inds = np.meshgrid(indY, indX, indexing=\"ij\")\n",
    "coords = np.array(\n",
    "    np.zeros(inds[0].size),\n",
    "    dtype=[(\"fpfs_y\", \"i4\"), (\"fpfs_x\", \"i4\")],\n",
    ")\n",
    "coords[\"fpfs_y\"] = np.ravel(inds[0])\n",
    "coords[\"fpfs_x\"] = np.ravel(inds[1])\n",
    "imgList = [\n",
    "    gal_data[\n",
    "        cc[\"fpfs_y\"] - rcut : cc[\"fpfs_y\"] + rcut,\n",
    "        cc[\"fpfs_x\"] - rcut : cc[\"fpfs_x\"] + rcut,\n",
    "    ]\n",
    "    for cc in coords\n",
    "]\n",
    "\n",
    "print(process.memory_info().rss / 1024 ** 2, \"MB\")  # in bytes "
   ]
  },
  {
   "cell_type": "code",
   "execution_count": 5,
   "id": "cdb7bb27-e022-48d5-b246-50c8b60bb5df",
   "metadata": {},
   "outputs": [
    {
     "name": "stderr",
     "output_type": "stream",
     "text": [
      "2023/01/10 03:55:20 ---  Gaussian kernel in configuration space: sigma= 0.7000 arcsec\n",
      "2023/01/10 03:55:20 ---  measurement error covariance will be calculated\n"
     ]
    },
    {
     "name": "stdout",
     "output_type": "stream",
     "text": [
      "200.7265625 MB\n"
     ]
    }
   ],
   "source": [
    "fpTask  =   fpfs.image.measure_source(psfData, noise_ps=np.ones((rcut*2, rcut*2)), sigma_arcsec=0.7)\n",
    "mms =  fpTask.measure(imgList)\n",
    "ells=   fpfs.catalog.fpfs_m2e(mms,const=2000,noirev=False)\n",
    "resp=np.average(ells['fpfs_R1E'])\n",
    "shear=np.average(ells['fpfs_e1'])/resp\n",
    "print(process.memory_info().rss / 1024 ** 2, \"MB\")  # in bytes "
   ]
  }
 ],
 "metadata": {
  "kernelspec": {
   "display_name": "Python 3 (ipykernel)",
   "language": "python",
   "name": "python3"
  },
  "language_info": {
   "codemirror_mode": {
    "name": "ipython",
    "version": 3
   },
   "file_extension": ".py",
   "mimetype": "text/x-python",
   "name": "python",
   "nbconvert_exporter": "python",
   "pygments_lexer": "ipython3",
   "version": "3.8.15"
  }
 },
 "nbformat": 4,
 "nbformat_minor": 5
}
