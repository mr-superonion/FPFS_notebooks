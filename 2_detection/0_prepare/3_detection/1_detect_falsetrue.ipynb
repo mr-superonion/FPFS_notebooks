{
 "cells": [
  {
   "cell_type": "code",
   "execution_count": 1,
   "id": "a8916355-47a0-4b39-acac-edc5b66b6a0f",
   "metadata": {},
   "outputs": [
    {
     "name": "stdout",
     "output_type": "stream",
     "text": [
      "Populating the interactive namespace from numpy and matplotlib\n",
      "Do not have lsst pipeline!\n"
     ]
    }
   ],
   "source": [
    "%pylab inline\n",
    "%load_ext autoreload\n",
    "%autoreload 1\n",
    "\n",
    "import gc\n",
    "import numpy as np\n",
    "from fpfs import simutil\n",
    "import scipy.ndimage as ndi\n",
    "import matplotlib.pylab as plt\n",
    "import astropy.io.fits as pyfits\n",
    "from fpfs.imgutil import gauss_kernel\n",
    "\n",
    "import pdet\n",
    "%aimport pdet\n",
    "import pltutil"
   ]
  },
  {
   "cell_type": "code",
   "execution_count": 47,
   "id": "77fdb670-738b-4c27-a076-7e2ab5dcdb29",
   "metadata": {},
   "outputs": [],
   "source": [
    "ishear=1\n",
    "igroup=1\n",
    "do_plot=False\n",
    "ngrid=64\n",
    "if igroup>=0:\n",
    "    ngal=100\n",
    "    img1=pyfits.getdata('../../sim/galaxy_basicCenter_psf60/image-%d-g%d-0000.fits' %(igroup,ishear))\n",
    "    img2=pyfits.getdata('../../sim/galaxy_basicCenter_psf60/image-%d-g%d-2222.fits' %(igroup,ishear))\n",
    "else:\n",
    "    ngal=1\n",
    "    img1=simutil.make_basic_sim('basicCenter_psf60','g%d-1111' %ishear,0,ny=ngal,nx=ngal,do_write=False)\n",
    "    img2=simutil.make_basic_sim('basicCenter_psf60','g%d-2222' %ishear,0,ny=ngal,nx=ngal,do_write=False)\n",
    "ngrid2=ngrid*ngal\n",
    "\n",
    "# PSF\n",
    "psf=pyfits.getdata('../../sim/galaxy_basic_psf60/psf-60.fits')\n",
    "npad       =   (ngrid2-psf.shape[0])//2\n",
    "psfData    =   np.pad(psf,(npad+1,npad),mode='constant')\n",
    "assert psfData.shape[0]==ngrid2\n",
    "psfF=np.fft.fft2(np.fft.ifftshift(psfData))"
   ]
  },
  {
   "cell_type": "code",
   "execution_count": 3,
   "id": "770f7e81-b9ba-4a73-a0e5-ba90d8f48601",
   "metadata": {},
   "outputs": [
    {
     "name": "stdout",
     "output_type": "stream",
     "text": [
      "2.5464790894703255\n"
     ]
    },
    {
     "data": {
      "text/plain": [
       "47"
      ]
     },
     "execution_count": 3,
     "metadata": {},
     "output_type": "execute_result"
    }
   ],
   "source": [
    "gsigma=4.*2.*np.pi/64\n",
    "print(1/gsigma)\n",
    "gKer,grids=gauss_kernel(ngrid2,ngrid2,gsigma,return_grid=True)\n",
    "imgF1=np.fft.fft2(img1)/psfF*gKer\n",
    "imgF2=np.fft.fft2(img2)/psfF*gKer\n",
    "imgCov1=np.fft.ifft2(imgF1).real\n",
    "imgCov2=np.fft.ifft2(imgF2).real\n",
    "gc.collect()"
   ]
  },
  {
   "cell_type": "code",
   "execution_count": 4,
   "id": "770e5789-ff34-4b45-be89-2b6b48757761",
   "metadata": {},
   "outputs": [],
   "source": [
    "indX=np.arange(32,6400,64)\n",
    "indY=np.arange(32,6400,64)\n",
    "inds    =   np.meshgrid(indY,indX,indexing='ij')\n",
    "coords  =   np.array(np.zeros(inds[0].size),dtype=[('pdet_y','i4'),('pdet_x','i4')])\n",
    "yid=   np.ravel(inds[0])\n",
    "xid=   np.ravel(inds[1])"
   ]
  },
  {
   "cell_type": "code",
   "execution_count": 5,
   "id": "19b028c7-a8e3-4fa7-9894-effcdce12612",
   "metadata": {},
   "outputs": [
    {
     "name": "stdout",
     "output_type": "stream",
     "text": [
      "10000\n"
     ]
    },
    {
     "data": {
      "text/plain": [
       "30"
      ]
     },
     "execution_count": 5,
     "metadata": {},
     "output_type": "execute_result"
    },
    {
     "data": {
      "image/png": "[encoded data removed]",
      "text/plain": [
       "<Figure size 432x288 with 1 Axes>"
      ]
     },
     "metadata": {
      "needs_background": "light"
     },
     "output_type": "display_data"
    }
   ],
   "source": [
    "val0=imgCov1[yid,xid]\n",
    "print(len(val0))\n",
    "plt.close()\n",
    "plt.hist(val0,bins=50)\n",
    "plt.yscale('log')\n",
    "gc.collect()"
   ]
  },
  {
   "cell_type": "code",
   "execution_count": 7,
   "id": "1ce461b7-3457-4cf9-be4a-7d02ee18ce4b",
   "metadata": {},
   "outputs": [
    {
     "data": {
      "text/plain": [
       "12745"
      ]
     },
     "execution_count": 7,
     "metadata": {},
     "output_type": "execute_result"
    },
    {
     "data": {
      "image/png": "[encoded data removed]",
      "text/plain": [
       "<Figure size 432x288 with 1 Axes>"
      ]
     },
     "metadata": {
      "needs_background": "light"
     },
     "output_type": "display_data"
    }
   ],
   "source": [
    "fp= np.array([[0.,1./4,0.],[1./4,0.,1./4],[0.,1./4,0.]])\n",
    "fimg1  = ndi.convolve(imgCov1,weights=fp,mode='constant')\n",
    "val1 = fimg1[yid,xid]\n",
    "plt.close()\n",
    "plt.hist(val0/val1,bins=50)\n",
    "plt.yscale('log')\n",
    "gc.collect()"
   ]
  },
  {
   "cell_type": "code",
   "execution_count": 8,
   "id": "ecce385d-4ebc-4383-8a24-4f12dbf94730",
   "metadata": {},
   "outputs": [
    {
     "data": {
      "text/plain": [
       "11751"
      ]
     },
     "execution_count": 8,
     "metadata": {},
     "output_type": "execute_result"
    },
    {
     "data": {
      "image/png": "[encoded data removed]",
      "text/plain": [
       "<Figure size 432x288 with 1 Axes>"
      ]
     },
     "metadata": {
      "needs_background": "light"
     },
     "output_type": "display_data"
    }
   ],
   "source": [
    "fp= np.array([[1./4,0.,1./4],[0.,0.,0.],[1./4,0.,1./4]])\n",
    "fimg2  = ndi.convolve(imgCov1,weights=fp,mode='constant')\n",
    "val2 = fimg2[yid,xid]\n",
    "plt.close()\n",
    "plt.hist((val0/5.+val1*4/5.)/val2,bins=50)\n",
    "plt.yscale('log')\n",
    "gc.collect()"
   ]
  },
  {
   "cell_type": "code",
   "execution_count": 42,
   "id": "65b6d15d-a54f-4055-9094-d5d71d65881f",
   "metadata": {},
   "outputs": [
    {
     "data": {
      "text/plain": [
       "<matplotlib.collections.PathCollection at 0x2ae994a1e790>"
      ]
     },
     "execution_count": 42,
     "metadata": {},
     "output_type": "execute_result"
    },
    {
     "data": {
      "image/png": "[encoded data removed]",
      "text/plain": [
       "<Figure size 432x288 with 1 Axes>"
      ]
     },
     "metadata": {
      "needs_background": "light"
     },
     "output_type": "display_data"
    }
   ],
   "source": [
    "plt.scatter(val0-val1,val0/5.+val1*4./5.-val2,s=0.1)"
   ]
  },
  {
   "cell_type": "code",
   "execution_count": 10,
   "id": "07da4797-41d6-441c-9a94-5d46f9b82e68",
   "metadata": {},
   "outputs": [
    {
     "data": {
      "image/png": "[encoded data removed]",
      "text/plain": [
       "<Figure size 432x288 with 1 Axes>"
      ]
     },
     "metadata": {
      "needs_background": "light"
     },
     "output_type": "display_data"
    }
   ],
   "source": [
    "_=plt.hist(val0-val1*1.04,bins=50,range=(-0.02,0.2))\n",
    "plt.yscale('log')"
   ]
  },
  {
   "cell_type": "code",
   "execution_count": 33,
   "id": "59914c0d-1e86-4b55-9f5b-1ef060f90016",
   "metadata": {},
   "outputs": [
    {
     "name": "stdout",
     "output_type": "stream",
     "text": [
      "469894 5910\n"
     ]
    },
    {
     "data": {
      "image/png": "[encoded data removed]",
      "text/plain": [
       "<Figure size 432x288 with 1 Axes>"
      ]
     },
     "metadata": {
      "needs_background": "light"
     },
     "output_type": "display_data"
    }
   ],
   "source": [
    "msk1=imgCov1>0.2\n",
    "mskv1=(val0>0.2)\n",
    "print(np.sum(msk1),np.sum(mskv1))\n",
    "plt.close()\n",
    "plt.hist(imgCov1[msk1]-1.04*fimg1[msk1],bins=50,alpha=0.3,histtype='step',range=(-0.1,0.8))\n",
    "plt.hist(val0[mskv1]-1.04*val1[mskv1],bins=50,alpha=0.5,histtype='step',range=(-0.1,0.8))\n",
    "plt.yscale('log')"
   ]
  },
  {
   "cell_type": "code",
   "execution_count": 41,
   "id": "43be86e5-a2a8-4fca-b714-426979f702a6",
   "metadata": {},
   "outputs": [
    {
     "name": "stdout",
     "output_type": "stream",
     "text": [
      "9872\n",
      "599\n"
     ]
    },
    {
     "data": {
      "image/png": "[encoded data removed]",
      "text/plain": [
       "<Figure size 432x288 with 1 Axes>"
      ]
     },
     "metadata": {
      "needs_background": "light"
     },
     "output_type": "display_data"
    }
   ],
   "source": [
    "msk2=msk1&((imgCov1-1.00*fimg1)>0.1)\n",
    "print(np.sum(msk2))\n",
    "mskv2=mskv1&((val0-1.00*val1)>0.1)\n",
    "print(np.sum(mskv2))\n",
    "plt.close()\n",
    "_=plt.hist((imgCov1[msk2]/5.+fimg1[msk2]*4/5.)-fimg2[msk2],bins=50,alpha=0.3,histtype='step',range=(-0.1,0.8))\n",
    "_=plt.hist((val0[mskv2]/5.+val1[mskv2]*4/5.)-val2[mskv2],bins=50,alpha=0.3,histtype='step',range=(-0.1,0.8))\n",
    "plt.yscale('log')"
   ]
  },
  {
   "cell_type": "code",
   "execution_count": 45,
   "id": "fea78dd6-ad8c-49ab-9971-87eed21f262c",
   "metadata": {},
   "outputs": [
    {
     "data": {
      "text/plain": [
       "<matplotlib.collections.PathCollection at 0x2ae997119f10>"
      ]
     },
     "execution_count": 45,
     "metadata": {},
     "output_type": "execute_result"
    },
    {
     "data": {
      "image/png": "[encoded data removed]",
      "text/plain": [
       "<Figure size 432x288 with 1 Axes>"
      ]
     },
     "metadata": {
      "needs_background": "light"
     },
     "output_type": "display_data"
    }
   ],
   "source": [
    "plt.scatter((imgCov1[msk1]/5.+fimg1[msk1]*4/5.-fimg2[msk1])/fimg2[msk1],(imgCov1[msk1]-1.0*fimg1[msk1])/fimg1[msk1],s=0.01)"
   ]
  },
  {
   "cell_type": "code",
   "execution_count": null,
   "id": "6b06c227-aaea-476e-99ab-d42b5d38442d",
   "metadata": {},
   "outputs": [],
   "source": [
    "%%time\n",
    "out=pdet.detect_coords(imgCov1,1.)"
   ]
  }
 ],
 "metadata": {
  "kernelspec": {
   "display_name": "Python 3 (ipykernel)",
   "language": "python",
   "name": "python3"
  },
  "language_info": {
   "codemirror_mode": {
    "name": "ipython",
    "version": 3
   },
   "file_extension": ".py",
   "mimetype": "text/x-python",
   "name": "python",
   "nbconvert_exporter": "python",
   "pygments_lexer": "ipython3",
   "version": "3.7.12"
  }
 },
 "nbformat": 4,
 "nbformat_minor": 5
}
