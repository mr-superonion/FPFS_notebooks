{
 "cells": [
  {
   "cell_type": "code",
   "execution_count": 1,
   "id": "a8916355-47a0-4b39-acac-edc5b66b6a0f",
   "metadata": {},
   "outputs": [
    {
     "name": "stdout",
     "output_type": "stream",
     "text": [
      "Populating the interactive namespace from numpy and matplotlib\n",
      "Do not have lsst pipeline!\n"
     ]
    }
   ],
   "source": [
    "%pylab inline\n",
    "\n",
    "import gc\n",
    "import fpfs\n",
    "import numpy as np\n",
    "import matplotlib.pylab as plt\n",
    "import astropy.io.fits as pyfits\n",
    "from fpfs.imgutil import gauss_kernel\n",
    "from fpfs import simutil"
   ]
  },
  {
   "cell_type": "code",
   "execution_count": 2,
   "id": "2703f65b-005d-452b-9b1b-5aca49a5a3b9",
   "metadata": {},
   "outputs": [],
   "source": [
    "def test_randomref(igroup=0,do_plot=False):\n",
    "    ngrid=64\n",
    "    if igroup>=0:\n",
    "        ngal=100\n",
    "        img1=pyfits.getdata('../../FPFS2/sim/galaxy_basicShift_psf60/image-%d-g1-0000.fits' %igroup)\n",
    "        img2=pyfits.getdata('../../FPFS2/sim/galaxy_basicShift_psf60/image-%d-g1-2222.fits' %igroup)\n",
    "    else:\n",
    "        ngal=20\n",
    "        img1=simutil.make_basic_sim('basicShift_psf60','g1-0000',0,ny=ngal,nx=ngal,do_write=False)\n",
    "        img2=simutil.make_basic_sim('basicShift_psf60','g1-2222',0,ny=ngal,nx=ngal,do_write=False)\n",
    "    ngrid2=ngrid*ngal\n",
    "\n",
    "    # PSF\n",
    "    psf=pyfits.getdata('../../FPFS2/sim/galaxy_basic_psf60/psf-60.fits')\n",
    "    npad       =   (ngrid2-psf.shape[0])//2\n",
    "    psfData    =   np.pad(psf,(npad+1,npad),mode='constant')\n",
    "    assert psfData.shape[0]==ngrid2\n",
    "    psfF=np.fft.fft2(np.fft.ifftshift(psfData))\n",
    "    gsigma=3.*2.*np.pi/64\n",
    "    x   = np.fft.fftfreq(ngrid2,1/np.pi/2.)\n",
    "\n",
    "    gKer,grids=gauss_kernel(ngrid2,ngrid2,gsigma,return_grid=True)\n",
    "    k2grid,k1grid=grids\n",
    "\n",
    "    imgF1=np.fft.fft2(img1)/psfF*gKer\n",
    "    imgFQA1=imgF1*(k1grid**2.-k2grid**2.)/gsigma**2.\n",
    "    imgFQB1=imgF1*(2.*k1grid*k2grid)/gsigma**2.\n",
    "    imgFDA1=imgF1*(-1j*k1grid)\n",
    "    imgFDB1=imgF1*(-1j*k2grid)\n",
    "\n",
    "    imgF2=np.fft.fft2(img2)/psfF*gKer\n",
    "    imgFQA2=imgF2*(k1grid**2.-k2grid**2.)/gsigma**2.\n",
    "    imgFQB2=imgF2*(2.*k1grid*k2grid)/gsigma**2.\n",
    "    imgFDA2=imgF2*(-1j*k1grid)\n",
    "    imgFDB2=imgF2*(-1j*k2grid)\n",
    "\n",
    "    imgCov1=np.fft.ifft2(imgF1).real\n",
    "    imgCovQA1=np.fft.ifft2(imgFQA1).real\n",
    "    imgCovQB1=np.fft.ifft2(imgFQB1).real\n",
    "    imgCovDA1=np.fft.ifft2(imgFDA1).real\n",
    "    imgCovDB1=np.fft.ifft2(imgFDB1).real\n",
    "\n",
    "    imgCov2=np.fft.ifft2(imgF2).real\n",
    "    imgCovQA2=np.fft.ifft2(imgFQA2).real\n",
    "    imgCovQB2=np.fft.ifft2(imgFQB2).real\n",
    "    imgCovDA2=np.fft.ifft2(imgFDA2).real\n",
    "    imgCovDB2=np.fft.ifft2(imgFDB2).real\n",
    "\n",
    "    if do_plot:\n",
    "        y1grid,x1grid = np.meshgrid(np.fft.fftfreq(ngrid,1/ngrid),np.fft.fftfreq(ngrid,1/ngrid),indexing='ij')\n",
    "        x1grid=np.fft.fftshift(x1grid)\n",
    "        y1grid=np.fft.fftshift(y1grid)\n",
    "\n",
    "        dpad=0\n",
    "        ii=1;jj=2\n",
    "        fig=plt.figure(figsize=(10,5))\n",
    "        ax=fig.add_subplot(1,2,1)\n",
    "        ax.imshow(img1[jj*64+dpad:(jj+1)*64-dpad,ii*64+dpad:(ii+1)*64-dpad],origin='lower',cmap='gray')\n",
    "        ax.set_axis_off()\n",
    "        ax=fig.add_subplot(1,2,2)\n",
    "        ax.imshow(imgCov1[jj*64+dpad:(jj+1)*64-dpad,ii*64+dpad:(ii+1)*64-dpad],origin='lower',cmap='gray')\n",
    "        ax.set_axis_off()\n",
    "        plt.tight_layout()\n",
    "        print(np.sum(img1[jj*64:(jj+1)*64,ii*64:(ii+1)*64]*x1grid)/np.sum(img1[jj*64:(jj+1)*64,ii*64:(ii+1)*64]))\n",
    "        print(np.sum(img1[jj*64:(jj+1)*64,ii*64:(ii+1)*64]*y1grid)/np.sum(img1[jj*64:(jj+1)*64,ii*64:(ii+1)*64]))\n",
    "\n",
    "    indX=np.arange(32,6400,64)\n",
    "    indY=np.arange(32,6400,64)\n",
    "    ind1=np.ix_(indY,indX)\n",
    "    ind2=np.ix_(indY,indX)\n",
    "\n",
    "    res1=imgCovQA1[ind1]#+0.5*imgCovDA1[ind1]-0.5*imgCovDB1[ind1]\n",
    "    res2=imgCovQA2[ind2]#+0.5*imgCovDA2[ind2]-0.5*imgCovDB2[ind2]\n",
    "    response=np.average((res1+res2)/2.)\n",
    "    meas1=imgCov1[ind1]\n",
    "    meas2=imgCov2[ind2]\n",
    "    resEst=np.average((meas2-meas1)/0.04)\n",
    "    return response,resEst"
   ]
  },
  {
   "cell_type": "code",
   "execution_count": 3,
   "id": "d7b6fd3a-761f-4c78-99b1-149c862ee618",
   "metadata": {},
   "outputs": [
    {
     "name": "stdout",
     "output_type": "stream",
     "text": [
      "-0.0029949521015140354 -0.006001904047995989\n",
      "-6.378113201004889e-05 -0.0001235239137412898\n",
      "-0.0007509245387564684 -0.0008341029221364833\n",
      "0.0013427508426418647 0.0013817783648005714\n",
      "-0.0018698310505889893 -0.0019213686428783574\n",
      "0.0012432690780327202 0.0012397832795154012\n",
      "-0.0012131909697602515 -0.0012312740041108443\n",
      "0.0003966040440720528 0.00045090604777084066\n",
      "0.0029722435802117396 0.003035668070598624\n",
      "0.00011963491954804249 0.00011909398008121527\n"
     ]
    }
   ],
   "source": [
    "resAll=[]\n",
    "resEstAll=[]\n",
    "for ii in range(10):\n",
    "    r,rEst=test_randomref(igroup=ii,do_plot=False)\n",
    "    print(r,rEst)\n",
    "    resAll.append(r)\n",
    "    resEstAll.append(rEst)\n",
    "    del r,rEst\n",
    "    gc.collect()"
   ]
  },
  {
   "cell_type": "code",
   "execution_count": null,
   "id": "e825eade-dc63-4188-b20d-e2682ceeca42",
   "metadata": {},
   "outputs": [
    {
     "data": {
      "image/png": "[encoded data removed]",
      "text/plain": [
       "<Figure size 432x288 with 1 Axes>"
      ]
     },
     "metadata": {
      "needs_background": "light"
     },
     "output_type": "display_data"
    }
   ],
   "source": [
    "plt.hist(np.ravel(imgCov1),bins=100)\n",
    "plt.yscale('log')"
   ]
  }
 ],
 "metadata": {
  "kernelspec": {
   "display_name": "Python 3 (ipykernel)",
   "language": "python",
   "name": "python3"
  },
  "language_info": {
   "codemirror_mode": {
    "name": "ipython",
    "version": 3
   },
   "file_extension": ".py",
   "mimetype": "text/x-python",
   "name": "python",
   "nbconvert_exporter": "python",
   "pygments_lexer": "ipython3",
   "version": "3.8.13"
  }
 },
 "nbformat": 4,
 "nbformat_minor": 5
}
