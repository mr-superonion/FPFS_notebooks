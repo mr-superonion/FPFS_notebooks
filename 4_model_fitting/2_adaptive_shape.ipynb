{
 "cells": [
  {
   "cell_type": "code",
   "execution_count": 60,
   "id": "0f13d5a5-89e5-42c7-88a7-e05b57480fd1",
   "metadata": {},
   "outputs": [],
   "source": [
    "%matplotlib inline\n",
    "import jax\n",
    "import jax.numpy as jnp\n",
    "\n",
    "import galsim\n",
    "import numpy as np\n",
    "import proplot as pplt\n",
    "from fpfs.imgutil import gauss_kernel"
   ]
  },
  {
   "cell_type": "code",
   "execution_count": 91,
   "id": "de48b977-905d-4f14-ae11-2f3fb69b172e",
   "metadata": {},
   "outputs": [],
   "source": [
    "def _adaptive_shape_kern(im, sigma2):\n",
    "    half = ngrid//2\n",
    "    y, x = jnp.mgrid[:ngrid, :ngrid]\n",
    "    y = y - half\n",
    "    x = x - half\n",
    "    \n",
    "    kern = jnp.exp(\n",
    "        -0.5 * x * x / sigma2\n",
    "        -0.5 * y * y / sigma2\n",
    "    )\n",
    "    \n",
    "    norm = jnp.sum(im * kern)\n",
    "    mx2 = jnp.sum(x * x * kern * im) / norm\n",
    "    my2 = jnp.sum(y * y * kern * im) / norm\n",
    "\n",
    "    \n",
    "    # It seems that there is many nonlinearity in these operation;\n",
    "    # Let's see whether we need something modifications to the below equation\n",
    "    # adaptive moments has this deweighting thing\n",
    "    # I got this snippet out of ngmix\n",
    "    idetm = 1.0 / (mx2 * my2)\n",
    "    idetw = 1.0 / sigma2 / sigma2\n",
    "    Nrr = mx2*idetm - sigma2*idetw  # Nrr = Icc*idetm - Wcc*idetw\n",
    "    Ncc = my2*idetm - sigma2*idetw  # Ncc = Irr*idetm - Wrr*idetw\n",
    "    detn = Nrr*Ncc\n",
    "\n",
    "    # now set from the inverted matrix\n",
    "    idetn = 1.0/detn\n",
    "    mx2 = Ncc*idetn\n",
    "    my2 = Nrr*idetn\n",
    "    \n",
    "    new_sigma2 = (mx2 + my2)/2.0\n",
    "    \n",
    "    return new_sigma2\n",
    "\n",
    "\n",
    "def dumb_adaptive_thing(im):\n",
    "    # adapitve size\n",
    "    sigma2 = (2.0/0.2/2.355)**2\n",
    "    for _ in range(10):\n",
    "        sigma2 = _adaptive_shape_kern(im, sigma2)\n",
    "            \n",
    "    # then shapes\n",
    "    half = ngrid//2\n",
    "    y, x = jnp.mgrid[:ngrid, :ngrid]\n",
    "    y = y - half\n",
    "    x = x - half\n",
    "    kern = jnp.exp(\n",
    "        -0.5 * x * x / sigma2\n",
    "        -0.5 * y * y / sigma2\n",
    "    )\n",
    "    norm = jnp.sum(im * kern)\n",
    "    mx2 = jnp.sum(x * x * kern * im) / norm\n",
    "    my2 = jnp.sum(y * y * kern * im) / norm\n",
    "    mxy = jnp.sum(x * y * kern * im) / norm\n",
    "    \n",
    "    meas = jnp.array([(mx2+my2)/2., (mx2-my2)/2., mxy])\n",
    "    return meas\n",
    "\n",
    "\n",
    "# Adaptive size estimation and its derivatives\n",
    "meas_fun = jax.jit(dumb_adaptive_thing)\n",
    "meas_deriv = jax.jit(jax.jacfwd(dumb_adaptive_thing))\n",
    "\n",
    "# Gaussian Smoothing\n",
    "def get_smooth_img(im, smooth_scale_fourier=2.5):\n",
    "    gsigma=smooth_scale_fourier*2.*np.pi/ngrid\n",
    "    gKer, (k2grid,k1grid) =gauss_kernel(ngrid,ngrid,gsigma,return_grid=True)\n",
    "    # convolution\n",
    "    imF=np.fft.fft2(im)*gKer\n",
    "    # back to configuration space\n",
    "    imCov=np.fft.ifft2(imF).real\n",
    "    return imCov\n",
    "    \n",
    "# pixel response in Li & Mandelbaum 2023\n",
    "def get_shear_response(im, smooth_scale_fourier=2.5):\n",
    "    gsigma=smooth_scale_fourier*2.*np.pi/ngrid\n",
    "    gKer, (k2grid,k1grid) =gauss_kernel(ngrid,ngrid,gsigma,return_grid=True)\n",
    "    # convolution\n",
    "    imF=np.fft.fft2(im)*gKer\n",
    "    # shear response of smoothed image\n",
    "    imFQA=imF*(k1grid**2.-k2grid**2.)/gsigma**2.\n",
    "    imFQB=imF*(2.*k1grid*k2grid)/gsigma**2.\n",
    "    imFDA=imF*(-1j*k1grid)\n",
    "    imFDB=imF*(-1j*k2grid)\n",
    "    \n",
    "    # back to configuration space\n",
    "    imCov=np.fft.ifft2(imF).real\n",
    "    imCovQA=np.fft.ifft2(imFQA).real\n",
    "    imCovQB=np.fft.ifft2(imFQB).real\n",
    "    imCovDA=np.fft.ifft2(imFDA).real\n",
    "    imCovDB=np.fft.ifft2(imFDB).real\n",
    "    ygrid,xgrid = np.meshgrid(np.fft.fftfreq(ngrid,1/ngrid),np.fft.fftfreq(ngrid,1/ngrid),indexing='ij')\n",
    "    xgrid=np.fft.fftshift(xgrid)\n",
    "    ygrid=np.fft.fftshift(ygrid)\n",
    "    return imCovQA+xgrid*imCovDA-ygrid*imCovDB"
   ]
  },
  {
   "cell_type": "code",
   "execution_count": 92,
   "id": "8f409736-8707-48e7-8125-55eae7943fb7",
   "metadata": {},
   "outputs": [],
   "source": [
    "# image\n",
    "ngrid = 16\n",
    "obj = galsim.Exponential(half_light_radius=2.).shear(e1=0.1, e2=-0.14).shear(g1=0.03)\n",
    "im = obj.shift(0.5,0.5).drawImage(nx=ngrid, ny=ngrid, scale=1, method = 'no_pixel').array\n",
    "im_sm = get_smooth_img(im)"
   ]
  },
  {
   "cell_type": "code",
   "execution_count": 94,
   "id": "8dac815d-108e-4f02-8bad-1cc61f9dc209",
   "metadata": {},
   "outputs": [
    {
     "name": "stdout",
     "output_type": "stream",
     "text": [
      "CPU times: user 10.1 ms, sys: 2.9 ms, total: 13 ms\n",
      "Wall time: 5.18 ms\n"
     ]
    }
   ],
   "source": [
    "%%time\n",
    "im_sr = get_shear_response(im)\n",
    "mm = meas_fun(im_sm)\n",
    "dmm_dpix = meas_deriv(im_sm)\n",
    "dmm_dg = jnp.sum(dmm_dpix*im_sr, axis= (1,2))"
   ]
  },
  {
   "cell_type": "code",
   "execution_count": 95,
   "id": "bb3e63a4-3927-450f-905c-363ad8da6968",
   "metadata": {},
   "outputs": [
    {
     "data": {
      "text/plain": [
       "Text(0.5, 1.0, '$\\\\mathrm{d}f_x/\\\\mathrm{d} \\\\gamma_1$')"
      ]
     },
     "execution_count": 95,
     "metadata": {},
     "output_type": "execute_result"
    },
    {
     "data": {
      "image/png": "[encoded data removed]",
      "text/plain": [
       "Figure(nrows=1, ncols=3, refwidth=2.5)"
      ]
     },
     "metadata": {
      "image/png": {
       "height": 317,
       "width": 820
      }
     },
     "output_type": "display_data"
    }
   ],
   "source": [
    "pplt.close()\n",
    "fig, axs = pplt.subplots(ncols=3, nrows=1)\n",
    "axs[0].imshow(dmm_dpix[0], origin=\"lower\", cmap=\"rocket\")\n",
    "axs[0].set_title(\"$\\mathrm{d}\\sigma^2/\\mathrm{d}f_x$\", fontsize = 20)\n",
    "\n",
    "axs[1].imshow(dmm_dpix[1], origin=\"lower\", cmap=\"rocket\")\n",
    "axs[1].set_title(\"$\\mathrm{d}M_1/\\mathrm{d}f_x$\", fontsize = 20)\n",
    "\n",
    "axs[2].imshow(im_sr, origin=\"lower\", cmap=\"rocket\")\n",
    "axs[2].set_title(\"$\\mathrm{d}f_x/\\mathrm{d} \\gamma_1$\", fontsize = 20)"
   ]
  },
  {
   "cell_type": "code",
   "execution_count": 97,
   "id": "e6f1c8da-281d-492e-8d89-5c87c6a6ff88",
   "metadata": {},
   "outputs": [
    {
     "name": "stdout",
     "output_type": "stream",
     "text": [
      "0.00246487028550213\n",
      "0.0005189602081405731\n",
      "-0.0003394740171742683\n",
      "-0.0006963857495930759\n",
      "-0.00048222399043662545\n",
      "CPU times: user 285 ms, sys: 23.6 ms, total: 309 ms\n",
      "Wall time: 53.5 ms\n"
     ]
    }
   ],
   "source": [
    "%%time\n",
    "ngrid = 32\n",
    "mbias_list =[]\n",
    "hlr_list = np.array([2.,2.5,3.,3.5,4.])\n",
    "for hlr in hlr_list: \n",
    "    # image\n",
    "    obj = galsim.Exponential(half_light_radius=hlr).shear(g1=0.03)#.shear(e1=0.1, e2=-0.14)\n",
    "    im = obj.shift(0.5,0.5).drawImage(nx=ngrid, ny=ngrid, scale=1, method = 'no_pixel').array\n",
    "    im_sm = get_smooth_img(im)\n",
    "    im_sr = get_shear_response(im)\n",
    "    mm = meas_fun(im_sm)\n",
    "    dmm_dpix = meas_deriv(im_sm)\n",
    "    dmm_dg = jnp.sum(dmm_dpix*im_sr, axis= (1,2))\n",
    "    mbias = mm[1]/dmm_dg[1]/0.03-1\n",
    "    print(mbias)\n",
    "    mbias_list.append(mbias)\n",
    "mbias_list = np.array(mbias_list)"
   ]
  },
  {
   "cell_type": "code",
   "execution_count": null,
   "id": "5d4a6f24-e72f-4e00-9b42-f32f24afce76",
   "metadata": {},
   "outputs": [],
   "source": [
    "pplt.close()\n",
    "fig, axs = pplt.subplots(ncols=1, nrows=1)\n",
    "axs[0].plot(hlr_list, mbias_list)\n",
    "axs[0].set_xlabel('HLR of exponential galaxy')\n",
    "axs[0].set_ylabel('Multiplicative bias')"
   ]
  },
  {
   "cell_type": "code",
   "execution_count": null,
   "id": "ef0ca647-7141-4869-b104-1c6665e2ce4c",
   "metadata": {},
   "outputs": [],
   "source": []
  },
  {
   "cell_type": "code",
   "execution_count": null,
   "id": "bdfc4251-6071-495b-8ea2-9b05eb7dfbe1",
   "metadata": {},
   "outputs": [],
   "source": []
  }
 ],
 "metadata": {
  "kernelspec": {
   "display_name": "Python 3 (ipykernel)",
   "language": "python",
   "name": "python3"
  },
  "language_info": {
   "codemirror_mode": {
    "name": "ipython",
    "version": 3
   },
   "file_extension": ".py",
   "mimetype": "text/x-python",
   "name": "python",
   "nbconvert_exporter": "python",
   "pygments_lexer": "ipython3",
   "version": "3.10.6"
  }
 },
 "nbformat": 4,
 "nbformat_minor": 5
}
