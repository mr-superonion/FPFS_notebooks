{
 "cells": [
  {
   "cell_type": "code",
   "execution_count": 8,
   "id": "a8916355-47a0-4b39-acac-edc5b66b6a0f",
   "metadata": {},
   "outputs": [
    {
     "name": "stdout",
     "output_type": "stream",
     "text": [
      "Populating the interactive namespace from numpy and matplotlib\n"
     ]
    },
    {
     "name": "stderr",
     "output_type": "stream",
     "text": [
      "/lustre/work/xiangchong.li/ana/miniconda3/envs/cosmosis-mpich/lib/python3.7/site-packages/IPython/core/magics/pylab.py:160: UserWarning: pylab import has clobbered these variables: ['plt']\n",
      "`%matplotlib` prevents importing * from pylab and numpy\n",
      "  \"\\n`%matplotlib` prevents importing * from pylab and numpy\"\n"
     ]
    }
   ],
   "source": [
    "%pylab inline\n",
    "\n",
    "import gc\n",
    "import fpfs\n",
    "import numpy as np\n",
    "import matplotlib.pylab as plt\n",
    "import astropy.io.fits as pyfits\n",
    "from fpfs.imgutil import gauss_kernel"
   ]
  },
  {
   "cell_type": "code",
   "execution_count": 12,
   "id": "51ae54d0-8a6a-4978-ac71-36f6a5e8b1d4",
   "metadata": {},
   "outputs": [],
   "source": [
    "ngrid=64\n",
    "ngrid2=ngrid*1\n",
    "psf=pyfits.getdata('../../FPFS2/sim/galaxy_basic_psf60/psf-60.fits')\n",
    "if True:\n",
    "    imgAll1=pyfits.getdata('../../FPFS2/sim/galaxy_basic_psf60/image-0-g1-0000.fits')\n",
    "    imgAll2=pyfits.getdata('../../FPFS2/sim/galaxy_basic_psf60/image-0-g1-2222.fits')\n",
    "else:\n",
    "    pass\n",
    "    \n",
    "# PSF\n",
    "npad          =   (ngrid2-psf.shape[0])//2\n",
    "psfData    =   np.pad(psf,(npad+1,npad),mode='constant')\n",
    "assert psfData.shape[0]==ngrid2\n",
    "psfF=np.fft.fft2(np.fft.ifftshift(psfData))"
   ]
  },
  {
   "cell_type": "code",
   "execution_count": 28,
   "id": "77f2c9e4-0be4-4fca-b51b-6f5d105093fe",
   "metadata": {},
   "outputs": [],
   "source": [
    "def test_knowref(img1,img2,psfF,do_plot=False):\n",
    "    # prepare the Gaussian smoothing kernel\n",
    "    gsigma=2.5*2.*np.pi/64\n",
    "    gKer,grids=gauss_kernel(ngrid2,ngrid2,gsigma,return_grid=True)\n",
    "    k2grid,k1grid=grids\n",
    "    imgF1=(np.fft.fft2(img1)/psfF)*gKer\n",
    "    imgFQA1=imgF1*(k1grid**2.-k2grid**2.)/gsigma**2.\n",
    "    imgFQB1=imgF1*(2.*k1grid*k2grid)/gsigma**2.\n",
    "    imgFDA1=imgF1*(-1j*k1grid)\n",
    "    imgFDB1=imgF1*(-1j*k2grid)\n",
    "\n",
    "    imgF2=(np.fft.fft2(img2)/psfF)*gKer\n",
    "    imgFQA2=imgF2*(k1grid**2.-k2grid**2.)/gsigma**2.\n",
    "    imgFQB2=imgF2*(2.*k1grid*k2grid)/gsigma**2.\n",
    "    imgFDA2=imgF2*(-1j*k1grid)\n",
    "    imgFDB2=imgF2*(-1j*k2grid)\n",
    "\n",
    "    imgCov1=np.fft.ifft2(imgF1).real\n",
    "    imgCovQA1=np.fft.ifft2(imgFQA1).real\n",
    "    imgCovQB1=np.fft.ifft2(imgFQB1).real\n",
    "    imgCovDA1=np.fft.ifft2(imgFDA1).real\n",
    "    imgCovDB1=np.fft.ifft2(imgFDB1).real\n",
    "\n",
    "    imgCov2=np.fft.ifft2(imgF2).real\n",
    "    imgCovQA2=np.fft.ifft2(imgFQA2).real\n",
    "    imgCovQB2=np.fft.ifft2(imgFQB2).real\n",
    "    imgCovDA2=np.fft.ifft2(imgFDA2).real\n",
    "    imgCovDB2=np.fft.ifft2(imgFDB2).real\n",
    "    if do_plot:\n",
    "        dpad=20\n",
    "        fig=plt.figure(figsize=(10,5))\n",
    "        ax=fig.add_subplot(1,2,1)\n",
    "        ax.imshow(img1[dpad:-dpad,dpad:-dpad],origin='lower',cmap='gray')\n",
    "        ax.set_axis_off()\n",
    "        ax=fig.add_subplot(1,2,2)\n",
    "        ax.imshow(imgCov1[dpad:-dpad,dpad:-dpad],origin='lower',cmap='gray')\n",
    "        ax.set_axis_off()\n",
    "        plt.tight_layout()\n",
    "        #fig.savefig('html/gal_psf_convolve.png')\n",
    "    \n",
    "    ygrid,xgrid = np.meshgrid(np.fft.fftfreq(64,1/64),np.fft.fftfreq(64,1/64),indexing='ij')\n",
    "    xgrid=np.fft.fftshift(xgrid)\n",
    "    ygrid=np.fft.fftshift(ygrid)\n",
    "    resMap1=imgCovQA1+(xgrid+0.5)*imgCovDA1-(ygrid+0.5)*imgCovDB1\n",
    "    resMap2=imgCovQA2+(xgrid+0.5)*imgCovDA2-(ygrid+0.5)*imgCovDB2\n",
    "    resMap=(resMap1+resMap2)/2.\n",
    "    resMapEst=(imgCov2-imgCov1)/0.04\n",
    "    return resMap,resMapEst"
   ]
  },
  {
   "cell_type": "code",
   "execution_count": 29,
   "id": "e1db620d-70af-4a8c-8f75-8a5e37809f34",
   "metadata": {},
   "outputs": [
    {
     "data": {
      "image/png": "[encoded data removed]",
      "text/plain": [
       "<Figure size 720x360 with 2 Axes>"
      ]
     },
     "metadata": {
      "needs_background": "light"
     },
     "output_type": "display_data"
    }
   ],
   "source": [
    "gc.collect()\n",
    "img1=imgAll1[0:ngrid,0:ngrid]\n",
    "img2=imgAll2[0:ngrid,0:ngrid]\n",
    "resMap,resMapEst=test_knowref(img1,img2,psfF,do_plot=True)"
   ]
  },
  {
   "cell_type": "code",
   "execution_count": 42,
   "id": "9557fc5a-b416-4c13-9222-af4a8d3bb04a",
   "metadata": {},
   "outputs": [
    {
     "data": {
      "image/png": "[encoded data removed]",
      "text/plain": [
       "<Figure size 864x216 with 6 Axes>"
      ]
     },
     "metadata": {
      "needs_background": "light"
     },
     "output_type": "display_data"
    }
   ],
   "source": [
    "resAll=[]\n",
    "resEstAll=[]\n",
    "gc.collect()\n",
    "for j in range(1,2):\n",
    "    for i in range(0,1):\n",
    "        img1=imgAll1[j*ngrid:(j+1)*ngrid,i*ngrid:(i+1)*ngrid]\n",
    "        img2=imgAll2[j*ngrid:(j+1)*ngrid,i*ngrid:(i+1)*ngrid]\n",
    "        resMap,resMapEst=test_knowref(img1,img2,psfF)\n",
    "        resAll.append(resMap)\n",
    "        resEstAll.append(resMapEst)\n",
    "        del resMap,resMapEst,img1,img2\n",
    "        gc.collect()\n",
    "resMap=np.average(np.stack(resAll),axis=0)\n",
    "resMapEst=np.average(np.stack(resEstAll),axis=0)\n",
    "\n",
    "fig=plt.figure(figsize=(12,3))\n",
    "ax1=fig.add_subplot(1,3,1)\n",
    "im1=ax1.imshow(resMap*1e3,origin='lower',cmap='gray')\n",
    "ax1.set_axis_off()\n",
    "plt.colorbar(im1)\n",
    "ax2=fig.add_subplot(1,3,2)\n",
    "im2=ax2.imshow(resMapEst*1e3,origin='lower',cmap='gray')\n",
    "ax2.set_axis_off()\n",
    "plt.colorbar(im2)\n",
    "ax3=fig.add_subplot(1,3,3)\n",
    "im3=ax3.imshow(resMapEst*1e3-resMap*1e3,origin='lower',cmap='gray')\n",
    "ax3.set_axis_off()\n",
    "plt.colorbar(im3)\n",
    "plt.tight_layout()\n",
    "#fig.savefig('html/pixel_response_noiseless_centerknown.png')"
   ]
  }
 ],
 "metadata": {
  "kernelspec": {
   "display_name": "Python 3 (ipykernel)",
   "language": "python",
   "name": "python3"
  },
  "language_info": {
   "codemirror_mode": {
    "name": "ipython",
    "version": 3
   },
   "file_extension": ".py",
   "mimetype": "text/x-python",
   "name": "python",
   "nbconvert_exporter": "python",
   "pygments_lexer": "ipython3",
   "version": "3.7.12"
  }
 },
 "nbformat": 4,
 "nbformat_minor": 5
}
