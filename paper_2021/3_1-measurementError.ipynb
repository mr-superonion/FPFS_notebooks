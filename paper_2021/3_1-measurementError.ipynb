{
 "cells": [
  {
   "cell_type": "code",
   "execution_count": 4,
   "metadata": {},
   "outputs": [
    {
     "name": "stdout",
     "output_type": "stream",
     "text": [
      "Populating the interactive namespace from numpy and matplotlib\n"
     ]
    }
   ],
   "source": [
    "%pylab inline\n",
    "import gc\n",
    "import galsim\n",
    "import numpy as np\n",
    "from fpfs import fpfsBase\n",
    "import astropy.io.fits as pyfits\n",
    "\n",
    "import numpy.lib.recfunctions as rfn\n",
    "\n",
    "pltDir='plot/errors/'\n",
    "vdir='outcome-var7em3'\n",
    "def measure(galImgAll):\n",
    "    imgList=[galImgAll[i//nx*ngrid+beg:i//nx*ngrid+end,i%nx*ngrid+beg:i%nx*ngrid+end] for i in range(ngal)]\n",
    "    a=fpTask.measure(imgList)\n",
    "    del imgList\n",
    "    gc.collect()\n",
    "    return a"
   ]
  },
  {
   "cell_type": "code",
   "execution_count": 5,
   "metadata": {},
   "outputs": [
    {
     "name": "stdout",
     "output_type": "stream",
     "text": [
      "/lustre/work/xiangchong.li/work/FPFS2/sim\n"
     ]
    }
   ],
   "source": [
    "cd wrkDir/FPFS2/sim"
   ]
  },
  {
   "cell_type": "code",
   "execution_count": 6,
   "metadata": {},
   "outputs": [
    {
     "data": {
      "image/png": "[encoded data removed]",
      "text/plain": [
       "<Figure size 432x288 with 1 Axes>"
      ]
     },
     "metadata": {
      "needs_background": "light"
     },
     "output_type": "display_data"
    }
   ],
   "source": [
    "ngrid=64\n",
    "nx=100;ny=100\n",
    "ngal=nx*ny\n",
    "scale=0.168\n",
    "beta=0.75\n",
    "psfFWHM=0.60\n",
    "rcut=16\n",
    "beg=ngrid//2-rcut\n",
    "end=beg+2*rcut\n",
    "# Initialize the fpfsTask\n",
    "psfInt  =   galsim.Moffat(beta=3.5,fwhm=psfFWHM,trunc=psfFWHM*4.)\n",
    "psfInt  =   psfInt.shear(e1=0.02,e2=-0.02)\n",
    "psfImg  =   psfInt.drawImage(nx=64,ny=64,scale=scale)\n",
    "psfData =   psfImg.array[beg:end,beg:end]\n",
    "plt.imshow(psfData)\n",
    "fpTask=fpfsBase.fpfsTask(psfData,beta=beta)"
   ]
  },
  {
   "cell_type": "code",
   "execution_count": 7,
   "metadata": {},
   "outputs": [],
   "source": [
    "mms=[]\n",
    "mms2=[]\n",
    "mmsN=[]\n",
    "mmsN2=[]\n",
    "for igroup in range(8):\n",
    "    # read galaxy image\n",
    "    galImgAll=pyfits.getdata('galaxy_basic_psf%d/image-%d-g1-0000.fits' %(psfFWHM*100,igroup))\n",
    "    #galImgAll=pyfits.getdata('galaxy_basic_psf%d/image-%d-g1-1111.fits' %(psfFWHM*100,igroup))\n",
    "    mm=measure(galImgAll)\n",
    "    mms.append(mm)\n",
    "    del mm,galImgAll\n",
    "    \n",
    "    galImgAll=pyfits.getdata('galaxy_basic_psf%d/image-%d-g1-2222.fits' %(psfFWHM*100,igroup))\n",
    "    #galImgAll=pyfits.getdata('galaxy_basic_psf%d/image-%d-g1-1111.fits' %(psfFWHM*100,igroup))\n",
    "    mm=measure(galImgAll)\n",
    "    mms2.append(mm)\n",
    "    del mm,galImgAll\n",
    "    \n",
    "    ifield=igroup*250\n",
    "    fname=os.path.join(vdir,'fpfs-rcut16-psf60-%d/src%04d-g1-0000.fits' %(igroup,ifield))\n",
    "    mm=pyfits.getdata(fname)\n",
    "    mmsN.append(mm)\n",
    "    del mm,fname\n",
    "    fname=os.path.join(vdir,'fpfs-rcut16-psf60-%d/src%04d-g1-2222.fits' %(igroup,ifield))\n",
    "    mm=pyfits.getdata(fname)\n",
    "    mmsN2.append(mm)\n",
    "    del mm,fname\n",
    "    gc.collect()\n",
    "mms=rfn.stack_arrays(mms,usemask=False)\n",
    "mms2=rfn.stack_arrays(mms2,usemask=False)\n",
    "mmsN=rfn.stack_arrays(mmsN,usemask=False)\n",
    "mmsN2=rfn.stack_arrays(mmsN2,usemask=False)"
   ]
  },
  {
   "cell_type": "code",
   "execution_count": 13,
   "metadata": {},
   "outputs": [
    {
     "data": {
      "text/plain": [
       "0.028547240194583864"
      ]
     },
     "execution_count": 13,
     "metadata": {},
     "output_type": "execute_result"
    }
   ],
   "source": [
    "1./(2000/np.sqrt(np.average(mmsN2['fpfs_N00N00'])))**4."
   ]
  },
  {
   "cell_type": "code",
   "execution_count": 17,
   "metadata": {},
   "outputs": [
    {
     "data": {
      "text/plain": [
       "6.40698857565487e-06"
      ]
     },
     "execution_count": 17,
     "metadata": {},
     "output_type": "execute_result"
    }
   ],
   "source": [
    "np.average(mmsN2['fpfs_N00N22c']/(mmsN2['fpfs_M00']+4000)**2.+mmsN['fpfs_N00N22c']/(mmsN['fpfs_M00']+4000)**2.)"
   ]
  },
  {
   "cell_type": "code",
   "execution_count": 33,
   "metadata": {},
   "outputs": [],
   "source": [
    "C=2000.\n",
    "b=fpfsBase.fpfsM2E(mms,C)\n",
    "b2=fpfsBase.fpfsM2E(mms2,C)\n",
    "bN=fpfsBase.fpfsM2E(mmsN,C,rev=True)\n",
    "bN2=fpfsBase.fpfsM2E(mmsN2,C,rev=True)"
   ]
  },
  {
   "cell_type": "code",
   "execution_count": 43,
   "metadata": {},
   "outputs": [
    {
     "name": "stdout",
     "output_type": "stream",
     "text": [
      "8.669346713338449e-06\n",
      "4.9352862421027975e-06\n",
      "0.027502405341859718\n",
      "0.027494321658191125\n"
     ]
    }
   ],
   "source": [
    "print(np.average((bN['fpfs_e1']-b['fpfs_e1'])*(bN['fpfs_s0']-b['fpfs_s0'])))\n",
    "print(np.average((bN2['fpfs_e1']-b2['fpfs_e1'])*(bN2['fpfs_s0']-b2['fpfs_s0'])))\n"
   ]
  },
  {
   "cell_type": "code",
   "execution_count": 46,
   "metadata": {},
   "outputs": [
    {
     "name": "stdout",
     "output_type": "stream",
     "text": [
      "0.02492098372380242\n",
      "0.024916181373715523\n",
      "0.019430345067564823\n",
      "2.6900254271418086e-05\n",
      "3.148411547179757e-05\n",
      "5.378904911150133e-05\n",
      "5.358928318664294e-05\n",
      "6.759608094246548e-05\n",
      "0.0011468195360870464\n",
      "0.17529747421306435\n"
     ]
    }
   ],
   "source": [
    "mask=(b['fpfs_s0']<0.1)\n",
    "print(np.std(bN[mask]['fpfs_e1']-b[mask]['fpfs_e1']))\n",
    "print(np.std(bN2[mask]['fpfs_e1']-b2[mask]['fpfs_e1']))\n",
    "print(np.std(bN2[mask]['fpfs_s0']-b2[mask]['fpfs_s0']))\n",
    "print(np.average((bN2[mask]['fpfs_RS']-b2[mask]['fpfs_RS'])))\n",
    "print(np.average((bN['fpfs_RS']-b['fpfs_RS'])))\n",
    "print(np.average((bN2['fpfs_eSquare']-b2['fpfs_eSquare'])))\n",
    "print(np.average((bN['fpfs_eSquare']-b['fpfs_eSquare'])))\n",
    "print(np.average((b['fpfs_e1']**2.-b['fpfs_e2']**2.)))\n",
    "print(np.average((bN['fpfs_RS'])))\n",
    "print(np.average((bN['fpfs_RE'])))"
   ]
  },
  {
   "cell_type": "code",
   "execution_count": 47,
   "metadata": {},
   "outputs": [],
   "source": [
    "def measE1Sq(moments,C):\n",
    "    weight  =   1./(moments['fpfs_M00']+C) \n",
    "    ratio=  moments['fpfs_N00N00']*weight**2.\n",
    "    weight= weight/(1+ratio)\n",
    "    e1      =   moments['fpfs_M22c']*weight\n",
    "    e1  =   (e1+moments['fpfs_N00N22c']\\\n",
    "            *weight**2.)/(1+ratio)\n",
    "    \n",
    "    e1sq    =   e1*e1\n",
    "    e1sq=   (e1sq-moments['fpfs_N22cN22c']*weight**2.\\\n",
    "            +4.*e1*moments['fpfs_N00N22c']*weight**2.)\\\n",
    "            /(1.+3*ratio)\n",
    "    return e1sq"
   ]
  },
  {
   "cell_type": "code",
   "execution_count": 58,
   "metadata": {},
   "outputs": [
    {
     "data": {
      "image/png": "[encoded data removed]",
      "text/plain": [
       "<Figure size 504x432 with 1 Axes>"
      ]
     },
     "metadata": {
      "needs_background": "light"
     },
     "output_type": "display_data"
    }
   ],
   "source": [
    "anaShapeNoise=[]\n",
    "anaMeaNoise=[]\n",
    "shapeNoise=[]\n",
    "allNoise=[]\n",
    "Clist=2**np.linspace(5,15,10)\n",
    "\n",
    "for C in Clist:\n",
    "    b=fpfsBase.fpfsM2E(mms,C)\n",
    "    shapeNoise.append(np.std(b['fpfs_e1'])/np.average(b['fpfs_RE']))\n",
    "    bN=fpfsBase.fpfsM2E(mmsN,C,rev=True)\n",
    "    allNoise.append(np.std(bN['fpfs_e1'])/np.average(bN['fpfs_RE']))\n",
    "    anaMeaNoise.append(np.sqrt(np.average(mmsN['fpfs_N22cN22c']/(mmsN['fpfs_M00']+C)**2.))/np.average(bN['fpfs_RE']))\n",
    "    #e1sq=measE1Sq(mmsN,C)\n",
    "    #anaShapeNoise.append(np.sqrt(np.average(e1sq))/np.average(bN['fpfs_RE']))\n",
    "    del b,bN\n",
    "    gc.collect\n",
    "    \n",
    "anaMeaNoise=np.array(anaMeaNoise)\n",
    "anaShapeNoise=np.array(anaShapeNoise)\n",
    "shapeNoise=np.array(shapeNoise)\n",
    "allNoise=np.array(allNoise)\n",
    "plt.close()\n",
    "fig=plt.figure(figsize=(7,6))\n",
    "ax=fig.add_subplot(1,1,1)\n",
    "ax.plot(Clist,np.sqrt(allNoise**2-anaMeaNoise**2),c='black',ls='',marker='+',markersize=8)\n",
    "#ax.plot(Clist,anaShapeNoise,c='black',ls='',marker='+',markersize=8)\n",
    "ax.plot(Clist,anaMeaNoise,c='black',marker='o',ls='',markersize=8)\n",
    "ax.plot(Clist,shapeNoise,c='black',ls=':')\n",
    "ax.plot(Clist,np.sqrt(allNoise**2-shapeNoise**2),c='black',ls='--')\n",
    "ax.plot(Clist,allNoise,c='black',ls='-')\n",
    "ax.grid()\n",
    "\n",
    "ax.set_xscale('log')\n",
    "ax.set_xlabel(r'$C$')\n",
    "ax.set_ylabel(r'$1\\sigma$ error on $\\hat{g}_1$')\n",
    "plt.tight_layout()\n",
    "fig.savefig(os.path.join(pltDir,'errors_252AllperGal.png'))\n",
    "fig.savefig(os.path.join(pltDir,'errors_252AllperGal.pdf'))"
   ]
  },
  {
   "cell_type": "code",
   "execution_count": 6,
   "metadata": {},
   "outputs": [
    {
     "name": "stdout",
     "output_type": "stream",
     "text": [
      "8622\n",
      "8590\n",
      "8587\n",
      "8528\n",
      "8551\n",
      "8560\n",
      "8612\n",
      "8548\n"
     ]
    }
   ],
   "source": [
    "e1I=[]\n",
    "for igroup in range(8):\n",
    "    # read galaxy image\n",
    "    src=pyfits.getdata('galaxy_basic_psf60/hsm-%d-g1-0000.fits' %igroup)\n",
    "    msk=((src['regauss_e1']**2.+src['regauss_e2']**2.)<=4.)\n",
    "    src=src[msk]\n",
    "    e1I.append(src['regauss_e1'])\n",
    "    del src,msk\n",
    "    gc.collect()\n",
    "e1I=rfn.stack_arrays(e1I,usemask=False)\n",
    "\n",
    "e1=[]\n",
    "for igroup in range(8):\n",
    "    # read galaxy image\n",
    "    ifield=igroup*250\n",
    "    src=pyfits.getdata('outcome-var7em3/src-psf60-%d/src%04d-g1-0000.fits' %(igroup,ifield))\n",
    "    msk=(src['deblend_nChild']==0)&(~np.isnan(src['ext_shapeHSM_HsmShapeRegauss_e1']))&(~np.isnan(src['ext_shapeHSM_HsmShapeRegauss_e2']))\n",
    "    msk&=((src['ext_shapeHSM_HsmShapeRegauss_e1']**2.+src['ext_shapeHSM_HsmShapeRegauss_e2']**2.)<=4.)\n",
    "    src=src[msk]\n",
    "    print(len(src))\n",
    "    e1.append(src['ext_shapeHSM_HsmShapeRegauss_e1'])\n",
    "    del src,msk\n",
    "    gc.collect()\n",
    "e1=rfn.stack_arrays(e1,usemask=False)"
   ]
  },
  {
   "cell_type": "code",
   "execution_count": 7,
   "metadata": {},
   "outputs": [
    {
     "name": "stdout",
     "output_type": "stream",
     "text": [
      "0.0013870063363035391\n"
     ]
    }
   ],
   "source": [
    "print(np.std(e1)/2./(1-np.average(e1I**2.))/np.sqrt(len(e1)))"
   ]
  },
  {
   "cell_type": "code",
   "execution_count": 8,
   "metadata": {},
   "outputs": [
    {
     "name": "stdout",
     "output_type": "stream",
     "text": [
      "0.0013265408839686643\n"
     ]
    }
   ],
   "source": [
    "C=2000.\n",
    "bN=fpfsBase.fpfsM2E(mmsN,C)\n",
    "print(np.std(bN['fpfs_e1'])/np.average(bN['fpfs_RE'])/np.sqrt(len(bN)))"
   ]
  },
  {
   "cell_type": "code",
   "execution_count": 9,
   "metadata": {},
   "outputs": [
    {
     "name": "stdout",
     "output_type": "stream",
     "text": [
      "0.0013141919490233446\n"
     ]
    }
   ],
   "source": [
    "C=1000.\n",
    "bN=fpfsBase.fpfsM2E(mmsN,C)\n",
    "print(np.std(bN['fpfs_e1'])/np.average(bN['fpfs_RE'])/np.sqrt(len(bN)))"
   ]
  },
  {
   "cell_type": "code",
   "execution_count": 10,
   "metadata": {},
   "outputs": [
    {
     "data": {
      "text/plain": [
       "0.9475024840374922"
      ]
     },
     "execution_count": 10,
     "metadata": {},
     "output_type": "execute_result"
    }
   ],
   "source": [
    "0.0013141919490233446/0.0013870063363035391"
   ]
  }
 ],
 "metadata": {
  "kernelspec": {
   "display_name": "Python 3 (ipykernel)",
   "language": "python",
   "name": "python3"
  },
  "language_info": {
   "codemirror_mode": {
    "name": "ipython",
    "version": 3
   },
   "file_extension": ".py",
   "mimetype": "text/x-python",
   "name": "python",
   "nbconvert_exporter": "python",
   "pygments_lexer": "ipython3",
   "version": "3.7.12"
  }
 },
 "nbformat": 4,
 "nbformat_minor": 4
}
