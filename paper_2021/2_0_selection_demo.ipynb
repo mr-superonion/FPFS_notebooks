{
 "cells": [
  {
   "cell_type": "code",
   "execution_count": 1,
   "metadata": {},
   "outputs": [
    {
     "name": "stdout",
     "output_type": "stream",
     "text": [
      "Populating the interactive namespace from numpy and matplotlib\n"
     ]
    }
   ],
   "source": [
    "%pylab inline\n",
    "import gc\n",
    "import galsim\n",
    "import numpy as np\n",
    "import astropy.io.fits as pyfits\n",
    "\n",
    "import fpfsBase"
   ]
  },
  {
   "cell_type": "code",
   "execution_count": 2,
   "metadata": {},
   "outputs": [
    {
     "name": "stdout",
     "output_type": "stream",
     "text": [
      "/lustre/work/xiangchong.li/work/FPFS2/sim\n"
     ]
    }
   ],
   "source": [
    "cd wrkDir/FPFS2/sim"
   ]
  },
  {
   "cell_type": "code",
   "execution_count": 7,
   "metadata": {},
   "outputs": [],
   "source": [
    "ngrid=64\n",
    "nx=100;ny=100\n",
    "ngal=nx*ny\n",
    "psfFWHM=0.60\n",
    "scale=0.168\n",
    "igal=42\n",
    "beta=0.75"
   ]
  },
  {
   "cell_type": "code",
   "execution_count": 7,
   "metadata": {},
   "outputs": [
    {
     "data": {
      "text/plain": [
       "<matplotlib.image.AxesImage at 0x2ac5424e0e50>"
      ]
     },
     "execution_count": 7,
     "metadata": {},
     "output_type": "execute_result"
    },
    {
     "data": {
      "image/png": "[encoded data removed]",
      "text/plain": [
       "<Figure size 432x288 with 1 Axes>"
      ]
     },
     "metadata": {
      "needs_background": "light"
     },
     "output_type": "display_data"
    }
   ],
   "source": [
    "hsmCat=pyfits.getdata('galaxy_basic_psf%d/hsm-0-g1-2222.fits' %(psfFWHM*100))\n",
    "rcutArray=np.maximum(np.minimum(np.int_(hsmCat['regauss_detR']*5),15),11)\n",
    "rcut=rcutArray[igal]\n",
    "    \n",
    "beg=ngrid//2-rcut\n",
    "end=beg+2*rcut\n",
    "galImgAll=pyfits.getdata('galaxy_basic_psf%d/image-0-g1-2222.fits' %(psfFWHM*100))\n",
    "img=galImgAll[igal//nx*ngrid+beg:igal//nx*ngrid+end,igal%nx*ngrid+beg:igal%nx*ngrid+end]/10.\n",
    "plt.imshow(img)"
   ]
  },
  {
   "cell_type": "code",
   "execution_count": 8,
   "metadata": {},
   "outputs": [
    {
     "name": "stdout",
     "output_type": "stream",
     "text": [
      "(12.53078177, 3.20816112, -1.90802405, 1.47132046) ('fpfs_M00', 'fpfs_M22c', 'fpfs_M22s', 'fpfs_M40')\n",
      "[(0.00316846, -0.00188441, 0.00773305, 0.0123757, 1.35901297e-05, 9.4907464e-06)] ('fpfs_e1', 'fpfs_e2', 'fpfs_RE', 'fpfs_s0', 'fpfs_eSquare', 'fpfs_RS')\n"
     ]
    }
   ],
   "source": [
    "# Initialize the fpfsTask\n",
    "psfInt  =   galsim.Moffat(beta=3.5,fwhm=psfFWHM,trunc=psfFWHM*4.)\n",
    "psfInt  =   psfInt.shear(e1=0.02,e2=-0.02)\n",
    "psfImg  =   psfInt.drawImage(nx=64,ny=64,scale=scale)\n",
    "psfData =   psfImg.array[beg:end,beg:end]\n",
    "fpTask0=fpfsBase.fpfsTask(psfData,beta=beta)\n",
    "\n",
    "a0=fpTask0.measure(img)\n",
    "C=1000\n",
    "b0=fpfsBase.fpfsM2E(a0,C)\n",
    "print(a0,a0.dtype.names)\n",
    "print(b0,b0.dtype.names)"
   ]
  },
  {
   "cell_type": "code",
   "execution_count": 9,
   "metadata": {},
   "outputs": [],
   "source": [
    "# Noise\n",
    "corPre      =   'corPre'\n",
    "corFname    =   os.path.join(corPre,'correlation.fits')\n",
    "variance    =   8e-3\n",
    "ngrid=64\n",
    "\n",
    "powIn=np.load('corPre/noiPows2.npy',allow_pickle=True).item()['%s'%rcut]*variance*100\n",
    "powModel=np.zeros((1,img.shape[0],img.shape[1]))\n",
    "powModel[0]=powIn\n",
    "fpTask=fpfsBase.fpfsTask(psfData,noiFit=powModel[0],beta=beta)"
   ]
  },
  {
   "cell_type": "code",
   "execution_count": null,
   "metadata": {},
   "outputs": [],
   "source": [
    "%%time\n",
    "\n",
    "import numpy.lib.recfunctions as rfn\n",
    "a=[]\n",
    "for j in range(0,40):\n",
    "    noiAll=pyfits.getdata('noise/noi%04d.fits' %j)*np.sqrt(variance*100.)\n",
    "    imgList=[noiAll[i//nx*ngrid+beg:i//nx*ngrid+end,i%nx*ngrid+beg:i%nx*ngrid+end]+img for i in range(ngal)]\n",
    "    res=fpTask.measure(imgList)\n",
    "    a.append(res)\n",
    "    del noiAll,imgList\n",
    "    gc.collect()\n",
    "a =   rfn.stack_arrays(a,usemask=False)"
   ]
  },
  {
   "cell_type": "code",
   "execution_count": null,
   "metadata": {},
   "outputs": [],
   "source": []
  }
 ],
 "metadata": {
  "kernelspec": {
   "display_name": "Python 3 (ipykernel)",
   "language": "python",
   "name": "python3"
  },
  "language_info": {
   "codemirror_mode": {
    "name": "ipython",
    "version": 3
   },
   "file_extension": ".py",
   "mimetype": "text/x-python",
   "name": "python",
   "nbconvert_exporter": "python",
   "pygments_lexer": "ipython3",
   "version": "3.8.13"
  }
 },
 "nbformat": 4,
 "nbformat_minor": 4
}
