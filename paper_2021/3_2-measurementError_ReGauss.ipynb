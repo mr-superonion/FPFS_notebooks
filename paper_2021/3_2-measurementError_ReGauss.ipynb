{
 "cells": [
  {
   "cell_type": "code",
   "execution_count": 150,
   "metadata": {},
   "outputs": [
    {
     "name": "stdout",
     "output_type": "stream",
     "text": [
      "Populating the interactive namespace from numpy and matplotlib\n"
     ]
    }
   ],
   "source": [
    "%pylab inline\n",
    "import gc\n",
    "import scipy\n",
    "import fitsio\n",
    "import catutil\n",
    "import imgSimutil\n",
    "import numpy as np\n",
    "from fpfs import fpfsBase\n",
    "\n",
    "import numpy.lib.recfunctions as rfn\n",
    "\n",
    "pltDir='plot/errors/'\n",
    "vdir='outBasic-var7em3'"
   ]
  },
  {
   "cell_type": "code",
   "execution_count": 2,
   "metadata": {},
   "outputs": [
    {
     "name": "stdout",
     "output_type": "stream",
     "text": [
      "/lustre/work/xiangchong.li/work/FPFS2/sim\n"
     ]
    }
   ],
   "source": [
    "cd wrkDir/FPFS2/sim"
   ]
  },
  {
   "cell_type": "markdown",
   "metadata": {},
   "source": [
    "# Prepare three catalogs"
   ]
  },
  {
   "cell_type": "code",
   "execution_count": 171,
   "metadata": {},
   "outputs": [],
   "source": [
    "def wlmask(dd,doWL=False):\n",
    "    centDis=  np.sqrt((dd['base_SdssCentroid_y']%ngrid-ngrid/2)**2. +\n",
    "              (dd['base_SdssCentroid_x']%ngrid-ngrid/2)**2.)\n",
    "    mask =  (dd['base_ClassificationExtendedness_value'] > 0) &\\\n",
    "        (~np.isnan(dd['modelfit_CModel_instFlux']))&\\\n",
    "        (~np.isnan(dd['modelfit_CModel_instFluxErr'])) &\\\n",
    "        (~np.isnan(dd['ext_shapeHSM_HsmShapeRegauss_resolution'])) &\\\n",
    "        (~np.isnan(dd['ext_shapeHSM_HsmPsfMoments_xx'])) &\\\n",
    "        (~np.isnan(dd['ext_shapeHSM_HsmPsfMoments_yy'])) &\\\n",
    "        (~np.isnan(dd['ext_shapeHSM_HsmPsfMoments_xy'])) &\\\n",
    "        (~np.isnan(dd['base_Variance_value']))&\\\n",
    "        (~np.isnan(dd['modelfit_CModel_instFlux']))&\\\n",
    "        (~np.isnan(dd['modelfit_CModel_instFluxErr']))&\\\n",
    "        (~np.isnan(dd['ext_shapeHSM_HsmShapeRegauss_resolution']))&\\\n",
    "        (dd['deblend_nChild']  ==  0) &\\\n",
    "        (centDis<5.)\n",
    "    dd   =   dd[mask]\n",
    "    centDis= centDis[mask]\n",
    "    ipos =   np.int_(dd['base_SdssCentroid_y']//64)*100+np.int_(dd['base_SdssCentroid_x']//64)\n",
    "    inds =   np.lexsort([centDis, ipos])\n",
    "    dd   =   dd[inds]\n",
    "    ipos =   ipos[inds]\n",
    "    inds_unique =   np.unique(ipos, return_index=True)[1]\n",
    "    dd   =  dd[inds_unique]\n",
    "    if doWL:\n",
    "        wlmsk=   (catutil.get_imag(dd) < 24.5) & \\\n",
    "            (catutil.get_abs_ellip(dd) <= 2.)   & \\\n",
    "            (catutil.get_res(dd) >= 0.3)        & \\\n",
    "            (catutil.get_snr(dd) >= 10.)        & \\\n",
    "            (catutil.get_logb(dd)<= -0.38)\n",
    "        return dd[wlmsk]\n",
    "    else:\n",
    "        return dd"
   ]
  },
  {
   "cell_type": "code",
   "execution_count": 206,
   "metadata": {},
   "outputs": [
    {
     "name": "stdout",
     "output_type": "stream",
     "text": [
      "0.2978854720260368\n"
     ]
    },
    {
     "data": {
      "image/png": "[encoded data removed]",
      "text/plain": [
       "<Figure size 432x288 with 1 Axes>"
      ]
     },
     "metadata": {
      "needs_background": "light"
     },
     "output_type": "display_data"
    }
   ],
   "source": [
    "del rgs1,rgs2,mmsN\n",
    "gc.collect()\n",
    "rgs1=[]\n",
    "rgs2=[]\n",
    "mmsN=[]\n",
    "for igroup in range(8):\n",
    "    # read galaxy image\n",
    "    ifield=igroup*250\n",
    "    fname=os.path.join(vdir,'src-psf60-%d/src%04d-g1-0000.fits' %(igroup,ifield))\n",
    "    src1=fitsio.read(fname)\n",
    "    src1=wlmask(src1,doWL=True)\n",
    "    rgs1.append(src1)\n",
    "    ids1=np.int_(src1['base_SdssCentroid_y']//64)*100+np.int_(src1['base_SdssCentroid_x']//64)\n",
    "    \n",
    "    fname=os.path.join(vdir,'src-psf60-%d/src%04d-g1-2222.fits' %(igroup,ifield))\n",
    "    src2=fitsio.read(fname)\n",
    "    src2=wlmask(src2)\n",
    "    ids2=np.int_(src2['base_SdssCentroid_y']//64)*100+np.int_(src2['base_SdssCentroid_x']//64)\n",
    "    src2=src2[np.in1d(ids2,ids1,assume_unique=True)]\n",
    "    rgs2.append(src2)\n",
    "    \n",
    "    fname=os.path.join(vdir,'fpfs-rcut16-psf60-%d/src%04d-g1-0000.fits' %(igroup,ifield))\n",
    "    mm=fitsio.read(fname)[ids1]\n",
    "    mmsN.append(mm)\n",
    "    \n",
    "    del mm,src1,src2,fname,ifield\n",
    "    gc.collect()\n",
    "rgs1=rfn.stack_arrays(rgs1,usemask=False)\n",
    "rgs2=rfn.stack_arrays(rgs2,usemask=False)\n",
    "mmsN=rfn.stack_arrays(mmsN,usemask=False)\n",
    "print(np.std(bN['fpfs_e1'])/np.average(bN['fpfs_RE']))\n",
    "C=2000.\n",
    "bN=fpfsBase.fpfsM2E(mmsN,C,rev=True)\n",
    "if True:\n",
    "    plt.scatter(catutil.get_imag(rgs1),27-1.25*log10(mmsN['fpfs_M00']),s=0.1)"
   ]
  },
  {
   "cell_type": "markdown",
   "metadata": {},
   "source": [
    "# Get Optimal weight"
   ]
  },
  {
   "cell_type": "code",
   "execution_count": 221,
   "metadata": {},
   "outputs": [],
   "source": [
    "def get_weight(rgs,tree,hdat):\n",
    "    snr=catutil.get_snr(rgs)\n",
    "    res=catutil.get_res(rgs)\n",
    "    xyDat   =   np.vstack([np.log10(snr),np.log10(res)]).T\n",
    "    dis,inds=tree.query(xyDat,k=1)\n",
    "    weight=hdat['ishape_hsm_regauss_derived_shape_weight'][inds]\n",
    "    return weight"
   ]
  },
  {
   "cell_type": "code",
   "execution_count": 222,
   "metadata": {},
   "outputs": [],
   "source": [
    "fname=os.path.join(os.environ['homeWrk'],\\\n",
    "       'S16ACatalogs/S16AStandardCalibrated/field/GAMA09H_calibrated.fits')\n",
    "hdat=fitsio.read(fname)\n",
    "snr=catutil.get_snr(hdat)\n",
    "res=catutil.get_res(hdat)\n",
    "xyRef=np.vstack([np.log10(snr),np.log10(res)]).T\n",
    "tree    =   scipy.spatial.cKDTree(xyRef)"
   ]
  },
  {
   "cell_type": "code",
   "execution_count": 223,
   "metadata": {},
   "outputs": [],
   "source": [
    "w1=get_weight(rgs1,tree,hdat)\n",
    "w2=get_weight(rgs2,tree,hdat)"
   ]
  },
  {
   "cell_type": "code",
   "execution_count": 224,
   "metadata": {},
   "outputs": [],
   "source": [
    "response=(np.average(rgs2['ext_shapeHSM_HsmShapeRegauss_e1'],weights=w2)\\\n",
    "          -np.average(rgs1['ext_shapeHSM_HsmShapeRegauss_e1'],weights=w1))/0.04\n",
    "g1=rgs1['ext_shapeHSM_HsmShapeRegauss_e1']/response"
   ]
  },
  {
   "cell_type": "code",
   "execution_count": 225,
   "metadata": {},
   "outputs": [
    {
     "data": {
      "text/plain": [
       "0.2878575071208501"
      ]
     },
     "execution_count": 225,
     "metadata": {},
     "output_type": "execute_result"
    }
   ],
   "source": [
    "np.sqrt(np.average(g1**2, weights=w1))"
   ]
  }
 ],
 "metadata": {
  "kernelspec": {
   "display_name": "Python 3",
   "language": "python",
   "name": "python3"
  },
  "language_info": {
   "codemirror_mode": {
    "name": "ipython",
    "version": 3
   },
   "file_extension": ".py",
   "mimetype": "text/x-python",
   "name": "python",
   "nbconvert_exporter": "python",
   "pygments_lexer": "ipython3",
   "version": "3.7.8"
  }
 },
 "nbformat": 4,
 "nbformat_minor": 4
}
