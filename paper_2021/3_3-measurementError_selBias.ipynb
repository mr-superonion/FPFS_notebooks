{
 "cells": [
  {
   "cell_type": "code",
   "execution_count": 24,
   "metadata": {},
   "outputs": [
    {
     "name": "stdout",
     "output_type": "stream",
     "text": [
      "Populating the interactive namespace from numpy and matplotlib\n"
     ]
    }
   ],
   "source": [
    "%pylab inline\n",
    "import gc\n",
    "import galsim\n",
    "import fpfsBase\n",
    "import imgSimutil\n",
    "import numpy as np\n",
    "import astropy.io.fits as pyfits\n",
    "import numpy.lib.recfunctions as rfn\n",
    "\n",
    "pltDir='plot/errors/'\n",
    "vdir='outcome-var7em3'\n",
    "def measure(galImgAll):\n",
    "    imgList=[galImgAll[i//nx*ngrid+beg:i//nx*ngrid+end,i%nx*ngrid+beg:i%nx*ngrid+end] for i in range(ngal)]\n",
    "    a=fpTask.measure(imgList)\n",
    "    del imgList\n",
    "    gc.collect()\n",
    "    return a"
   ]
  },
  {
   "cell_type": "code",
   "execution_count": 7,
   "metadata": {},
   "outputs": [
    {
     "name": "stdout",
     "output_type": "stream",
     "text": [
      "/lustre/work/xiangchong.li/work/FPFS2/sim\n"
     ]
    }
   ],
   "source": [
    "cd wrkDir/FPFS2/sim"
   ]
  },
  {
   "cell_type": "code",
   "execution_count": 8,
   "metadata": {},
   "outputs": [],
   "source": [
    "mmsN0=[]\n",
    "mmsN1=[]\n",
    "mmsN2=[]\n",
    "for igroup in range(16):\n",
    "    for ii in range(50):\n",
    "        ifield=igroup*250+ii\n",
    "        fname=os.path.join(vdir,'fpfs-rcut16-psf60-%d/src%04d-g1-0000.fits' %(igroup,ifield))\n",
    "        mm=pyfits.getdata(fname)\n",
    "        mmsN0.append(mm)\n",
    "        del mm,fname\n",
    "        \n",
    "        fname=os.path.join(vdir,'fpfs-rcut16-psf60-%d/src%04d-g1-1111.fits' %(igroup,ifield))\n",
    "        mm=pyfits.getdata(fname)\n",
    "        mmsN1.append(mm)\n",
    "        del mm,fname\n",
    "        gc.collect()\n",
    "        \n",
    "        fname=os.path.join(vdir,'fpfs-rcut16-psf60-%d/src%04d-g1-2222.fits' %(igroup,ifield))\n",
    "        mm=pyfits.getdata(fname)\n",
    "        mmsN2.append(mm)\n",
    "        del mm,fname\n",
    "        gc.collect()\n",
    "        \n",
    "mmsN0=rfn.stack_arrays(mmsN0,usemask=False)\n",
    "mmsN1=rfn.stack_arrays(mmsN1,usemask=False)\n",
    "mmsN2=rfn.stack_arrays(mmsN2,usemask=False)"
   ]
  },
  {
   "cell_type": "code",
   "execution_count": 14,
   "metadata": {},
   "outputs": [],
   "source": [
    "C=2000.\n",
    "bN0=fpfsBase.fpfsM2E(mmsN0,C,rev=True)\n",
    "cN0=fpfsBase.fpfsM2Err(mmsN0,C)\n",
    "\n",
    "bN1=fpfsBase.fpfsM2E(mmsN1,C,rev=True)\n",
    "cN1=fpfsBase.fpfsM2Err(mmsN1,C)\n",
    "\n",
    "bN2=fpfsBase.fpfsM2E(mmsN2,C,rev=True)\n",
    "cN2=fpfsBase.fpfsM2Err(mmsN2,C)"
   ]
  },
  {
   "cell_type": "code",
   "execution_count": 13,
   "metadata": {},
   "outputs": [],
   "source": [
    "def main(bN,cN,pend='0000',cc=2000):\n",
    "    cutList=np.linspace(0.,0.4,8)\n",
    "    deList=[]\n",
    "\n",
    "    nx=5000\n",
    "    ny=5000\n",
    "\n",
    "    hist,ebins,sbins=np.histogram2d(bN['fpfs_e1'],bN['fpfs_RE'],range=((-0.6,0.6),(-0.2,1.1)),bins=(5000,5000))\n",
    "    ePix=ebins[1]-ebins[0]\n",
    "    sPix=sbins[1]-sbins[0]\n",
    "    sCenter,eCenter=np.meshgrid((sbins[:-1]+sbins[1:])/2.,(ebins[:-1]+ebins[1:])/2.)\n",
    "    sigma_x = np.sqrt(np.average(cN['fpfs_s0Err']))/sPix\n",
    "    sigma_y = np.sqrt(np.average(cN['fpfs_e1Err']))/ePix\n",
    "    rho=np.average(cN['fpfs_e1s0Cov'])/sigma_x/sigma_y/sPix/ePix\n",
    "    print(sigma_x,sigma_y,rho)\n",
    "    x=np.array([np.fft.fftfreq(nx)*nx])\n",
    "    y=np.fft.fftfreq(ny)*ny\n",
    "    y=np.transpose(np.array([y]))\n",
    "    psf  = 1./(2*np.pi*sigma_x*sigma_y)*np.exp(-(x**2/(2*sigma_x**2)-2.*rho*x*y/sigma_x/sigma_y/2. + y**2/(2*sigma_y**2)))\n",
    "    if False:\n",
    "        test=np.zeros(psf.shape)\n",
    "        test[150,150]=1.\n",
    "        test2=np.real(np.fft.ifft2(np.fft.fft2(test)*np.fft.fft2(psf)))\n",
    "        plt.imshow(test2[120:180,120:180],origin='lower')\n",
    "    hist[:,:10]=0.\n",
    "    hist[:,-10:]=0.\n",
    "    histC=np.real(np.fft.ifft2(np.fft.fft2(hist)*np.fft.fft2(psf)))\n",
    "    for clow in cutList:\n",
    "        msk=sCenter>clow\n",
    "        de=np.sum(eCenter[msk]*histC[msk])/np.sum(histC[msk])-np.sum(eCenter[msk]*hist[msk])/np.sum(hist[msk])\n",
    "        deList.append(de)\n",
    "    deList=np.array(deList)\n",
    "    out={}\n",
    "    out.update({'cutList':cutList})\n",
    "    out.update({'deList':deList})\n",
    "    np.save(os.path.join(pltDir,'deList_C%d_%s.npy' %(int(cc),pend)),out)\n",
    "    return"
   ]
  },
  {
   "cell_type": "code",
   "execution_count": 14,
   "metadata": {},
   "outputs": [
    {
     "name": "stdout",
     "output_type": "stream",
     "text": [
      "36.618659025424314 112.18598571729628 0.012923583258824756\n"
     ]
    }
   ],
   "source": [
    "main(bN0,cN0,'0000',C)\n",
    "main(bN1,cN1,'1111',C)\n",
    "main(bN2,cN2,'2222',C)"
   ]
  },
  {
   "cell_type": "code",
   "execution_count": null,
   "metadata": {},
   "outputs": [],
   "source": [
    "if False:\n",
    "    print(np.load(os.path.join(pltDir,'deList_C4000_0000.npy'),allow_pickle=True).item()['deList'])\n",
    "    print(np.load(os.path.join(pltDir,'deList_C4000_1111.npy'),allow_pickle=True).item()['deList'])\n",
    "    print(np.load(os.path.join(pltDir,'deList_C4000_2222.npy'),allow_pickle=True).item()['deList'])"
   ]
  },
  {
   "cell_type": "code",
   "execution_count": 3,
   "metadata": {},
   "outputs": [],
   "source": [
    "cosmo252=   imgSimutil.cosmoHSTGal('252')\n",
    "cosmo252.readHSTsample()\n",
    "hscCat  =   cosmo252.catused"
   ]
  },
  {
   "cell_type": "code",
   "execution_count": 25,
   "metadata": {},
   "outputs": [],
   "source": [
    "def main2(bN,cN,zAll,pend='0000',cc=2000):\n",
    "    clow=0.15\n",
    "    cutList=np.linspace(0.,0.4,8)\n",
    "    deList=[]\n",
    "    nx=5000\n",
    "    ny=5000\n",
    "    for ic in range(3):\n",
    "        zlow = 0.6*(ic)\n",
    "        zhigh= 0.6*(1+ic)\n",
    "        maskZ= (zAll>zlow)&(zAll<=zhigh)\n",
    "        hist,ebins,sbins=np.histogram2d(bN[maskZ]['fpfs_e1'],\\\n",
    "                                        bN[maskZ]['fpfs_RE'],\\\n",
    "                                        range=((-0.6,0.6),(-0.2,1.1)),\\\n",
    "                                        bins=(5000,5000))\n",
    "        ePix=ebins[1]-ebins[0]\n",
    "        sPix=sbins[1]-sbins[0]\n",
    "        sCenter,eCenter=np.meshgrid((sbins[:-1]+sbins[1:])/2.,(ebins[:-1]+ebins[1:])/2.)\n",
    "        msk=sCenter>clow\n",
    "        sigma_x = np.sqrt(np.average(cN['fpfs_s0Err']))/sPix\n",
    "        sigma_y = np.sqrt(np.average(cN['fpfs_e1Err']))/ePix\n",
    "        rho=np.average(cN['fpfs_e1s0Cov'])/sigma_x/sigma_y/sPix/ePix\n",
    "        print(sigma_x,sigma_y,rho)\n",
    "        x=np.array([np.fft.fftfreq(nx)*nx])\n",
    "        y=np.fft.fftfreq(ny)*ny\n",
    "        y=np.transpose(np.array([y]))\n",
    "        psf  = 1./(2*np.pi*sigma_x*sigma_y)*np.exp(-(x**2/(2*sigma_x**2)-2.*rho*x*y/sigma_x/sigma_y/2. + y**2/(2*sigma_y**2)))\n",
    "        hist[:,:10]=0.\n",
    "        hist[:,-10:]=0.\n",
    "        histC=np.real(np.fft.ifft2(np.fft.fft2(hist)*np.fft.fft2(psf)))\n",
    "        de=np.sum(eCenter[msk]*histC[msk])/np.sum(histC[msk])-np.sum(eCenter[msk]*hist[msk])/np.sum(hist[msk])\n",
    "        deList.append(de)\n",
    "        del hist,histC,psf\n",
    "        gc.collect()\n",
    "    deList=np.array(deList)\n",
    "    out={}\n",
    "    out.update({'cutList':cutList})\n",
    "    out.update({'deList':deList})\n",
    "    np.save(os.path.join(pltDir,'deList_C%d_%s_low15_redshift3.npy' %(int(cc),pend)),out)\n",
    "    return"
   ]
  },
  {
   "cell_type": "code",
   "execution_count": 11,
   "metadata": {},
   "outputs": [],
   "source": [
    "zAll=[]\n",
    "for igroup in range(16):\n",
    "    ztmp=hscCat[10000*(igroup%8):10000*(igroup%8+1)]['zphot']\n",
    "    for ii in range(50):\n",
    "        zAll.append(ztmp)\n",
    "    del ztmp\n",
    "    gc.collect()\n",
    "zAll=rfn.stack_arrays(zAll,usemask=False)"
   ]
  },
  {
   "cell_type": "code",
   "execution_count": 26,
   "metadata": {},
   "outputs": [
    {
     "name": "stdout",
     "output_type": "stream",
     "text": [
      "36.618659025424314 112.18598571729628 0.012923583258824756\n",
      "36.618659025424314 112.18598571729628 0.012923583258824756\n",
      "36.618659025424314 112.18598571729628 0.012923583258824756\n",
      "36.61613239830711 112.18055530739059 0.013212824380568292\n",
      "36.61613239830711 112.18055530739059 0.013212824380568292\n",
      "36.61613239830711 112.18055530739059 0.013212824380568292\n",
      "36.617855618750674 112.17127862388719 0.013501616151189114\n",
      "36.617855618750674 112.17127862388719 0.013501616151189114\n",
      "36.617855618750674 112.17127862388719 0.013501616151189114\n"
     ]
    }
   ],
   "source": [
    "main2(bN0,cN0,zAll,'0000',C)\n",
    "main2(bN1,cN1,zAll,'1111',C)\n",
    "main2(bN2,cN2,zAll,'2222',C)"
   ]
  },
  {
   "cell_type": "code",
   "execution_count": 29,
   "metadata": {},
   "outputs": [
    {
     "name": "stdout",
     "output_type": "stream",
     "text": [
      "[-1.59336373e-06  3.17897298e-06 -7.95844965e-07]\n",
      "[8.73466113e-06 1.30175002e-05 1.06412064e-05]\n",
      "[1.65516745e-05 2.29961174e-05 3.93911328e-05]\n"
     ]
    }
   ],
   "source": [
    "print(np.load(os.path.join(pltDir,'deList_C2000_0000_low15_redshift3.npy'),allow_pickle=True).item()['deList'])\n",
    "print(np.load(os.path.join(pltDir,'deList_C2000_1111_low15_redshift3.npy'),allow_pickle=True).item()['deList'])\n",
    "print(np.load(os.path.join(pltDir,'deList_C2000_2222_low15_redshift3.npy'),allow_pickle=True).item()['deList'])"
   ]
  }
 ],
 "metadata": {
  "kernelspec": {
   "display_name": "Python 3 (ipykernel)",
   "language": "python",
   "name": "python3"
  },
  "language_info": {
   "codemirror_mode": {
    "name": "ipython",
    "version": 3
   },
   "file_extension": ".py",
   "mimetype": "text/x-python",
   "name": "python",
   "nbconvert_exporter": "python",
   "pygments_lexer": "ipython3",
   "version": "3.7.12"
  }
 },
 "nbformat": 4,
 "nbformat_minor": 4
}
