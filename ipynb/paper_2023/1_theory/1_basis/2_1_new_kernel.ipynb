{
 "cells": [
  {
   "cell_type": "code",
   "execution_count": 47,
   "id": "ff12abfa-c8d1-4b5b-8503-0c3e9cf9dc96",
   "metadata": {},
   "outputs": [
    {
     "name": "stdout",
     "output_type": "stream",
     "text": [
      "The autoreload extension is already loaded. To reload it, use:\n",
      "  %reload_ext autoreload\n"
     ]
    }
   ],
   "source": [
    "%load_ext autoreload\n",
    "%autoreload 2\n",
    "%matplotlib inline\n",
    "import gc\n",
    "import pdet\n",
    "import fpfs\n",
    "import fitsio\n",
    "import numpy as np\n",
    "from fpfs import pltutil\n",
    "import matplotlib.pylab as plt\n",
    "import numpy.lib.recfunctions as rfn\n",
    "from default import *\n",
    "\n",
    "import matplotlib as mpl\n",
    "mpl.rcParams['axes.linewidth'] = 2.0 #set the value globally\n",
    "\n",
    "ver='try2'\n",
    "gver='basic2Center'\n",
    "dver='cut16'\n",
    "wrkDir=os.environ['homeWrk']\n",
    "simDir=os.path.join(wrkDir,'FPFS2/sim/')"
   ]
  },
  {
   "cell_type": "code",
   "execution_count": 3,
   "id": "76451187-2878-4b14-bf45-356dea031c92",
   "metadata": {},
   "outputs": [
    {
     "data": {
      "text/plain": [
       "0"
      ]
     },
     "execution_count": 3,
     "metadata": {},
     "output_type": "execute_result"
    }
   ],
   "source": [
    "#nver='var1em9' # 'var0em0'#\n",
    "#nver='var7em3' # 'var0em0'#\n",
    "nver='var0em0' # 'var0em0'#\n",
    "mm1=[]\n",
    "mm2=[]\n",
    "for _i in range(20):\n",
    "    _a1=fitsio.read(os.path.join(simDir,'srcfs3_%s-%s_%s/psf60/fpfs-%s-%04d-g1-0000.fits' %(gver,nver,ver,dver,_i)))\n",
    "    _a2=fitsio.read(os.path.join(simDir,'srcfs3_%s-%s_%s/psf60/fpfs-%s-%04d-g1-2222.fits' %(gver,nver,ver,dver,_i)))\n",
    "    mm1.append(_a1)\n",
    "    mm2.append(_a2)\n",
    "    del _a1,_a2#,msk1,msk2\n",
    "mm1 =   rfn.stack_arrays(mm1,usemask=False)\n",
    "mm2 =   rfn.stack_arrays(mm2,usemask=False)\n",
    "gc.collect()\n",
    "Const  =   20.\n",
    "noirev =   False\n",
    "ellM1  =   fpfs.catalog.fpfsM2E(mm1,const=Const,noirev=noirev)\n",
    "ellM2  =   fpfs.catalog.fpfsM2E(mm2,const=Const,noirev=noirev)\n",
    "gc.collect()"
   ]
  },
  {
   "cell_type": "code",
   "execution_count": 48,
   "id": "105f6583-86c0-437f-9c6c-e34af06c8de2",
   "metadata": {},
   "outputs": [
    {
     "data": {
      "text/plain": [
       "(array([0.000e+00, 0.000e+00, 0.000e+00, 0.000e+00, 3.000e+00, 1.000e+00,\n",
       "        3.000e+00, 5.000e+00, 1.900e+01, 4.500e+01, 9.900e+01, 2.090e+02,\n",
       "        3.960e+02, 7.180e+02, 1.201e+03, 1.828e+03, 2.581e+03, 3.218e+03,\n",
       "        4.073e+03, 4.865e+03, 5.786e+03, 6.313e+03, 6.802e+03, 6.418e+03,\n",
       "        6.415e+03, 5.962e+03, 5.524e+03, 5.117e+03, 4.875e+03, 4.449e+03,\n",
       "        4.207e+03, 3.887e+03, 3.752e+03, 3.555e+03, 3.300e+03, 3.136e+03,\n",
       "        2.859e+03, 2.790e+03, 2.612e+03, 2.497e+03, 2.322e+03, 2.216e+03,\n",
       "        2.108e+03, 1.965e+03, 1.857e+03, 1.914e+03, 1.754e+03, 1.668e+03,\n",
       "        1.528e+03, 1.540e+03]),\n",
       " array([-0.02  , -0.0156, -0.0112, -0.0068, -0.0024,  0.002 ,  0.0064,\n",
       "         0.0108,  0.0152,  0.0196,  0.024 ,  0.0284,  0.0328,  0.0372,\n",
       "         0.0416,  0.046 ,  0.0504,  0.0548,  0.0592,  0.0636,  0.068 ,\n",
       "         0.0724,  0.0768,  0.0812,  0.0856,  0.09  ,  0.0944,  0.0988,\n",
       "         0.1032,  0.1076,  0.112 ,  0.1164,  0.1208,  0.1252,  0.1296,\n",
       "         0.134 ,  0.1384,  0.1428,  0.1472,  0.1516,  0.156 ,  0.1604,\n",
       "         0.1648,  0.1692,  0.1736,  0.178 ,  0.1824,  0.1868,  0.1912,\n",
       "         0.1956,  0.2   ]),\n",
       " <BarContainer object of 50 artists>)"
      ]
     },
     "execution_count": 48,
     "metadata": {},
     "output_type": "execute_result"
    },
    {
     "data": {
      "image/png": "[encoded data removed]",
      "text/plain": [
       "<Figure size 432x288 with 1 Axes>"
      ]
     },
     "metadata": {
      "needs_background": "light"
     },
     "output_type": "display_data"
    }
   ],
   "source": [
    "plt.close()\n",
    "plt.hist(mm1['fpfs_v0']-0.005*mm1['fpfs_M00'],range=(-0.02,0.2),bins=50)\n",
    "#plt.yscale('log')"
   ]
  },
  {
   "cell_type": "code",
   "execution_count": null,
   "id": "8c6c3f3b-8590-41c0-bfbf-af86564f1241",
   "metadata": {},
   "outputs": [],
   "source": []
  }
 ],
 "metadata": {
  "kernelspec": {
   "display_name": "Python 3 (ipykernel)",
   "language": "python",
   "name": "python3"
  },
  "language_info": {
   "codemirror_mode": {
    "name": "ipython",
    "version": 3
   },
   "file_extension": ".py",
   "mimetype": "text/x-python",
   "name": "python",
   "nbconvert_exporter": "python",
   "pygments_lexer": "ipython3",
   "version": "3.8.13"
  }
 },
 "nbformat": 4,
 "nbformat_minor": 5
}
