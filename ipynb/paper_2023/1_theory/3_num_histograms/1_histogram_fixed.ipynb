{
 "cells": [
  {
   "cell_type": "code",
   "execution_count": 1,
   "id": "ff12abfa-c8d1-4b5b-8503-0c3e9cf9dc96",
   "metadata": {},
   "outputs": [],
   "source": [
    "%reload_ext autoreload\n",
    "%autoreload 2\n",
    "%matplotlib inline\n",
    "import gc\n",
    "import pdet\n",
    "import fpfs\n",
    "import fitsio\n",
    "import numpy as np\n",
    "from fpfs import pltutil\n",
    "import matplotlib.pylab as plt\n",
    "import numpy.lib.recfunctions as rfn\n",
    "from default import *\n",
    "\n",
    "import matplotlib as mpl\n",
    "mpl.rcParams['axes.linewidth'] = 2.0 #set the value globally\n",
    "\n",
    "ver='try2'\n",
    "gver='basic2Center'\n",
    "dver='cut16'\n",
    "wrkDir=os.environ['homeWrk']\n",
    "simDir=os.path.join(wrkDir,'FPFS2/sim/')"
   ]
  },
  {
   "cell_type": "code",
   "execution_count": 4,
   "id": "7bf79fa3-1f63-4099-a4c8-1fbdff04abcf",
   "metadata": {},
   "outputs": [
    {
     "data": {
      "text/plain": [
       "25.0"
      ]
     },
     "execution_count": 4,
     "metadata": {},
     "output_type": "execute_result"
    }
   ],
   "source": [
    "cutM"
   ]
  },
  {
   "cell_type": "code",
   "execution_count": 2,
   "id": "76451187-2878-4b14-bf45-356dea031c92",
   "metadata": {},
   "outputs": [
    {
     "data": {
      "text/plain": [
       "0"
      ]
     },
     "execution_count": 2,
     "metadata": {},
     "output_type": "execute_result"
    }
   ],
   "source": [
    "#nver='var1em9' # 'var0em0'#\n",
    "nver='var7em3' # 'var0em0'#\n",
    "#nver='var0em0' # 'var0em0'#\n",
    "mm1=[]\n",
    "mm2=[]\n",
    "for _i in range(200):\n",
    "    _a1=fitsio.read(os.path.join(simDir,'srcfs3_%s-%s_%s/psf60/fpfs-%s-%04d-g1-0000.fits' %(gver,nver,ver,dver,_i)))\n",
    "    _a2=fitsio.read(os.path.join(simDir,'srcfs3_%s-%s_%s/psf60/fpfs-%s-%04d-g1-2222.fits' %(gver,nver,ver,dver,_i)))\n",
    "    mm1.append(_a1)\n",
    "    mm2.append(_a2)\n",
    "    del _a1,_a2#,msk1,msk2\n",
    "mm1 =   rfn.stack_arrays(mm1,usemask=False)\n",
    "mm2 =   rfn.stack_arrays(mm2,usemask=False)\n",
    "gc.collect()\n",
    "Const  =   20.\n",
    "noirev =   True\n",
    "ellM1  =   fpfs.catalog.fpfsM2E(mm1,const=Const,noirev=noirev)\n",
    "ellM2  =   fpfs.catalog.fpfsM2E(mm2,const=Const,noirev=noirev)\n",
    "gc.collect()"
   ]
  },
  {
   "cell_type": "code",
   "execution_count": 3,
   "id": "5a3b4a88-963b-4e3b-8277-d59c6019dd2a",
   "metadata": {},
   "outputs": [],
   "source": [
    "fs1=fpfs.catalog.summary_stats(mm1,ellM1,use_sig=False)\n",
    "selnm=['M00','R2','detect']\n",
    "cutsig=[sigM,sigR,sigP]\n",
    "\n",
    "# clean outcome\n",
    "fs1.clear_outcomes()\n",
    "cut=[10**((27.-cutM)/2.5),cutR,cutP]\n",
    "# weight array\n",
    "fs1.update_selection_weight(selnm,cut,cutsig)"
   ]
  },
  {
   "cell_type": "code",
   "execution_count": 5,
   "id": "f736c795-76f1-49b9-9770-b6fe9790bb6d",
   "metadata": {},
   "outputs": [
    {
     "name": "stderr",
     "output_type": "stream",
     "text": [
      "/var/tmp/pbs.104492.idark/ipykernel_151408/2899124203.py:3: RuntimeWarning: invalid value encountered in log10\n",
      "  m1   =   -2.5 * np.log10(mm1['fpfs_M00']*1.904) + 27.\n"
     ]
    },
    {
     "data": {
      "image/png": "[encoded data removed]",
      "text/plain": [
       "<Figure size 432x504 with 2 Axes>"
      ]
     },
     "metadata": {
      "needs_background": "light"
     },
     "output_type": "display_data"
    }
   ],
   "source": [
    "pix_scale=0.168\n",
    "nbins=80\n",
    "m1   =   -2.5 * np.log10(mm1['fpfs_M00']*1.904) + 27.\n",
    "r2   =   (mm1['fpfs_M20']+mm1['fpfs_M00'])/(mm1['fpfs_M00'])\n",
    "plt.close()\n",
    "fig,axes=pltutil.make_figure_axes(nx=1,ny=2,square=False)\n",
    "ax=axes[0]\n",
    "ax.hist(m1,bins=nbins,density=False,linewidth=2.,color=pltutil.colors[1],range=(20,27),\\\n",
    "        label='All',alpha=0.8,histtype='stepfilled')\n",
    "ax.hist(m1,bins=nbins,weights=fs1.ws,density=False,linewidth=2.,color=pltutil.colors[2],range=(20,27),\\\n",
    "        label='Postselection',alpha=0.4,histtype='stepfilled',hatch='/')\n",
    "\n",
    "ax.legend(loc='upper left',fontsize=16)\n",
    "ax.set_xlim(21,26.5)\n",
    "ax.set_ylim(1e3,2e5)\n",
    "ax.set_yscale('log')\n",
    "ax.set_xlabel('FPFS magnitude')\n",
    "ax.set_ylabel('number histogram')\n",
    "ax.grid()\n",
    "\n",
    "ax=axes[1]\n",
    "ax.hist(r2,bins=nbins,density=False,linewidth=2.,color=pltutil.colors[1],range=(-0.6,1.4),\\\n",
    "        alpha=0.8,histtype='stepfilled')\n",
    "ax.hist(r2,bins=nbins,density=False,weights=fs1.ws,linewidth=2.,color=pltutil.colors[2],range=(-0.6,1.4),\\\n",
    "        alpha=0.4,histtype='stepfilled',hatch='/')\n",
    "ax.set_xlim(-0.6,1.4)\n",
    "ax.set_ylim(1e2,2e5)\n",
    "ax.set_yscale('log')\n",
    "ax.set_xlabel('FPFS resolution')\n",
    "ax.set_ylabel('number histogram')\n",
    "ax.grid()\n",
    "fig.tight_layout()\n",
    "\n",
    "\n",
    "gc.collect()\n",
    "fig.savefig('obsHist_iso_center.pdf')"
   ]
  },
  {
   "cell_type": "code",
   "execution_count": null,
   "id": "f777ef04-f8f4-422b-8129-3209793ba3a4",
   "metadata": {},
   "outputs": [],
   "source": [
    "pix_scale=0.168\n",
    "C=12.\n",
    "nbins=70\n",
    "m1   =   -2.5 * np.log10(mm1['fpfs_M00']) + 27.\n",
    "r2   =   mm1['fpfs_v1']\n",
    "msk=(m1<25.5)&(r2>=0.05)\n",
    "plt.close()\n",
    "fig,axes=pltutil.make_figure_axes(nx=1,ny=2,square=False)\n",
    "ax=axes[0]\n",
    "ax.hist(m1,bins=nbins,density=False,linewidth=2.,color=pltutil.colors[1],range=(20,27),\\\n",
    "        label='All',alpha=0.8,histtype='stepfilled')\n",
    "ax.hist(m1[msk],bins=nbins,density=False,linewidth=2.,color=pltutil.colors[2],range=(20,27),\\\n",
    "        label='post selected',alpha=0.4,histtype='stepfilled',hatch='/')\n",
    "\n",
    "#leg=ax.legend(loc='upper left',fontsize=20,handlelength=0,handletextpad=0,fancybox=False,markerscale=0)\n",
    "#for it,text in enumerate(leg.get_texts()):\n",
    "#    text.set_color(pltutil.colors[it+1])\n",
    "ax.legend(loc='upper left',fontsize=16)\n",
    "ax.set_xlim(21,27)\n",
    "ax.set_ylim(2e3,2e6)\n",
    "ax.set_yscale('log')\n",
    "ax.set_xlabel('FPFS peak magnitude')\n",
    "ax.set_ylabel('number histogram')\n",
    "ax.grid()\n",
    "\n",
    "ax=axes[1]\n",
    "ax.hist(r2,bins=nbins,density=False,linewidth=2.,color=pltutil.colors[1],range=(-0.5,1.4),\\\n",
    "        alpha=0.8,histtype='stepfilled')\n",
    "ax.hist(r2[msk],bins=nbins,density=False,linewidth=2.,color=pltutil.colors[2],range=(-0.5,1.4),\\\n",
    "        alpha=0.4,histtype='stepfilled',hatch='/')\n",
    "ax.set_xlim(-0.25,0.8)\n",
    "#ax.set_yscale('log')\n",
    "ax.set_xlabel('FPFS resolution')\n",
    "ax.set_ylabel('number histogram')\n",
    "ax.grid()\n",
    "fig.tight_layout()\n",
    "\n",
    "\n",
    "gc.collect()\n",
    "#fig.savefig('obsHist.pdf')"
   ]
  }
 ],
 "metadata": {
  "kernelspec": {
   "display_name": "Python 3 (ipykernel)",
   "language": "python",
   "name": "python3"
  },
  "language_info": {
   "codemirror_mode": {
    "name": "ipython",
    "version": 3
   },
   "file_extension": ".py",
   "mimetype": "text/x-python",
   "name": "python",
   "nbconvert_exporter": "python",
   "pygments_lexer": "ipython3",
   "version": "3.8.13"
  }
 },
 "nbformat": 4,
 "nbformat_minor": 5
}
