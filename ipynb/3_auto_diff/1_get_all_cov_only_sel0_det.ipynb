{
 "cells": [
  {
   "cell_type": "code",
   "execution_count": 1,
   "id": "d03db39a-a790-4037-b03e-87635e2d1f36",
   "metadata": {},
   "outputs": [],
   "source": [
    "%load_ext autoreload\n",
    "%autoreload 2\n",
    "%matplotlib inline\n",
    "\n",
    "import os\n",
    "import fpfs\n",
    "import fitsio\n",
    "import impt\n",
    "import jax.numpy as jnp\n",
    "cov_fname = os.path.join(impt.fpfs.__data_dir__, \"modes_cov_mat_paper3_045.fits\")\n",
    "cov_mat = fitsio.read(cov_fname)"
   ]
  },
  {
   "cell_type": "code",
   "execution_count": 2,
   "id": "7a0708a1-a727-41fd-ba51-84fa60658a20",
   "metadata": {},
   "outputs": [
    {
     "name": "stderr",
     "output_type": "stream",
     "text": [
      "2023/01/14 21:42:37 ---  Remote TPU is not linked into jax; skipping remote TPU.\n",
      "2023/01/14 21:42:37 ---  Unable to initialize backend 'tpu_driver': Could not initialize backend 'tpu_driver'\n",
      "2023/01/14 21:42:37 ---  Unable to initialize backend 'cuda': module 'jaxlib.xla_extension' has no attribute 'GpuAllocatorConfig'\n",
      "2023/01/14 21:42:37 ---  Unable to initialize backend 'rocm': module 'jaxlib.xla_extension' has no attribute 'GpuAllocatorConfig'\n",
      "2023/01/14 21:42:37 ---  Unable to initialize backend 'tpu': module 'jaxlib.xla_extension' has no attribute 'get_tpu_client'\n",
      "2023/01/14 21:42:37 ---  Unable to initialize backend 'plugin': xla_extension has no attributes named get_plugin_device_client. Compile TensorFlow with //tensorflow/compiler/xla/python:enable_plugin_device set to true (defaults to false) to enable this.\n",
      "2023/01/14 21:42:37 ---  No GPU/TPU found, falling back to CPU. (Set TF_CPP_MIN_LOG_LEVEL=0 and rerun for more info.)\n"
     ]
    }
   ],
   "source": [
    "test_fname = os.path.join(\n",
    "    impt.fpfs.__data_dir__,\n",
    "    \"fpfs-cut32-0000-g1-0000.fits\",\n",
    ")\n",
    "test_fname = \"/lustre/work/xiangchong.li/work/FPFS2/sim/srcfs3_unif3_cosmo085-var7em3_try3/psf60/fpfs-cut32-0001-g1-0000.fits\"\n",
    "\n",
    "\n",
    "# impt.fpfs\n",
    "cat = impt.fpfs.read_catalog(test_fname)\n",
    "# FPFS\n",
    "data = fitsio.read(test_fname)\n",
    "cov_mat2 = impt.fpfs.utils.fpfscov_to_imptcov(data)"
   ]
  },
  {
   "cell_type": "code",
   "execution_count": 3,
   "id": "b85a05ab-4aab-4c2e-a1e8-ff68d6e17bef",
   "metadata": {},
   "outputs": [],
   "source": [
    "use_sig = False\n",
    "funcnm = \"ts2\"\n",
    "params = impt.fpfs.FpfsParams(\n",
    "    Const = 20,\n",
    "    lower_m00=1.5,\n",
    "    sigma_m00=0.2,\n",
    "    lower_r2=-0.05,\n",
    "    upper_r2=1000.,\n",
    "    sigma_r2=0.5,\n",
    "    sigma_v=0.2,\n",
    ")\n",
    "e1_impt = impt.fpfs.FpfsE1(params, func_name=funcnm)\n",
    "e2_impt = impt.fpfs.FpfsE2(params, func_name=funcnm)\n",
    "w_det = impt.fpfs.FpfsWeightDetect(params, func_name=funcnm)\n",
    "w_sel = impt.fpfs.FpfsWeightSelect(params, func_name=funcnm)\n",
    "\n",
    "e1_s = e1_impt*w_sel*w_det\n",
    "e2_s = e2_impt*w_sel*w_det\n",
    "\n",
    "de1s_dg1 = impt.RespG1(e1_s)\n",
    "de2s_dg2 = impt.RespG2(e2_s)"
   ]
  },
  {
   "cell_type": "code",
   "execution_count": 4,
   "id": "deb43ef6-ef6e-47d0-aa45-027ada0c09f8",
   "metadata": {},
   "outputs": [],
   "source": [
    "selnm = np.array([\"detect2\", \"M00\", \"R2\"])\n",
    "#selnm = np.array([])\n",
    "ell_fpfs = fpfs.catalog.fpfs_m2e(data, const=params.Const, noirev=False)\n",
    "fs = fpfs.catalog.summary_stats(data, ell_fpfs, use_sig=use_sig, ratio=1.0)\n",
    "fs = impt.fpfs.test_utils.initialize_FPFS(fs, selnm, params)\n",
    "\n",
    "ell_fpfs2 = fpfs.catalog.fpfs_m2e(data, const=params.Const, noirev=True)\n",
    "fs2 = fpfs.catalog.summary_stats(data, ell_fpfs2, use_sig=use_sig, ratio=1.0)\n",
    "fs2 = impt.fpfs.test_utils.initialize_FPFS(fs2, selnm, params)"
   ]
  },
  {
   "cell_type": "code",
   "execution_count": 5,
   "id": "b70ac8c6-9ec7-46cb-af26-8ba5202ac7d5",
   "metadata": {},
   "outputs": [
    {
     "name": "stdout",
     "output_type": "stream",
     "text": [
      "-8.539088182277064\n",
      "-8.539088182277064\n",
      "CPU times: user 656 ms, sys: 51.2 ms, total: 707 ms\n",
      "Wall time: 723 ms\n"
     ]
    }
   ],
   "source": [
    "print(fs.sumE1)\n",
    "%time print(jnp.sum(e1_s.evaluate(cat)))"
   ]
  },
  {
   "cell_type": "code",
   "execution_count": 6,
   "id": "463bcccb-d1a1-4869-8bba-70ba531f0163",
   "metadata": {},
   "outputs": [
    {
     "name": "stdout",
     "output_type": "stream",
     "text": [
      "-2.0238737370088904\n",
      "-2.0238737370088913\n",
      "CPU times: user 634 ms, sys: 10.4 ms, total: 645 ms\n",
      "Wall time: 614 ms\n"
     ]
    }
   ],
   "source": [
    "print(fs.sumE2)\n",
    "%time print(jnp.sum(e2_s.evaluate(cat)))"
   ]
  },
  {
   "cell_type": "code",
   "execution_count": 11,
   "id": "ad24193b-f5b7-4927-b738-d9b51220e695",
   "metadata": {},
   "outputs": [
    {
     "name": "stdout",
     "output_type": "stream",
     "text": [
      "0.019710821283596552\n",
      "CPU times: user 2.73 s, sys: 59.5 ms, total: 2.79 s\n",
      "Wall time: 2.73 s\n",
      "0.07203644469433967\n"
     ]
    }
   ],
   "source": [
    "bnoise = impt.BiasNoise(e1_s, cov_mat2)\n",
    "%time print(jnp.sum(bnoise.evaluate(cat)))\n",
    "print(fs2.sumE1 - fs.sumE1 + fs2.corE1 - fs.corE1)"
   ]
  },
  {
   "cell_type": "code",
   "execution_count": 13,
   "id": "61554d25-2bf9-4212-8afa-8b6df87e8b31",
   "metadata": {},
   "outputs": [
    {
     "name": "stdout",
     "output_type": "stream",
     "text": [
      "CPU times: user 2.85 s, sys: 117 ms, total: 2.97 s\n",
      "Wall time: 2.88 s\n"
     ]
    }
   ],
   "source": [
    "%time a=e1_s.hessian(cat)"
   ]
  },
  {
   "cell_type": "code",
   "execution_count": 8,
   "id": "f2b692b1-7e16-4c5e-afa4-ab51640f634e",
   "metadata": {},
   "outputs": [
    {
     "name": "stdout",
     "output_type": "stream",
     "text": [
      "1.503245617556784\n",
      "CPU times: user 2.74 s, sys: 26.4 ms, total: 2.76 s\n",
      "Wall time: 2.7 s\n",
      "0.07203644469433967\n"
     ]
    }
   ],
   "source": [
    "bnoise = impt.BiasNoise(e1_s, cov_mat)\n",
    "%time print(jnp.sum(bnoise.evaluate(cat)))\n",
    "print(fs2.sumE1 - fs.sumE1 + fs2.corE1 - fs.corE1)"
   ]
  },
  {
   "cell_type": "code",
   "execution_count": 164,
   "id": "1771758f-09cb-4f8d-b478-1c7e0867f5c2",
   "metadata": {},
   "outputs": [
    {
     "name": "stdout",
     "output_type": "stream",
     "text": [
      "0.21253593602579096\n",
      "-0.14050303438970047\n"
     ]
    }
   ],
   "source": [
    "bnoise = impt.BiasNoise(e2_s, cov_mat2)\n",
    "print(jnp.sum(bnoise.evaluate(cat)))\n",
    "print(fs2.sumE2 - fs.sumE2 + fs2.corE2 - fs.corE2)"
   ]
  },
  {
   "cell_type": "code",
   "execution_count": 165,
   "id": "11e44412-643d-4ff8-8a7d-10fd74b2a47a",
   "metadata": {},
   "outputs": [
    {
     "name": "stdout",
     "output_type": "stream",
     "text": [
      "-0.13002561744247934\n",
      "-0.14050303438970047\n"
     ]
    }
   ],
   "source": [
    "bnoise = impt.BiasNoise(e2_s, cov_mat)\n",
    "print(jnp.sum(bnoise.evaluate(cat)))\n",
    "print(fs2.sumE2 - fs.sumE2 + fs2.corE2 - fs.corE2)"
   ]
  },
  {
   "cell_type": "code",
   "execution_count": 166,
   "id": "4eb8f914-6f78-4737-a63b-97ae2fb44dce",
   "metadata": {},
   "outputs": [
    {
     "name": "stdout",
     "output_type": "stream",
     "text": [
      "426.5762868148186\n",
      "426.1335293516627\n"
     ]
    }
   ],
   "source": [
    "print(fs.sumR1 + fs.corR1)\n",
    "print(jnp.sum(de1s_dg1.evaluate(cat)))"
   ]
  },
  {
   "cell_type": "code",
   "execution_count": 167,
   "id": "5b3d7a8b-6194-4059-8c43-bf1045186ef4",
   "metadata": {},
   "outputs": [
    {
     "name": "stdout",
     "output_type": "stream",
     "text": [
      "432.8743618852087\n",
      "433.31615734349873\n"
     ]
    }
   ],
   "source": [
    "print(fs.sumR2 + fs.corR2)\n",
    "print(jnp.sum(de2s_dg2.evaluate(cat)))"
   ]
  },
  {
   "cell_type": "code",
   "execution_count": 168,
   "id": "4b07531b-85e5-408f-b014-f8374cf79525",
   "metadata": {},
   "outputs": [
    {
     "name": "stdout",
     "output_type": "stream",
     "text": [
      "-17.125833926390726\n",
      "15.103984980694104\n"
     ]
    }
   ],
   "source": [
    "bnoise = impt.BiasNoise(de1s_dg1, cov_mat2)\n",
    "print(jnp.sum(bnoise.evaluate(cat)))\n",
    "print(fs2.sumR1 - fs.sumR1 + fs2.corR1 - fs.corR1)"
   ]
  },
  {
   "cell_type": "code",
   "execution_count": 169,
   "id": "5aa5998f-7e3b-42ea-acda-245f75157642",
   "metadata": {},
   "outputs": [
    {
     "name": "stdout",
     "output_type": "stream",
     "text": [
      "-10.758604706388777\n",
      "15.103984980694104\n"
     ]
    }
   ],
   "source": [
    "bnoise = impt.BiasNoise(de1s_dg1, cov_mat)\n",
    "print(jnp.sum(bnoise.evaluate(cat)))\n",
    "print(fs2.sumR1 - fs.sumR1 + fs2.corR1 - fs.corR1 )"
   ]
  },
  {
   "cell_type": "code",
   "execution_count": 170,
   "id": "7eb1060c-e38d-466a-89e6-caa54c1209e8",
   "metadata": {},
   "outputs": [
    {
     "name": "stdout",
     "output_type": "stream",
     "text": [
      "-22.799225218492257\n",
      "15.208755368492042\n"
     ]
    }
   ],
   "source": [
    "bnoise = impt.BiasNoise(de2s_dg2, cov_mat2)\n",
    "print(jnp.sum(bnoise.evaluate(cat)))\n",
    "print(fs2.sumR2 - fs.sumR2 + fs2.corR2 - fs.corR2)"
   ]
  },
  {
   "cell_type": "code",
   "execution_count": 171,
   "id": "accf137b-ee35-40a5-9d0f-6ef5f6cd9cdd",
   "metadata": {},
   "outputs": [
    {
     "name": "stdout",
     "output_type": "stream",
     "text": [
      "-28.138323500896824\n",
      "15.208755368492042\n"
     ]
    }
   ],
   "source": [
    "bnoise = impt.BiasNoise(de2s_dg2, cov_mat)\n",
    "print(jnp.sum(bnoise.evaluate(cat)))\n",
    "print(fs2.sumR2 - fs.sumR2 + fs2.corR2 - fs.corR2 )"
   ]
  },
  {
   "cell_type": "code",
   "execution_count": 172,
   "id": "9eb60482-8392-486c-9eda-72b4a65eed88",
   "metadata": {},
   "outputs": [
    {
     "name": "stdout",
     "output_type": "stream",
     "text": [
      "-28.138323500896824\n",
      "15.208755368492042\n"
     ]
    }
   ],
   "source": [
    "cov_mat3 = cov_mat\n",
    "cov_mat3[8:, 8:] = 0.\n",
    "bnoise = impt.BiasNoise(de2s_dg2, cov_mat3)\n",
    "print(jnp.sum(bnoise.evaluate(cat)))\n",
    "print(fs2.sumR2 - fs.sumR2 + fs2.corR2 - fs.corR2 )"
   ]
  },
  {
   "cell_type": "code",
   "execution_count": 173,
   "id": "e88b4ff4-9636-4472-bbdc-7f6d6d4b38c4",
   "metadata": {},
   "outputs": [
    {
     "data": {
      "text/plain": [
       "0.2527604999377557"
      ]
     },
     "execution_count": 173,
     "metadata": {},
     "output_type": "execute_result"
    }
   ],
   "source": [
    "cov_mat3[0,0]"
   ]
  },
  {
   "cell_type": "code",
   "execution_count": 174,
   "id": "0ccfecca-ead0-4d22-863d-b317f7963fcf",
   "metadata": {},
   "outputs": [
    {
     "data": {
      "text/plain": [
       "Array(0.2527605, dtype=float64)"
      ]
     },
     "execution_count": 174,
     "metadata": {},
     "output_type": "execute_result"
    }
   ],
   "source": [
    "cov_mat2[0,0]"
   ]
  }
 ],
 "metadata": {
  "kernelspec": {
   "display_name": "Python 3 (ipykernel)",
   "language": "python",
   "name": "python3"
  },
  "language_info": {
   "codemirror_mode": {
    "name": "ipython",
    "version": 3
   },
   "file_extension": ".py",
   "mimetype": "text/x-python",
   "name": "python",
   "nbconvert_exporter": "python",
   "pygments_lexer": "ipython3",
   "version": "3.8.15"
  }
 },
 "nbformat": 4,
 "nbformat_minor": 5
}
