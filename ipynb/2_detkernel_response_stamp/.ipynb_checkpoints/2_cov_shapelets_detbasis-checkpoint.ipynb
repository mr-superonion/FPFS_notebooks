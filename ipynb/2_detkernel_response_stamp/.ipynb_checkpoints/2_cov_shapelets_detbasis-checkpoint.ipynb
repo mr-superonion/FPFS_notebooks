{
 "cells": [
  {
   "cell_type": "code",
   "execution_count": 1,
   "metadata": {},
   "outputs": [
    {
     "name": "stdout",
     "output_type": "stream",
     "text": [
      "Populating the interactive namespace from numpy and matplotlib\n",
      "Do not have lsst pipeline!\n"
     ]
    }
   ],
   "source": [
    "%pylab inline\n",
    "import pdet\n",
    "import galsim\n",
    "import numpy as np\n",
    "import astropy.io.fits as pyfits\n",
    "import numpy.lib.recfunctions as rfn\n",
    "\n",
    "from fpfs import imgutil\n",
    "from fpfs import simutil\n",
    "from fpfs import fpfsBase\n",
    "wDir=os.path.join(os.environ['homeWrk'],'FPFS2','sim')"
   ]
  },
  {
   "cell_type": "code",
   "execution_count": 2,
   "metadata": {},
   "outputs": [],
   "source": [
    "ishear =   1\n",
    "rcut   =   16\n",
    "ngrid  =   64\n",
    "beg    =   ngrid//2-rcut\n",
    "end    =   beg+2*rcut\n",
    "gsigma =   6.*2.*np.pi/64\n",
    "beta   =   0.75\n",
    "ngal   =   1\n",
    "\n",
    "img    =   simutil.make_basic_sim('basicCenter_psf60','g%d-1111' %ishear,0,ny=ngal,nx=ngal,do_write=False)\n",
    "\n",
    "# PSF\n",
    "psfData=   pyfits.getdata(os.path.join(wDir,'galaxy_basic_psf60/psf-60.fits'))\n",
    "npad   =   (ngrid-psfData.shape[0])//2\n",
    "psfData2=   np.pad(psfData,(npad+1,npad),mode='constant')\n",
    "assert psfData2.shape[0]==ngrid\n",
    "psfData2=  psfData2[beg:end,beg:end]\n",
    "fpTask0=   fpfsBase.fpfsTask(psfData2,beta=beta)\n",
    "a0     =   fpTask0.measure(img[beg:end,beg:end])\n",
    "\n",
    "indX    =   np.arange(32,ngrid,64)\n",
    "indY    =   np.arange(32,ngrid,64)\n",
    "inds    =   np.meshgrid(indY,indX,indexing='ij')\n",
    "coords  =   np.array(np.zeros(inds[0].size),dtype=[('pdet_y','i4'),('pdet_x','i4')])\n",
    "coords['pdet_y']=   np.ravel(inds[0])\n",
    "coords['pdet_x']=   np.ravel(inds[1])\n",
    "out1    =   pdet.get_shear_response_rfft(imgTmp,psfData3,gsigma=gsigma,\\\n",
    "            coords=coords,thres=np.sqrt(noiVar)*0.)\n",
    "\n",
    "noiVar =   1e-3\n",
    "powIn  =   np.load(os.path.join(wDir,'corPre/noiPows2.npy'),allow_pickle=True).item()['%s'%rcut]*noiVar*100\n",
    "powModel=  np.zeros((1,powIn.shape[0],powIn.shape[1]))\n",
    "powModel[0]=powIn\n",
    "fpTask =   fpfsBase.fpfsTask(psfData2,noiFit=powModel[0],beta=beta,det_gsigma=gsigma)\n",
    "\n",
    "imgAll=np.tile(img,(100,100))\n",
    "ngrid2 =   ngrid*100\n",
    "npad   =   (ngrid2-psfData.shape[0])//2\n",
    "psfData3=  np.pad(psfData,(npad+1,npad),mode='constant')\n",
    "assert psfData3.shape[0]==ngrid2\n",
    "\n",
    "indX    =   np.arange(32,ngrid2,64)\n",
    "indY    =   np.arange(32,ngrid2,64)\n",
    "inds    =   np.meshgrid(indY,indX,indexing='ij')\n",
    "coords  =   np.array(np.zeros(inds[0].size),dtype=[('pdet_y','i4'),('pdet_x','i4')])\n",
    "coords['pdet_y']=   np.ravel(inds[0])\n",
    "coords['pdet_x']=   np.ravel(inds[1])"
   ]
  },
  {
   "cell_type": "code",
   "execution_count": 3,
   "metadata": {},
   "outputs": [],
   "source": [
    "for ifield in range(10):\n",
    "    noiFname=  os.path.join(wDir,'noise','noi%04d.fits' %ifield)\n",
    "    # multiply by 10 since the noise has variance 0.01\n",
    "    noiData=   pyfits.open(noiFname)[0].data*10.*np.sqrt(noiVar)\n",
    "    imgTmp =   imgAll+noiData\n",
    "    # Also times 100 for the noivar model\n",
    "    break"
   ]
  },
  {
   "cell_type": "code",
   "execution_count": 4,
   "metadata": {},
   "outputs": [
    {
     "data": {
      "text/plain": [
       "0"
      ]
     },
     "execution_count": 4,
     "metadata": {},
     "output_type": "execute_result"
    }
   ],
   "source": [
    "out1    =   pdet.get_shear_response_rfft(imgTmp,psfData3,gsigma=gsigma,\\\n",
    "            coords=coords,thres=np.sqrt(noiVar)*0.)\n",
    "imgList =   [imgTmp[cc['pdet_y']-rcut:cc['pdet_y']+rcut,\\\n",
    "            cc['pdet_x']-rcut:cc['pdet_x']+rcut] for cc in out1]\n",
    "out     =   fpTask.measure(imgList)\n",
    "out     =   rfn.merge_arrays([out,out1],flatten=True,usemask=False)\n",
    "del out1,imgList\n",
    "import gc\n",
    "gc.collect()"
   ]
  }
 ],
 "metadata": {
  "kernelspec": {
   "display_name": "Python 3 (ipykernel)",
   "language": "python",
   "name": "python3"
  },
  "language_info": {
   "codemirror_mode": {
    "name": "ipython",
    "version": 3
   },
   "file_extension": ".py",
   "mimetype": "text/x-python",
   "name": "python",
   "nbconvert_exporter": "python",
   "pygments_lexer": "ipython3",
   "version": "3.7.12"
  }
 },
 "nbformat": 4,
 "nbformat_minor": 4
}
