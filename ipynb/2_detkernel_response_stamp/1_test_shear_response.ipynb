{
 "cells": [
  {
   "cell_type": "code",
   "execution_count": 46,
   "id": "a8916355-47a0-4b39-acac-edc5b66b6a0f",
   "metadata": {},
   "outputs": [
    {
     "name": "stdout",
     "output_type": "stream",
     "text": [
      "Populating the interactive namespace from numpy and matplotlib\n"
     ]
    }
   ],
   "source": [
    "%pylab inline\n",
    "\n",
    "import os\n",
    "import gc\n",
    "import pdet\n",
    "import pltutil\n",
    "import numpy as np\n",
    "from fpfs import simutil\n",
    "import scipy.ndimage as ndi\n",
    "import matplotlib.pylab as plt\n",
    "import astropy.io.fits as pyfits\n",
    "from fpfs.imgutil import gauss_kernel\n",
    "wDir=os.path.join(os.environ['homeWrk'],'FPFS2')"
   ]
  },
  {
   "cell_type": "code",
   "execution_count": 7,
   "id": "1729e975-ca0a-40d8-abb8-5690ec0667f2",
   "metadata": {},
   "outputs": [],
   "source": [
    "ishear=1\n",
    "igroup=-1\n",
    "ngrid=64\n",
    "if igroup>=0:\n",
    "    ngal=100\n",
    "    img1=pyfits.getdata(os.path.join(wDir,'sim/galaxy_basicCenter_psf60/image-%d-g%d-0000.fits' %(igroup,ishear)))\n",
    "    img2=pyfits.getdata(os.path.join(wDir,'sim/galaxy_basicCenter_psf60/image-%d-g%d-2222.fits' %(igroup,ishear)))\n",
    "else:\n",
    "    ngal=1\n",
    "    img1=simutil.make_basic_sim('basicCenter_psf60','g%d-0000' %ishear,0,ny=ngal,nx=ngal,do_write=False)\n",
    "    img2=simutil.make_basic_sim('basicCenter_psf60','g%d-2222' %ishear,0,ny=ngal,nx=ngal,do_write=False)\n",
    "ngrid2=ngrid*ngal"
   ]
  },
  {
   "cell_type": "code",
   "execution_count": 118,
   "id": "7e59687b-c284-47b9-b8ab-3447f5ab1366",
   "metadata": {},
   "outputs": [],
   "source": [
    "# PSF\n",
    "psf    =   pyfits.getdata(os.path.join(wDir,'sim/galaxy_basic_psf60/psf-60.fits'))\n",
    "npad   =   (ngrid2-psf.shape[0])//2\n",
    "psfData=   np.pad(psf,(npad+1,npad),mode='constant')\n",
    "assert psfData.shape[0]==ngrid2\n",
    "psfF   =   np.fft.fftshift(np.fft.fft2(psfData))\n",
    "gsigma =   3.*2.*np.pi/64"
   ]
  },
  {
   "cell_type": "code",
   "execution_count": 126,
   "id": "527fe200-88a0-4e0a-98d8-0c75f2981bdf",
   "metadata": {},
   "outputs": [
    {
     "name": "stdout",
     "output_type": "stream",
     "text": [
      "-0.004242182751999185\n",
      "-0.004242182751999184\n",
      "[-0.00424218]\n",
      "-0.005135049865181934\n",
      "-0.005135049865181934\n",
      "[-0.00513505]\n",
      "-0.00524920935395393\n",
      "-0.005249209353953926\n",
      "[-0.00524921]\n",
      "-0.005140092699330462\n",
      "-0.005140092699330463\n",
      "[-0.00514009]\n",
      "-0.005550972680337371\n",
      "-0.005550972680337369\n",
      "[-0.00555097]\n",
      "-0.0051400927036513765\n",
      "-0.005140092703651376\n",
      "[-0.00514009]\n",
      "-0.005249209348346341\n",
      "-0.005249209348346339\n",
      "[-0.00524921]\n",
      "-0.005135049862548624\n",
      "-0.0051350498625486254\n",
      "[-0.00513505]\n",
      "-0.0042421827518683355\n",
      "-0.004242182751868335\n",
      "[-0.00424218]\n"
     ]
    }
   ],
   "source": [
    "# all of the functions in Fourier space \n",
    "# are centered at stamp's centroid\n",
    "gKer,(k2grid,k1grid)=gauss_kernel(ngrid2,ngrid2,gsigma,do_shift=True,return_grid=True)\n",
    "q1Ker  =   (k1grid**2.-k2grid**2.)/gsigma**2.*gKer\n",
    "q2Ker  =   (2.*k1grid*k2grid)/gsigma**2.*gKer\n",
    "d1Ker  =   (-1j*k1grid)*gKer\n",
    "d2Ker  =   (-1j*k2grid)*gKer\n",
    "for (j,i) in pdet._default_inds:\n",
    "    y      =   j-2\n",
    "    x      =   i-2\n",
    "    r1     =   (q1Ker+x*d1Ker-y*d2Ker)*np.exp(1j*(k1grid*x+k2grid*y))\n",
    "    r2     =   (q2Ker+y*d1Ker+x*d2Ker)*np.exp(1j*(k1grid*x+k2grid*y))\n",
    "    imgF   =   np.fft.fftshift(np.fft.fft2(img1))\n",
    "    print(np.sum(r2*imgF/psfF).real/ngrid/ngrid)\n",
    "    r1t    =   q1Ker+x*d1Ker-y*d2Ker\n",
    "    r2t    =   q2Ker+y*d1Ker+x*d2Ker\n",
    "    imgR1  =   np.fft.ifft2(np.fft.ifftshift(imgF/psfF*r1t))\n",
    "    imgR2  =   np.fft.ifft2(np.fft.ifftshift(imgF/psfF*r2t))\n",
    "    print(imgR2[y%ngrid,x%ngrid].real)\n",
    "    coords   = np.array(np.zeros(1),dtype=[('pdet_y','i4'),('pdet_x','i4')])\n",
    "    indX=np.arange(32,ngal*64,64)\n",
    "    indY=np.arange(32,ngal*64,64)\n",
    "    inds=np.meshgrid(indY,indX,indexing='ij')\n",
    "    coords['pdet_y']=np.ravel(inds[0])\n",
    "    coords['pdet_x']=np.ravel(inds[1])\n",
    "    out1=pdet.get_shear_response(img1,psfData,gsigma=gsigma,coords=coords)\n",
    "    print(out1['pdet_v%d%dr2' %(j,i)])\n",
    "    gc.collect()"
   ]
  },
  {
   "cell_type": "code",
   "execution_count": 109,
   "id": "a0b750bb-583d-4cc3-9528-7d81b1826bfc",
   "metadata": {},
   "outputs": [
    {
     "data": {
      "text/plain": [
       "46"
      ]
     },
     "execution_count": 109,
     "metadata": {},
     "output_type": "execute_result"
    }
   ],
   "source": [
    "ny,nx   =   psfData.shape\n",
    "psfF2   =   np.fft.fft2(np.fft.ifftshift(psfData))\n",
    "\n",
    "gKer2,(k2grid2,k1grid2)=gauss_kernel(ny,nx,gsigma,return_grid=True)\n",
    "\n",
    "# convolved images\n",
    "imgF2    =   np.fft.fft2(img1)/psfF2*gKer2\n",
    "del psfF2,psfData\n",
    "imgCov  =   np.fft.ifft2(imgF2).real\n",
    "# Q\n",
    "imgFQ1  =   imgF2*(k1grid2**2.-k2grid2**2.)/gsigma**2.\n",
    "imgFQ2  =   imgF2*(2.*k1grid2*k2grid2)/gsigma**2.\n",
    "imgCovQ1=   np.fft.ifft2(imgFQ1).real\n",
    "imgCovQ2=   np.fft.ifft2(imgFQ2).real\n",
    "del imgFQ1,imgFQ2 # these images take a lot of memory\n",
    "\n",
    "# D\n",
    "imgFD1  =   imgF2*(-1j*k1grid2)\n",
    "imgFD2  =   imgF2*(-1j*k2grid2)\n",
    "imgCovD1=   np.fft.ifft2(imgFD1).real\n",
    "imgCovD2=   np.fft.ifft2(imgFD2).real\n",
    "gc.collect()"
   ]
  }
 ],
 "metadata": {
  "kernelspec": {
   "display_name": "Python 3 (ipykernel)",
   "language": "python",
   "name": "python3"
  },
  "language_info": {
   "codemirror_mode": {
    "name": "ipython",
    "version": 3
   },
   "file_extension": ".py",
   "mimetype": "text/x-python",
   "name": "python",
   "nbconvert_exporter": "python",
   "pygments_lexer": "ipython3",
   "version": "3.8.13"
  }
 },
 "nbformat": 4,
 "nbformat_minor": 5
}
