{
 "cells": [
  {
   "cell_type": "code",
   "execution_count": 1,
   "metadata": {},
   "outputs": [
    {
     "name": "stdout",
     "output_type": "stream",
     "text": [
      "Populating the interactive namespace from numpy and matplotlib\n",
      "Do not have lsst pipeline!\n"
     ]
    }
   ],
   "source": [
    "%pylab inline\n",
    "import gc\n",
    "import pdet\n",
    "import galsim\n",
    "import numpy as np\n",
    "import astropy.io.fits as pyfits\n",
    "import numpy.lib.recfunctions as rfn\n",
    "\n",
    "from fpfs import imgutil\n",
    "from fpfs import simutil\n",
    "from fpfs import fpfsBase\n",
    "wDir=os.path.join(os.environ['homeWrk'],'FPFS2','sim')"
   ]
  },
  {
   "cell_type": "code",
   "execution_count": 2,
   "metadata": {},
   "outputs": [],
   "source": [
    "ishear =   1\n",
    "ngal   =   1\n",
    "rcut   =   16\n",
    "ngrid  =   64\n",
    "beg    =   ngrid//2-rcut\n",
    "end    =   beg+2*rcut\n",
    "gsigma =   6.*2.*np.pi/64\n",
    "beta   =   0.75\n",
    "noiVar =   8e-2\n",
    "\n",
    "img    =   simutil.make_basic_sim('basicCenter_psf60','g%d-1111' %ishear,2,ny=ngal,nx=ngal,do_write=False)\n",
    "\n",
    "# PSF\n",
    "psfData=   pyfits.getdata(os.path.join(wDir,'galaxy_basic_psf60/psf-60.fits'))\n",
    "npad   =   (ngrid-psfData.shape[0])//2\n",
    "psfData1=   np.pad(psfData,(npad+1,npad),mode='constant')\n",
    "assert psfData1.shape[0]==ngrid\n",
    "psfData2=  psfData1[beg:end,beg:end]\n",
    "fpTask0=   fpfsBase.fpfsTask(psfData2,beta=beta)\n",
    "a0     =   fpTask0.measure(img[beg:end,beg:end])\n",
    "\n",
    "indX    =   np.arange(32,ngrid,64)\n",
    "indY    =   np.arange(32,ngrid,64)\n",
    "inds    =   np.meshgrid(indY,indX,indexing='ij')\n",
    "coords  =   np.array(np.zeros(inds[0].size),dtype=[('pdet_y','i4'),('pdet_x','i4')])\n",
    "coords['pdet_y']=   np.ravel(inds[0])\n",
    "coords['pdet_x']=   np.ravel(inds[1])\n",
    "b0      =   pdet.get_shear_response_rfft(img,psfData1,gsigma=gsigma,\\\n",
    "            coords=coords,thres=0.)\n",
    "# Noiseless measurements\n",
    "out0    =   rfn.merge_arrays([a0,b0],flatten=True,usemask=False)\n",
    "out0D   =   pdet.peak2det(out0)\n",
    "out0E   =   pdet.fpfsM2E(out0,out0D,const=1000,noirev=False)\n",
    "del a0,b0"
   ]
  },
  {
   "cell_type": "code",
   "execution_count": 3,
   "metadata": {},
   "outputs": [
    {
     "name": "stdout",
     "output_type": "stream",
     "text": [
      "0.7340361\n"
     ]
    },
    {
     "data": {
      "image/png": "[encoded data removed]",
      "text/plain": [
       "<Figure size 432x288 with 1 Axes>"
      ]
     },
     "metadata": {
      "needs_background": "light"
     },
     "output_type": "display_data"
    }
   ],
   "source": [
    "plt.imshow(img)\n",
    "print(np.max(img))"
   ]
  },
  {
   "cell_type": "code",
   "execution_count": 4,
   "metadata": {},
   "outputs": [],
   "source": [
    "powIn  =   np.load(os.path.join(wDir,'corPre/noiPows2.npy'),allow_pickle=True).item()['%s'%rcut]*noiVar*100\n",
    "powModel=  np.zeros((1,powIn.shape[0],powIn.shape[1]))\n",
    "powModel[0]=powIn\n",
    "fpTask =   fpfsBase.fpfsTask(psfData2,noiFit=powModel[0],beta=beta,det_gsigma=gsigma)\n",
    "\n",
    "imgAll=np.tile(img,(100,100))\n",
    "ngrid2 =   ngrid*100\n",
    "npad   =   (ngrid2-psfData.shape[0])//2\n",
    "psfData3=  np.pad(psfData,(npad+1,npad),mode='constant')\n",
    "assert psfData3.shape[0]==ngrid2\n",
    "\n",
    "indX    =   np.arange(32,ngrid2,64)\n",
    "indY    =   np.arange(32,ngrid2,64)\n",
    "inds    =   np.meshgrid(indY,indX,indexing='ij')\n",
    "coords  =   np.array(np.zeros(inds[0].size),dtype=[('pdet_y','i4'),('pdet_x','i4')])\n",
    "coords['pdet_y']=   np.ravel(inds[0])\n",
    "coords['pdet_x']=   np.ravel(inds[1])"
   ]
  },
  {
   "cell_type": "code",
   "execution_count": 5,
   "metadata": {},
   "outputs": [],
   "source": [
    "outAll=[]\n",
    "for ifield in range(50):\n",
    "    noiFname=   os.path.join(wDir,'noise','noi%04d.fits' %ifield)\n",
    "    # multiply by 10 since the noise has variance 0.01\n",
    "    noiData=    pyfits.open(noiFname)[0].data*10.*np.sqrt(noiVar)\n",
    "    imgTmp =    imgAll+noiData\n",
    "    # Also times 100 for the noivar model\n",
    "    # Noisy measurements\n",
    "    b       =   pdet.get_shear_response_rfft(imgTmp,psfData3,gsigma=gsigma,\\\n",
    "                coords=coords,thres=np.sqrt(noiVar)*0.)\n",
    "    imgList =   [imgTmp[cc['pdet_y']-rcut:cc['pdet_y']+rcut,\\\n",
    "                cc['pdet_x']-rcut:cc['pdet_x']+rcut] for cc in b]\n",
    "    a       =   fpTask.measure(imgList)\n",
    "    out     =   rfn.merge_arrays([a,b],flatten=True,usemask=False)\n",
    "    outAll.append(out)\n",
    "    del a,b,imgList,out,imgTmp,noiData \n",
    "    gc.collect()"
   ]
  },
  {
   "cell_type": "code",
   "execution_count": 6,
   "metadata": {},
   "outputs": [
    {
     "data": {
      "text/plain": [
       "0"
      ]
     },
     "execution_count": 6,
     "metadata": {},
     "output_type": "execute_result"
    }
   ],
   "source": [
    "out=    rfn.stack_arrays(outAll,usemask=False)\n",
    "outD=   pdet.peak2det(out)\n",
    "outE=   pdet.fpfsM2E(out,outD,const=1000,noirev=True)\n",
    "outEUC= pdet.fpfsM2E(out,outD,const=1000)\n",
    "gc.collect()"
   ]
  },
  {
   "cell_type": "code",
   "execution_count": 7,
   "metadata": {},
   "outputs": [
    {
     "name": "stdout",
     "output_type": "stream",
     "text": [
      "1 2\n",
      "-5.289804718897044e-05\n",
      "7.190273191065687e-05\n",
      "2 1\n",
      "-0.00014815926180962756\n",
      "8.478630608097668e-06\n",
      "2 2\n",
      "0.00018722149305363487\n",
      "5.140796834440815e-05\n",
      "2 3\n",
      "0.0002511619916272813\n",
      "-7.594702374218624e-06\n",
      "3 2\n",
      "0.00013305000976099673\n",
      "0.0002247924960936661\n"
     ]
    }
   ],
   "source": [
    "for (j,i) in pdet._default_inds:\n",
    "    print(j,i)\n",
    "    print(np.average(outE['fpfs_e1v%d%dr1' %(j,i)]-out0E['fpfs_e1v%d%dr1'%(j,i)]))\n",
    "    print(np.average(outE['fpfs_e2v%d%dr2' %(j,i)]-out0E['fpfs_e2v%d%dr2'%(j,i)]))"
   ]
  },
  {
   "cell_type": "code",
   "execution_count": 8,
   "metadata": {},
   "outputs": [
    {
     "name": "stdout",
     "output_type": "stream",
     "text": [
      "1 2\n",
      "-0.00011321213494554802\n",
      "-9.475895981207806e-05\n",
      "2 1\n",
      "-0.0003950756957828278\n",
      "-0.0001358514196576048\n",
      "2 2\n",
      "0.0017348386756291534\n",
      "0.0014759253646358247\n",
      "2 3\n",
      "1.2762304299007701e-05\n",
      "-0.0001548595091967075\n",
      "3 2\n",
      "7.502162582055269e-05\n",
      "6.0307955690470457e-05\n"
     ]
    }
   ],
   "source": [
    "for (j,i) in pdet._default_inds:\n",
    "    print(j,i)\n",
    "    print(np.average(outEUC['fpfs_e1v%d%dr1'%(j,i)]-out0E['fpfs_e1v%d%dr1'%(j,i)]))\n",
    "    print(np.average(outEUC['fpfs_e2v%d%dr2'%(j,i)]-out0E['fpfs_e2v%d%dr2'%(j,i)]))"
   ]
  },
  {
   "cell_type": "code",
   "execution_count": 9,
   "metadata": {},
   "outputs": [
    {
     "name": "stdout",
     "output_type": "stream",
     "text": [
      "-0.0003274564468920569\n",
      "0.0004225269490187901\n"
     ]
    }
   ],
   "source": [
    "print(np.average(outE['fpfs_e1']-out0E['fpfs_e1']))\n",
    "print(np.average(outE['fpfs_e2']-out0E['fpfs_e2']))"
   ]
  },
  {
   "cell_type": "code",
   "execution_count": 10,
   "metadata": {},
   "outputs": [
    {
     "name": "stdout",
     "output_type": "stream",
     "text": [
      "0.0011434142559274133\n",
      "-0.000985617508080019\n"
     ]
    }
   ],
   "source": [
    "print(np.average(outEUC['fpfs_e1']-out0E['fpfs_e1']))\n",
    "print(np.average(outEUC['fpfs_e2']-out0E['fpfs_e2']))"
   ]
  },
  {
   "cell_type": "code",
   "execution_count": 11,
   "metadata": {},
   "outputs": [
    {
     "data": {
      "image/png": "[encoded data removed]",
      "text/plain": [
       "<Figure size 432x288 with 1 Axes>"
      ]
     },
     "metadata": {
      "needs_background": "light"
     },
     "output_type": "display_data"
    }
   ],
   "source": [
    "name='fpfs_M00'\n",
    "_=plt.hist(out[name]-out0[name],bins=50)"
   ]
  },
  {
   "cell_type": "code",
   "execution_count": 12,
   "metadata": {},
   "outputs": [
    {
     "name": "stdout",
     "output_type": "stream",
     "text": [
      "7869570.824337926\n",
      "9468097.425120182\n"
     ]
    }
   ],
   "source": [
    "name1='fpfs_M00'\n",
    "name2='fpfs_M00'\n",
    "name3='fpfs_N00N00'\n",
    "print(np.average((out[name2]-out0[name2])*(out[name1]-out0[name1])))\n",
    "print(np.average(out[name3]))"
   ]
  },
  {
   "cell_type": "code",
   "execution_count": 13,
   "metadata": {},
   "outputs": [
    {
     "name": "stdout",
     "output_type": "stream",
     "text": [
      "-1.0794594544960576\n",
      "-2.1272150336707853\n",
      "-4.060827745999763\n",
      "-3.0163025228910745\n",
      "22.291958012653065\n",
      "19.156386289197485\n",
      "-2.59066832400265\n",
      "-3.016852155086596\n",
      "0.46879210789526965\n",
      "-2.126449392947713\n",
      "5.819102999670458\n",
      "1.8448136466023366\n",
      "-1.9537412858212002\n",
      "-2.0563870681918406\n",
      "2.7784716637961058\n",
      "0.7807794642527884\n",
      "-0.24115290806206113\n",
      "-2.058575378805801\n",
      "1.713596032016929\n",
      "1.8428179691800777\n"
     ]
    }
   ],
   "source": [
    "for ind in pdet._default_inds:\n",
    "    name1='fpfs_M22c'\n",
    "    name2='pdet_v%d%dr1' %ind\n",
    "    name3='pdet_N22cV%d%dr1' %ind\n",
    "    print(np.average((outD[name2]-out0D[name2])*(out[name1]-out0[name1])))\n",
    "    print(np.average(outD[name3]))\n",
    "for ind in pdet._default_inds:\n",
    "    name1='fpfs_M00'\n",
    "    name2='pdet_v%d%dr1' %ind\n",
    "    name3='pdet_N00V%d%dr1' %ind\n",
    "    print(np.average((outD[name2]-out0D[name2])*(out[name1]-out0[name1])))\n",
    "    print(np.average(outD[name3]))"
   ]
  },
  {
   "cell_type": "code",
   "execution_count": 14,
   "metadata": {},
   "outputs": [
    {
     "name": "stdout",
     "output_type": "stream",
     "text": [
      "-2.426120270753622\n",
      "-2.57604038989845\n",
      "-3.392824588981391\n",
      "-2.500564493120047\n",
      "18.401177446312285\n",
      "18.54167392987647\n",
      "-2.3158596916712133\n",
      "-2.5069577905626073\n",
      "0.10447730970278679\n",
      "-2.5719287038239895\n"
     ]
    }
   ],
   "source": [
    "for ind in pdet._default_inds:\n",
    "    name1='fpfs_M22s'\n",
    "    name2='pdet_v%d%dr2' %ind\n",
    "    name3='pdet_N22sV%d%dr2' %ind\n",
    "    print(np.average((outD[name2]-out0D[name2])*(out[name1]-out0[name1])))\n",
    "    print(np.average(outD[name3]))"
   ]
  },
  {
   "cell_type": "code",
   "execution_count": 15,
   "metadata": {},
   "outputs": [
    {
     "name": "stdout",
     "output_type": "stream",
     "text": [
      "(1, 2)\n",
      "-3.376467253187833\n",
      "0.0744721256132871\n",
      "(2, 1)\n",
      "3.3537775557749314\n",
      "0.07019548319588244\n",
      "(2, 2)\n",
      "-1.2679943870943728\n",
      "-0.5208289330142725\n",
      "(2, 3)\n",
      "-3.37123624478431\n",
      "0.07189059515195009\n",
      "(3, 2)\n",
      "0.950981507908907\n",
      "0.07273349728006258\n"
     ]
    }
   ],
   "source": [
    "for ind in pdet._default_inds:\n",
    "    print(ind)\n",
    "    name1='fpfs_M00'\n",
    "    name2='pdet_v%d%dr2' %ind\n",
    "    name3='pdet_N00V%d%dr2' %ind\n",
    "    print(np.average((outD[name2]-out0D[name2])*(out[name1]-out0[name1])))\n",
    "    print(np.average(outD[name3]))"
   ]
  },
  {
   "cell_type": "code",
   "execution_count": 16,
   "metadata": {},
   "outputs": [
    {
     "name": "stdout",
     "output_type": "stream",
     "text": [
      "(1, 2)\n",
      "5.819102999670458\n",
      "1.8448136466023366\n",
      "(2, 1)\n",
      "-1.9537412858212002\n",
      "-2.0563870681918406\n",
      "(2, 2)\n",
      "2.7784716637961058\n",
      "0.7807794642527884\n",
      "(2, 3)\n",
      "-0.24115290806206113\n",
      "-2.058575378805801\n",
      "(3, 2)\n",
      "1.713596032016929\n",
      "1.8428179691800777\n"
     ]
    }
   ],
   "source": [
    "for ind in pdet._default_inds:\n",
    "    print(ind)\n",
    "    name1='fpfs_M00'\n",
    "    name2='pdet_v%d%dr1' %ind\n",
    "    name3='pdet_N00V%d%dr1' %ind\n",
    "    print(np.average((outD[name2]-out0D[name2])*(out[name1]-out0[name1])))\n",
    "    print(np.average(outD[name3]))"
   ]
  },
  {
   "cell_type": "code",
   "execution_count": 17,
   "metadata": {},
   "outputs": [
    {
     "data": {
      "image/png": "[encoded data removed]",
      "text/plain": [
       "<Figure size 432x288 with 1 Axes>"
      ]
     },
     "metadata": {
      "needs_background": "light"
     },
     "output_type": "display_data"
    }
   ],
   "source": [
    "_=plt.hist((outD[name2]-out0D[name2])*(out[name1]-out0[name1]),bins=100,range=(-1000,1000))"
   ]
  }
 ],
 "metadata": {
  "kernelspec": {
   "display_name": "Python 3 (ipykernel)",
   "language": "python",
   "name": "python3"
  },
  "language_info": {
   "codemirror_mode": {
    "name": "ipython",
    "version": 3
   },
   "file_extension": ".py",
   "mimetype": "text/x-python",
   "name": "python",
   "nbconvert_exporter": "python",
   "pygments_lexer": "ipython3",
   "version": "3.7.12"
  }
 },
 "nbformat": 4,
 "nbformat_minor": 4
}
