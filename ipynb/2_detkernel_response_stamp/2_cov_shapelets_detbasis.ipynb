{
 "cells": [
  {
   "cell_type": "code",
   "execution_count": 1,
   "metadata": {},
   "outputs": [
    {
     "name": "stdout",
     "output_type": "stream",
     "text": [
      "Populating the interactive namespace from numpy and matplotlib\n",
      "Do not have lsst pipeline!\n"
     ]
    }
   ],
   "source": [
    "%pylab inline\n",
    "import pdet\n",
    "import galsim\n",
    "import numpy as np\n",
    "import astropy.io.fits as pyfits\n",
    "import numpy.lib.recfunctions as rfn\n",
    "\n",
    "from fpfs import imgutil\n",
    "from fpfs import simutil\n",
    "from fpfs import fpfsBase\n",
    "wDir=os.path.join(os.environ['homeWrk'],'FPFS2','sim')"
   ]
  },
  {
   "cell_type": "code",
   "execution_count": 9,
   "metadata": {},
   "outputs": [],
   "source": [
    "ishear =   1\n",
    "rcut   =   16\n",
    "ngrid  =   64\n",
    "beg    =   ngrid//2-rcut\n",
    "end    =   beg+2*rcut\n",
    "gsigma =   6.*2.*np.pi/64\n",
    "beta   =   0.75\n",
    "ngal   =   1\n",
    "noiVar =   1e-4\n",
    "\n",
    "img    =   simutil.make_basic_sim('basicCenter_psf60','g%d-1111' %ishear,1,ny=ngal,nx=ngal,do_write=False)\n",
    "\n",
    "# PSF\n",
    "psfData=   pyfits.getdata(os.path.join(wDir,'galaxy_basic_psf60/psf-60.fits'))\n",
    "npad   =   (ngrid-psfData.shape[0])//2\n",
    "psfData1=   np.pad(psfData,(npad+1,npad),mode='constant')\n",
    "assert psfData1.shape[0]==ngrid\n",
    "psfData2=  psfData1[beg:end,beg:end]\n",
    "fpTask0=   fpfsBase.fpfsTask(psfData2,beta=beta)\n",
    "a0     =   fpTask0.measure(img[beg:end,beg:end])\n",
    "\n",
    "indX    =   np.arange(32,ngrid,64)\n",
    "indY    =   np.arange(32,ngrid,64)\n",
    "inds    =   np.meshgrid(indY,indX,indexing='ij')\n",
    "coords  =   np.array(np.zeros(inds[0].size),dtype=[('pdet_y','i4'),('pdet_x','i4')])\n",
    "coords['pdet_y']=   np.ravel(inds[0])\n",
    "coords['pdet_x']=   np.ravel(inds[1])\n",
    "b0      =   pdet.get_shear_response_rfft(img,psfData1,gsigma=gsigma,\\\n",
    "            coords=coords,thres=0.)\n",
    "bb0     =   pdet.peak2det(b0)\n",
    "# Noiseless measurements\n",
    "out0    =   rfn.merge_arrays([a0,bb0],flatten=True,usemask=False)\n",
    "del a0,b0"
   ]
  },
  {
   "cell_type": "code",
   "execution_count": 3,
   "metadata": {},
   "outputs": [],
   "source": [
    "powIn  =   np.load(os.path.join(wDir,'corPre/noiPows2.npy'),allow_pickle=True).item()['%s'%rcut]*noiVar*100\n",
    "powModel=  np.zeros((1,powIn.shape[0],powIn.shape[1]))\n",
    "powModel[0]=powIn\n",
    "fpTask =   fpfsBase.fpfsTask(psfData2,noiFit=powModel[0],beta=beta,det_gsigma=gsigma)\n",
    "\n",
    "imgAll=np.tile(img,(100,100))\n",
    "ngrid2 =   ngrid*100\n",
    "npad   =   (ngrid2-psfData.shape[0])//2\n",
    "psfData3=  np.pad(psfData,(npad+1,npad),mode='constant')\n",
    "assert psfData3.shape[0]==ngrid2\n",
    "\n",
    "indX    =   np.arange(32,ngrid2,64)\n",
    "indY    =   np.arange(32,ngrid2,64)\n",
    "inds    =   np.meshgrid(indY,indX,indexing='ij')\n",
    "coords  =   np.array(np.zeros(inds[0].size),dtype=[('pdet_y','i4'),('pdet_x','i4')])\n",
    "coords['pdet_y']=   np.ravel(inds[0])\n",
    "coords['pdet_x']=   np.ravel(inds[1])"
   ]
  },
  {
   "cell_type": "code",
   "execution_count": 4,
   "metadata": {},
   "outputs": [],
   "source": [
    "outAll=[]\n",
    "for ifield in range(20):\n",
    "    noiFname=  os.path.join(wDir,'noise','noi%04d.fits' %ifield)\n",
    "    # multiply by 10 since the noise has variance 0.01\n",
    "    noiData=   pyfits.open(noiFname)[0].data*10.*np.sqrt(noiVar)\n",
    "    imgTmp =   imgAll+noiData\n",
    "    # Also times 100 for the noivar model\n",
    "    # Noisy measurements\n",
    "    c       =   pdet.get_shear_response_rfft(imgTmp,psfData3,gsigma=gsigma,\\\n",
    "                coords=coords,thres=np.sqrt(noiVar)*0.)\n",
    "    b       =   pdet.peak2det(c)\n",
    "    del c\n",
    "    imgList =   [imgTmp[cc['pdet_y']-rcut:cc['pdet_y']+rcut,\\\n",
    "                cc['pdet_x']-rcut:cc['pdet_x']+rcut] for cc in b]\n",
    "    a       =   fpTask.measure(imgList)\n",
    "    out     =   rfn.merge_arrays([a,b],flatten=True,usemask=False)\n",
    "    outAll.append(out)\n",
    "    del a,b,imgList,out,imgTmp,noiData\n",
    "    import gc\n",
    "    gc.collect()"
   ]
  },
  {
   "cell_type": "code",
   "execution_count": 5,
   "metadata": {},
   "outputs": [],
   "source": [
    "outAll= rfn.stack_arrays(outAll,usemask=False)"
   ]
  },
  {
   "cell_type": "code",
   "execution_count": 8,
   "metadata": {},
   "outputs": [
    {
     "data": {
      "text/plain": [
       "('fpfs_M00',\n",
       " 'fpfs_M22c',\n",
       " 'fpfs_M22s',\n",
       " 'fpfs_M40',\n",
       " 'fpfs_N00N00',\n",
       " 'fpfs_N22cN22c',\n",
       " 'fpfs_N22sN22s',\n",
       " 'fpfs_N40N40',\n",
       " 'fpfs_N00N22c',\n",
       " 'fpfs_N00N22s',\n",
       " 'fpfs_N00N40',\n",
       " 'pdet_N00f12r1',\n",
       " 'pdet_N00f12r2',\n",
       " 'pdet_N22cf12r1',\n",
       " 'pdet_N22sf12r2',\n",
       " 'pdet_N00f21r1',\n",
       " 'pdet_N00f21r2',\n",
       " 'pdet_N22cf21r1',\n",
       " 'pdet_N22sf21r2',\n",
       " 'pdet_N00f22r1',\n",
       " 'pdet_N00f22r2',\n",
       " 'pdet_N22cf22r1',\n",
       " 'pdet_N22sf22r2',\n",
       " 'pdet_N00f23r1',\n",
       " 'pdet_N00f23r2',\n",
       " 'pdet_N22cf23r1',\n",
       " 'pdet_N22sf23r2',\n",
       " 'pdet_N00f32r1',\n",
       " 'pdet_N00f32r2',\n",
       " 'pdet_N22cf32r1',\n",
       " 'pdet_N22sf32r2',\n",
       " 'pdet_y',\n",
       " 'pdet_x',\n",
       " 'pdet_f11',\n",
       " 'pdet_f12',\n",
       " 'pdet_f13',\n",
       " 'pdet_f21',\n",
       " 'pdet_f22',\n",
       " 'pdet_f23',\n",
       " 'pdet_f31',\n",
       " 'pdet_f32',\n",
       " 'pdet_f33',\n",
       " 'pdet_f11r1',\n",
       " 'pdet_f12r1',\n",
       " 'pdet_f13r1',\n",
       " 'pdet_f21r1',\n",
       " 'pdet_f22r1',\n",
       " 'pdet_f23r1',\n",
       " 'pdet_f31r1',\n",
       " 'pdet_f32r1',\n",
       " 'pdet_f33r1',\n",
       " 'pdet_f11r2',\n",
       " 'pdet_f12r2',\n",
       " 'pdet_f13r2',\n",
       " 'pdet_f21r2',\n",
       " 'pdet_f22r2',\n",
       " 'pdet_f23r2',\n",
       " 'pdet_f31r2',\n",
       " 'pdet_f32r2',\n",
       " 'pdet_f33r2')"
      ]
     },
     "execution_count": 8,
     "metadata": {},
     "output_type": "execute_result"
    }
   ],
   "source": [
    "outAll.dtype.names"
   ]
  },
  {
   "cell_type": "code",
   "execution_count": 6,
   "metadata": {},
   "outputs": [
    {
     "data": {
      "image/png": "[encoded data removed]",
      "text/plain": [
       "<Figure size 432x288 with 1 Axes>"
      ]
     },
     "metadata": {
      "needs_background": "light"
     },
     "output_type": "display_data"
    }
   ],
   "source": [
    "name='fpfs_M00'\n",
    "_=plt.hist(outAll[name]-out0[name],bins=50)"
   ]
  },
  {
   "cell_type": "code",
   "execution_count": 10,
   "metadata": {},
   "outputs": [
    {
     "name": "stdout",
     "output_type": "stream",
     "text": [
      "0.005857253261177358\n",
      "0.005933521028021857\n"
     ]
    }
   ],
   "source": [
    "name1='fpfs_M22s'\n",
    "name2='pdet_f22r2'\n",
    "name3='pdet_N22sf22r2'\n",
    "print(np.average((outAll[name2]-out0[name2])*(outAll[name1]-out0[name1])))\n",
    "print(np.average(outAll[name3]))"
   ]
  },
  {
   "cell_type": "code",
   "execution_count": 14,
   "metadata": {},
   "outputs": [
    {
     "name": "stdout",
     "output_type": "stream",
     "text": [
      "-0.000494489313635729\n",
      "0.006839880790565207\n"
     ]
    }
   ],
   "source": [
    "name1='fpfs_M22c'\n",
    "name2='pdet_f23r1'\n",
    "name3='pdet_N22cf23r1'\n",
    "print(np.average((outAll[name2]-out0[name2])*(outAll[name1]-out0[name1])))\n",
    "print(np.average(outAll[name3]))"
   ]
  },
  {
   "cell_type": "code",
   "execution_count": 30,
   "metadata": {},
   "outputs": [
    {
     "data": {
      "text/plain": [
       "array([0.07483462])"
      ]
     },
     "execution_count": 30,
     "metadata": {},
     "output_type": "execute_result"
    }
   ],
   "source": [
    "out0[name2]"
   ]
  },
  {
   "cell_type": "code",
   "execution_count": 18,
   "metadata": {},
   "outputs": [
    {
     "name": "stdout",
     "output_type": "stream",
     "text": [
      "315.3770522915402\n",
      "323.5040412574467\n"
     ]
    }
   ],
   "source": [
    "name1='fpfs_M22c'\n",
    "name2='fpfs_M22c'\n",
    "name3='fpfs_N00N00'\n",
    "print(np.average((outAll[name2]-out0[name2])*(outAll[name1]-out0[name1])))\n",
    "print(np.average(outAll[name3]))"
   ]
  }
 ],
 "metadata": {
  "kernelspec": {
   "display_name": "Python 3 (ipykernel)",
   "language": "python",
   "name": "python3"
  },
  "language_info": {
   "codemirror_mode": {
    "name": "ipython",
    "version": 3
   },
   "file_extension": ".py",
   "mimetype": "text/x-python",
   "name": "python",
   "nbconvert_exporter": "python",
   "pygments_lexer": "ipython3",
   "version": "3.7.12"
  }
 },
 "nbformat": 4,
 "nbformat_minor": 4
}
