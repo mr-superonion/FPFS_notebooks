{
 "cells": [
  {
   "cell_type": "code",
   "execution_count": 23,
   "metadata": {},
   "outputs": [
    {
     "name": "stdout",
     "output_type": "stream",
     "text": [
      "Populating the interactive namespace from numpy and matplotlib\n"
     ]
    },
    {
     "name": "stderr",
     "output_type": "stream",
     "text": [
      "/lustre/work/xiangchong.li/ana/miniconda3/envs/cosmosis-mpich/lib/python3.7/site-packages/IPython/core/magics/pylab.py:160: UserWarning: pylab import has clobbered these variables: ['beta']\n",
      "`%matplotlib` prevents importing * from pylab and numpy\n",
      "  \"\\n`%matplotlib` prevents importing * from pylab and numpy\"\n"
     ]
    }
   ],
   "source": [
    "%pylab inline\n",
    "import gc\n",
    "import pdet\n",
    "import fitsio\n",
    "import galsim\n",
    "import numpy as np\n",
    "import astropy.io.fits as pyfits\n",
    "import numpy.lib.recfunctions as rfn\n",
    "\n",
    "from fpfs import imgutil\n",
    "from fpfs import simutil\n",
    "from fpfs import fpfsBase\n",
    "wDir=os.path.join(os.environ['homeWrk'],'FPFS2','sim')"
   ]
  },
  {
   "cell_type": "code",
   "execution_count": 2,
   "metadata": {},
   "outputs": [],
   "source": [
    "ishear =   1\n",
    "ngal   =   1\n",
    "rcut   =   16\n",
    "ngrid  =   64\n",
    "beg    =   ngrid//2-rcut\n",
    "end    =   beg+2*rcut\n",
    "gsigma =   6.*2.*np.pi/64\n",
    "beta   =   0.75\n",
    "noiVar =   1e-3\n",
    "\n",
    "img    =   simutil.make_basic_sim('basicCenter_psf60','g%d-1111' %ishear,2,ny=ngal,nx=ngal,do_write=False)\n",
    "\n",
    "# PSF\n",
    "psfData=   pyfits.getdata(os.path.join(wDir,'galaxy_basic_psf60/psf-60.fits'))\n",
    "npad   =   (ngrid-psfData.shape[0])//2\n",
    "psfData1=   np.pad(psfData,(npad+1,npad),mode='constant')\n",
    "assert psfData1.shape[0]==ngrid\n",
    "psfData2=  psfData1[beg:end,beg:end]\n",
    "fpTask0=   fpfsBase.fpfsTask(psfData2,beta=beta)\n",
    "a0     =   fpTask0.measure(img[beg:end,beg:end])\n",
    "\n",
    "indX    =   np.arange(32,ngrid,64)\n",
    "indY    =   np.arange(32,ngrid,64)\n",
    "inds    =   np.meshgrid(indY,indX,indexing='ij')\n",
    "coords  =   np.array(np.zeros(inds[0].size),dtype=[('pdet_y','i4'),('pdet_x','i4')])\n",
    "coords['pdet_y']=   np.ravel(inds[0])\n",
    "coords['pdet_x']=   np.ravel(inds[1])\n",
    "b0      =   pdet.get_shear_response_rfft(img,psfData1,gsigma=gsigma,\\\n",
    "            coords=coords,thres=0.)\n",
    "# Noiseless measurements\n",
    "out0    =   rfn.merge_arrays([a0,b0],flatten=True,usemask=False)\n",
    "out0D   =   pdet.peak2det(out0)\n",
    "out0E   =   pdet.fpfsM2E(out0,out0D,const=1000,noirev=False)\n",
    "del a0,b0"
   ]
  },
  {
   "cell_type": "code",
   "execution_count": 22,
   "metadata": {},
   "outputs": [
    {
     "name": "stdout",
     "output_type": "stream",
     "text": [
      "\u001b[0m\u001b[36;04mconfig\u001b[0m/                    \u001b[36;04mgalaxy_cosmo_psf60\u001b[0m/     \u001b[36;04msrc_basicCenter-var0em0\u001b[0m/\n",
      "config-pix-nl1.ini         \u001b[36;04mgalaxy_cosmo_psf75\u001b[0m/     \u001b[36;04msrc_basicCenter-var4em3\u001b[0m/\n",
      "\u001b[36;04mcorPre\u001b[0m/                    \u001b[36;04mgalaxy_cosmo_psf90\u001b[0m/     \u001b[36;04msrc_basic-var1em3\u001b[0m/\n",
      "\u001b[36;04mgalaxy_basicCenter_psf60\u001b[0m/  \u001b[36;04mgalaxy_small0_psf60\u001b[0m/    \u001b[36;04msrc_basic-var4em3\u001b[0m/\n",
      "\u001b[36;04mgalaxy_basic_psf45\u001b[0m/        \u001b[36;04mgalaxy_small1_psf60\u001b[0m/    \u001b[36;04msrc_basic-var7em3\u001b[0m/\n",
      "\u001b[36;04mgalaxy_basic_psf60\u001b[0m/        \u001b[36;04mgalaxy_small2_psf60\u001b[0m/    \u001b[36;04msrc_cosmoE-var36em4\u001b[0m/\n",
      "\u001b[36;04mgalaxy_basic_psf75\u001b[0m/        index_repeat_nums.fits  \u001b[36;04msrc_cosmo-var36em4\u001b[0m/\n",
      "\u001b[36;04mgalaxy_basicShift_psf60\u001b[0m/   job_nsim2.log           \u001b[36;04msrc_small0-var7em3\u001b[0m/\n",
      "\u001b[36;04mgalaxy_cosmoE_psf60\u001b[0m/       \u001b[36;04mnoise\u001b[0m/                  \u001b[36;04msrc_small1-var7em3\u001b[0m/\n",
      "\u001b[36;04mgalaxy_cosmoE_psf75\u001b[0m/       noiVar_rPsf_sim.csv     \u001b[36;04msrc_small2-var7em3\u001b[0m/\n",
      "\u001b[36;04mgalaxy_cosmoE_psf90\u001b[0m/       \u001b[36;04mplot\u001b[0m/                   \u001b[36;04msrc_star-var7em3\u001b[0m/\n",
      "\u001b[36;04mgalaxy_cosmo_psf105\u001b[0m/       repositoryCfg.yaml      \u001b[36;04mstar_psf60\u001b[0m/\n",
      "\u001b[36;04mgalaxy_cosmo_psf45\u001b[0m/        \u001b[38;5;34mrunSim.py\u001b[0m*              test_noisy_gals.py\n"
     ]
    }
   ],
   "source": [
    "ls ../../../sim/"
   ]
  },
  {
   "cell_type": "code",
   "execution_count": 3,
   "metadata": {},
   "outputs": [
    {
     "name": "stdout",
     "output_type": "stream",
     "text": [
      "0.7340361\n"
     ]
    },
    {
     "data": {
      "image/png": "[encoded data removed]",
      "text/plain": [
       "<Figure size 432x288 with 1 Axes>"
      ]
     },
     "metadata": {
      "needs_background": "light"
     },
     "output_type": "display_data"
    }
   ],
   "source": [
    "plt.imshow(img)\n",
    "print(np.max(img))"
   ]
  },
  {
   "cell_type": "code",
   "execution_count": 4,
   "metadata": {},
   "outputs": [],
   "source": [
    "powIn  =   np.load(os.path.join(wDir,'corPre/noiPows2.npy'),allow_pickle=True).item()['%s'%rcut]*noiVar*100\n",
    "powModel=  np.zeros((1,powIn.shape[0],powIn.shape[1]))\n",
    "powModel[0]=powIn\n",
    "fpTask =   fpfsBase.fpfsTask(psfData2,noiFit=powModel[0],beta=beta,det_gsigma=gsigma)\n",
    "\n",
    "imgAll=np.tile(img,(100,100))\n",
    "ngrid2 =   ngrid*100\n",
    "npad   =   (ngrid2-psfData.shape[0])//2\n",
    "psfData3=  np.pad(psfData,(npad+1,npad),mode='constant')\n",
    "assert psfData3.shape[0]==ngrid2\n",
    "\n",
    "indX    =   np.arange(32,ngrid2,64)\n",
    "indY    =   np.arange(32,ngrid2,64)\n",
    "inds    =   np.meshgrid(indY,indX,indexing='ij')\n",
    "coords  =   np.array(np.zeros(inds[0].size),dtype=[('pdet_y','i4'),('pdet_x','i4')])\n",
    "coords['pdet_y']=   np.ravel(inds[0])\n",
    "coords['pdet_x']=   np.ravel(inds[1])"
   ]
  },
  {
   "cell_type": "code",
   "execution_count": 26,
   "metadata": {},
   "outputs": [],
   "source": [
    "fname= 'src_basicCenter-var1em3_test_0_50.fits'\n",
    "if not os.path.isfile(fname):\n",
    "    outAll=[]\n",
    "    for ifield in range(50):\n",
    "        noiFname=   os.path.join(wDir,'noise','noi%04d.fits' %ifield)\n",
    "        # multiply by 10 since the noise has variance 0.01\n",
    "        noiData=    pyfits.open(noiFname)[0].data*10.*np.sqrt(noiVar)\n",
    "        imgTmp =    imgAll+noiData\n",
    "        # Also times 100 for the noivar model\n",
    "        # Noisy measurements\n",
    "        b       =   pdet.get_shear_response_rfft(imgTmp,psfData3,gsigma=gsigma,\\\n",
    "                    coords=coords,thres=np.sqrt(noiVar)*0.)\n",
    "        imgList =   [imgTmp[cc['pdet_y']-rcut:cc['pdet_y']+rcut,\\\n",
    "                    cc['pdet_x']-rcut:cc['pdet_x']+rcut] for cc in b]\n",
    "        a       =   fpTask.measure(imgList)\n",
    "        out     =   rfn.merge_arrays([a,b],flatten=True,usemask=False)\n",
    "        outAll.append(out)\n",
    "        del a,b,imgList,out,imgTmp,noiData \n",
    "        gc.collect()\n",
    "    out=    rfn.stack_arrays(outAll,usemask=False)\n",
    "    fitsio.write(fname,out)\n",
    "    del outAll\n",
    "    gc.collect()\n",
    "else:\n",
    "    out=fitsio.read(fname)"
   ]
  },
  {
   "cell_type": "code",
   "execution_count": 27,
   "metadata": {},
   "outputs": [],
   "source": [
    "outD=   pdet.peak2det(out)\n",
    "outE=   pdet.fpfsM2E(out,outD,const=1000,noirev=True)\n",
    "outEUC= pdet.fpfsM2E(out,outD,const=1000)"
   ]
  },
  {
   "cell_type": "code",
   "execution_count": 28,
   "metadata": {},
   "outputs": [
    {
     "name": "stdout",
     "output_type": "stream",
     "text": [
      "1 2\n",
      "-1.5793873928666e-05\n",
      "1.0755600711777463e-05\n",
      "2 1\n",
      "-1.638782017143255e-05\n",
      "1.4214745341867916e-05\n",
      "2 2\n",
      "3.2471747582774873e-06\n",
      "1.3588547427601973e-05\n",
      "2 3\n",
      "3.4585054573915545e-05\n",
      "-1.1339302323833837e-06\n",
      "3 2\n",
      "-2.5284333449123397e-06\n",
      "1.4258254842065895e-05\n"
     ]
    }
   ],
   "source": [
    "for (j,i) in pdet._default_inds:\n",
    "    print(j,i)\n",
    "    print(np.average(outE['fpfs_e1v%d%dr1' %(j,i)]-out0E['fpfs_e1v%d%dr1'%(j,i)]))\n",
    "    print(np.average(outE['fpfs_e2v%d%dr2' %(j,i)]-out0E['fpfs_e2v%d%dr2'%(j,i)]))"
   ]
  },
  {
   "cell_type": "code",
   "execution_count": 29,
   "metadata": {},
   "outputs": [
    {
     "name": "stdout",
     "output_type": "stream",
     "text": [
      "1 2\n",
      "-1.818575666015125e-05\n",
      "5.617576559004578e-06\n",
      "2 1\n",
      "-2.0235917835396575e-05\n",
      "1.221717208799091e-05\n",
      "2 2\n",
      "0.00010588961032626334\n",
      "0.00011243638364441408\n",
      "2 3\n",
      "3.074368559802994e-05\n",
      "-3.1359513938401456e-06\n",
      "3 2\n",
      "-4.927041076118789e-06\n",
      "9.119992273115508e-06\n"
     ]
    }
   ],
   "source": [
    "for (j,i) in pdet._default_inds:\n",
    "    print(j,i)\n",
    "    print(np.average(outEUC['fpfs_e1v%d%dr1'%(j,i)]-out0E['fpfs_e1v%d%dr1'%(j,i)]))\n",
    "    print(np.average(outEUC['fpfs_e2v%d%dr2'%(j,i)]-out0E['fpfs_e2v%d%dr2'%(j,i)]))"
   ]
  },
  {
   "cell_type": "code",
   "execution_count": 30,
   "metadata": {},
   "outputs": [
    {
     "name": "stdout",
     "output_type": "stream",
     "text": [
      "4.884967163809997e-06\n",
      "1.4517019546934717e-05\n"
     ]
    }
   ],
   "source": [
    "print(np.average(outE['fpfs_e1']-out0E['fpfs_e1']))\n",
    "print(np.average(outE['fpfs_e2']-out0E['fpfs_e2']))"
   ]
  },
  {
   "cell_type": "code",
   "execution_count": 31,
   "metadata": {},
   "outputs": [
    {
     "name": "stdout",
     "output_type": "stream",
     "text": [
      "6.9018436818863405e-06\n",
      "1.204925069755229e-05\n"
     ]
    }
   ],
   "source": [
    "print(np.average(outEUC['fpfs_e1']-out0E['fpfs_e1']))\n",
    "print(np.average(outEUC['fpfs_e2']-out0E['fpfs_e2']))"
   ]
  },
  {
   "cell_type": "code",
   "execution_count": 32,
   "metadata": {},
   "outputs": [
    {
     "data": {
      "image/png": "[encoded data removed]",
      "text/plain": [
       "<Figure size 432x288 with 1 Axes>"
      ]
     },
     "metadata": {
      "needs_background": "light"
     },
     "output_type": "display_data"
    }
   ],
   "source": [
    "name='fpfs_M00'\n",
    "_=plt.hist(out[name]-out0[name],bins=50)"
   ]
  },
  {
   "cell_type": "code",
   "execution_count": 33,
   "metadata": {},
   "outputs": [
    {
     "name": "stdout",
     "output_type": "stream",
     "text": [
      "132081.02784529558\n",
      "138300.34645823154\n"
     ]
    }
   ],
   "source": [
    "name1='fpfs_M00'\n",
    "name2='fpfs_M00'\n",
    "name3='fpfs_N00N00'\n",
    "print(np.average((out[name2]-out0[name2])*(out[name1]-out0[name1])))\n",
    "print(np.average(out[name3]))"
   ]
  },
  {
   "cell_type": "code",
   "execution_count": 34,
   "metadata": {},
   "outputs": [
    {
     "name": "stdout",
     "output_type": "stream",
     "text": [
      "-0.01775065963758589\n",
      "-0.02438780362687274\n",
      "-0.14903316790994425\n",
      "-0.09971806714615808\n",
      "2.0199468103529488\n",
      "1.9909584824139408\n",
      "-0.07856220431041286\n",
      "-0.09959854399779405\n",
      "-0.013332508359622991\n",
      "-0.0245155601162901\n",
      "0.21964735036768324\n",
      "0.15632123088052507\n",
      "-0.19318551321200061\n",
      "-0.1784825233272947\n",
      "0.25897333590706206\n",
      "0.2128451209514682\n",
      "-0.14138667490367302\n",
      "-0.1784726696141995\n",
      "0.16840722709095146\n",
      "0.15630413427003778\n"
     ]
    }
   ],
   "source": [
    "for ind in pdet._default_inds:\n",
    "    name1='fpfs_M22c'\n",
    "    name2='pdet_v%d%dr1' %ind\n",
    "    name3='pdet_N22cV%d%dr1' %ind\n",
    "    print(np.average((outD[name2]-out0D[name2])*(out[name1]-out0[name1])))\n",
    "    print(np.average(outD[name3]))\n",
    "for ind in pdet._default_inds:\n",
    "    name1='fpfs_M00'\n",
    "    name2='pdet_v%d%dr1' %ind\n",
    "    name3='pdet_N00V%d%dr1' %ind\n",
    "    print(np.average((outD[name2]-out0D[name2])*(out[name1]-out0[name1])))\n",
    "    print(np.average(outD[name3]))"
   ]
  },
  {
   "cell_type": "code",
   "execution_count": 35,
   "metadata": {},
   "outputs": [
    {
     "name": "stdout",
     "output_type": "stream",
     "text": [
      "-0.08764870124353963\n",
      "-0.09967972083365365\n",
      "-0.00868626142197375\n",
      "-0.03958207546821485\n",
      "1.9097718753109527\n",
      "1.9020111023805297\n",
      "-0.049222309426448334\n",
      "-0.03965858434736586\n",
      "-0.09399239373894772\n",
      "-0.09967646186338786\n"
     ]
    }
   ],
   "source": [
    "for ind in pdet._default_inds:\n",
    "    name1='fpfs_M22s'\n",
    "    name2='pdet_v%d%dr2' %ind\n",
    "    name3='pdet_N22sV%d%dr2' %ind\n",
    "    print(np.average((outD[name2]-out0D[name2])*(out[name1]-out0[name1])))\n",
    "    print(np.average(outD[name3]))"
   ]
  },
  {
   "cell_type": "code",
   "execution_count": 15,
   "metadata": {},
   "outputs": [
    {
     "name": "stdout",
     "output_type": "stream",
     "text": [
      "(1, 2)\n",
      "-0.0006958884334311217\n",
      "0.010849829564706235\n",
      "(2, 1)\n",
      "-0.012616563803849498\n",
      "0.005251158694865625\n",
      "(2, 2)\n",
      "-0.14683109285777404\n",
      "-0.14623184337631065\n",
      "(2, 3)\n",
      "0.012186259328434328\n",
      "0.005266566567611996\n",
      "(3, 2)\n",
      "0.01352823725041311\n",
      "0.010782706988388407\n"
     ]
    }
   ],
   "source": [
    "for ind in pdet._default_inds:\n",
    "    print(ind)\n",
    "    name1='fpfs_M00'\n",
    "    name2='pdet_v%d%dr2' %ind\n",
    "    name3='pdet_N00V%d%dr2' %ind\n",
    "    print(np.average((outD[name2]-out0D[name2])*(out[name1]-out0[name1])))\n",
    "    print(np.average(outD[name3]))"
   ]
  },
  {
   "cell_type": "code",
   "execution_count": 16,
   "metadata": {},
   "outputs": [
    {
     "name": "stdout",
     "output_type": "stream",
     "text": [
      "(1, 2)\n",
      "0.21964735036768324\n",
      "0.15632123088052507\n",
      "(2, 1)\n",
      "-0.19318551321200061\n",
      "-0.1784825233272947\n",
      "(2, 2)\n",
      "0.25897333590706206\n",
      "0.2128451209514682\n",
      "(2, 3)\n",
      "-0.14138667490367302\n",
      "-0.1784726696141995\n",
      "(3, 2)\n",
      "0.16840722709095146\n",
      "0.15630413427003778\n"
     ]
    }
   ],
   "source": [
    "for ind in pdet._default_inds:\n",
    "    print(ind)\n",
    "    name1='fpfs_M00'\n",
    "    name2='pdet_v%d%dr1' %ind\n",
    "    name3='pdet_N00V%d%dr1' %ind\n",
    "    print(np.average((outD[name2]-out0D[name2])*(out[name1]-out0[name1])))\n",
    "    print(np.average(outD[name3]))"
   ]
  },
  {
   "cell_type": "code",
   "execution_count": 17,
   "metadata": {},
   "outputs": [
    {
     "data": {
      "image/png": "[encoded data removed]",
      "text/plain": [
       "<Figure size 432x288 with 1 Axes>"
      ]
     },
     "metadata": {
      "needs_background": "light"
     },
     "output_type": "display_data"
    }
   ],
   "source": [
    "_=plt.hist((outD[name2]-out0D[name2])*(out[name1]-out0[name1]),bins=100,range=(-1000,1000))"
   ]
  }
 ],
 "metadata": {
  "kernelspec": {
   "display_name": "Python 3 (ipykernel)",
   "language": "python",
   "name": "python3"
  },
  "language_info": {
   "codemirror_mode": {
    "name": "ipython",
    "version": 3
   },
   "file_extension": ".py",
   "mimetype": "text/x-python",
   "name": "python",
   "nbconvert_exporter": "python",
   "pygments_lexer": "ipython3",
   "version": "3.7.12"
  }
 },
 "nbformat": 4,
 "nbformat_minor": 4
}
