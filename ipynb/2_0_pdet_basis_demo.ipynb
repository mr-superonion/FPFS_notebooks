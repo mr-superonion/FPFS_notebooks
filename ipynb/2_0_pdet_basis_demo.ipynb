{
 "cells": [
  {
   "cell_type": "code",
   "execution_count": 64,
   "id": "a8916355-47a0-4b39-acac-edc5b66b6a0f",
   "metadata": {},
   "outputs": [
    {
     "name": "stdout",
     "output_type": "stream",
     "text": [
      "Populating the interactive namespace from numpy and matplotlib\n"
     ]
    },
    {
     "name": "stderr",
     "output_type": "stream",
     "text": [
      "/lustre/work/xiangchong.li/ana/miniconda3/envs/cosmosis-mpich/lib/python3.7/site-packages/IPython/core/magics/pylab.py:160: UserWarning: pylab import has clobbered these variables: ['plt']\n",
      "`%matplotlib` prevents importing * from pylab and numpy\n",
      "  \"\\n`%matplotlib` prevents importing * from pylab and numpy\"\n"
     ]
    }
   ],
   "source": [
    "%pylab inline\n",
    "\n",
    "import gc\n",
    "import numpy as np\n",
    "import matplotlib.pylab as plt\n",
    "from mpl_toolkits.axes_grid1 import ImageGrid\n",
    "import pltutil"
   ]
  },
  {
   "cell_type": "code",
   "execution_count": 2,
   "id": "c6a81f06-65e5-48bb-bd25-c3d984badb10",
   "metadata": {},
   "outputs": [],
   "source": [
    "_t      =   1./np.sqrt(180.)\n",
    "_h      =   1./np.sqrt(20.)\n",
    "_fps    =   []\n",
    "_fps.append(np.array([[1./3,1./3,1./3],[1./3,1./3,1./3],[1./3,1./3,1./3]]))\n",
    "_fps.append(np.array([[-5*_t,4*_t,-5*_t],[4*_t,4*_t,4*_t],[-5*_t,4*_t,-5*_t]]))\n",
    "_fps.append(np.array([[0.,-_h,0.],[-_h,4*_h,-_h],[0.,-_h,0.]]))"
   ]
  },
  {
   "cell_type": "code",
   "execution_count": 74,
   "id": "ac17578a-94ce-496c-96bf-cfafa7b4ae94",
   "metadata": {},
   "outputs": [
    {
     "name": "stdout",
     "output_type": "stream",
     "text": [
      "3.0\n",
      "1.0\n",
      "5.551115123125783e-17\n",
      "1.0\n",
      "5.551115123125783e-17\n",
      "1.0\n"
     ]
    },
    {
     "name": "stderr",
     "output_type": "stream",
     "text": [
      "/lustre/work/xiangchong.li/ana/miniconda3/envs/cosmosis-mpich/lib/python3.7/site-packages/ipykernel_launcher.py:27: UserWarning: This figure includes Axes that are not compatible with tight_layout, so results might be incorrect.\n"
     ]
    },
    {
     "data": {
      "text/plain": [
       "14621"
      ]
     },
     "execution_count": 74,
     "metadata": {},
     "output_type": "execute_result"
    },
    {
     "data": {
      "image/png": "[encoded data removed]",
      "text/plain": [
       "<Figure size 864x360 with 6 Axes>"
      ]
     },
     "metadata": {
      "needs_background": "light"
     },
     "output_type": "display_data"
    }
   ],
   "source": [
    "fig=plt.figure(figsize=(12,5))\n",
    "grid = ImageGrid(fig, 111,          # as in plt.subplot(111)\n",
    "                 nrows_ncols=(1,3),\n",
    "                 axes_pad=0.2,\n",
    "                 share_all=True,\n",
    "                 cbar_location=\"bottom\",\n",
    "                 cbar_mode=\"single\",\n",
    "                 cbar_size=\"2%\",\n",
    "                 cbar_pad=0.15,\n",
    "                 )\n",
    "for i in range(3):\n",
    "    print(np.sum(_fps[i]))\n",
    "    print(np.sum(_fps[i]**2.))\n",
    "    ax=grid[i]\n",
    "    im=ax.imshow(_fps[i],interpolation='none',\\\n",
    "              vmin=-1,vmax=1,aspect='equal',\\\n",
    "              origin='lower',cmap='bwr')\n",
    "    ax.set_xticklabels([])\n",
    "    ax.set_yticklabels([])\n",
    "    ax.set_xticks(np.arange(-0.5, 2.5, 1))\n",
    "    ax.set_yticks(np.arange(-0.5, 2.5, 1))\n",
    "    ax.grid(color='black', linestyle='-', linewidth=2)\n",
    "    for x in ax.spines.values():\n",
    "        x.set_linewidth(2.)\n",
    "\n",
    "ax.cax.colorbar(im)\n",
    "plt.tight_layout()\n",
    "gc.collect()"
   ]
  },
  {
   "cell_type": "code",
   "execution_count": null,
   "id": "cf5d5225-224a-468e-8d6d-e422d0328445",
   "metadata": {},
   "outputs": [],
   "source": []
  }
 ],
 "metadata": {
  "kernelspec": {
   "display_name": "Python 3 (ipykernel)",
   "language": "python",
   "name": "python3"
  },
  "language_info": {
   "codemirror_mode": {
    "name": "ipython",
    "version": 3
   },
   "file_extension": ".py",
   "mimetype": "text/x-python",
   "name": "python",
   "nbconvert_exporter": "python",
   "pygments_lexer": "ipython3",
   "version": "3.7.12"
  }
 },
 "nbformat": 4,
 "nbformat_minor": 5
}
