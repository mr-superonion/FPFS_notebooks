{
 "cells": [
  {
   "cell_type": "code",
   "execution_count": 4,
   "id": "a8916355-47a0-4b39-acac-edc5b66b6a0f",
   "metadata": {},
   "outputs": [],
   "source": [
    "%matplotlib inline\n",
    "\n",
    "import gc\n",
    "import numpy as np\n",
    "import matplotlib.pylab as plt\n",
    "from mpl_toolkits.axes_grid1 import ImageGrid\n",
    "import pltutil"
   ]
  },
  {
   "cell_type": "code",
   "execution_count": 14,
   "id": "c6a81f06-65e5-48bb-bd25-c3d984badb10",
   "metadata": {},
   "outputs": [],
   "source": [
    "_t      =   1./np.sqrt(180.)\n",
    "_h      =   1./np.sqrt(20.)\n",
    "_fps    =   []\n",
    "_fps.append(np.array([[0.,0.,0.],[0.,1.,0.],[0.,0.,0.]]))\n",
    "_fps.append(np.array([[0.,0.,0.],[0.,1.,-1],[0.,0.,0.]]))\n",
    "_fps.append(np.array([[0.,0.,0.],[-1,1.,0.],[0.,0.,0.]]))\n",
    "_fps.append(np.array([[0.,0.,0.],[0.,1.,0.],[0.,-1.,0.]]))\n",
    "_fps.append(np.array([[0.,-1.,0.],[0.,1.,0.],[0.,0.,0.]]))\n",
    "\n",
    "tlist=['v22','v32','v12','v23','v21']"
   ]
  },
  {
   "cell_type": "code",
   "execution_count": 15,
   "id": "ac17578a-94ce-496c-96bf-cfafa7b4ae94",
   "metadata": {},
   "outputs": [
    {
     "name": "stdout",
     "output_type": "stream",
     "text": [
      "1.0\n",
      "1.0\n",
      "0.0\n",
      "2.0\n",
      "0.0\n",
      "2.0\n",
      "0.0\n",
      "2.0\n",
      "0.0\n",
      "2.0\n"
     ]
    },
    {
     "data": {
      "text/plain": [
       "33559"
      ]
     },
     "execution_count": 15,
     "metadata": {},
     "output_type": "execute_result"
    },
    {
     "data": {
      "image/png": "[encoded data removed]",
      "text/plain": [
       "<Figure size 1440x360 with 10 Axes>"
      ]
     },
     "metadata": {
      "needs_background": "light"
     },
     "output_type": "display_data"
    }
   ],
   "source": [
    "fig=plt.figure(figsize=(20,5))\n",
    "grid = ImageGrid(fig, 111,          # as in plt.subplot(111)\n",
    "                 nrows_ncols=(1,5),\n",
    "                 axes_pad=0.2,\n",
    "                 share_all=True,\n",
    "                 cbar_location=\"bottom\",\n",
    "                 cbar_mode=\"single\",\n",
    "                 cbar_size=\"2%\",\n",
    "                 cbar_pad=0.15,\n",
    "                 )\n",
    "for i in range(5):\n",
    "    print(np.sum(_fps[i]))\n",
    "    print(np.sum(_fps[i]**2.))\n",
    "    ax=grid[i]\n",
    "    im=ax.imshow(_fps[i],interpolation='none',\\\n",
    "              vmin=-1.6,vmax=1.6,aspect='equal',\\\n",
    "              origin='lower',cmap='bwr')\n",
    "    ax.set_xticklabels([])\n",
    "    ax.set_yticklabels([])\n",
    "    ax.set_xticks(np.arange(-0.5, 2.5, 1))\n",
    "    ax.set_yticks(np.arange(-0.5, 2.5, 1))\n",
    "    ax.grid(color='black', linestyle='-', linewidth=2)\n",
    "    ax.set_title(tlist[i])\n",
    "    for x in ax.spines.values():\n",
    "        x.set_linewidth(2.)\n",
    "\n",
    "ax.cax.colorbar(im)\n",
    "gc.collect()"
   ]
  },
  {
   "cell_type": "code",
   "execution_count": null,
   "id": "cf5d5225-224a-468e-8d6d-e422d0328445",
   "metadata": {},
   "outputs": [],
   "source": [
    "tlist"
   ]
  }
 ],
 "metadata": {
  "kernelspec": {
   "display_name": "Python 3 (ipykernel)",
   "language": "python",
   "name": "python3"
  },
  "language_info": {
   "codemirror_mode": {
    "name": "ipython",
    "version": 3
   },
   "file_extension": ".py",
   "mimetype": "text/x-python",
   "name": "python",
   "nbconvert_exporter": "python",
   "pygments_lexer": "ipython3",
   "version": "3.8.13"
  }
 },
 "nbformat": 4,
 "nbformat_minor": 5
}
