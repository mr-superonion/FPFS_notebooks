{
 "cells": [
  {
   "cell_type": "code",
   "execution_count": 221,
   "id": "ff12abfa-c8d1-4b5b-8503-0c3e9cf9dc96",
   "metadata": {},
   "outputs": [
    {
     "name": "stdout",
     "output_type": "stream",
     "text": [
      "The autoreload extension is already loaded. To reload it, use:\n",
      "  %reload_ext autoreload\n"
     ]
    }
   ],
   "source": [
    "%load_ext autoreload\n",
    "%autoreload 2\n",
    "%matplotlib inline\n",
    "import gc\n",
    "import fpfs\n",
    "import fitsio\n",
    "import numpy as np\n",
    "from fpfs import pltutil\n",
    "import matplotlib.pylab as plt\n",
    "import numpy.lib.recfunctions as rfn\n",
    "from default import *\n",
    "\n",
    "import matplotlib as mpl\n",
    "mpl.rcParams['axes.linewidth'] = 2.0 #set the value globally\n",
    "\n",
    "ver='try2'\n",
    "gver='unif_cosmo085'\n",
    "dver='cut32'\n",
    "wrkDir=os.environ['homeWrk']\n",
    "simDir=os.path.join(wrkDir,'FPFS2/sim/')"
   ]
  },
  {
   "cell_type": "code",
   "execution_count": 211,
   "id": "76451187-2878-4b14-bf45-356dea031c92",
   "metadata": {},
   "outputs": [
    {
     "data": {
      "text/plain": [
       "0"
      ]
     },
     "execution_count": 211,
     "metadata": {},
     "output_type": "execute_result"
    }
   ],
   "source": [
    "# read noiseless data\n",
    "nver='var7em3' \n",
    "mm1=[]\n",
    "mm2=[]\n",
    "for _i in range(0,200):\n",
    "    _a1=fitsio.read(os.path.join(simDir,'srcfs3_%s-%s_%s/psf60/fpfs-%s-%04d-g1-0000.fits' %(gver,nver,ver,dver,_i)))\n",
    "    _a2=fitsio.read(os.path.join(simDir,'srcfs3_%s-%s_%s/psf60/fpfs-%s-%04d-g1-2222.fits' %(gver,nver,ver,dver,_i)))\n",
    "    mm1.append(_a1)\n",
    "    mm2.append(_a2)\n",
    "    del _a1,_a2#,msk1,msk2\n",
    "mm1 =   rfn.stack_arrays(mm1,usemask=False)\n",
    "mm2 =   rfn.stack_arrays(mm2,usemask=False)\n",
    "gc.collect()\n",
    "\n",
    "Const  =   20.\n",
    "noirev =   True\n",
    "ellM1  =   fpfs.catalog.fpfsM2E(mm1,const=Const,noirev=noirev)\n",
    "ellM2  =   fpfs.catalog.fpfsM2E(mm2,const=Const,noirev=noirev)\n",
    "gc.collect()"
   ]
  },
  {
   "cell_type": "code",
   "execution_count": 222,
   "id": "87d78d4d-2854-4a7e-9f50-7438bbad309a",
   "metadata": {},
   "outputs": [],
   "source": [
    "fs1=fpfs.catalog.summary_stats(mm1,ellM1,use_sig=False)\n",
    "selnm=['M00','R2','R2_upp','detect']\n",
    "cutsig=[sigM,sigR,sigR,sigP]\n",
    "\n",
    "# clean outcome\n",
    "fs1.clear_outcomes()\n",
    "cut=[10**((27.-cutM)/2.5),cutR,cutRU,cutP]\n",
    "# weight array\n",
    "fs1.update_selection_weight(selnm,cut,cutsig)"
   ]
  },
  {
   "cell_type": "code",
   "execution_count": 228,
   "id": "f736c795-76f1-49b9-9770-b6fe9790bb6d",
   "metadata": {},
   "outputs": [
    {
     "data": {
      "image/png": "[encoded data removed]",
      "text/plain": [
       "<Figure size 432x504 with 2 Axes>"
      ]
     },
     "metadata": {
      "needs_background": "light"
     },
     "output_type": "display_data"
    }
   ],
   "source": [
    "precut= -0.12\n",
    "nbins=   100\n",
    "m1   =   -2.5 * np.log10(mm1['fpfs_M00']) + 27.\n",
    "r2   =   (mm1['fpfs_M20']+mm1['fpfs_M00'])/(mm1['fpfs_M00'])\n",
    "msk=(mm1['fpfs_v0']>precut)&(mm1['fpfs_v2']>precut)&(mm1['fpfs_v4']>precut)&(mm1['fpfs_v6']>precut)\n",
    "msk=msk&(mm1['fpfs_v1']>precut)&(mm1['fpfs_v3']>precut)&(mm1['fpfs_v5']>precut)&(mm1['fpfs_v7']>precut)\n",
    "msk=msk&(m1<25.8)\n",
    "plt.close()\n",
    "fig,axes=pltutil.make_figure_axes(nx=1,ny=2,square=False)\n",
    "ax=axes[0]\n",
    "ax.hist(m1[msk],bins=nbins,density=False,linewidth=2.,color=pltutil.colors[1],range=(20,27),\\\n",
    "        label='pre-selected',alpha=0.8,histtype='stepfilled')\n",
    "ax.hist(m1,bins=nbins,density=False,weights=fs1.ws,linewidth=2.,color=pltutil.colors[2],range=(20,27),\\\n",
    "        label='post-selected',alpha=0.4,histtype='stepfilled',hatch='/')\n",
    "\n",
    "leg=ax.legend(loc='upper left',fontsize=20,handlelength=0,handletextpad=0,fancybox=False,markerscale=0)\n",
    "for it,text in enumerate(leg.get_texts()):\n",
    "    text.set_color(pltutil.colors[it+1])\n",
    "ax.set_xlim(21,27)\n",
    "ax.set_ylim(1e3,5e5)\n",
    "ax.set_yscale('log')\n",
    "ax.set_xlabel('FPFS magnitude')\n",
    "ax.set_ylabel('PDF')\n",
    "ax.grid()\n",
    "\n",
    "ax=axes[1]\n",
    "ax.hist(r2[msk],bins=nbins,density=False,linewidth=2.,color=pltutil.colors[1],range=(-0.6,2.4),\\\n",
    "        alpha=0.8,histtype='stepfilled')\n",
    "ax.hist(r2,bins=nbins,density=False,weights=fs1.ws,linewidth=2.,\\\n",
    "        color=pltutil.colors[2],range=(-0.6,2.4),\\\n",
    "        alpha=0.4,histtype='stepfilled',hatch='/')\n",
    "ax.set_xlim(-0.6,2.4)\n",
    "ax.set_ylim(1e2,5e5)\n",
    "ax.set_yscale('log')\n",
    "ax.set_xlabel('FPFS resolution')\n",
    "ax.set_ylabel('PDF')\n",
    "ax.grid()\n",
    "fig.tight_layout()\n",
    "\n",
    "\n",
    "gc.collect()\n",
    "fig.savefig('obsHist_blend_det.pdf')"
   ]
  },
  {
   "cell_type": "code",
   "execution_count": 224,
   "id": "953c1b6b-d715-4576-b48f-e98cf62f1467",
   "metadata": {},
   "outputs": [],
   "source": [
    "fs2=fpfs.catalog.summary_stats(mm1,ellM1,use_sig=False)\n",
    "selnm=['M00','R2','detect']\n",
    "cutsig=[sigM,sigR,sigP]\n",
    "\n",
    "# clean outcome\n",
    "fs2.clear_outcomes()\n",
    "cut=[10**((27.-cutM)/2.5),cutR,cutP]\n",
    "# weight array\n",
    "fs2.update_selection_weight(selnm,cut,cutsig)"
   ]
  },
  {
   "cell_type": "code",
   "execution_count": 225,
   "id": "11a2e569-561a-44cb-aba3-4c978399a158",
   "metadata": {},
   "outputs": [
    {
     "name": "stdout",
     "output_type": "stream",
     "text": [
      "132.33281307082314\n",
      "21.029048776087915\n",
      "17.95011122483053\n"
     ]
    }
   ],
   "source": [
    "pix_scale=0.168\n",
    "r2=2300**2.\n",
    "area=r2*np.pi*pix_scale**2./3600.\n",
    "print(np.sum(msk)/200./area)\n",
    "print(np.sum(fs2.ws)/200/area)\n",
    "print(np.sum(fs1.ws)/200/area)"
   ]
  },
  {
   "cell_type": "code",
   "execution_count": 173,
   "id": "adab7e87-56ea-470d-b909-fed7363c6774",
   "metadata": {},
   "outputs": [
    {
     "data": {
      "text/plain": [
       "356.84187905734984"
      ]
     },
     "execution_count": 173,
     "metadata": {},
     "output_type": "execute_result"
    }
   ],
   "source": [
    "len(ms)/200./area"
   ]
  },
  {
   "cell_type": "code",
   "execution_count": 114,
   "id": "389d2291-2305-4e68-b5fc-d8c6dc0e76b0",
   "metadata": {},
   "outputs": [
    {
     "data": {
      "text/plain": [
       "(array([   363.,    491.,    514.,    577.,    692.,    859.,    981.,\n",
       "          1174.,   1570.,   1940.,   2701.,   3653.,   5181.,   7966.,\n",
       "         12286.,  17691.,  23717.,  30201.,  38114.,  46150.,  53991.,\n",
       "         62582.,  70386.,  79084.,  87689.,  95106., 103304., 111878.,\n",
       "        119869., 128608., 136677., 145158., 153173., 160548., 170034.,\n",
       "        178516., 187924., 195899., 203605., 210592., 216116., 221764.,\n",
       "        227918., 230204., 233775., 235904., 236973., 234816., 230794.,\n",
       "        227494., 221257., 215614., 209352., 202033., 193723., 184790.,\n",
       "        177900., 169360., 160813., 153318., 144966., 137683., 130589.,\n",
       "        122235., 114770., 107387., 100398.,  92638.,  85079.,  77760.,\n",
       "         70904.,  64665.,  57952.,  52595.,  48025.,  43347.,  38897.,\n",
       "         35679.,  32297.,  29937.,  27805.,  25892.,  23889.,  22033.,\n",
       "         20543.,  19333.,  18089.,  16895.,  15989.,  15104.,  14208.,\n",
       "         13387.,  12859.,  12010.,  11524.,  10851.,  10302.,   9863.,\n",
       "          9460.,   8886.]),\n",
       " array([-0.5  , -0.487, -0.474, -0.461, -0.448, -0.435, -0.422, -0.409,\n",
       "        -0.396, -0.383, -0.37 , -0.357, -0.344, -0.331, -0.318, -0.305,\n",
       "        -0.292, -0.279, -0.266, -0.253, -0.24 , -0.227, -0.214, -0.201,\n",
       "        -0.188, -0.175, -0.162, -0.149, -0.136, -0.123, -0.11 , -0.097,\n",
       "        -0.084, -0.071, -0.058, -0.045, -0.032, -0.019, -0.006,  0.007,\n",
       "         0.02 ,  0.033,  0.046,  0.059,  0.072,  0.085,  0.098,  0.111,\n",
       "         0.124,  0.137,  0.15 ,  0.163,  0.176,  0.189,  0.202,  0.215,\n",
       "         0.228,  0.241,  0.254,  0.267,  0.28 ,  0.293,  0.306,  0.319,\n",
       "         0.332,  0.345,  0.358,  0.371,  0.384,  0.397,  0.41 ,  0.423,\n",
       "         0.436,  0.449,  0.462,  0.475,  0.488,  0.501,  0.514,  0.527,\n",
       "         0.54 ,  0.553,  0.566,  0.579,  0.592,  0.605,  0.618,  0.631,\n",
       "         0.644,  0.657,  0.67 ,  0.683,  0.696,  0.709,  0.722,  0.735,\n",
       "         0.748,  0.761,  0.774,  0.787,  0.8  ]),\n",
       " [<matplotlib.patches.Polygon at 0x2b1641955a30>])"
      ]
     },
     "execution_count": 114,
     "metadata": {},
     "output_type": "execute_result"
    },
    {
     "data": {
      "image/png": "[encoded data removed]",
      "text/plain": [
       "<Figure size 432x288 with 1 Axes>"
      ]
     },
     "metadata": {
      "needs_background": "light"
     },
     "output_type": "display_data"
    }
   ],
   "source": [
    "plt.hist(mm1['fpfs_v1'],bins=nbins,density=False,linewidth=2.,color=pltutil.colors[1],range=(-0.5,0.8),\\\n",
    "        label='pre selected',alpha=0.8,histtype='stepfilled')"
   ]
  },
  {
   "cell_type": "code",
   "execution_count": null,
   "id": "25cb70fd-7c1a-4486-82bf-86fe500bde2e",
   "metadata": {},
   "outputs": [],
   "source": []
  }
 ],
 "metadata": {
  "kernelspec": {
   "display_name": "Python 3 (ipykernel)",
   "language": "python",
   "name": "python3"
  },
  "language_info": {
   "codemirror_mode": {
    "name": "ipython",
    "version": 3
   },
   "file_extension": ".py",
   "mimetype": "text/x-python",
   "name": "python",
   "nbconvert_exporter": "python",
   "pygments_lexer": "ipython3",
   "version": "3.8.13"
  }
 },
 "nbformat": 4,
 "nbformat_minor": 5
}
