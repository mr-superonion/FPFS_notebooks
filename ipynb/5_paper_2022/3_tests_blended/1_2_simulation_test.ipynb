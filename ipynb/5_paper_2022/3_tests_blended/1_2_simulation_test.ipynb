{
 "cells": [
  {
   "cell_type": "code",
   "execution_count": 2,
   "id": "49ed575e-ee8a-4d7c-b548-74c0d944a3f0",
   "metadata": {},
   "outputs": [],
   "source": [
    "%load_ext autoreload\n",
    "%autoreload 2\n",
    "%matplotlib inline\n",
    "\n",
    "\n",
    "import gc\n",
    "import os \n",
    "import fpfs\n",
    "import fitsio\n",
    "import galsim\n",
    "import logging\n",
    "import matplotlib.pylab as plt\n",
    "from astropy.visualization import simple_norm\n",
    "from mpl_toolkits.axes_grid1 import ImageGrid\n",
    "import numpy.lib.recfunctions as rfn\n",
    "\n",
    "import matplotlib as mpl\n",
    "mpl.rcParams['axes.linewidth'] = 2.0 #set the value globally"
   ]
  },
  {
   "cell_type": "code",
   "execution_count": null,
   "id": "b738c3f6-7789-4dbc-b45d-c3460e05d435",
   "metadata": {},
   "outputs": [],
   "source": [
    "outDir='galaxy_test_cosmo250_psf60'\n",
    "a=fpfs.simutil.make_cosmo_sim(outDir,'g1-0000',Id0=0,ny=256,nx=256,do_write=False,return_array=True)\n",
    "a=a[64:-64,64:-64]\n",
    "plt.close()\n",
    "plt.imshow(a,aspect='equal',cmap='RdYlBu_r',origin='lower',interpolation='None',\\\n",
    "             norm=simple_norm(a,'asinh',asinh_a=0.1,min_cut=-0.01,max_cut=0.2))\n",
    "gc.collect()"
   ]
  },
  {
   "cell_type": "code",
   "execution_count": null,
   "id": "d4a0cabe-04c0-47cd-a518-db6142893553",
   "metadata": {},
   "outputs": [],
   "source": [
    "a=fpfs.simutil.make_cosmo_sim(outDir,'g1-0000',Id0=1,ny=256,nx=256,do_write=False,return_array=True)\n",
    "a=a[64:-64,64:-64]\n",
    "plt.close()\n",
    "outDir='galaxy_test_cosmo250_psf60'\n",
    "plt.imshow(a,aspect='equal',cmap='RdYlBu_r',origin='lower',interpolation='None',\\\n",
    "             norm=simple_norm(a,'asinh',asinh_a=0.1,min_cut=-0.01,max_cut=0.2))\n",
    "gc.collect()"
   ]
  },
  {
   "cell_type": "code",
   "execution_count": null,
   "id": "fd805033-da08-49ce-83c6-27b013bfd9cc",
   "metadata": {},
   "outputs": [],
   "source": [
    "outDir='galaxy_test_cosmo250_psf60'\n",
    "a=fpfs.simutil.make_cosmo_sim(outDir,'g1-0000',Id0=2,ny=256,nx=256,do_write=False,return_array=True)\n",
    "a=a[64:-64,64:-64]\n",
    "plt.close()\n",
    "plt.imshow(a,aspect='equal',cmap='RdYlBu_r',origin='lower',interpolation='None',\\\n",
    "             norm=simple_norm(a,'asinh',asinh_a=0.1,min_cut=-0.01,max_cut=0.2))\n",
    "gc.collect()"
   ]
  },
  {
   "cell_type": "code",
   "execution_count": 74,
   "id": "243fab68-e8a8-4faa-8f32-5e99eb78073f",
   "metadata": {},
   "outputs": [
    {
     "name": "stdout",
     "output_type": "stream",
     "text": [
      "(256, 256)\n",
      "(256, 256)\n",
      "(256, 256)\n",
      "(256, 256)\n"
     ]
    }
   ],
   "source": [
    "rcut=16\n",
    "scale=0.168\n",
    "ngrid=256\n",
    "beg =   ngrid//2-rcut\n",
    "end =   beg+2*rcut\n",
    "psfFWHM =   0.6\n",
    "psfInt  =   galsim.Moffat(beta=3.5,fwhm=psfFWHM,trunc=psfFWHM*4.)\n",
    "psfInt  =   psfInt.shear(e1=0.02,e2=-0.02)\n",
    "psfInt  =   psfInt.shift(\n",
    "    dx  =   0.5*scale,\n",
    "    dy  =   0.5*scale,\n",
    ")\n",
    "ig=20\n",
    "\n",
    "outDir='galaxy_test_cosmo250_psf60'\n",
    "#outDir='galaxy_cosmo250_psf60'\n",
    "psfData =   psfInt.drawImage(nx=ngrid,ny=ngrid,scale=scale).array[beg:end,beg:end]\n",
    "results=[]\n",
    "fpTask  =   fpfs.image.measure_source(psfData,noiFit=0.,beta=0.75)\n",
    "for _ in range(4):\n",
    "    gal=fpfs.simutil.make_cosmo_sim(outDir,'g1-0000',Id0=_+4*ig,ny=256,nx=256,rfrac=0.2,do_write=False,return_array=True)\n",
    "    print(gal.shape)\n",
    "    gal =   gal[beg:end,beg:end]\n",
    "    modes=  fpTask.measure(gal)\n",
    "    \n",
    "    results.append(modes)\n",
    "plt.close()"
   ]
  },
  {
   "cell_type": "code",
   "execution_count": 75,
   "id": "aed55f52-57b8-4c9a-9669-78608eca5fe1",
   "metadata": {},
   "outputs": [
    {
     "data": {
      "text/plain": [
       "20"
      ]
     },
     "execution_count": 75,
     "metadata": {},
     "output_type": "execute_result"
    },
    {
     "data": {
      "image/png": "[encoded data removed]",
      "text/plain": [
       "<Figure size 432x288 with 1 Axes>"
      ]
     },
     "metadata": {
      "needs_background": "light"
     },
     "output_type": "display_data"
    }
   ],
   "source": [
    "plt.imshow(gal,aspect='equal',cmap='RdYlBu_r',origin='lower',interpolation='None',\\\n",
    "             norm=simple_norm(gal,'asinh',asinh_a=0.1,min_cut=-0.01,max_cut=0.2))\n",
    "gc.collect()"
   ]
  },
  {
   "cell_type": "code",
   "execution_count": 76,
   "id": "16f3d241-609a-4afc-9805-b5bbeb28dcf3",
   "metadata": {},
   "outputs": [],
   "source": [
    "gc.collect()\n",
    "mms =   rfn.stack_arrays(results,usemask=False)\n",
    "ells=   fpfs.catalog.fpfsM2E(mms,const=12,noirev=False)\n",
    "resp=np.average(ells['fpfs_R1E'])\n",
    "shear=np.average(ells['fpfs_e1'])/resp"
   ]
  },
  {
   "cell_type": "code",
   "execution_count": 77,
   "id": "cc791471-90f4-4219-916b-dae1d81cdc9a",
   "metadata": {},
   "outputs": [
    {
     "data": {
      "text/plain": [
       "-7.645629779475666e-05"
      ]
     },
     "execution_count": 77,
     "metadata": {},
     "output_type": "execute_result"
    }
   ],
   "source": [
    "(shear+0.02)/0.02"
   ]
  },
  {
   "cell_type": "code",
   "execution_count": null,
   "id": "46c85577-a2ca-4d61-8c37-712736b16227",
   "metadata": {},
   "outputs": [],
   "source": []
  }
 ],
 "metadata": {
  "kernelspec": {
   "display_name": "Python 3 (ipykernel)",
   "language": "python",
   "name": "python3"
  },
  "language_info": {
   "codemirror_mode": {
    "name": "ipython",
    "version": 3
   },
   "file_extension": ".py",
   "mimetype": "text/x-python",
   "name": "python",
   "nbconvert_exporter": "python",
   "pygments_lexer": "ipython3",
   "version": "3.8.13"
  }
 },
 "nbformat": 4,
 "nbformat_minor": 5
}
