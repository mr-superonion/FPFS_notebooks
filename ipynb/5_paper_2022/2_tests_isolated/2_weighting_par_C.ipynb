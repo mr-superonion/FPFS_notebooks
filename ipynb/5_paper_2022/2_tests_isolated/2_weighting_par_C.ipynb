{
 "cells": [
  {
   "cell_type": "code",
   "execution_count": 1,
   "id": "ff12abfa-c8d1-4b5b-8503-0c3e9cf9dc96",
   "metadata": {},
   "outputs": [],
   "source": [
    "%load_ext autoreload\n",
    "%autoreload 2\n",
    "%matplotlib inline\n",
    "import gc\n",
    "import pdet\n",
    "import fpfs\n",
    "import fitsio\n",
    "from fpfs import pltutil\n",
    "import numpy as np\n",
    "import matplotlib.pylab as plt\n",
    "import numpy.lib.recfunctions as rfn\n",
    "\n",
    "ver='try2'\n",
    "gver='basic2'\n",
    "dver='cut16'\n",
    "wrkDir=os.environ['homeWrk']\n",
    "simDir=os.path.join(wrkDir,'FPFS2/sim/')\n",
    "\n",
    "import matplotlib as mpl\n",
    "mpl.rcParams['axes.linewidth'] = 2.0 #set the value globally"
   ]
  },
  {
   "cell_type": "code",
   "execution_count": 2,
   "id": "76451187-2878-4b14-bf45-356dea031c92",
   "metadata": {},
   "outputs": [
    {
     "data": {
      "text/plain": [
       "15"
      ]
     },
     "execution_count": 2,
     "metadata": {},
     "output_type": "execute_result"
    }
   ],
   "source": [
    "#nver='var1em9' # 'var0em0'#\n",
    "# read noiseless data\n",
    "mm1=[]\n",
    "mm2=[]\n",
    "for _i in range(8):\n",
    "    nver='var0em0' # 'var0em0'#\n",
    "    _a1=fitsio.read(os.path.join(simDir,'srcfs3_%sCenter-%s_%s/psf60/fpfs-%s-%04d-g1-0000.fits' %(gver,nver,ver,dver,_i)))\n",
    "    nver='var7em3' # 'var0em0'#\n",
    "    _a2=fitsio.read(os.path.join(simDir,'srcfs3_%sCenter-%s_%s/psf60/fpfs-%s-%04d-g1-2222.fits' %(gver,nver,ver,dver,_i)))\n",
    "    mm1.append(_a1)\n",
    "    mm2.append(_a2)\n",
    "    del _a1,_a2#,msk1,msk2\n",
    "mm1 =   rfn.stack_arrays(mm1,usemask=False)\n",
    "mm2 =   rfn.stack_arrays(mm2,usemask=False)\n",
    "gc.collect()"
   ]
  },
  {
   "cell_type": "code",
   "execution_count": 4,
   "id": "03cb84c9-3ffe-4a26-a807-2de9f324e37f",
   "metadata": {},
   "outputs": [],
   "source": [
    "gc.collect()\n",
    "pix_scale=0.168\n",
    "clist=np.logspace(-1.8,0.2,12)/pix_scale**2.\n",
    "shapenoi=np.zeros(len(clist))\n",
    "totnoise=np.zeros(len(clist))\n",
    "for it,Const in enumerate(clist):\n",
    "    noirev =   False\n",
    "    ellM1  =   fpfs.catalog.fpfsM2E(mm1,const=Const,noirev=noirev)\n",
    "    noirev =   False\n",
    "    ellM2  =   fpfs.catalog.fpfsM2E(mm2,const=Const,noirev=noirev)\n",
    "    shapenoi[it]=np.sqrt(np.average(ellM1['fpfs_e1']**2.))/np.average((ellM1['fpfs_R1E']+ellM1['fpfs_R2E'])/2.)\n",
    "    totnoise[it]=np.sqrt(np.average(ellM2['fpfs_e1']**2.))/np.average((ellM1['fpfs_R1E']+ellM1['fpfs_R2E'])/2.)\n",
    "    del ellM1,ellM2"
   ]
  },
  {
   "cell_type": "code",
   "execution_count": 5,
   "id": "27980617-4148-4ebc-9bca-df311c867e77",
   "metadata": {},
   "outputs": [
    {
     "data": {
      "image/png": "[encoded data removed]",
      "text/plain": [
       "<Figure size 432x360 with 1 Axes>"
      ]
     },
     "metadata": {
      "needs_background": "light"
     },
     "output_type": "display_data"
    }
   ],
   "source": [
    "plt.close()\n",
    "fig,axes=pltutil.make_figure_axes(nx=1,ny=1)\n",
    "ax=axes[0]\n",
    "ax.plot(clist,totnoise,color=pltutil.colors[0],ls='-',linewidth=2.5)\n",
    "ax.plot(clist,shapenoi,color=pltutil.colors[1],ls=':',linewidth=2.5)\n",
    "ax.plot(clist,np.sqrt(totnoise**2-shapenoi**2),color=pltutil.colors[2],ls='--',linewidth=2.5)\n",
    "ax.set_xscale('log')\n",
    "ax.set_xlabel('weighting parameter: $C$ [nano Jr]')\n",
    "ax.set_ylabel('1 $\\sigma$ error on $\\hat{g}_1$')\n",
    "ax.set_yticks([0.2,0.3,0.4])\n",
    "ax.grid()\n",
    "fig.tight_layout()\n",
    "fig.savefig('optimalC.pdf')"
   ]
  },
  {
   "cell_type": "code",
   "execution_count": 50,
   "id": "3701fab5-eeae-48b4-b972-0145b2b585e3",
   "metadata": {},
   "outputs": [
    {
     "data": {
      "text/plain": [
       "1.0555555555555556"
      ]
     },
     "execution_count": 50,
     "metadata": {},
     "output_type": "execute_result"
    }
   ],
   "source": [
    "1./(3.6/3.8)"
   ]
  },
  {
   "cell_type": "code",
   "execution_count": 58,
   "id": "b3b4c2f6-aa39-496e-a1e1-4ee51f24d2d9",
   "metadata": {},
   "outputs": [
    {
     "data": {
      "text/plain": [
       "0.28224000000000005"
      ]
     },
     "execution_count": 58,
     "metadata": {},
     "output_type": "execute_result"
    }
   ],
   "source": [
    "10*pix_scale**2."
   ]
  },
  {
   "cell_type": "code",
   "execution_count": 60,
   "id": "d1f8338e-3d31-45d9-80f9-080d102a70e4",
   "metadata": {},
   "outputs": [
    {
     "data": {
      "text/plain": [
       "0.028224000000000003"
      ]
     },
     "execution_count": 60,
     "metadata": {},
     "output_type": "execute_result"
    }
   ],
   "source": [
    "pix_scale**2."
   ]
  },
  {
   "cell_type": "code",
   "execution_count": null,
   "id": "f027062f-5f4e-439d-a1c2-789b55d37083",
   "metadata": {},
   "outputs": [],
   "source": []
  }
 ],
 "metadata": {
  "kernelspec": {
   "display_name": "Python 3 (ipykernel)",
   "language": "python",
   "name": "python3"
  },
  "language_info": {
   "codemirror_mode": {
    "name": "ipython",
    "version": 3
   },
   "file_extension": ".py",
   "mimetype": "text/x-python",
   "name": "python",
   "nbconvert_exporter": "python",
   "pygments_lexer": "ipython3",
   "version": "3.8.13"
  }
 },
 "nbformat": 4,
 "nbformat_minor": 5
}
