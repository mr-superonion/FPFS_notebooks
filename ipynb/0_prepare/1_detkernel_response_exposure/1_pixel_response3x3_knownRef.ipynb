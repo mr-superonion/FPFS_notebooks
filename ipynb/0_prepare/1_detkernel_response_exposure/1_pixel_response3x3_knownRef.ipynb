{
 "cells": [
  {
   "cell_type": "code",
   "execution_count": 2,
   "id": "a8916355-47a0-4b39-acac-edc5b66b6a0f",
   "metadata": {},
   "outputs": [
    {
     "name": "stdout",
     "output_type": "stream",
     "text": [
      "Populating the interactive namespace from numpy and matplotlib\n"
     ]
    },
    {
     "name": "stderr",
     "output_type": "stream",
     "text": [
      "/lustre/work/xiangchong.li/ana/miniconda3/envs/cosmosis-mpich/lib/python3.7/site-packages/IPython/core/magics/pylab.py:160: UserWarning: pylab import has clobbered these variables: ['plt']\n",
      "`%matplotlib` prevents importing * from pylab and numpy\n",
      "  \"\\n`%matplotlib` prevents importing * from pylab and numpy\"\n"
     ]
    }
   ],
   "source": [
    "%pylab inline\n",
    "\n",
    "import gc\n",
    "import fpfs\n",
    "import numpy as np\n",
    "from fpfs import simutil\n",
    "import scipy.ndimage as ndi\n",
    "import matplotlib.pylab as plt\n",
    "import astropy.io.fits as pyfits\n",
    "from fpfs.imgutil import gauss_kernel\n",
    "import pdet\n",
    "import pltutil\n",
    "wDir=os.path.join(os.environ['homeWrk'],'FPFS2')"
   ]
  },
  {
   "cell_type": "code",
   "execution_count": 3,
   "id": "2703f65b-005d-452b-9b1b-5aca49a5a3b9",
   "metadata": {},
   "outputs": [
    {
     "data": {
      "text/plain": [
       "28"
      ]
     },
     "execution_count": 3,
     "metadata": {},
     "output_type": "execute_result"
    }
   ],
   "source": [
    "ishear=1\n",
    "igroup=0\n",
    "do_plot=False\n",
    "ngrid=64\n",
    "if igroup>=0:\n",
    "    ngal=100\n",
    "    img1=pyfits.getdata(os.path.join(wDir,'sim/galaxy_basicCenter_psf60/image-%d-g%d-0000.fits' %(igroup,ishear)))\n",
    "    img2=pyfits.getdata(os.path.join(wDir,'sim/galaxy_basicCenter_psf60/image-%d-g%d-2222.fits' %(igroup,ishear)))\n",
    "else:\n",
    "    ngal=10\n",
    "    img1=simutil.make_basic_sim('basicCenter_psf60','g%d-0000' %ishear,0,ny=ngal,nx=ngal,do_write=False)\n",
    "    img2=simutil.make_basic_sim('basicCenter_psf60','g%d-2222' %ishear,0,ny=ngal,nx=ngal,do_write=False)\n",
    "ngrid2=ngrid*ngal\n",
    "\n",
    "# PSF\n",
    "psf=pyfits.getdata(os.path.join(wDir,'sim/galaxy_basic_psf60/psf-60.fits'))\n",
    "npad       =   (ngrid2-psf.shape[0])//2\n",
    "psfData    =   np.pad(psf,(npad+1,npad),mode='constant')\n",
    "assert psfData.shape[0]==ngrid2\n",
    "psfF=np.fft.fft2(np.fft.ifftshift(psfData))\n",
    "gsigma=3.*2.*np.pi/64\n",
    "x   = np.fft.fftfreq(ngrid2,1/np.pi/2.)\n",
    "\n",
    "gKer,grids=gauss_kernel(ngrid2,ngrid2,gsigma,return_grid=True)\n",
    "k2grid,k1grid=grids\n",
    "\n",
    "imgF1=np.fft.fft2(img1)/psfF*gKer\n",
    "imgF2=np.fft.fft2(img2)/psfF*gKer\n",
    "imgCov1=np.fft.ifft2(imgF1).real\n",
    "imgCov2=np.fft.ifft2(imgF2).real\n",
    "gc.collect()"
   ]
  },
  {
   "cell_type": "code",
   "execution_count": 4,
   "id": "6ee835d8-3c26-4337-9142-1defbd56a6e2",
   "metadata": {},
   "outputs": [
    {
     "data": {
      "text/plain": [
       "23"
      ]
     },
     "execution_count": 4,
     "metadata": {},
     "output_type": "execute_result"
    }
   ],
   "source": [
    "npixt = 1\n",
    "sizet = 1 + 2 * npixt\n",
    "\n",
    "footprint = np.zeros((sizet, sizet))\n",
    "footprint[npixt, npixt] = 1.\n",
    "footprint[npixt+1, npixt] = -1.\n",
    "imgCovACov1=ndi.convolve(imgCov1,footprint,mode='constant')\n",
    "gc.collect()"
   ]
  },
  {
   "cell_type": "code",
   "execution_count": 5,
   "id": "345b61d7-b1ac-4b44-affb-fd80b239914a",
   "metadata": {},
   "outputs": [],
   "source": [
    "thres=1.*np.sqrt(4e-3)\n",
    "indX=np.arange(32,ngal*64,64)\n",
    "indY=np.arange(32,ngal*64,64)\n",
    "inds=np.meshgrid(indY,indX,indexing='ij')"
   ]
  },
  {
   "cell_type": "code",
   "execution_count": 6,
   "id": "921fd1c2-98c9-414c-b56a-c960e2915a46",
   "metadata": {},
   "outputs": [],
   "source": [
    "if True:\n",
    "    coords   = np.array(np.zeros(inds[0].size),dtype=[('pdet_y','i4'),('pdet_x','i4')])\n",
    "    coords['pdet_y']=np.ravel(inds[0])\n",
    "    coords['pdet_x']=np.ravel(inds[1])\n",
    "else:\n",
    "    coords=pdet.detect_coords(imgCov1,thres)"
   ]
  },
  {
   "cell_type": "code",
   "execution_count": 7,
   "id": "0f77aeea-8e3e-4a2d-bff8-9a7bc07c6462",
   "metadata": {},
   "outputs": [
    {
     "name": "stdout",
     "output_type": "stream",
     "text": [
      "10000\n"
     ]
    },
    {
     "data": {
      "text/plain": [
       "10"
      ]
     },
     "execution_count": 7,
     "metadata": {},
     "output_type": "execute_result"
    },
    {
     "data": {
      "image/png": "[encoded data removed]",
      "text/plain": [
       "<Figure size 432x288 with 1 Axes>"
      ]
     },
     "metadata": {
      "needs_background": "light"
     },
     "output_type": "display_data"
    }
   ],
   "source": [
    "print(len(coords))\n",
    "plt.close()\n",
    "plt.hist(imgCovACov1[coords['pdet_y'],coords['pdet_x']],bins=50)\n",
    "plt.yscale('log')\n",
    "gc.collect()"
   ]
  },
  {
   "cell_type": "code",
   "execution_count": 8,
   "id": "7959de89-ba4e-411f-b483-d52706ee5207",
   "metadata": {},
   "outputs": [
    {
     "data": {
      "text/plain": [
       "13034"
      ]
     },
     "execution_count": 8,
     "metadata": {},
     "output_type": "execute_result"
    },
    {
     "data": {
      "image/png": "[encoded data removed]",
      "text/plain": [
       "<Figure size 432x288 with 1 Axes>"
      ]
     },
     "metadata": {
      "needs_background": "light"
     },
     "output_type": "display_data"
    }
   ],
   "source": [
    "plt.close()\n",
    "plt.hist(imgCov1[coords['pdet_y'],coords['pdet_x']],bins=50)\n",
    "plt.yscale('log')\n",
    "gc.collect()"
   ]
  },
  {
   "cell_type": "code",
   "execution_count": 9,
   "id": "fd1c78ca-07d2-41f5-9546-c6a4a35a0a4d",
   "metadata": {},
   "outputs": [],
   "source": [
    "out1=pdet.get_shear_response(img1,psfData,gsigma=6*2*np.pi/64,coords=coords)\n",
    "out2=pdet.get_shear_response(img2,psfData,gsigma=6*2*np.pi/64,coords=coords)"
   ]
  },
  {
   "cell_type": "code",
   "execution_count": 21,
   "id": "d8b3fbed-2adb-4a42-b609-7e4b57a88f50",
   "metadata": {},
   "outputs": [
    {
     "name": "stdout",
     "output_type": "stream",
     "text": [
      "1 1\n",
      "4.376968682417121e-05 6345\n",
      "[0.0019717  0.00058608 0.00072386 ... 0.00103501 0.00061758 0.00089157]\n",
      "2 1\n",
      "0.0013431791350987867 1857\n",
      "[0.00127664 0.0002623  0.00063356 ... 0.00144484 0.00058407 0.000665  ]\n",
      "3 1\n",
      "-2.3138129169392546e-05 7903\n",
      "[0.00268173 0.00035459 0.00061597 ... 0.00101553 0.00068214 0.00063861]\n"
     ]
    }
   ],
   "source": [
    "for j in range(1,4):\n",
    "    for i in range(1,4):\n",
    "        print(j,i)\n",
    "        resEst=(out2['pdet_v%d%d' %(j,i)]-out1['pdet_v%d%d'%(j,i)])/0.04\n",
    "        res=(out2['pdet_v%d%dr%d'%(j,i,ishear)]+out1['pdet_v%d%dr%d'%(j,i,ishear)])/2.\n",
    "        print(np.average((res-resEst)/np.abs(resEst)),np.argmax(np.abs((res-resEst)/resEst)))\n",
    "        print(np.abs((res-resEst)/resEst))\n",
    "        break"
   ]
  }
 ],
 "metadata": {
  "kernelspec": {
   "display_name": "Python 3 (ipykernel)",
   "language": "python",
   "name": "python3"
  },
  "language_info": {
   "codemirror_mode": {
    "name": "ipython",
    "version": 3
   },
   "file_extension": ".py",
   "mimetype": "text/x-python",
   "name": "python",
   "nbconvert_exporter": "python",
   "pygments_lexer": "ipython3",
   "version": "3.8.13"
  }
 },
 "nbformat": 4,
 "nbformat_minor": 5
}
