{
 "cells": [
  {
   "cell_type": "code",
   "execution_count": 13,
   "metadata": {},
   "outputs": [],
   "source": [
    "%matplotlib inline\n",
    "import gc\n",
    "import pdet\n",
    "import fitsio\n",
    "import galsim\n",
    "import numpy as np\n",
    "import matplotlib.pylab as plt\n",
    "import astropy.io.fits as pyfits\n",
    "import numpy.lib.recfunctions as rfn\n",
    "\n",
    "from fpfs import imgutil\n",
    "from fpfs import simutil\n",
    "from fpfs import fpfsBase\n",
    "wDir=os.path.join(os.environ['homeWrk'],'FPFS2','sim')"
   ]
  },
  {
   "cell_type": "code",
   "execution_count": 14,
   "metadata": {},
   "outputs": [],
   "source": [
    "ishear =   1\n",
    "ngal   =   1\n",
    "rcut   =   16\n",
    "ngrid  =   64\n",
    "beg    =   ngrid//2-rcut\n",
    "end    =   beg+2*rcut\n",
    "gsigma =   6.*2.*np.pi/64\n",
    "beta   =   0.75\n",
    "noiVar =   1e-3\n",
    "\n",
    "img    =   simutil.make_basic_sim('basicCenter_psf60','g%d-1111' %ishear,2,ny=ngal,nx=ngal,do_write=False)\n",
    "\n",
    "# PSF\n",
    "psfData=   pyfits.getdata(os.path.join(wDir,'galaxy_basic_psf60/psf-60.fits'))\n",
    "npad   =   (ngrid-psfData.shape[0])//2\n",
    "psfData1=   np.pad(psfData,(npad+1,npad),mode='constant')\n",
    "assert psfData1.shape[0]==ngrid\n",
    "psfData2=  psfData1[beg:end,beg:end]\n",
    "fpTask0=   fpfsBase.fpfsTask(psfData2,beta=beta)\n",
    "a0     =   fpTask0.measure(img[beg:end,beg:end])\n",
    "\n",
    "indX    =   np.arange(32,ngrid,64)\n",
    "indY    =   np.arange(32,ngrid,64)\n",
    "inds    =   np.meshgrid(indY,indX,indexing='ij')\n",
    "coords  =   np.array(np.zeros(inds[0].size),dtype=[('pdet_y','i4'),('pdet_x','i4')])\n",
    "coords['pdet_y']=   np.ravel(inds[0])\n",
    "coords['pdet_x']=   np.ravel(inds[1])\n",
    "b0      =   pdet.get_shear_response_rfft(img,psfData1,gsigma=gsigma,\\\n",
    "            coords=coords,thres=0.)\n",
    "# Noiseless measurements\n",
    "out0    =   rfn.merge_arrays([a0,b0],flatten=True,usemask=False)\n",
    "out0D   =   pdet.peak2det(out0)\n",
    "out0E   =   pdet.fpfsM2E(out0,out0D,const=1000,noirev=False)\n",
    "del a0,b0"
   ]
  },
  {
   "cell_type": "code",
   "execution_count": 15,
   "metadata": {},
   "outputs": [
    {
     "name": "stdout",
     "output_type": "stream",
     "text": [
      "0.7340361\n"
     ]
    },
    {
     "data": {
      "image/png": "[encoded data removed]",
      "text/plain": [
       "<Figure size 432x288 with 1 Axes>"
      ]
     },
     "metadata": {
      "needs_background": "light"
     },
     "output_type": "display_data"
    }
   ],
   "source": [
    "plt.imshow(img)\n",
    "print(np.max(img))"
   ]
  },
  {
   "cell_type": "code",
   "execution_count": 16,
   "metadata": {},
   "outputs": [
    {
     "data": {
      "text/plain": [
       "1.5256608544230823"
      ]
     },
     "execution_count": 16,
     "metadata": {},
     "output_type": "execute_result"
    }
   ],
   "source": [
    "fpTask0.sigmaPx"
   ]
  },
  {
   "cell_type": "code",
   "execution_count": 17,
   "metadata": {},
   "outputs": [
    {
     "data": {
      "text/plain": [
       "6.283185307179586"
      ]
     },
     "execution_count": 17,
     "metadata": {},
     "output_type": "execute_result"
    }
   ],
   "source": [
    "fpTask0._dk*32"
   ]
  },
  {
   "cell_type": "code",
   "execution_count": 18,
   "metadata": {},
   "outputs": [],
   "source": [
    "powIn  =   np.load(os.path.join(wDir,'corPre/noiPows2.npy'),allow_pickle=True).item()['%s'%rcut]*noiVar*100\n",
    "powModel=  np.zeros((1,powIn.shape[0],powIn.shape[1]))\n",
    "powModel[0]=powIn\n",
    "fpTask =   fpfsBase.fpfsTask(psfData2,noiFit=powModel[0],beta=beta,det_gsigma=gsigma)\n",
    "\n",
    "imgAll=np.tile(img,(100,100))\n",
    "ngrid2 =   ngrid*100\n",
    "npad   =   (ngrid2-psfData.shape[0])//2\n",
    "psfData3=  np.pad(psfData,(npad+1,npad),mode='constant')\n",
    "assert psfData3.shape[0]==ngrid2\n",
    "\n",
    "indX    =   np.arange(32,ngrid2,64)\n",
    "indY    =   np.arange(32,ngrid2,64)\n",
    "inds    =   np.meshgrid(indY,indX,indexing='ij')\n",
    "coords  =   np.array(np.zeros(inds[0].size),dtype=[('pdet_y','i4'),('pdet_x','i4')])\n",
    "coords['pdet_y']=   np.ravel(inds[0])\n",
    "coords['pdet_x']=   np.ravel(inds[1])"
   ]
  },
  {
   "cell_type": "code",
   "execution_count": null,
   "metadata": {},
   "outputs": [],
   "source": [
    "fname= 'src_basicCenter-var1em3_test_0_50.fits'\n",
    "if not os.path.isfile(fname):\n",
    "    outAll=[]\n",
    "    for ifield in range(50):\n",
    "        noiFname=   os.path.join(wDir,'noise','noi%04d.fits' %ifield)\n",
    "        # multiply by 10 since the noise has variance 0.01\n",
    "        noiData=    pyfits.open(noiFname)[0].data*10.*np.sqrt(noiVar)\n",
    "        imgTmp =    imgAll+noiData\n",
    "        # Also times 100 for the noivar model\n",
    "        # Noisy measurements\n",
    "        b       =   pdet.get_shear_response_rfft(imgTmp,psfData3,gsigma=gsigma,\\\n",
    "                    coords=coords,thres=np.sqrt(noiVar)*0.)\n",
    "        imgList =   [imgTmp[cc['pdet_y']-rcut:cc['pdet_y']+rcut,\\\n",
    "                    cc['pdet_x']-rcut:cc['pdet_x']+rcut] for cc in b]\n",
    "        a       =   fpTask.measure(imgList)\n",
    "        out     =   rfn.merge_arrays([a,b],flatten=True,usemask=False)\n",
    "        outAll.append(out)\n",
    "        del a,b,imgList,out,imgTmp,noiData \n",
    "        gc.collect()\n",
    "    out=    rfn.stack_arrays(outAll,usemask=False)\n",
    "    fitsio.write(fname,out)\n",
    "    del outAll\n",
    "    gc.collect()\n",
    "else:\n",
    "    out=fitsio.read(fname)"
   ]
  },
  {
   "cell_type": "code",
   "execution_count": null,
   "metadata": {},
   "outputs": [],
   "source": [
    "outD=   pdet.peak2det(out)\n",
    "outE=   pdet.fpfsM2E(out,outD,const=1000,noirev=True)\n",
    "outEUC= pdet.fpfsM2E(out,outD,const=1000)"
   ]
  },
  {
   "cell_type": "code",
   "execution_count": null,
   "metadata": {},
   "outputs": [],
   "source": [
    "for (j,i) in pdet._default_inds:\n",
    "    print(j,i)\n",
    "    print(np.average(outE['fpfs_e1v%d%dr1' %(j,i)]-out0E['fpfs_e1v%d%dr1'%(j,i)]))\n",
    "    print(np.average(outE['fpfs_e2v%d%dr2' %(j,i)]-out0E['fpfs_e2v%d%dr2'%(j,i)]))"
   ]
  },
  {
   "cell_type": "code",
   "execution_count": null,
   "metadata": {},
   "outputs": [],
   "source": [
    "for (j,i) in pdet._default_inds:\n",
    "    print(j,i)\n",
    "    print(np.average(outEUC['fpfs_e1v%d%dr1'%(j,i)]-out0E['fpfs_e1v%d%dr1'%(j,i)]))\n",
    "    print(np.average(outEUC['fpfs_e2v%d%dr2'%(j,i)]-out0E['fpfs_e2v%d%dr2'%(j,i)]))"
   ]
  },
  {
   "cell_type": "code",
   "execution_count": null,
   "metadata": {},
   "outputs": [],
   "source": [
    "print(np.average(outE['fpfs_e1']-out0E['fpfs_e1']))\n",
    "print(np.average(outE['fpfs_e2']-out0E['fpfs_e2']))"
   ]
  },
  {
   "cell_type": "code",
   "execution_count": null,
   "metadata": {},
   "outputs": [],
   "source": [
    "print(np.average(outEUC['fpfs_e1']-out0E['fpfs_e1']))\n",
    "print(np.average(outEUC['fpfs_e2']-out0E['fpfs_e2']))"
   ]
  },
  {
   "cell_type": "code",
   "execution_count": null,
   "metadata": {},
   "outputs": [],
   "source": [
    "name='fpfs_M00'\n",
    "_=plt.hist(out[name]-out0[name],bins=50)"
   ]
  },
  {
   "cell_type": "code",
   "execution_count": null,
   "metadata": {},
   "outputs": [],
   "source": [
    "name1='fpfs_M00'\n",
    "name2='fpfs_M00'\n",
    "name3='fpfs_N00N00'\n",
    "print(np.average((out[name2]-out0[name2])*(out[name1]-out0[name1])))\n",
    "print(np.average(out[name3]))"
   ]
  },
  {
   "cell_type": "code",
   "execution_count": null,
   "metadata": {},
   "outputs": [],
   "source": [
    "for ind in pdet._default_inds:\n",
    "    name1='fpfs_M22c'\n",
    "    name2='pdet_v%d%dr1' %ind\n",
    "    name3='pdet_N22cV%d%dr1' %ind\n",
    "    print(np.average((outD[name2]-out0D[name2])*(out[name1]-out0[name1])))\n",
    "    print(np.average(outD[name3]))\n",
    "for ind in pdet._default_inds:\n",
    "    name1='fpfs_M00'\n",
    "    name2='pdet_v%d%dr1' %ind\n",
    "    name3='pdet_N00V%d%dr1' %ind\n",
    "    print(np.average((outD[name2]-out0D[name2])*(out[name1]-out0[name1])))\n",
    "    print(np.average(outD[name3]))"
   ]
  },
  {
   "cell_type": "code",
   "execution_count": null,
   "metadata": {},
   "outputs": [],
   "source": [
    "for ind in pdet._default_inds:\n",
    "    name1='fpfs_M22s'\n",
    "    name2='pdet_v%d%dr2' %ind\n",
    "    name3='pdet_N22sV%d%dr2' %ind\n",
    "    print(np.average((outD[name2]-out0D[name2])*(out[name1]-out0[name1])))\n",
    "    print(np.average(outD[name3]))"
   ]
  },
  {
   "cell_type": "code",
   "execution_count": null,
   "metadata": {},
   "outputs": [],
   "source": [
    "for ind in pdet._default_inds:\n",
    "    print(ind)\n",
    "    name1='fpfs_M00'\n",
    "    name2='pdet_v%d%dr2' %ind\n",
    "    name3='pdet_N00V%d%dr2' %ind\n",
    "    print(np.average((outD[name2]-out0D[name2])*(out[name1]-out0[name1])))\n",
    "    print(np.average(outD[name3]))"
   ]
  },
  {
   "cell_type": "code",
   "execution_count": null,
   "metadata": {},
   "outputs": [],
   "source": [
    "for ind in pdet._default_inds:\n",
    "    print(ind)\n",
    "    name1='fpfs_M00'\n",
    "    name2='pdet_v%d%dr1' %ind\n",
    "    name3='pdet_N00V%d%dr1' %ind\n",
    "    print(np.average((outD[name2]-out0D[name2])*(out[name1]-out0[name1])))\n",
    "    print(np.average(outD[name3]))"
   ]
  },
  {
   "cell_type": "code",
   "execution_count": null,
   "metadata": {},
   "outputs": [],
   "source": [
    "_=plt.hist((outD[name2]-out0D[name2])*(out[name1]-out0[name1]),bins=100,range=(-1000,1000))"
   ]
  }
 ],
 "metadata": {
  "kernelspec": {
   "display_name": "Python 3 (ipykernel)",
   "language": "python",
   "name": "python3"
  },
  "language_info": {
   "codemirror_mode": {
    "name": "ipython",
    "version": 3
   },
   "file_extension": ".py",
   "mimetype": "text/x-python",
   "name": "python",
   "nbconvert_exporter": "python",
   "pygments_lexer": "ipython3",
   "version": "3.8.13"
  }
 },
 "nbformat": 4,
 "nbformat_minor": 4
}
