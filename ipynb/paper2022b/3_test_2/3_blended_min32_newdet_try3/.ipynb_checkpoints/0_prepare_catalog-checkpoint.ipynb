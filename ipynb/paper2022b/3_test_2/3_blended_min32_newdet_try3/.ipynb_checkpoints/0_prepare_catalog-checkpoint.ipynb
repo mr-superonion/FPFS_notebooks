{
 "cells": [
  {
   "cell_type": "code",
   "execution_count": 14,
   "metadata": {},
   "outputs": [
    {
     "name": "stdout",
     "output_type": "stream",
     "text": [
      "%pylab is deprecated, use %matplotlib inline and import the required libraries.\n",
      "Populating the interactive namespace from numpy and matplotlib\n"
     ]
    }
   ],
   "source": [
    "%pylab inline\n",
    "import os\n",
    "import gc\n",
    "import scipy\n",
    "import smatch\n",
    "import fitsio\n",
    "import numpy as np\n",
    "import healpy as hp\n",
    "import catutil as utilities\n",
    "import fpfs.simutil as hscimgUtil\n",
    "import numpy.lib.recfunctions as rfn\n",
    "\n",
    "def calcDistanceAngle(a1, a2, d1, d2):\n",
    "    a1_f64 = np.array(a1, dtype = np.float64)\n",
    "    d1_f64 = np.array(d1, dtype = np.float64)\n",
    "    a2_f64 = np.array(a2, dtype = np.float64)\n",
    "    d2_f64 = np.array(d2, dtype = np.float64)\n",
    "    return np.arccos(np.cos(d1_f64)*np.cos(d2_f64)*np.cos(a1_f64-a2_f64)+np.sin(d1_f64)*np.sin(d2_f64))"
   ]
  },
  {
   "cell_type": "code",
   "execution_count": null,
   "metadata": {},
   "outputs": [],
   "source": [
    "cosmo252=hscimgUtil.cosmoHSTGal('252')\n",
    "cosmo252.readHSTsample()\n",
    "cat=cosmo252.catused\n",
    "bds=np.linspace(17,28,15)\n",
    "bdc=(bds[1:]+bds[:-1])/2.\n",
    "nums,bds=np.histogram(cat['mag_auto'],bins=bds,density=False)\n",
    "\n",
    "fname=os.path.join(os.environ['homeWrk'],'COSMOS/Leauthaud2007/acs_clean_only.fits')\n",
    "data=astTable.Table.read(fname)\n",
    "data=data[(data['MU_CLASS']==1)&(data['NEARSTAR']==1)&data['MASKED']==1]\n",
    "nums2,bds2=np.histogram(data['MAG_AUTO'],bins=bds,density=False)\n",
    "\n",
    "zname=os.path.join(os.environ['homeWrk'],'COSMOS/Laigle2015/COSMOS2015_Laigle+_v1.1.fits')\n",
    "zata=astTable.Table.read(zname)\n",
    "print(len(zata))\n",
    "msk=(zata['PHOTOZ']>1e-5)&(zata['PHOTOZ']<7.)\n",
    "zata=zata[msk]"
   ]
  },
  {
   "cell_type": "code",
   "execution_count": 21,
   "metadata": {},
   "outputs": [
    {
     "data": {
      "text/plain": [
       "Text(0, 0.5, 'log(N)')"
      ]
     },
     "execution_count": 21,
     "metadata": {},
     "output_type": "execute_result"
    },
    {
     "data": {
      "image/png": "[encoded data removed]",
      "text/plain": [
       "<Figure size 432x288 with 1 Axes>"
      ]
     },
     "metadata": {
      "needs_background": "light"
     },
     "output_type": "display_data"
    }
   ],
   "source": [
    "plt.plot(bdc,nums,label='Galsim Train')\n",
    "plt.plot(bdc,nums2,label='L07')\n",
    "plt.legend()\n",
    "plt.yscale('log')\n",
    "plt.xlabel('magnitude')\n",
    "plt.ylabel('log(N)')"
   ]
  },
  {
   "cell_type": "code",
   "execution_count": 23,
   "metadata": {},
   "outputs": [],
   "source": [
    "# match between train and L07\n",
    "nside=4096 # healpix nside\n",
    "maxmatch=1 # return closest match\n",
    "\n",
    "# ra,dec,radius in degrees\n",
    "matches = smatch.match(cat['ra'],cat['dec'], 0.3/3600.,\n",
    "                       data['ALPHA_J2000'],data['DELTA_J2000'],\n",
    "                       nside=nside, maxmatch=maxmatch)\n",
    "data['TRAIN_IND']=-99\n",
    "data['TRAIN_IND'][matches['i2']]=cat['index'][matches['i1']]\n",
    "data['L2015_num']=-99\n",
    "matched=data[data['TRAIN_IND']>-1]\n",
    "unmatched=data[data['TRAIN_IND']<-1]"
   ]
  },
  {
   "cell_type": "code",
   "execution_count": 24,
   "metadata": {},
   "outputs": [
    {
     "name": "stdout",
     "output_type": "stream",
     "text": [
      "1.0\n",
      "Only 35.92 percent galaxies have redshift estimation.\n"
     ]
    }
   ],
   "source": [
    "# match between unmatched and L15\n",
    "matches = smatch.match(zata['ALPHA_J2000'],zata['DELTA_J2000'], 0.5/3600.,\n",
    "                       unmatched['ALPHA_J2000'],unmatched['DELTA_J2000'],\n",
    "                       nside=nside, maxmatch=maxmatch)\n",
    "final=unmatched[matches['i2']]\n",
    "final['zphot']=zata[matches['i1']]['PHOTOZ']\n",
    "final['L2015_num']=zata[matches['i1']]['NUMBER']\n",
    "print(len(np.unique(matches['i1']))/len(matches))\n",
    "print('Only %.2f percent galaxies have redshift estimation.' %(100*len(np.unique(matches['i2']))/len(unmatched)))"
   ]
  },
  {
   "cell_type": "code",
   "execution_count": 25,
   "metadata": {},
   "outputs": [
    {
     "data": {
      "text/plain": [
       "1132412"
      ]
     },
     "execution_count": 25,
     "metadata": {},
     "output_type": "execute_result"
    }
   ],
   "source": [
    "len(data)"
   ]
  },
  {
   "cell_type": "code",
   "execution_count": 27,
   "metadata": {},
   "outputs": [
    {
     "data": {
      "text/plain": [
       "518404"
      ]
     },
     "execution_count": 27,
     "metadata": {},
     "output_type": "execute_result"
    }
   ],
   "source": [
    "len(zata)"
   ]
  },
  {
   "cell_type": "code",
   "execution_count": null,
   "metadata": {},
   "outputs": [],
   "source": []
  }
 ],
 "metadata": {
  "kernelspec": {
   "display_name": "Python 3 (ipykernel)",
   "language": "python",
   "name": "python3"
  },
  "language_info": {
   "codemirror_mode": {
    "name": "ipython",
    "version": 3
   },
   "file_extension": ".py",
   "mimetype": "text/x-python",
   "name": "python",
   "nbconvert_exporter": "python",
   "pygments_lexer": "ipython3",
   "version": "3.8.13"
  }
 },
 "nbformat": 4,
 "nbformat_minor": 4
}
