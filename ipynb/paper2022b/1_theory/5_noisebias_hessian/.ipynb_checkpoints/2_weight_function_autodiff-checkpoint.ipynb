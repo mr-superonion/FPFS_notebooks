{
 "cells": [
  {
   "cell_type": "code",
   "execution_count": 4,
   "id": "477e0b72-d694-4b4e-ba7d-332bce1e8bd3",
   "metadata": {},
   "outputs": [],
   "source": [
    "import numpy as np\n",
    "import jax.numpy as jnp\n",
    "from jax import random\n",
    "from jax import grad, jit\n",
    "from jax import jacfwd, jacrev\n",
    "import jax\n",
    "import fpfs\n",
    "from lensPT.noise import noise_bias_2nd_perturb"
   ]
  },
  {
   "cell_type": "code",
   "execution_count": 5,
   "id": "9abe2771-0d91-46c1-b1d6-11508c6dd9b0",
   "metadata": {},
   "outputs": [
    {
     "name": "stdout",
     "output_type": "stream",
     "text": [
      "204.0\n",
      "204.0\n"
     ]
    }
   ],
   "source": [
    "x1 = np.arange(9.0).reshape((3, 3))\n",
    "x2 = np.arange(9.0).reshape((3, 3))\n",
    "print(np.tensordot(x1, x2))\n",
    "print(np.sum(np.multiply(x1, x2)))"
   ]
  },
  {
   "cell_type": "code",
   "execution_count": 10,
   "id": "d1c08149-293a-4c33-9ae8-4c5d8302935a",
   "metadata": {},
   "outputs": [
    {
     "name": "stdout",
     "output_type": "stream",
     "text": [
      "[[0.24359587 0.24359587 0.24359587]\n",
      " [0.24359587 0.24359587 0.24359587]\n",
      " [0.24359587 0.24359587 0.24359587]\n",
      " [0.24359587 0.24359587 0.24359587]\n",
      " [0.24359587 0.24359587 0.24359587]\n",
      " [0.24359587 0.24359587 0.24359587]\n",
      " [0.24359587 0.24359587 0.24359587]\n",
      " [0.24359587 0.24359587 0.24359587]\n",
      " [0.24359587 0.24359587 0.24359587]\n",
      " [0.24359587 0.24359587 0.24359587]\n",
      " [0.24359587 0.24359587 0.24359587]\n",
      " [0.24359587 0.24359587 0.24359587]\n",
      " [0.24359587 0.24359587 0.24359587]\n",
      " [0.24359587 0.24359587 0.24359587]\n",
      " [0.24359587 0.24359587 0.24359587]\n",
      " [0.24359587 0.24359587 0.24359587]\n",
      " [0.24359587 0.24359587 0.24359587]\n",
      " [0.24359587 0.24359587 0.24359587]\n",
      " [0.24359587 0.24359587 0.24359587]\n",
      " [0.24359587 0.24359587 0.24359587]]\n"
     ]
    },
    {
     "data": {
      "text/plain": [
       "DeviceArray([0.15357727, 0.15357727, 0.15357727, 0.15357727, 0.15357727,\n",
       "             0.15357727, 0.15357727, 0.15357727, 0.15357727, 0.15357727,\n",
       "             0.15357727, 0.15357727, 0.15357727, 0.15357727, 0.15357727,\n",
       "             0.15357727, 0.15357727, 0.15357727, 0.15357727, 0.15357727],            dtype=float32)"
      ]
     },
     "execution_count": 10,
     "metadata": {},
     "output_type": "execute_result"
    }
   ],
   "source": [
    "def _f(x):\n",
    "    return jnp.tanh(x[0])*jnp.tanh(x[1])*jnp.tanh(x[2])\n",
    "def f(x):\n",
    "    return jnp.apply_along_axis(_f, axis=-1, arr= x)\n",
    "def g(x):\n",
    "    return jnp.apply_along_axis(jacrev(_f), axis=-1, arr= x)\n",
    "x_test=jnp.ones((20,3))\n",
    "\n",
    "print(g(x_test))\n",
    "\n",
    "cov_mat= jnp.ones((3,3))\n",
    "nbclass = noise_bias_2nd_perturb(_f,cov_mat)"
   ]
  },
  {
   "cell_type": "code",
   "execution_count": 38,
   "id": "4257bad0-6a3b-4a7e-a384-934457d2adfc",
   "metadata": {},
   "outputs": [],
   "source": [
    "x_test=np.array((1,2,3), [('a', 'f8'), ('b', 'f8'), ('c', 'f8')])"
   ]
  },
  {
   "cell_type": "code",
   "execution_count": 40,
   "id": "3dbd295a-1b3f-4af6-a15d-db43abcf2040",
   "metadata": {},
   "outputs": [
    {
     "data": {
      "text/plain": [
       "array(1.)"
      ]
     },
     "execution_count": 40,
     "metadata": {},
     "output_type": "execute_result"
    }
   ],
   "source": [
    "x_test['a']"
   ]
  },
  {
   "cell_type": "code",
   "execution_count": 46,
   "id": "a32b23ac-7af5-4f5c-aae9-878950873a94",
   "metadata": {},
   "outputs": [
    {
     "data": {
      "text/plain": [
       "numpy.ndarray"
      ]
     },
     "execution_count": 46,
     "metadata": {},
     "output_type": "execute_result"
    }
   ],
   "source": [
    "type(x_test)"
   ]
  },
  {
   "cell_type": "code",
   "execution_count": null,
   "id": "e8d4f758-633f-44a9-beac-fb854b334157",
   "metadata": {},
   "outputs": [],
   "source": [
    "x_test."
   ]
  },
  {
   "cell_type": "code",
   "execution_count": 47,
   "id": "a1a7bca7-f786-47ec-9204-c4eb8c2f8215",
   "metadata": {},
   "outputs": [
    {
     "data": {
      "text/plain": [
       "numpy.ndarray"
      ]
     },
     "execution_count": 47,
     "metadata": {},
     "output_type": "execute_result"
    }
   ],
   "source": [
    "type(np.array(12))"
   ]
  },
  {
   "cell_type": "code",
   "execution_count": 44,
   "id": "802aabaa-58b7-4642-90cc-f3048d878852",
   "metadata": {},
   "outputs": [],
   "source": [
    "def ff(x):\n",
    "    return (x[0]+1)*x[1]*x[2]"
   ]
  },
  {
   "cell_type": "code",
   "execution_count": null,
   "id": "b901a061-f44f-4e3b-8ebd-befa9be09e78",
   "metadata": {},
   "outputs": [],
   "source": [
    "aa=np.arange(24).reshape((2,4,3))"
   ]
  },
  {
   "cell_type": "code",
   "execution_count": 26,
   "id": "cc42a172-7953-4065-a536-5b3684727895",
   "metadata": {},
   "outputs": [
    {
     "data": {
      "text/plain": [
       "array([[[ 0,  1,  2],\n",
       "        [ 3,  4,  5],\n",
       "        [ 6,  7,  8],\n",
       "        [ 9, 10, 11]],\n",
       "\n",
       "       [[12, 13, 14],\n",
       "        [15, 16, 17],\n",
       "        [18, 19, 20],\n",
       "        [21, 22, 23]]])"
      ]
     },
     "execution_count": 26,
     "metadata": {},
     "output_type": "execute_result"
    }
   ],
   "source": [
    "aa"
   ]
  },
  {
   "cell_type": "code",
   "execution_count": 45,
   "id": "5827b349-bb9b-425d-8713-03b3e4f8b952",
   "metadata": {},
   "outputs": [
    {
     "data": {
      "text/plain": [
       "2"
      ]
     },
     "execution_count": 45,
     "metadata": {},
     "output_type": "execute_result"
    }
   ],
   "source": [
    "jnp.apply_along_axis(ff,axis=-1,arr=aa[0,0])"
   ]
  },
  {
   "cell_type": "code",
   "execution_count": 9,
   "id": "68d9ce76-1b47-470b-878d-6626d9eb7b05",
   "metadata": {},
   "outputs": [
    {
     "data": {
      "text/plain": [
       "True"
      ]
     },
     "execution_count": 9,
     "metadata": {},
     "output_type": "execute_result"
    }
   ],
   "source": [
    "hasattr(nbclass,'_noise_bias_func')"
   ]
  },
  {
   "cell_type": "code",
   "execution_count": 15,
   "id": "00b56cc7-5c6f-4450-aedf-7e34a247a641",
   "metadata": {},
   "outputs": [
    {
     "data": {
      "text/plain": [
       "DeviceArray([0.15357727, 0.15357727], dtype=float32)"
      ]
     },
     "execution_count": 15,
     "metadata": {},
     "output_type": "execute_result"
    }
   ],
   "source": [
    "jnp.apply_along_axis(nbclass.noise_bias_func, axis = -1 , arr= x_test[1:3])"
   ]
  },
  {
   "cell_type": "code",
   "execution_count": null,
   "id": "e31a4c49-e1ae-4cc2-82bf-c9858ddf5328",
   "metadata": {},
   "outputs": [],
   "source": []
  }
 ],
 "metadata": {
  "kernelspec": {
   "display_name": "Python 3 (ipykernel)",
   "language": "python",
   "name": "python3"
  },
  "language_info": {
   "codemirror_mode": {
    "name": "ipython",
    "version": 3
   },
   "file_extension": ".py",
   "mimetype": "text/x-python",
   "name": "python",
   "nbconvert_exporter": "python",
   "pygments_lexer": "ipython3",
   "version": "3.10.6"
  }
 },
 "nbformat": 4,
 "nbformat_minor": 5
}
