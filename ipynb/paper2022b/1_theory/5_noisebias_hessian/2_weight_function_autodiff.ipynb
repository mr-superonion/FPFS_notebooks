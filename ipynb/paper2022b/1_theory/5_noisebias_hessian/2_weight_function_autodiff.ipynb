{
 "cells": [
  {
   "cell_type": "code",
   "execution_count": 1,
   "id": "477e0b72-d694-4b4e-ba7d-332bce1e8bd3",
   "metadata": {},
   "outputs": [],
   "source": [
    "%load_ext autoreload\n",
    "%autoreload 2\n",
    "%matplotlib inline\n",
    "\n",
    "import numpy as np\n",
    "import jax\n",
    "import fpfs\n",
    "import pandas as pd\n",
    "import jax.numpy as jnp\n",
    "from jax import random\n",
    "import lensPT"
   ]
  },
  {
   "cell_type": "code",
   "execution_count": 2,
   "id": "2ab59da1-4677-413f-8b4b-c5668732ec01",
   "metadata": {},
   "outputs": [],
   "source": [
    "data = {'fpfs_M00': [1., 2., 3., 4.], 'fpfs_M22c': [5., 6., 7., 8.], 'fpfs_M22s': [3., 2., 1., 9.], 'fpfs_M40': [3., 2., 1., 9.]}\n",
    "df = pd.DataFrame(data=data)\n",
    "aa= df.to_records()\n",
    "e1_lpt=lensPT.fpfs.E1(Const=1)\n",
    "e2_lpt=lensPT.fpfs.E2(Const=1)"
   ]
  },
  {
   "cell_type": "code",
   "execution_count": 3,
   "id": "4a540b61-d992-4b9f-9a65-f3ebd51e305e",
   "metadata": {},
   "outputs": [
    {
     "name": "stderr",
     "output_type": "stream",
     "text": [
      "WARNING:absl:No GPU/TPU found, falling back to CPU. (Set TF_CPP_MIN_LOG_LEVEL=0 and rerun for more info.)\n"
     ]
    },
    {
     "name": "stdout",
     "output_type": "stream",
     "text": [
      "[2.5  2.   1.75 1.6 ]\n",
      "[[ 0.5        -1.25        0.        ]\n",
      " [ 0.33333334 -0.6666667   0.        ]\n",
      " [ 0.25       -0.4375      0.        ]\n",
      " [ 0.2        -0.32        0.        ]]\n",
      "[[[ 0.         -0.25        0.        ]\n",
      "  [-0.25        1.25        0.        ]\n",
      "  [ 0.          0.          0.        ]]\n",
      "\n",
      " [[ 0.         -0.11111111  0.        ]\n",
      "  [-0.11111111  0.44444445  0.        ]\n",
      "  [ 0.          0.          0.        ]]\n",
      "\n",
      " [[ 0.         -0.0625      0.        ]\n",
      "  [-0.0625      0.21875     0.        ]\n",
      "  [ 0.          0.          0.        ]]\n",
      "\n",
      " [[ 0.         -0.04        0.        ]\n",
      "  [-0.04        0.128       0.        ]\n",
      "  [ 0.          0.          0.        ]]]\n"
     ]
    }
   ],
   "source": [
    "print(e1_lpt.evaluate(aa))\n",
    "print(e1_lpt.grad(aa))\n",
    "print(e1_lpt.hessian(aa))"
   ]
  },
  {
   "cell_type": "code",
   "execution_count": 4,
   "id": "ca6ec103-04b7-4622-b2f6-ac82ad5cf9b6",
   "metadata": {},
   "outputs": [
    {
     "name": "stdout",
     "output_type": "stream",
     "text": [
      "[1.5       0.6666667 0.25      1.8      ]\n",
      "[[ 0.5        -0.75        0.        ]\n",
      " [ 0.33333334 -0.22222222  0.        ]\n",
      " [ 0.25       -0.0625      0.        ]\n",
      " [ 0.2        -0.35999998  0.        ]]\n",
      "[[[ 0.         -0.25        0.        ]\n",
      "  [-0.25        0.75        0.        ]\n",
      "  [ 0.          0.          0.        ]]\n",
      "\n",
      " [[ 0.         -0.11111111  0.        ]\n",
      "  [-0.11111111  0.14814815  0.        ]\n",
      "  [ 0.          0.          0.        ]]\n",
      "\n",
      " [[ 0.         -0.0625      0.        ]\n",
      "  [-0.0625      0.03125     0.        ]\n",
      "  [ 0.          0.          0.        ]]\n",
      "\n",
      " [[ 0.         -0.04        0.        ]\n",
      "  [-0.04        0.14400001  0.        ]\n",
      "  [ 0.          0.          0.        ]]]\n"
     ]
    }
   ],
   "source": [
    "print(e2_lpt.evaluate(aa))\n",
    "print(e2_lpt.grad(aa))\n",
    "print(e2_lpt.hessian(aa))"
   ]
  },
  {
   "cell_type": "code",
   "execution_count": 5,
   "id": "a4287a62-95e8-4b97-b5d2-4a656455199e",
   "metadata": {},
   "outputs": [
    {
     "name": "stdout",
     "output_type": "stream",
     "text": [
      "[0.02777778 0.08163266 0.140625   0.19753087]\n",
      "[0.33333334 0.5714286  0.75       0.8888889 ]\n"
     ]
    }
   ],
   "source": [
    "e1_sq=e1_lpt*e1_lpt\n",
    "print(e1_sq.evaluate(aa))\n",
    "e1_sum=e1_lpt+e1_lpt\n",
    "print(e1_sum.evaluate(aa))"
   ]
  },
  {
   "cell_type": "code",
   "execution_count": 15,
   "id": "d1c08149-293a-4c33-9ae8-4c5d8302935a",
   "metadata": {},
   "outputs": [
    {
     "name": "stdout",
     "output_type": "stream",
     "text": [
      "[0.375      0.11111111 0.046875   0.024     ]\n"
     ]
    }
   ],
   "source": [
    "cov_mat= jnp.ones((3,3))\n",
    "nb2 = lensPT.noise.noise_perturb2(e1_lpt,cov_mat)\n",
    "print(nb2.evaluate(aa))"
   ]
  },
  {
   "cell_type": "code",
   "execution_count": 18,
   "id": "10761a64-64a1-459d-a21a-ba019ee7251b",
   "metadata": {},
   "outputs": [
    {
     "name": "stdout",
     "output_type": "stream",
     "text": [
      "[8.131728  5.656854  4.684582  2.9132798]\n",
      "[0. 0. 0. 0.]\n"
     ]
    }
   ],
   "source": [
    "sr1=lensPT.shear.g1_perturb1(e1_lpt)\n",
    "print(sr1.evaluate(aa))\n",
    "sr2=lensPT.shear.g2_perturb1(e1_lpt)\n",
    "print(sr2.evaluate(aa))"
   ]
  },
  {
   "cell_type": "code",
   "execution_count": null,
   "id": "67616619-708f-4ccd-bf23-b2b64ae8f202",
   "metadata": {},
   "outputs": [],
   "source": []
  }
 ],
 "metadata": {
  "kernelspec": {
   "display_name": "Python 3 (ipykernel)",
   "language": "python",
   "name": "python3"
  },
  "language_info": {
   "codemirror_mode": {
    "name": "ipython",
    "version": 3
   },
   "file_extension": ".py",
   "mimetype": "text/x-python",
   "name": "python",
   "nbconvert_exporter": "python",
   "pygments_lexer": "ipython3",
   "version": "3.10.6"
  }
 },
 "nbformat": 4,
 "nbformat_minor": 5
}
