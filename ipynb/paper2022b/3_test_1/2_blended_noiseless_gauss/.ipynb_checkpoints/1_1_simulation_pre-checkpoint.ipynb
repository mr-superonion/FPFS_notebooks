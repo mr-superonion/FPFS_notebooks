{
 "cells": [
  {
   "cell_type": "code",
   "execution_count": 28,
   "id": "49ed575e-ee8a-4d7c-b548-74c0d944a3f0",
   "metadata": {},
   "outputs": [
    {
     "name": "stdout",
     "output_type": "stream",
     "text": [
      "The autoreload extension is already loaded. To reload it, use:\n",
      "  %reload_ext autoreload\n"
     ]
    }
   ],
   "source": [
    "%load_ext autoreload\n",
    "%autoreload 2\n",
    "%matplotlib inline\n",
    "import fitsio\n",
    "import galsim\n",
    "import fpfs\n",
    "import os \n",
    "import matplotlib.pylab as plt"
   ]
  },
  {
   "cell_type": "code",
   "execution_count": 100,
   "id": "3d63b960-1333-477d-9bd1-994ce5504ebc",
   "metadata": {},
   "outputs": [],
   "source": [
    "outDir='../../../../sim/galaxy_cosmoR_psf60'\n",
    "hstCat=fitsio.read('./hstcatR.fits')"
   ]
  },
  {
   "cell_type": "code",
   "execution_count": 101,
   "id": "faf79c69-4cdb-45cd-a9fb-c16aa1dda176",
   "metadata": {},
   "outputs": [
    {
     "name": "stdout",
     "output_type": "stream",
     "text": [
      "1\n"
     ]
    }
   ],
   "source": [
    "msk=(hstCat['xI']>500)&(hstCat['yI']>500)\n",
    "msk=msk&(hstCat['xI']<600)&(hstCat['yI']<600)\n",
    "hstCat=hstCat[msk][[0]]\n",
    "print(len(hstCat))"
   ]
  },
  {
   "cell_type": "code",
   "execution_count": 102,
   "id": "9f4fc6f5-1e2f-4eae-ac4f-6475b41f2e24",
   "metadata": {},
   "outputs": [
    {
     "data": {
      "text/plain": [
       "<matplotlib.collections.PathCollection at 0x2b1ed706f1c0>"
      ]
     },
     "execution_count": 102,
     "metadata": {},
     "output_type": "execute_result"
    },
    {
     "data": {
      "image/png": "[encoded data removed]",
      "text/plain": [
       "<Figure size 432x288 with 1 Axes>"
      ]
     },
     "metadata": {
      "needs_background": "light"
     },
     "output_type": "display_data"
    }
   ],
   "source": [
    "plt.scatter(hstCat['xI'],hstCat['yI'])"
   ]
  },
  {
   "cell_type": "code",
   "execution_count": 76,
   "id": "160b2b67-e214-45aa-bbac-4863af74117d",
   "metadata": {},
   "outputs": [],
   "source": [
    "image=fpfs.simutil.make_cosmo_sim(outDir,hstCat,'g1-0000',0,do_write=False,return_array=True)"
   ]
  },
  {
   "cell_type": "code",
   "execution_count": 77,
   "id": "e7d0d3bb-8979-4a11-b822-e281ea886333",
   "metadata": {},
   "outputs": [
    {
     "data": {
      "text/plain": [
       "<matplotlib.image.AxesImage at 0x2b1ee0a56370>"
      ]
     },
     "execution_count": 77,
     "metadata": {},
     "output_type": "execute_result"
    },
    {
     "data": {
      "image/png": "[encoded data removed]",
      "text/plain": [
       "<Figure size 432x288 with 1 Axes>"
      ]
     },
     "metadata": {
      "needs_background": "light"
     },
     "output_type": "display_data"
    }
   ],
   "source": [
    "plt.imshow(image)"
   ]
  },
  {
   "cell_type": "code",
   "execution_count": 78,
   "id": "40ff980d-66dc-4376-9410-714fc2303973",
   "metadata": {},
   "outputs": [
    {
     "data": {
      "text/plain": [
       "<matplotlib.image.AxesImage at 0x2b1ee069c550>"
      ]
     },
     "execution_count": 78,
     "metadata": {},
     "output_type": "execute_result"
    },
    {
     "data": {
      "image/png": "[encoded data removed]",
      "text/plain": [
       "<Figure size 432x288 with 1 Axes>"
      ]
     },
     "metadata": {
      "needs_background": "light"
     },
     "output_type": "display_data"
    }
   ],
   "source": [
    "image=fpfs.simutil.make_cosmo_sim(outDir,hstCat,'g1-0000',9,do_write=False,return_array=True)\n",
    "plt.imshow(image)"
   ]
  },
  {
   "cell_type": "code",
   "execution_count": 84,
   "id": "f48035e4-796f-4ce8-87ad-39686bec14d8",
   "metadata": {},
   "outputs": [
    {
     "data": {
      "text/plain": [
       "25401.600000000002"
      ]
     },
     "execution_count": 84,
     "metadata": {},
     "output_type": "execute_result"
    }
   ],
   "source": [
    "(0.168*6000/60.)**2.*90."
   ]
  },
  {
   "cell_type": "code",
   "execution_count": 103,
   "id": "7716866a-d844-4a94-b0cd-fdb381465de1",
   "metadata": {},
   "outputs": [],
   "source": [
    "import gc\n",
    "import logging\n",
    "Id0=0\n",
    "gname='g1-0000'\n",
    "rotArray    =   fpfs.simutil.make_ringrot_radians(7)\n",
    "# 2**7*8=1024 galaxy ID\n",
    "# 2**7 different rotations and dilations\n",
    "# for each galaxy ID 10000 parametric galaxies\n",
    "logging.info('We have %d rotation realizations' %len(rotArray))\n",
    "irot    =   (Id0//8)%128\n",
    "ang     =   rotArray[irot]*galsim.radians\n",
    "ud      =   galsim.UniformDeviate(Id0+212)\n",
    "rescale =   1.+(ud()-0.5)*0.1\n",
    "# Galsim galaxies\n",
    "directory   =   os.path.join(os.environ['homeWrk'],'COSMOS/galsim_train/COSMOS_25.2_training_sample/')\n",
    "catName     =   'real_galaxy_catalog_25.2.fits'\n",
    "cosmos_cat  =   galsim.COSMOSCatalog(catName,dir=directory)\n",
    "\n",
    "# Basic parameters\n",
    "bigfft      =   galsim.GSParams(maximum_fft_size=10240)\n",
    "# Get the shear information\n",
    "# Three choice on g(-0.02,0,0.02)\n",
    "gList   =   np.array([-0.02,0.,0.02])\n",
    "gList   =   gList[[eval(i) for i in gname.split('-')[-1]]]\n",
    "\n",
    "# PSF\n",
    "psfFWHM =   eval(outDir.split('_psf')[-1])/100.\n",
    "psfInt  =   galsim.Moffat(beta=3.5,fwhm=psfFWHM,trunc=psfFWHM*4.)\n",
    "psfInt  =   psfInt.shear(e1=0.02,e2=-0.02)\n",
    "logging.info('Using Moffat PSF with FWHM: %s arcsec'%psfFWHM)\n",
    "\n",
    "xMax    =   hstCat['xI'].max()+64-1\n",
    "yMax    =   hstCat['yI'].max()+64-1\n",
    "xMin    =   hstCat['xI'].min()-64\n",
    "yMin    =   hstCat['yI'].min()-64\n",
    "nx      =   xMax-xMin+1\n",
    "ny      =   yMax-yMin+1\n",
    "hstCat['xI']=hstCat['xI']-xMin\n",
    "hstCat['yI']=hstCat['yI']-yMin\n",
    "\n",
    "#zbound  =   np.array([0.,0.561,0.906,1.374,5.410]) #before sim3\n",
    "#zbound  =   np.array([0.005,0.5477,0.8874,1.3119,3.0]) #sim 3\n",
    "zbound  =   np.array([0.0001,0.5477,0.8874,1.3119,12.0]) #sim 3\n",
    "gal_image   =   galsim.ImageF(nx,ny,scale=pix_scale)\n",
    "gal_image.setOrigin(0,0)\n",
    "\n",
    "for ss  in hstCat:\n",
    "    gInd=   np.where((ss['zphot']>zbound[:-1])&(ss['zphot']<=zbound[1:]))[0]\n",
    "    if len(gInd)==1:\n",
    "        if gname.split('-')[0]=='g1':\n",
    "            g1=gList[gInd][0]\n",
    "            g2=0.\n",
    "        elif gname.split('-')[0]=='g2':\n",
    "            g1=0.\n",
    "            g2=gList[gInd][0]\n",
    "        else:\n",
    "            raise ValueError('g1 or g2 must be in gname')\n",
    "    else:\n",
    "        g1  =   0.; g2  = 0.\n",
    "    # each galaxy\n",
    "    gal =   cosmos_cat.makeGalaxy(gal_type='parametric',index=ss['index'],gsparams=bigfft)\n",
    "    #gal=   gal*flux_scaling\n",
    "    flux=   10**((27.-ss['mag_auto'])/2.5)\n",
    "    gal =   gal.withFlux(flux)\n",
    "\n",
    "    # rescale the radius by 'rescale' and keep surface brightness the same\n",
    "    gal =   gal.expand(rescale)\n",
    "    # rotate by 'ang'\n",
    "    gal =   gal.rotate(ang)\n",
    "    # lensing shear\n",
    "    gal =   gal.shear(g1=g1,g2=g2)\n",
    "    xu  =   int(ss['xI']);yu  =   int(ss['yI'])\n",
    "    dx  =   (0.5+ss['xI']-xu)*pix_scale\n",
    "    dy  =   (0.5+ss['yI']-yu)*pix_scale\n",
    "    gal =   gal.shift(dx,dy)\n",
    "    # PSF\n",
    "    gal =   galsim.Convolve([psfInt,gal],gsparams=bigfft)\n",
    "    gPix=   gal.getGoodImageSize(pix_scale)\n",
    "    rx1 =   np.min([gPix//2,ss['xI']])\n",
    "    rx2 =   np.min([gPix//2,nx-ss['xI']-1])\n",
    "    rx  =   min(rx1,rx2)\n",
    "    del rx1,rx2\n",
    "    ry1 =   np.min([gPix//2,ss['yI']])\n",
    "    ry2 =   np.min([gPix//2,ny-ss['yI']-1])\n",
    "    ry  =   min(ry1,ry2)\n",
    "    del ry1,ry2\n",
    "    # draw galaxy\n",
    "    b   =   galsim.BoundsI(xu-rx,xu+rx-1,yu-ry,yu+ry-1)\n",
    "    del xu,yu\n",
    "    sub_img =   gal_image[b]\n",
    "    gal.drawImage(sub_img,add_to_image=True)\n",
    "    gc.collect()"
   ]
  },
  {
   "cell_type": "code",
   "execution_count": 111,
   "id": "41f2c255-a140-4f66-b87c-a405d8cbb8a5",
   "metadata": {},
   "outputs": [
    {
     "data": {
      "text/plain": [
       "46"
      ]
     },
     "execution_count": 111,
     "metadata": {},
     "output_type": "execute_result"
    }
   ],
   "source": [
    "b.getXMax()-b.getXMin()+1"
   ]
  },
  {
   "cell_type": "code",
   "execution_count": 113,
   "id": "91371e68-4ba6-4bc5-9b03-8e01d62e5f7e",
   "metadata": {},
   "outputs": [
    {
     "data": {
      "text/plain": [
       "(46, 46)"
      ]
     },
     "execution_count": 113,
     "metadata": {},
     "output_type": "execute_result"
    }
   ],
   "source": [
    "gal_image[b].array.shape"
   ]
  },
  {
   "cell_type": "code",
   "execution_count": 115,
   "id": "ed8001ad-ec08-4408-b1cf-0873c1bf96a6",
   "metadata": {},
   "outputs": [
    {
     "data": {
      "text/plain": [
       "<matplotlib.image.AxesImage at 0x2b1ee4369280>"
      ]
     },
     "execution_count": 115,
     "metadata": {},
     "output_type": "execute_result"
    },
    {
     "data": {
      "image/png": "[encoded data removed]",
      "text/plain": [
       "<Figure size 432x288 with 1 Axes>"
      ]
     },
     "metadata": {
      "needs_background": "light"
     },
     "output_type": "display_data"
    }
   ],
   "source": [
    "plt.imshow(gal_image[b].array)"
   ]
  },
  {
   "cell_type": "code",
   "execution_count": 119,
   "id": "a7901566-089b-4332-95c7-7796f8ddabb0",
   "metadata": {},
   "outputs": [
    {
     "data": {
      "text/plain": [
       "0.10980772"
      ]
     },
     "execution_count": 119,
     "metadata": {},
     "output_type": "execute_result"
    }
   ],
   "source": [
    "gal_image[b].array[23,23]"
   ]
  },
  {
   "cell_type": "code",
   "execution_count": 120,
   "id": "0b40a6f3-855a-42ba-bd8f-60313c011058",
   "metadata": {},
   "outputs": [
    {
     "data": {
      "text/plain": [
       "0.10980772"
      ]
     },
     "execution_count": 120,
     "metadata": {},
     "output_type": "execute_result"
    }
   ],
   "source": [
    "gal_image[b].array.max()"
   ]
  },
  {
   "cell_type": "code",
   "execution_count": null,
   "id": "e65f0fd7-479c-44a0-baf9-912d036d120c",
   "metadata": {},
   "outputs": [],
   "source": []
  }
 ],
 "metadata": {
  "kernelspec": {
   "display_name": "Python 3 (ipykernel)",
   "language": "python",
   "name": "python3"
  },
  "language_info": {
   "codemirror_mode": {
    "name": "ipython",
    "version": 3
   },
   "file_extension": ".py",
   "mimetype": "text/x-python",
   "name": "python",
   "nbconvert_exporter": "python",
   "pygments_lexer": "ipython3",
   "version": "3.8.13"
  }
 },
 "nbformat": 4,
 "nbformat_minor": 5
}
