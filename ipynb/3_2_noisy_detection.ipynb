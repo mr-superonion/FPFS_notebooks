{
 "cells": [
  {
   "cell_type": "code",
   "execution_count": 1,
   "id": "a8916355-47a0-4b39-acac-edc5b66b6a0f",
   "metadata": {},
   "outputs": [
    {
     "name": "stdout",
     "output_type": "stream",
     "text": [
      "Populating the interactive namespace from numpy and matplotlib\n",
      "Do not have lsst pipeline!\n"
     ]
    }
   ],
   "source": [
    "%pylab inline\n",
    "\n",
    "import gc\n",
    "import pdet\n",
    "import fpfs\n",
    "import fitsio\n",
    "import pltutil\n",
    "import numpy as np\n",
    "import numpy.lib.recfunctions as rfn\n",
    "import matplotlib.pylab as plt"
   ]
  },
  {
   "cell_type": "code",
   "execution_count": 2,
   "id": "1412d360-4183-483f-a281-f02a4c38b458",
   "metadata": {},
   "outputs": [],
   "source": [
    "# merge data from n fields\n",
    "out1=[]\n",
    "out2=[]\n",
    "for _i in range(1000):\n",
    "    _a1=fitsio.read('../../sim/src_basicCenter-var4em3/psf60/fpfs-det-%04d-g1-0000.fits' %_i)\n",
    "    _a2=fitsio.read('../../sim/src_basicCenter-var4em3/psf60/fpfs-det-%04d-g1-2222.fits' %_i)\n",
    "    out1.append(_a1)\n",
    "    out2.append(_a2)"
   ]
  },
  {
   "cell_type": "code",
   "execution_count": 3,
   "id": "63b86210-ec77-4fb4-b2ce-6f1d50774f20",
   "metadata": {},
   "outputs": [
    {
     "name": "stdout",
     "output_type": "stream",
     "text": [
      "0.9642525311525051\n"
     ]
    },
    {
     "data": {
      "text/plain": [
       "0"
      ]
     },
     "execution_count": 3,
     "metadata": {},
     "output_type": "execute_result"
    }
   ],
   "source": [
    "out1 =   rfn.stack_arrays(out1,usemask=False)\n",
    "out2 =   rfn.stack_arrays(out2,usemask=False)\n",
    "mm1=(out1['pdet_y']%64-32)**2.+(out1['pdet_y']%64-32)**2.<25\n",
    "mm2=(out2['pdet_y']%64-32)**2.+(out2['pdet_y']%64-32)**2.<25\n",
    "print(np.sum(mm1)/len(mm1))\n",
    "out1=out1[mm1]\n",
    "out2=out2[mm2]\n",
    "ell1=fpfs.fpfsBase.fpfsM2E(out1,const=2000,rev=True)\n",
    "ell2=fpfs.fpfsBase.fpfsM2E(out2,const=2000,rev=True)\n",
    "del mm1,mm2\n",
    "gc.collect()\n",
    "out1=pdet.make_detection_array(out1,ell1)\n",
    "out2=pdet.make_detection_array(out2,ell2)\n",
    "gc.collect()"
   ]
  },
  {
   "cell_type": "code",
   "execution_count": null,
   "id": "8a34d914-3f9c-4292-b889-6506a1d1e7fe",
   "metadata": {},
   "outputs": [],
   "source": [
    "y1=[]\n",
    "y2=[]\n",
    "x=[]\n",
    "tt=(2,2)\n",
    "pn='f%d%d' %tt\n",
    "if tt != (2,2):\n",
    "    xlabel=r'$I_{\\rm peak}-I_{\\Delta %d%d}$' %(tt[0]-2,tt[1]-2)\n",
    "    dshift =-0.2\n",
    "else:\n",
    "    xlabel=r'$I_{\\rm peak}$'\n",
    "    dshift =0.05\n",
    "\n",
    "dcc=0.01\n",
    "\n",
    "for i in range(0,10):\n",
    "    cut=0.1*(i+2)+dshift\n",
    "    msk1 = out1['pdet_%s' %pn]>cut\n",
    "    outM1=out1[msk1]\n",
    "    ellM1=ell1[msk1]\n",
    "    msk2 = out2['pdet_%s' %pn]>cut\n",
    "    outM2=out2[msk2]\n",
    "    ellM2=ell2[msk2]\n",
    "    \n",
    "    if True:\n",
    "        cor1 = pdet.get_detbias(outM1,cut,dcc,inds=tt,dcutz=False)[0]\n",
    "        cor2 = pdet.get_detbias(outM2,cut,dcc,inds=tt,dcutz=False)[0]\n",
    "    else:\n",
    "        cor1 = pdet.get_detbias(outM1,cut,dcc)[0]\n",
    "        cor2 = pdet.get_detbias(outM2,cut,dcc)[0]\n",
    "    de   = np.sum(ellM2['fpfs_e1'])-np.sum(ellM1['fpfs_e1'])\n",
    "    rave = (np.sum(ellM2['fpfs_RE'])+np.sum(ellM1['fpfs_RE']))/2.\n",
    "    raveR= (np.sum(ellM2['fpfs_RE'])+np.sum(ellM1['fpfs_RE'])+cor1+cor2)/2.\n",
    "    x.append(cut)\n",
    "    y1.append(de/rave/0.04-1)\n",
    "    y2.append(de/raveR/0.04-1)\n",
    "    del msk1,msk2\n",
    "gc.collect()\n",
    "x=np.array(x)/np.sqrt(4e-3)\n",
    "y1=np.array(y1)\n",
    "y2=np.array(y2)"
   ]
  },
  {
   "cell_type": "code",
   "execution_count": null,
   "id": "d427b295-eed0-4a0b-9a43-9a7e9372653a",
   "metadata": {},
   "outputs": [],
   "source": [
    "plt.close()\n",
    "fig,axes=pltutil.make_figure_axes(1,1)\n",
    "ax=axes[0]\n",
    "ax.plot(x,y1,label='w/o correction',color=pltutil.colors[0])\n",
    "ax.plot(x,y2,label='with correction',color=pltutil.colors[1])\n",
    "ax.set_xlabel(xlabel+r'$>n\\,\\sigma$')\n",
    "ax.set_ylabel('multiplicative bias')\n",
    "ax.set_ylim(-0.05,0.01)\n",
    "ax.grid()\n",
    "ax.legend()\n",
    "plt.tight_layout()\n",
    "fig.savefig('../html/noisy_detection_%s.png' %pn)"
   ]
  },
  {
   "cell_type": "code",
   "execution_count": 14,
   "id": "c0c3195b-b1c3-444f-8ee2-93fbbf331e39",
   "metadata": {},
   "outputs": [
    {
     "data": {
      "image/png": "[encoded data removed]",
      "text/plain": [
       "<Figure size 504x432 with 1 Axes>"
      ]
     },
     "metadata": {
      "needs_background": "light"
     },
     "output_type": "display_data"
    }
   ],
   "source": [
    "plt.close()\n",
    "fig,axes=pltutil.make_figure_axes(1,1)\n",
    "ax=axes[0]\n",
    "ax.hist(out1['pdet_f12']/np.sqrt(4e-3),range=(0,5),bins=300,color=pltutil.colors[0])\n",
    "ax.set_yscale('log')\n",
    "ax.set_xlabel(xlabel)\n",
    "ax.set_ylabel('number')\n",
    "ax.grid()"
   ]
  },
  {
   "cell_type": "code",
   "execution_count": null,
   "id": "4981d97d-17cb-4cd6-971b-66cdc4cf4b3a",
   "metadata": {},
   "outputs": [],
   "source": []
  }
 ],
 "metadata": {
  "kernelspec": {
   "display_name": "Python 3 (ipykernel)",
   "language": "python",
   "name": "python3"
  },
  "language_info": {
   "codemirror_mode": {
    "name": "ipython",
    "version": 3
   },
   "file_extension": ".py",
   "mimetype": "text/x-python",
   "name": "python",
   "nbconvert_exporter": "python",
   "pygments_lexer": "ipython3",
   "version": "3.7.12"
  }
 },
 "nbformat": 4,
 "nbformat_minor": 5
}
