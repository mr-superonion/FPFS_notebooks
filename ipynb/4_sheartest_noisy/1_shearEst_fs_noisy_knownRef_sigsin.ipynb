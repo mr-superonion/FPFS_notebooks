{
 "cells": [
  {
   "cell_type": "code",
   "execution_count": 38,
   "id": "ff12abfa-c8d1-4b5b-8503-0c3e9cf9dc96",
   "metadata": {},
   "outputs": [],
   "source": [
    "%matplotlib inline\n",
    "import gc\n",
    "import pdet\n",
    "import fpfs\n",
    "import fitsio\n",
    "import pltutil\n",
    "import numpy as np\n",
    "import numpy.lib.recfunctions as rfn\n",
    "import matplotlib.pylab as plt\n",
    "\n",
    "ver='try2'\n",
    "gver='basic2'\n",
    "#dver='cut16'\n",
    "dver='det'\n",
    "wrkDir=os.environ['homeWrk']\n",
    "simDir=os.path.join(wrkDir,'FPFS2/sim/')\n",
    "\n",
    "def truncSine_func(x,mu=0.,sigma=1.5,deriv=0):\n",
    "    t=(x-mu)/sigma\n",
    "    if deriv==0:\n",
    "        return np.piecewise(t, [t<-1,(t>=-1)&(t<=1),t>1], [0.,lambda t:1./2.+np.sin(t*np.pi/2.)/2., 1.])\n",
    "    elif deriv==1:\n",
    "        # multiplicative factor for the first derivative\n",
    "        return np.piecewise(t, [t<-1,(t>=-1)&(t<=1),t>1],[0.,lambda t: np.pi/2./sigma*np.cos(t*np.pi/2.)/(1.+np.sin(t*np.pi/2.)), 0.] )\n",
    "\n",
    "\n",
    "def sigmoid_func(x,mu=0.,sigma=1.5,deriv=0):\n",
    "    expx=np.exp(-(x-mu)/sigma)\n",
    "    if deriv==0:\n",
    "        # sigmoid function\n",
    "        return 1./(1. + expx)\n",
    "    elif deriv==1:\n",
    "        # multiplicative factor for the first derivative\n",
    "        return 1./sigma*expx/(1. + expx)\n",
    "\n",
    "def get_detbias(dets,ells,w_sel,icut,isig,ind):\n",
    "    \"\"\"\n",
    "    Parameters:\n",
    "        dets:       detection array\n",
    "        ells:       ellipticity array\n",
    "        w_sel:      selection weight\n",
    "        icut:       selection cut\n",
    "        isig:       sigma of sigmoid function\n",
    "        inds:       pixel index\n",
    "        \n",
    "    Returns:\n",
    "        cor1:       correction for shear1\n",
    "        cor2:       correction for shear2\n",
    "    \"\"\"\n",
    "    fnmv   =  'pdet_v%d%d'  %ind\n",
    "    fnmr1  =  'fpfs_e1v%d%dr1'%ind\n",
    "    fnmr2  =  'fpfs_e2v%d%dr2'%ind\n",
    "    if use_sig:\n",
    "        wselb  =  sigmoid_func(dets[fnmv],mu=icut,sigma=isig,deriv=1)\n",
    "    else:\n",
    "        wselb  =  truncSine_func(dets[fnmv],mu=icut,sigma=isig*3,deriv=1)\n",
    "    out1=np.sum(ells[fnmr1]*wselb*w_sel)\n",
    "    out2=np.sum(ells[fnmr2]*wselb*w_sel)\n",
    "    return out1,out2\n",
    "\n",
    "def get_detbias_list(dets,ells,w_sel,indsl,cutsl,bcutl):\n",
    "    \"\"\"\n",
    "    get detection bias due to lower boundar cuts\n",
    "    Parameters:\n",
    "        dets:       ndarray\n",
    "                    detection array\n",
    "        ells:       ndarray\n",
    "                    ellipticity array\n",
    "        w_sel:      ndarray\n",
    "                    selection weight\n",
    "        indsl:      list\n",
    "                    a list of pixel index\n",
    "        cutsl:      list\n",
    "                    a list of selection cuts (sigmoid mu)\n",
    "        bcutl:      list\n",
    "                    a list of width of sigmoid functions\n",
    "    \"\"\"\n",
    "    ncut = len(indsl) # assert\n",
    "    assert len(cutsl)==ncut, 'number of cuts does not match'\n",
    "    assert len(bcutl)==ncut, 'number of boundary bin size does not match'\n",
    "\n",
    "    cor1Sum=0.  # initialize the correction terms\n",
    "    cor2Sum=0.\n",
    "    for _ in range(ncut):\n",
    "        fnmv =  'pdet_v%d%d' %indsl[_]\n",
    "        bcut  =  bcutl[_]\n",
    "        icut  =  cutsl[_]\n",
    "        print('apply cut on %s at %.3f' %(fnmv,icut))\n",
    "        c1,c2=get_detbias(dets,ells,w_sel,icut,bcut,indsl[_])\n",
    "        cor1Sum+=c1\n",
    "        cor2Sum+=c2\n",
    "    return cor1Sum,cor2Sum"
   ]
  },
  {
   "cell_type": "code",
   "execution_count": 3,
   "id": "25f7ca1d-4277-4140-8402-719650a3f9a4",
   "metadata": {},
   "outputs": [
    {
     "data": {
      "image/png": "[encoded data removed]",
      "text/plain": [
       "<Figure size 432x360 with 1 Axes>"
      ]
     },
     "metadata": {
      "needs_background": "light"
     },
     "output_type": "display_data"
    }
   ],
   "source": [
    "fig,axes=pltutil.make_figure_axes(1,1,square=True)\n",
    "ax=axes[0]\n",
    "x = np.linspace(-10, 10, 200)\n",
    "y=np.piecewise(x, [x<0.,x>=0.], [0.,1.])\n",
    "ax.plot(x,y,color=pltutil.colors[0],ls='--',label='Hard',alpha=0.5)\n",
    "y=sigmoid_func(x)\n",
    "z=y*sigmoid_func(x,deriv=1)\n",
    "ax.plot(x,y,color=pltutil.colors[1],ls='--',label='Sigmoid')\n",
    "ax.plot(x,z,color=pltutil.colors[1],ls='-.')\n",
    "y=truncSine_func(x,sigma=4.)\n",
    "z=y*truncSine_func(x,sigma=4.,deriv=1)\n",
    "ax.plot(x,y,color=pltutil.colors[2],ls='--',label='Sine')\n",
    "ax.plot(x,z,color=pltutil.colors[2],ls='-.')\n",
    "\n",
    "ax.set_xlabel(r'$v$')\n",
    "ax.set_ylabel(r'$w(v)$')\n",
    "leg=ax.legend(fontsize=18,handlelength=0,handletextpad=0,fancybox=False,markerscale=0)\n",
    "for it,text in enumerate(leg.get_texts()):\n",
    "    cc=leg.legendHandles[it].get_color()\n",
    "    text.set_color(cc)\n",
    "    \n",
    "plt.tight_layout()\n",
    "fig.savefig('../../html/sel_fun.pdf')"
   ]
  },
  {
   "cell_type": "code",
   "execution_count": 57,
   "id": "76451187-2878-4b14-bf45-356dea031c92",
   "metadata": {},
   "outputs": [],
   "source": [
    "# read noiseless data\n",
    "nver= nver='var0em0'#'var4em3' #\n",
    "outNN1=[]\n",
    "outNN2=[]\n",
    "for _i in range(400):\n",
    "    _a1=fitsio.read(os.path.join(simDir,'srcfs_%sShift-%s/psf60/fpfs-%s-%04d-g1-0000.fits' %(gver,nver,dver,_i)))\n",
    "    _a2=fitsio.read(os.path.join(simDir,'srcfs_%sShift-%s/psf60/fpfs-%s-%04d-g1-2222.fits' %(gver,nver,dver,_i)))\n",
    "    outNN1.append(_a1)\n",
    "    outNN2.append(_a2)\n",
    "    del _a1,_a2\n",
    "outNN1 =   rfn.stack_arrays(outNN1,usemask=False)\n",
    "outNN2 =   rfn.stack_arrays(outNN2,usemask=False)\n",
    "detM1=   pdet.peak2det(outNN1)\n",
    "detM2=   pdet.peak2det(outNN2)"
   ]
  },
  {
   "cell_type": "code",
   "execution_count": 58,
   "id": "bfc274e8-ee60-4cf3-ae08-4304c835e34d",
   "metadata": {},
   "outputs": [
    {
     "data": {
      "text/plain": [
       "11513842"
      ]
     },
     "execution_count": 58,
     "metadata": {},
     "output_type": "execute_result"
    }
   ],
   "source": [
    "np.sum((outNN1['pdet_x']%64-32.)**2.+(outNN1['pdet_y']%64-32.)**2.>900)"
   ]
  },
  {
   "cell_type": "code",
   "execution_count": 59,
   "id": "3a5ce1ed-c2db-4bb6-b7ff-1cdf52ffd0a5",
   "metadata": {},
   "outputs": [
    {
     "data": {
      "text/plain": [
       "0.06324555320336758"
      ]
     },
     "execution_count": 59,
     "metadata": {},
     "output_type": "execute_result"
    }
   ],
   "source": [
    "np.sqrt(0.004)"
   ]
  },
  {
   "cell_type": "code",
   "execution_count": 6,
   "id": "87d78d4d-2854-4a7e-9f50-7438bbad309a",
   "metadata": {},
   "outputs": [
    {
     "data": {
      "text/plain": [
       "528"
      ]
     },
     "execution_count": 6,
     "metadata": {},
     "output_type": "execute_result"
    }
   ],
   "source": [
    "Const  =   2000.\n",
    "if nver=='var4em3':\n",
    "    noirev=True\n",
    "else:\n",
    "    noirev=False\n",
    "ellM1=   fpfs.fpfsBase.fpfsM2E(outNN1,dets=detM1,const=Const,noirev=noirev)\n",
    "ellM2=   fpfs.fpfsBase.fpfsM2E(outNN2,dets=detM2,const=Const,noirev=noirev)\n",
    "gc.collect()"
   ]
  },
  {
   "cell_type": "code",
   "execution_count": 55,
   "id": "cf1c505d-5574-4e08-8b6f-8a103852f562",
   "metadata": {},
   "outputs": [
    {
     "name": "stdout",
     "output_type": "stream",
     "text": [
      "apply cut on pdet_v22 at 0.040\n",
      "apply cut on pdet_v21 at 0.020\n",
      "apply cut on pdet_v23 at 0.020\n",
      "apply cut on pdet_v12 at 0.020\n",
      "apply cut on pdet_v32 at 0.020\n",
      "apply cut on pdet_v22 at 0.040\n",
      "apply cut on pdet_v21 at 0.020\n",
      "apply cut on pdet_v23 at 0.020\n",
      "apply cut on pdet_v12 at 0.020\n",
      "apply cut on pdet_v32 at 0.020\n",
      "598956.849990174\n",
      "apply cut on pdet_v22 at 0.140\n",
      "apply cut on pdet_v21 at 0.020\n",
      "apply cut on pdet_v23 at 0.020\n",
      "apply cut on pdet_v12 at 0.020\n",
      "apply cut on pdet_v32 at 0.020\n",
      "apply cut on pdet_v22 at 0.140\n",
      "apply cut on pdet_v21 at 0.020\n",
      "apply cut on pdet_v23 at 0.020\n",
      "apply cut on pdet_v12 at 0.020\n",
      "apply cut on pdet_v32 at 0.020\n",
      "598939.4499617744\n",
      "apply cut on pdet_v22 at 0.240\n",
      "apply cut on pdet_v21 at 0.020\n",
      "apply cut on pdet_v23 at 0.020\n",
      "apply cut on pdet_v12 at 0.020\n",
      "apply cut on pdet_v32 at 0.020\n",
      "apply cut on pdet_v22 at 0.240\n",
      "apply cut on pdet_v21 at 0.020\n",
      "apply cut on pdet_v23 at 0.020\n",
      "apply cut on pdet_v12 at 0.020\n",
      "apply cut on pdet_v32 at 0.020\n",
      "596509.5358415779\n",
      "apply cut on pdet_v22 at 0.340\n",
      "apply cut on pdet_v21 at 0.020\n",
      "apply cut on pdet_v23 at 0.020\n",
      "apply cut on pdet_v12 at 0.020\n",
      "apply cut on pdet_v32 at 0.020\n",
      "apply cut on pdet_v22 at 0.340\n",
      "apply cut on pdet_v21 at 0.020\n",
      "apply cut on pdet_v23 at 0.020\n",
      "apply cut on pdet_v12 at 0.020\n",
      "apply cut on pdet_v32 at 0.020\n",
      "584519.0269617402\n",
      "apply cut on pdet_v22 at 0.440\n",
      "apply cut on pdet_v21 at 0.020\n",
      "apply cut on pdet_v23 at 0.020\n",
      "apply cut on pdet_v12 at 0.020\n",
      "apply cut on pdet_v32 at 0.020\n",
      "apply cut on pdet_v22 at 0.440\n",
      "apply cut on pdet_v21 at 0.020\n",
      "apply cut on pdet_v23 at 0.020\n",
      "apply cut on pdet_v12 at 0.020\n",
      "apply cut on pdet_v32 at 0.020\n",
      "559335.8281658604\n",
      "apply cut on pdet_v22 at 0.540\n",
      "apply cut on pdet_v21 at 0.020\n",
      "apply cut on pdet_v23 at 0.020\n",
      "apply cut on pdet_v12 at 0.020\n",
      "apply cut on pdet_v32 at 0.020\n",
      "apply cut on pdet_v22 at 0.540\n",
      "apply cut on pdet_v21 at 0.020\n",
      "apply cut on pdet_v23 at 0.020\n",
      "apply cut on pdet_v12 at 0.020\n",
      "apply cut on pdet_v32 at 0.020\n",
      "526624.1931790964\n",
      "apply cut on pdet_v22 at 0.640\n",
      "apply cut on pdet_v21 at 0.020\n",
      "apply cut on pdet_v23 at 0.020\n",
      "apply cut on pdet_v12 at 0.020\n",
      "apply cut on pdet_v32 at 0.020\n",
      "apply cut on pdet_v22 at 0.640\n",
      "apply cut on pdet_v21 at 0.020\n",
      "apply cut on pdet_v23 at 0.020\n",
      "apply cut on pdet_v12 at 0.020\n",
      "apply cut on pdet_v32 at 0.020\n",
      "492025.7014554942\n",
      "apply cut on pdet_v22 at 0.740\n",
      "apply cut on pdet_v21 at 0.020\n",
      "apply cut on pdet_v23 at 0.020\n",
      "apply cut on pdet_v12 at 0.020\n",
      "apply cut on pdet_v32 at 0.020\n",
      "apply cut on pdet_v22 at 0.740\n",
      "apply cut on pdet_v21 at 0.020\n",
      "apply cut on pdet_v23 at 0.020\n",
      "apply cut on pdet_v12 at 0.020\n",
      "apply cut on pdet_v32 at 0.020\n",
      "458596.33046324615\n",
      "apply cut on pdet_v22 at 0.840\n",
      "apply cut on pdet_v21 at 0.020\n",
      "apply cut on pdet_v23 at 0.020\n",
      "apply cut on pdet_v12 at 0.020\n",
      "apply cut on pdet_v32 at 0.020\n",
      "apply cut on pdet_v22 at 0.840\n",
      "apply cut on pdet_v21 at 0.020\n",
      "apply cut on pdet_v23 at 0.020\n",
      "apply cut on pdet_v12 at 0.020\n",
      "apply cut on pdet_v32 at 0.020\n",
      "427938.97089946107\n",
      "apply cut on pdet_v22 at 0.940\n",
      "apply cut on pdet_v21 at 0.020\n",
      "apply cut on pdet_v23 at 0.020\n",
      "apply cut on pdet_v12 at 0.020\n",
      "apply cut on pdet_v32 at 0.020\n",
      "apply cut on pdet_v22 at 0.940\n",
      "apply cut on pdet_v21 at 0.020\n",
      "apply cut on pdet_v23 at 0.020\n",
      "apply cut on pdet_v12 at 0.020\n",
      "apply cut on pdet_v32 at 0.020\n",
      "399413.91840574733\n",
      "[0.0069624  0.00696265 0.00690186 0.00671054 0.00653252 0.00628029\n",
      " 0.00611743 0.00593036 0.00570303 0.00553641]\n"
     ]
    },
    {
     "data": {
      "image/png": "[encoded data removed]",
      "text/plain": [
       "<Figure size 432x360 with 1 Axes>"
      ]
     },
     "metadata": {
      "needs_background": "light"
     },
     "output_type": "display_data"
    }
   ],
   "source": [
    "use_sig=True\n",
    "x=[]\n",
    "y1=[]\n",
    "y2=[]\n",
    "yerr=[]\n",
    "\n",
    "\n",
    "plt.close()\n",
    "fig,axes=pltutil.make_figure_axes(1,1)\n",
    "ax=axes[0]\n",
    "    \n",
    "indsAll=[(2,2),(2,1),(2,3),(1,2),(3,2)]\n",
    "\n",
    "tt = (2,2)\n",
    "if tt != (2,2):\n",
    "    xlabel=r'$I_{\\rm peak}-I_{\\Delta %d%d}$' %(tt[0]-2,tt[1]-2)\n",
    "    ax.set_xlim(-0.1,2)\n",
    "    dcc=0.005\n",
    "    dcut=0.01\n",
    "else:\n",
    "    xlabel=r'$I_{\\rm peak}$'\n",
    "    ax.set_xlim(-0.1,15)\n",
    "    dcc=0.01\n",
    "    dcut=0.1\n",
    "    \n",
    "cutp=0.02\n",
    "    \n",
    "for i in range(0,10):\n",
    "    # update cut array\n",
    "    \n",
    "    cut=dcut*i+dcc*4\n",
    "    cutAll=[]\n",
    "    cutAll.append(cut)\n",
    "    for _ in range(3):\n",
    "        cutAll.append(cutp)\n",
    "    dccAll=[]\n",
    "    dccAll.append(dcc)\n",
    "    for _ in range(3):\n",
    "        dccAll.append(cutp/4.)\n",
    "\n",
    "    # weight array\n",
    "    ws1 = np.ones(len(detM1))\n",
    "    for _ in range(len(cutAll)):\n",
    "        pn='v%d%d' %indsAll[_]\n",
    "        if use_sig:\n",
    "            _wtmp= sigmoid_func(detM1['pdet_%s' %pn],mu=cutAll[_],sigma=dccAll[_])\n",
    "        else:\n",
    "            _wtmp= truncSine_func(detM1['pdet_%s' %pn],mu=cutAll[_],sigma=dccAll[_])\n",
    "        ws1=ws1*_wtmp\n",
    "        \n",
    "    # weight array\n",
    "    ws2 = np.ones(len(detM2))\n",
    "    for _ in range(len(cutAll)):\n",
    "        pn='v%d%d' %indsAll[_]\n",
    "        if use_sig:\n",
    "            _wtmp= sigmoid_func(detM2['pdet_%s' %pn],mu=cutAll[_],sigma=dccAll[_])\n",
    "        else:\n",
    "            _wtmp= truncSine_func(detM2['pdet_%s' %pn],mu=cutAll[_],sigma=dccAll[_])\n",
    "        ws2=ws2*_wtmp\n",
    "\n",
    "    cor1,cor1b = get_detbias_list(detM1,ellM1,ws1,indsAll,cutAll,dccAll)\n",
    "    cor2,cor2b = get_detbias_list(detM2,ellM2,ws2,indsAll,cutAll,dccAll)\n",
    "    de   =  np.sum(ellM2['fpfs_e1']*ws2)-np.sum(ellM1['fpfs_e1']*ws1)\n",
    "    rave = (np.sum(ellM2['fpfs_RE']*ws2)+np.sum(ellM1['fpfs_RE']*ws1))/2.\n",
    "    raveR= (np.sum(ellM2['fpfs_RE']*ws2)+np.sum(ellM1['fpfs_RE']*ws1)+cor1+cor2)/2.\n",
    "    x.append(cut/np.sqrt(4e-3))\n",
    "    y1.append(de/rave/0.04-1)\n",
    "    y2.append(de/raveR/0.04-1)\n",
    "    yerr.append(0.15*np.sqrt(np.sum((ellM2['fpfs_RE']*ws2)**2.))/raveR/0.04)\n",
    "    print(np.sum(ws2))\n",
    "gc.collect()\n",
    "\n",
    "ax.errorbar(np.array(x),np.array(y1),np.array(yerr),label='w/o correction',color=pltutil.colors[0])\n",
    "ax.errorbar(np.array(x),np.array(y2),np.array(yerr),label='with correction',color=pltutil.colors[1])\n",
    "print(np.array(y2))\n",
    "ax.set_xlabel(xlabel+r'$>n\\,\\sigma$')\n",
    "ax.set_ylabel('multiplicative bias')\n",
    "ax.set_ylim(-0.20,0.02)\n",
    "ax.grid()\n",
    "ax.legend()\n",
    "plt.tight_layout()\n",
    "#fig.savefig('../../html/noisy_knownRef_%s.png' %pn)"
   ]
  },
  {
   "cell_type": "code",
   "execution_count": 47,
   "id": "54a2f747-34f0-4e78-8899-a38b0b63c7ed",
   "metadata": {},
   "outputs": [
    {
     "data": {
      "image/png": "[encoded data removed]",
      "text/plain": [
       "<Figure size 432x288 with 1 Axes>"
      ]
     },
     "metadata": {
      "needs_background": "light"
     },
     "output_type": "display_data"
    }
   ],
   "source": [
    "plt.close()\n",
    "plt.hist(detM1['pdet_v21']/np.sqrt(4e-3),bins=50,range=(0,6))\n",
    "plt.show()"
   ]
  },
  {
   "cell_type": "code",
   "execution_count": 49,
   "id": "8feab388-f643-45cd-aee4-ca9af3a53b04",
   "metadata": {},
   "outputs": [
    {
     "data": {
      "text/plain": [
       "0.31622776601683794"
      ]
     },
     "execution_count": 49,
     "metadata": {},
     "output_type": "execute_result"
    }
   ],
   "source": [
    "0.02/np.sqrt(4e-3)"
   ]
  },
  {
   "cell_type": "code",
   "execution_count": null,
   "id": "184513ee-86e9-48cf-a526-c2b8146f6d19",
   "metadata": {},
   "outputs": [],
   "source": []
  }
 ],
 "metadata": {
  "kernelspec": {
   "display_name": "Python 3 (ipykernel)",
   "language": "python",
   "name": "python3"
  },
  "language_info": {
   "codemirror_mode": {
    "name": "ipython",
    "version": 3
   },
   "file_extension": ".py",
   "mimetype": "text/x-python",
   "name": "python",
   "nbconvert_exporter": "python",
   "pygments_lexer": "ipython3",
   "version": "3.8.13"
  }
 },
 "nbformat": 4,
 "nbformat_minor": 5
}
