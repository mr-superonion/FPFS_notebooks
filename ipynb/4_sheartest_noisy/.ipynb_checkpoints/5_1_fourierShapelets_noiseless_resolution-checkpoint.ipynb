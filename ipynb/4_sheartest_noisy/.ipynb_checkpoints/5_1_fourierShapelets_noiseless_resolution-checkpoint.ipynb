{
 "cells": [
  {
   "cell_type": "code",
   "execution_count": 1,
   "id": "ff12abfa-c8d1-4b5b-8503-0c3e9cf9dc96",
   "metadata": {},
   "outputs": [],
   "source": [
    "%load_ext autoreload\n",
    "%autoreload 2\n",
    "%matplotlib inline\n",
    "import gc\n",
    "import pdet\n",
    "import fpfs\n",
    "import fitsio\n",
    "from fpfs import pltutil\n",
    "import numpy as np\n",
    "import matplotlib.pylab as plt\n",
    "import numpy.lib.recfunctions as rfn\n",
    "\n",
    "ver='try4'\n",
    "gver='basic2'\n",
    "dver='cut16'\n",
    "wrkDir=os.environ['homeWrk']\n",
    "simDir=os.path.join(wrkDir,'FPFS2/sim/')"
   ]
  },
  {
   "cell_type": "code",
   "execution_count": 2,
   "id": "76451187-2878-4b14-bf45-356dea031c92",
   "metadata": {},
   "outputs": [
    {
     "data": {
      "text/plain": [
       "9"
      ]
     },
     "execution_count": 2,
     "metadata": {},
     "output_type": "execute_result"
    }
   ],
   "source": [
    "#nver='var1em9' # 'var0em0'#\n",
    "nver='var0em0' # 'var0em0'#\n",
    "# read noiseless data\n",
    "mm1=[]\n",
    "mm2=[]\n",
    "for _i in range(1000):\n",
    "    _a1=fitsio.read(os.path.join(simDir,'srcfs2_%sCenter-%s_%s/psf60/fpfs-%s-%04d-g1-0000.fits' %(gver,nver,ver,dver,_i)))\n",
    "    _a2=fitsio.read(os.path.join(simDir,'srcfs2_%sCenter-%s_%s/psf60/fpfs-%s-%04d-g1-2222.fits' %(gver,nver,ver,dver,_i)))\n",
    "    mm1.append(_a1)\n",
    "    mm2.append(_a2)\n",
    "    del _a1,_a2#,msk1,msk2\n",
    "mm1 =   rfn.stack_arrays(mm1,usemask=False)\n",
    "mm2 =   rfn.stack_arrays(mm2,usemask=False)\n",
    "det1=   pdet.peak2det(mm1)\n",
    "det2=   pdet.peak2det(mm2)\n",
    "gc.collect()"
   ]
  },
  {
   "cell_type": "code",
   "execution_count": 10,
   "id": "87d78d4d-2854-4a7e-9f50-7438bbad309a",
   "metadata": {},
   "outputs": [
    {
     "data": {
      "text/plain": [
       "7736"
      ]
     },
     "execution_count": 10,
     "metadata": {},
     "output_type": "execute_result"
    }
   ],
   "source": [
    "Const  =   4e-2\n",
    "noirev =   False\n",
    "ellM1  =   fpfs.catutil.fpfsM2E(mm1,dets=det1,const=Const,noirev=noirev)\n",
    "ellM2  =   fpfs.catutil.fpfsM2E(mm2,dets=det2,const=Const,noirev=noirev)\n",
    "gc.collect()"
   ]
  },
  {
   "cell_type": "code",
   "execution_count": 12,
   "id": "15269e9c-10c4-4656-8cd6-017c6358c886",
   "metadata": {},
   "outputs": [
    {
     "name": "stdout",
     "output_type": "stream",
     "text": [
      "0.0\n"
     ]
    },
    {
     "ename": "ValueError",
     "evalue": "no field of name fpfs_RE",
     "output_type": "error",
     "traceback": [
      "\u001b[0;31m---------------------------------------------------------------------------\u001b[0m",
      "\u001b[0;31mValueError\u001b[0m                                Traceback (most recent call last)",
      "Input \u001b[0;32mIn [12]\u001b[0m, in \u001b[0;36m<cell line: 16>\u001b[0;34m()\u001b[0m\n\u001b[1;32m     33\u001b[0m x\u001b[38;5;241m.\u001b[39mappend(cut[\u001b[38;5;241m-\u001b[39m\u001b[38;5;241m1\u001b[39m])\n\u001b[1;32m     34\u001b[0m y1\u001b[38;5;241m.\u001b[39mappend(de\u001b[38;5;241m/\u001b[39mrave\u001b[38;5;241m/\u001b[39m\u001b[38;5;241m0.04\u001b[39m\u001b[38;5;241m-\u001b[39m\u001b[38;5;241m1\u001b[39m);y2\u001b[38;5;241m.\u001b[39mappend(de\u001b[38;5;241m/\u001b[39mraveR\u001b[38;5;241m/\u001b[39m\u001b[38;5;241m0.04\u001b[39m\u001b[38;5;241m-\u001b[39m\u001b[38;5;241m1\u001b[39m)\n\u001b[0;32m---> 35\u001b[0m yerr\u001b[38;5;241m.\u001b[39mappend(\u001b[38;5;241m0.15\u001b[39m\u001b[38;5;241m*\u001b[39mnp\u001b[38;5;241m.\u001b[39msqrt(np\u001b[38;5;241m.\u001b[39msum((\u001b[43mfs2\u001b[49m\u001b[38;5;241;43m.\u001b[39;49m\u001b[43mell\u001b[49m\u001b[43m[\u001b[49m\u001b[38;5;124;43m'\u001b[39;49m\u001b[38;5;124;43mfpfs_RE\u001b[39;49m\u001b[38;5;124;43m'\u001b[39;49m\u001b[43m]\u001b[49m\u001b[38;5;241m*\u001b[39mfs2\u001b[38;5;241m.\u001b[39mws)\u001b[38;5;241m*\u001b[39m\u001b[38;5;241m*\u001b[39m\u001b[38;5;241m2.\u001b[39m))\u001b[38;5;241m/\u001b[39mraveR\u001b[38;5;241m/\u001b[39m\u001b[38;5;241m0.04\u001b[39m)\n\u001b[1;32m     36\u001b[0m z1\u001b[38;5;241m.\u001b[39mappend(eA\u001b[38;5;241m/\u001b[39mrave);z2\u001b[38;5;241m.\u001b[39mappend(eAR\u001b[38;5;241m/\u001b[39mrave)\n\u001b[1;32m     37\u001b[0m zerr\u001b[38;5;241m.\u001b[39mappend(\u001b[38;5;241m0.15\u001b[39m\u001b[38;5;241m*\u001b[39mnp\u001b[38;5;241m.\u001b[39msqrt(np\u001b[38;5;241m.\u001b[39msum((fs2\u001b[38;5;241m.\u001b[39mell[\u001b[38;5;124m'\u001b[39m\u001b[38;5;124mfpfs_RE\u001b[39m\u001b[38;5;124m'\u001b[39m]\u001b[38;5;241m*\u001b[39mfs2\u001b[38;5;241m.\u001b[39mws)\u001b[38;5;241m*\u001b[39m\u001b[38;5;241m*\u001b[39m\u001b[38;5;241m2.\u001b[39m))\u001b[38;5;241m/\u001b[39mraveR)\n",
      "\u001b[0;31mValueError\u001b[0m: no field of name fpfs_RE"
     ]
    }
   ],
   "source": [
    "if False:\n",
    "    del fs1,fs2\n",
    "gc.collect()\n",
    "use_sig=False\n",
    "fs1=fpfs.base.Summary(mm1,ellM1,use_sig)\n",
    "fs2=fpfs.base.Summary(mm2,ellM2,use_sig)\n",
    "\n",
    "selnm=['M20','M00']\n",
    "dcc=0.06 # delta cut\n",
    "cutB=0.\n",
    "cutsig=[0.08,0.08]\n",
    "\n",
    "x=[]\n",
    "y1=[];y2=[];yerr=[]\n",
    "z1=[];z2=[];zerr=[]\n",
    "for i in range(0,8):\n",
    "    # clean outcome\n",
    "    fs1.clear_outcomes()\n",
    "    fs2.clear_outcomes()\n",
    "    \n",
    "    cut=cutB+dcc*i\n",
    "    print(cut)\n",
    "    cut=[cut/2.,cut]\n",
    "    # weight array\n",
    "    fs1.update_selection_weight(selnm,cut,cutsig);fs2.update_selection_weight(selnm,cut,cutsig)\n",
    "    fs1.update_selection_bias(selnm,cut,cutsig);fs2.update_selection_bias(selnm,cut,cutsig)\n",
    "    fs1.update_ellsum();fs2.update_ellsum()\n",
    "    de   = fs2.sumE1-fs1.sumE1\n",
    "    eA   = (fs1.sumE1+fs2.sumE1)/2.\n",
    "    eAR  = (fs1.sumE1+fs2.sumE1+fs1.corE1+fs2.corE1)/2.\n",
    "    rave = (fs1.sumR1+fs2.sumR1)/2.\n",
    "    raveR= (fs1.sumR1+fs2.sumR1+fs1.corR1+fs2.corR1)/2.\n",
    "    x.append(cut[-1])\n",
    "    y1.append(de/rave/0.04-1);y2.append(de/raveR/0.04-1)\n",
    "    yerr.append(0.15*np.sqrt(np.sum((fs2.ell['fpfs_RE']*fs2.ws)**2.))/raveR/0.04)\n",
    "    z1.append(eA/rave);z2.append(eAR/rave)\n",
    "    zerr.append(0.15*np.sqrt(np.sum((fs2.ell['fpfs_RE']*fs2.ws)**2.))/raveR)\n",
    "# make plot\n",
    "plt.close()\n",
    "fig,axes=pltutil.make_figure_axes(ny=2,nx=1,square=False)\n",
    "ax=axes[0]\n",
    "xlabel='$M_{00}$ lower limit';\n",
    "ax.errorbar(np.array(x)+0.004,np.array(y1)*1e2,np.array(yerr)*1e2,label='w/o correction',color=pltutil.colors[0])\n",
    "ax.errorbar(np.array(x)-0.004,np.array(y2)*1e2,np.array(yerr)*1e2,label='with correction',color=pltutil.colors[1])\n",
    "ax.set_ylabel('$m$ $[10^{-2}]$',fontsize=18)\n",
    "ax.set_xlim(-0.05,0.45)\n",
    "ax.set_ylim(-3.3,2.2)\n",
    "ax.tick_params(width=2,size=4)\n",
    "hist,bins=np.histogram(fs1.mm['fpfs_M00'],range=(-0.05,0.46),bins=100,density=True)\n",
    "cbin=(bins[1:]+bins[:-1])/2.\n",
    "sf=hist.max()/2.\n",
    "hist=hist/sf\n",
    "ax.set_xticklabels([])\n",
    "ax.grid()\n",
    "ax.legend()\n",
    "\n",
    "ax=axes[1]\n",
    "ax.errorbar(np.array(x)+0.004,np.array(z1)*1e4,np.array(zerr)*1e4,label='w/o correction',color=pltutil.colors[0])\n",
    "ax.errorbar(np.array(x)-0.004,np.array(z2)*1e4,np.array(zerr)*1e4,label='with correction',color=pltutil.colors[1])\n",
    "ax.set_ylabel('$c$ $[10^{-4}]$',fontsize=18)\n",
    "ax.set_xlim(-0.05,0.45)\n",
    "ax.set_ylim(-2.2,2.2)\n",
    "ax.tick_params(width=2,size=4)\n",
    "ax.set_xlabel(xlabel,fontsize=18)\n",
    "ax.fill_between(cbin,hist,color=pltutil.colors[-1],alpha=0.2)\n",
    "ax.grid()\n",
    "\n",
    "plt.tight_layout(h_pad=-0.2)"
   ]
  },
  {
   "cell_type": "code",
   "execution_count": 9,
   "id": "f4aec4f3-5177-44b3-9a8e-449e495a289a",
   "metadata": {},
   "outputs": [
    {
     "name": "stdout",
     "output_type": "stream",
     "text": [
      "0.0\n",
      "0.002\n",
      "0.004\n",
      "0.006\n",
      "0.008\n",
      "0.01\n",
      "0.012\n",
      "0.014\n"
     ]
    },
    {
     "data": {
      "image/png": "[encoded data removed]",
      "text/plain": [
       "<Figure size 432x504 with 2 Axes>"
      ]
     },
     "metadata": {
      "needs_background": "light"
     },
     "output_type": "display_data"
    }
   ],
   "source": [
    "del fs1,fs2\n",
    "gc.collect()\n",
    "use_sig=False\n",
    "fs1=fpfs.base.Summary(mm1,ellM1,det1,use_sig)\n",
    "fs2=fpfs.base.Summary(mm2,ellM2,det2,use_sig)\n",
    "\n",
    "selnm=['detect']\n",
    "dcc=0.002 # delta cut\n",
    "cutB=0.\n",
    "\n",
    "x=[]\n",
    "y1=[];y2=[];yerr=[]\n",
    "z1=[];z2=[];zerr=[]\n",
    "for i in range(0,8):\n",
    "    # clean outcome\n",
    "    fs1.clear_outcomes()\n",
    "    fs2.clear_outcomes()\n",
    "    \n",
    "    cut=cutB+dcc*i\n",
    "    print(cut)\n",
    "    cutsig=[max(cut/1.5,0.001)]\n",
    "    cut=[cut]\n",
    "    # weight array\n",
    "    fs1.update_selection_weight(selnm,cut,cutsig);fs2.update_selection_weight(selnm,cut,cutsig)\n",
    "    fs1.update_selection_bias(selnm,cut,cutsig);fs2.update_selection_bias(selnm,cut,cutsig)\n",
    "    fs1.update_ellsum();fs2.update_ellsum()\n",
    "    de   = fs2.sumE1-fs1.sumE1\n",
    "    eA   = (fs1.sumE1+fs2.sumE1)/2.\n",
    "    eAR  = (fs1.sumE1+fs2.sumE1+fs1.corE1+fs2.corE1)/2.\n",
    "    rave = (fs1.sumR1+fs2.sumR1)/2.\n",
    "    raveR= (fs1.sumR1+fs2.sumR1+fs1.corR1+fs2.corR1)/2.\n",
    "    x.append(cut[-1])\n",
    "    y1.append(de/rave/0.04-1);y2.append(de/raveR/0.04-1)\n",
    "    yerr.append(0.15*np.sqrt(np.sum((fs2.ell['fpfs_RE']*fs2.ws)**2.))/raveR/0.04)\n",
    "    z1.append(eA/rave);z2.append(eAR/rave)\n",
    "    zerr.append(0.15*np.sqrt(np.sum((fs2.ell['fpfs_RE']*fs2.ws)**2.))/raveR)\n",
    "# make plot\n",
    "plt.close()\n",
    "fig,axes=pltutil.make_figure_axes(ny=2,nx=1,square=False)\n",
    "ax=axes[0]\n",
    "xlabel='$M_{00}$ lower limit';\n",
    "ax.errorbar(np.array(x)+0.0004,np.array(y1)*1e2,np.array(yerr)*1e2,label='w/o correction',color=pltutil.colors[0])\n",
    "ax.errorbar(np.array(x)-0.0004,np.array(y2)*1e2,np.array(yerr)*1e2,label='with correction',color=pltutil.colors[1])\n",
    "ax.set_ylabel('$m$ $[10^{-2}]$',fontsize=18)\n",
    "\n",
    "ax.set_xlim(-0.001,0.02)\n",
    "ax.set_ylim(-3.3,2.2)\n",
    "\n",
    "ax.tick_params(width=2,size=4)\n",
    "hist,bins=np.histogram(fs1.mm['fpfs_M00'],range=(-0.05,0.46),bins=100,density=True)\n",
    "cbin=(bins[1:]+bins[:-1])/2.\n",
    "sf=hist.max()/2.\n",
    "hist=hist/sf\n",
    "ax.set_xticklabels([])\n",
    "ax.grid()\n",
    "ax.legend()\n",
    "\n",
    "ax=axes[1]\n",
    "ax.errorbar(np.array(x)+0.0004,np.array(z1)*1e4,np.array(zerr)*1e4,label='w/o correction',color=pltutil.colors[0])\n",
    "ax.errorbar(np.array(x)-0.0004,np.array(z2)*1e4,np.array(zerr)*1e4,label='with correction',color=pltutil.colors[1])\n",
    "ax.set_ylabel('$c$ $[10^{-4}]$',fontsize=18)\n",
    "ax.set_xlim(-0.001,0.02)\n",
    "ax.set_ylim(-2.2,2.2)\n",
    "ax.tick_params(width=2,size=4)\n",
    "ax.set_xlabel(xlabel,fontsize=18)\n",
    "ax.fill_between(cbin,hist,color=pltutil.colors[-1],alpha=0.2)\n",
    "ax.grid()\n",
    "\n",
    "plt.tight_layout(h_pad=-0.2)"
   ]
  },
  {
   "cell_type": "code",
   "execution_count": 15,
   "id": "ba750d65-100f-4e3e-b7cb-b5fa8fc3a0b2",
   "metadata": {},
   "outputs": [
    {
     "name": "stdout",
     "output_type": "stream",
     "text": [
      "-0.005\n",
      "0.005\n",
      "0.015\n",
      "0.024999999999999998\n",
      "0.035\n",
      "0.045000000000000005\n",
      "0.055\n",
      "0.065\n",
      "[-0.00015538236992806986, -0.0024305338454660985, -0.002353398336939594, -0.001373348776042116, -0.0007946799914827496, -0.0005541216763832457, 0.0010766955299457148, -0.0008885053130599507]\n"
     ]
    },
    {
     "data": {
      "image/png": "[encoded data removed]",
      "text/plain": [
       "<Figure size 432x360 with 1 Axes>"
      ]
     },
     "metadata": {
      "needs_background": "light"
     },
     "output_type": "display_data"
    }
   ],
   "source": [
    "gc.collect()\n",
    "selnm='fpfs_v32'\n",
    "cornm='fpfs_RSv32'\n",
    "scol1=det1[selnm]\n",
    "scol2=det2[selnm]\n",
    "ccol1=ellM1[cornm]\n",
    "ccol2=ellM2[cornm]\n",
    "\n",
    "dcc=0.01 # delta cut\n",
    "cutB=-0.005 # \n",
    "cutsig=0.008\n",
    "x=[];\n",
    "y1=[];y2=[];yerr=[]\n",
    "for i in range(0,8):\n",
    "    # update cut array\n",
    "    cut=cutB+dcc*i\n",
    "    print(cut)\n",
    "    ws1 = fpfs.catutil.get_wsel_eff(scol1,cut,cutsig,use_sig)\n",
    "    ws2 = fpfs.catutil.get_wsel_eff(scol2,cut,cutsig,use_sig)\n",
    "    cor1 = fpfs.catutil.get_wbias(scol1,cut,cutsig,use_sig,ws1,ccol1)\n",
    "    cor2 = fpfs.catutil.get_wbias(scol2,cut,cutsig,use_sig,ws2,ccol2)\n",
    "    de   = np.sum(ellM2['fpfs_e1']*ws2)-np.sum(ellM1['fpfs_e1']*ws1)\n",
    "    rave = (np.sum(ellM2['fpfs_RE']*ws2)+np.sum(ellM1['fpfs_RE']*ws1))/2.\n",
    "    raveR= (np.sum(ellM2['fpfs_RE']*ws2)+np.sum(ellM1['fpfs_RE']*ws1)+cor1+cor2)/2.\n",
    "    x.append(cut)\n",
    "    y1.append(de/rave/0.04-1)\n",
    "    y2.append(de/raveR/0.04-1)\n",
    "    yerr.append(0.15*np.sqrt(np.sum((ellM2['fpfs_RE']*ws2)**2.))/raveR/0.04)\n",
    "\n",
    "plt.close()\n",
    "fig,axes=pltutil.make_figure_axes(1,1)\n",
    "ax=axes[0]\n",
    "ax.errorbar(np.array(x)*1.01,np.array(y1),np.array(yerr),label='w/o correction',color=pltutil.colors[0])\n",
    "ax.errorbar(np.array(x)/1.01,np.array(y2),np.array(yerr),label='with correction',color=pltutil.colors[1])\n",
    "xlabel='$v_{21}$'\n",
    "ax.set_xlabel(xlabel)\n",
    "ax.set_ylabel('multiplicative bias')\n",
    "ax.set_xlim(-0.01,0.07)\n",
    "ax.set_ylim(-0.10,0.02)\n",
    "ax.grid()\n",
    "ax.legend()\n",
    "plt.tight_layout()\n",
    "#fig.savefig('../../html/noisy_knownRef_%s.png' %pn)\n",
    "print(y2)"
   ]
  }
 ],
 "metadata": {
  "kernelspec": {
   "display_name": "Python 3 (ipykernel)",
   "language": "python",
   "name": "python3"
  },
  "language_info": {
   "codemirror_mode": {
    "name": "ipython",
    "version": 3
   },
   "file_extension": ".py",
   "mimetype": "text/x-python",
   "name": "python",
   "nbconvert_exporter": "python",
   "pygments_lexer": "ipython3",
   "version": "3.8.13"
  }
 },
 "nbformat": 4,
 "nbformat_minor": 5
}
