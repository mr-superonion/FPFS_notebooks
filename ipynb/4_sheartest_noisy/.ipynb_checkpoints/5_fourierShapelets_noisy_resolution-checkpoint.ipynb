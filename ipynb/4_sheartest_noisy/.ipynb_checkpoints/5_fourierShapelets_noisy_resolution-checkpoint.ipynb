{
 "cells": [
  {
   "cell_type": "code",
   "execution_count": 1,
   "id": "ff12abfa-c8d1-4b5b-8503-0c3e9cf9dc96",
   "metadata": {},
   "outputs": [],
   "source": [
    "%load_ext autoreload\n",
    "%autoreload 2\n",
    "%matplotlib inline\n",
    "import gc\n",
    "import pdet\n",
    "import fpfs\n",
    "import fitsio\n",
    "import pltutil\n",
    "import numpy as np\n",
    "import matplotlib.pylab as plt\n",
    "import numpy.lib.recfunctions as rfn\n",
    "\n",
    "ver='try4'\n",
    "gver='basic2'\n",
    "dver='cut16'\n",
    "wrkDir=os.environ['homeWrk']\n",
    "simDir=os.path.join(wrkDir,'FPFS2/sim/')\n",
    "\n",
    "def get_detbias(dets,ells,w_sel,icut,isig,ind):\n",
    "    \"\"\"\n",
    "    Args:\n",
    "        dets:       detection array\n",
    "        ells:       ellipticity array\n",
    "        w_sel:      selection weight\n",
    "        icut:       selection cut\n",
    "        isig:       sigma of sigmoid function\n",
    "        inds:       pixel index\n",
    "\n",
    "    Returns:\n",
    "        cor1:       correction for shear1\n",
    "        cor2:       correction for shear2\n",
    "    \"\"\"\n",
    "    fnmv   =  'pdet_v%d%d'  %ind\n",
    "    fnmr1  =  'fpfs_e1v%d%dr1'%ind\n",
    "    fnmr2  =  'fpfs_e2v%d%dr2'%ind\n",
    "    if use_sig:\n",
    "        wselb  =  sigmoid_func(dets[fnmv],mu=icut,sigma=isig,deriv=1)\n",
    "    else:\n",
    "        wselb  =  truncSine_func(dets[fnmv],mu=icut,sigma=isig,deriv=1)\n",
    "    out1=np.sum(ells[fnmr1]*wselb*w_sel)\n",
    "    out2=np.sum(ells[fnmr2]*wselb*w_sel)\n",
    "    return out1,out2\n",
    "\n",
    "def get_detbias_list(dets,ells,w_sel,indsl,cutsl,bcutl):\n",
    "    \"\"\"Returns detection bias due to lower boundar cuts\n",
    "    Args:\n",
    "        dets:       ndarray\n",
    "                    detection array\n",
    "        ells:       ndarray\n",
    "                    ellipticity array\n",
    "        w_sel:      ndarray\n",
    "                    selection weight\n",
    "        indsl:      list\n",
    "                    a list of pixel index\n",
    "        cutsl:      list\n",
    "                    a list of selection cuts (sigmoid mu)\n",
    "        bcutl:      list\n",
    "                    a list of width of sigmoid functions\n",
    "    \"\"\"\n",
    "    ncut = len(indsl) # assert\n",
    "    assert len(cutsl)==ncut, 'number of cuts does not match'\n",
    "    assert len(bcutl)==ncut, 'number of boundary bin size does not match'\n",
    "\n",
    "    cor1Sum=0.  # initialize the correction terms\n",
    "    cor2Sum=0.\n",
    "    for _ in range(ncut):\n",
    "        fnmv =  'pdet_v%d%d' %indsl[_]\n",
    "        bcut  =  bcutl[_]\n",
    "        icut  =  cutsl[_]\n",
    "        print('apply cut on %s at %.3f' %(fnmv,icut))\n",
    "        c1,c2=get_detbias(dets,ells,w_sel,icut,bcut,indsl[_])\n",
    "        cor1Sum+=c1\n",
    "        cor2Sum+=c2\n",
    "    return cor1Sum,cor2Sum"
   ]
  },
  {
   "cell_type": "code",
   "execution_count": 64,
   "id": "ac1000cf-c3c1-47c8-b2eb-55a83ac4d3d2",
   "metadata": {},
   "outputs": [],
   "source": [
    "def selfunc(x,mu=0.,sigma=1.5,deriv=0,use_sig=False):\n",
    "    \"\"\"Returns the weight funciton (deriv=0), or the *multiplicative factor* to the weight \n",
    "    function for first order derivative (deriv=1)\n",
    "    Args: \n",
    "        x (ndarray):    input data vector\n",
    "        mu (float):     center of the cut\n",
    "        sigma (sigma):  widthe of the selection function\n",
    "        deriv (int):    whether do derivative (1) or not (0)\n",
    "        use_sig (bool): whether use sigmoid (True) of truncated sine (False)\n",
    "    Returns:\n",
    "        out (ndarray): the weight funciton (deriv=0), or the *multiplicative factor* to the weight \n",
    "                       function for first order derivative (deriv=1)\n",
    "    \"\"\"\n",
    "    if use_sig:\n",
    "        out = sigfunc(x,mu=mu,sigma=sigma,deriv=deriv)   \n",
    "    else:\n",
    "        out = tsfunc(x,mu=mu,sigma=sigma,deriv=deriv)   \n",
    "    return out\n",
    "\n",
    "def tsfunc(x,mu=0.,sigma=1.5,deriv=0):\n",
    "    \"\"\"Returns the weight funciton (deriv=0), or the *multiplicative factor* to the weight \n",
    "    function for first order derivative (deriv=1)\n",
    "    Args: \n",
    "        x (ndarray):   input data vector\n",
    "        mu (float):    center of the cut\n",
    "        sigma (sigma): widthe of the selection function\n",
    "        deriv (int):   whether do derivative (1) or not (0)\n",
    "    Returns:\n",
    "        out (ndarray): the weight funciton (deriv=0), or the *multiplicative factor* to the weight \n",
    "                       function for first order derivative (deriv=1)\n",
    "    \"\"\"\n",
    "    t=(x-mu)/sigma\n",
    "    if deriv==0:\n",
    "        return np.piecewise(t, [t<-1,(t>=-1)&(t<=1),t>1], [0.,lambda t:1./2.+np.sin(t*np.pi/2.)/2., 1.])\n",
    "    elif deriv==1:\n",
    "        # multiplicative factor (to weight) for derivative\n",
    "        return np.piecewise(t, [t<-1+0.01,(t>=-1+0.01)&(t<=1-0.01),t>1-0.01],[0.,lambda t: np.pi/2./sigma*np.cos(t*np.pi/2.)/(1.+np.sin(t*np.pi/2.)), 0.] )\n",
    "\n",
    "def sigfunc(x,mu=0.,sigma=1.5,deriv=0):\n",
    "    \"\"\"Returns the weight funciton (deriv=0), or the *multiplicative factor* to the weight \n",
    "    function for first order derivative (deriv=1)\n",
    "    Args: \n",
    "        x (ndarray):   input data vector\n",
    "        mu (float):    center of the cut\n",
    "        sigma (sigma): widthe of the selection function\n",
    "        deriv (int):   whether do derivative (1) or not (0)\n",
    "    Returns:\n",
    "        out (ndarray): the weight funciton (deriv=0), or the *multiplicative factor* to the weight \n",
    "                       function for first order derivative (deriv=1)\n",
    "    \"\"\"\n",
    "    expx=np.exp(-(x-mu)/sigma)\n",
    "    if deriv==0:\n",
    "        # sigmoid function\n",
    "        return 1./(1. + expx)\n",
    "    elif deriv==1:\n",
    "        # multiplicative factor (to weight) for derivative\n",
    "        return 1./sigma*expx/(1. + expx)\n",
    "    \n",
    "def get_selbias(svec,w_sel,rev,cc,sigma,use_sig):\n",
    "    \"\"\"Returns the selection bias due to shear dependent selection\n",
    "    Args:\n",
    "        svec (ndarray):    selection observable\n",
    "        w_sel (ndarray):   selection weights as function of selection observable\n",
    "        rev  (ndarray):    selection response array\n",
    "        cc (float):        cut of sigmoid function\n",
    "        sigma (float):     sigma of sigmoid function\n",
    "        use_sig (bool):    whether using sigmoid (True) or truncated sine (False) \n",
    "    Returns:\n",
    "        cor (float):       correction for shear response \n",
    "    \"\"\"\n",
    "    wderi= selfunc(svec,mu=cc,sigma=sigma,deriv=1,use_sig=use_sig)\n",
    "    cor  = np.sum(rev*wderi*w_sel)\n",
    "    return cor\n",
    "\n",
    "def get_wnoibias(svec,w_sel,cov,cc,sigma,use_sig):\n",
    "    \"\"\"Returns the first order noise bias in selection weight\n",
    "    Args:\n",
    "        svec (ndarray):    array of selection observable\n",
    "        w_sel (ndarray):   array of selection weights\n",
    "        cov  (ndarray):    covariance between svec and M22c (M40 or M00)\n",
    "        cc (float):        cut of sigmoid function\n",
    "        sigma (float):     sigma of sigmoid function\n",
    "        use_sig (bool):    whether using sigmoid (True) or truncated sine (False) \n",
    "    Returns:\n",
    "        cor (float):       correction term for ellipticity\n",
    "    \"\"\"\n",
    "    wderi= selfunc(svec,mu=cc,sigma=sigma,deriv=1,use_sig=use_sig)\n",
    "    cor  = -np.sum(cov*wderi*w_sel)\n",
    "    return cor"
   ]
  },
  {
   "cell_type": "code",
   "execution_count": null,
   "id": "dba2df7f-1a8f-4e1c-8c60-de6ffa9d1c5c",
   "metadata": {},
   "outputs": [],
   "source": [
    "nver='var4em3' # 'var0em0'# 'var1em9'\n",
    "hdat=fitsio.read(os.path.join(simDir,'srcfs2_%sCenter-%s_%s/psf60/src-0000-g1-0000.fits' %(gver,nver,ver)))\n",
    "fdat=fitsio.read(os.path.join(simDir,'srcfs2_%sCenter-%s_%s/psf60/fpfs-%s-0000-g1-0000.fits' %(gver,nver,ver,dver)))\n",
    "hdat=hdat[hdat['parent']==0]\n",
    "ipos1=np.int_((hdat['base_NaiveCentroid_y']//64*100)+hdat['base_NaiveCentroid_x']//64)\n",
    "ipos2=np.int_((fdat['pdet_y']//64*100)+fdat['pdet_x']//64)\n",
    "assert np.all(ipos2==np.arange(10000))\n",
    "fdat=fdat[ipos1]\n",
    "\n",
    "\n",
    "Const  =   0.\n",
    "edat=fpfs.catutil.fpfsM2E(fdat,dets=None,const=Const,noirev=False)\n",
    "\n",
    "fig,axes=pltutil.make_figure_axes(ny=2,nx=1)\n",
    "\n",
    "ax=axes[0]\n",
    "ax.scatter(fdat['fpfs_M00']/32.**2.,hdat['base_SdssShape_instFlux'],s=0.04,color='black')\n",
    "ax.set_xlabel('fpfs flux')\n",
    "ax.set_ylabel('SDSS flux')\n",
    "ax.set_xlim(0.01,1)\n",
    "ax.set_ylim(1,50)\n",
    "\n",
    "ax=axes[1]\n",
    "ax.scatter(edat['fpfs_s0']-edat['fpfs_s2'],hdat['ext_shapeHSM_HsmSourceMoments_xx']+hdat['ext_shapeHSM_HsmSourceMoments_yy'],s=0.04,color='black')\n",
    "#ax.scatter(fdat['fpfs_M00']-fdat['fpfs_M20'],hdat['ext_shapeHSM_HsmSourceMoments_xx']+hdat['ext_shapeHSM_HsmSourceMoments_yy'],s=0.04,color='black')\n",
    "ax.set_xlabel('fpfs trace')\n",
    "ax.set_ylabel('regauss trace')\n",
    "plt.tight_layout()"
   ]
  },
  {
   "cell_type": "code",
   "execution_count": 49,
   "id": "76451187-2878-4b14-bf45-356dea031c92",
   "metadata": {},
   "outputs": [],
   "source": [
    "#nver='var1em9' # 'var0em0'#\n",
    "nver='var4em3' # 'var0em0'#\n",
    "#nver='var0em0' # 'var0em0'#\n",
    "# read noiseless data\n",
    "outNN1=[]\n",
    "outNN2=[]\n",
    "for _i in range(200):\n",
    "    _a1=fitsio.read(os.path.join(simDir,'srcfs2_%sCenter-%s_%s/psf60/fpfs-%s-%04d-g1-0000.fits' %(gver,nver,ver,dver,_i)))\n",
    "    _a2=fitsio.read(os.path.join(simDir,'srcfs2_%sCenter-%s_%s/psf60/fpfs-%s-%04d-g1-2222.fits' %(gver,nver,ver,dver,_i)))\n",
    "    outNN1.append(_a1)\n",
    "    outNN2.append(_a2)\n",
    "    del _a1,_a2#,msk1,msk2\n",
    "outNN1 =   rfn.stack_arrays(outNN1,usemask=False)\n",
    "outNN2 =   rfn.stack_arrays(outNN2,usemask=False)\n",
    "detM1=   pdet.peak2det(outNN1)\n",
    "detM2=   pdet.peak2det(outNN2)"
   ]
  },
  {
   "cell_type": "code",
   "execution_count": 53,
   "id": "87d78d4d-2854-4a7e-9f50-7438bbad309a",
   "metadata": {},
   "outputs": [
    {
     "data": {
      "text/plain": [
       "931"
      ]
     },
     "execution_count": 53,
     "metadata": {},
     "output_type": "execute_result"
    }
   ],
   "source": [
    "Const  =   5e-2\n",
    "noirev =   True\n",
    "ellM1  =   fpfs.catutil.fpfsM2E(outNN1,dets=detM1,const=Const,noirev=noirev)\n",
    "ellM2  =   fpfs.catutil.fpfsM2E(outNN2,dets=detM2,const=Const,noirev=noirev)\n",
    "gc.collect()"
   ]
  },
  {
   "cell_type": "code",
   "execution_count": 52,
   "id": "62433a8a-eab0-44c7-bb1f-31d1f060ddfc",
   "metadata": {},
   "outputs": [
    {
     "name": "stdout",
     "output_type": "stream",
     "text": [
      "0.00666131072075234\n"
     ]
    }
   ],
   "source": [
    "print(np.sqrt(outNN1['fpfs_N00N00'][0]))"
   ]
  },
  {
   "cell_type": "code",
   "execution_count": 57,
   "id": "cb022902-793a-49d3-8597-1a90f1f117a4",
   "metadata": {},
   "outputs": [
    {
     "name": "stdout",
     "output_type": "stream",
     "text": [
      "4.437306051841006e-05\n",
      "1.980356563439566e-09\n"
     ]
    }
   ],
   "source": [
    "print(outNN1['fpfs_N00N00'][0])\n",
    "print(outNN1['fpfs_N00N22c'][0]*np.average(outNN1['fpfs_M22c']/(outNN1['fpfs_M00']+Const)))"
   ]
  },
  {
   "cell_type": "code",
   "execution_count": 19,
   "id": "4f101bcb-6f42-4a97-a5da-13df36ac4eb4",
   "metadata": {},
   "outputs": [
    {
     "data": {
      "image/png": "[encoded data removed]",
      "text/plain": [
       "<Figure size 432x288 with 1 Axes>"
      ]
     },
     "metadata": {
      "needs_background": "light"
     },
     "output_type": "display_data"
    }
   ],
   "source": [
    "_=plt.hist(detM1['fpfs_v22'],range=(-0.01,0.5),bins=100)"
   ]
  },
  {
   "cell_type": "code",
   "execution_count": 20,
   "id": "e1f4ebdb-eb31-4b02-9c13-03d62991d948",
   "metadata": {},
   "outputs": [
    {
     "data": {
      "image/png": "[encoded data removed]",
      "text/plain": [
       "<Figure size 432x288 with 1 Axes>"
      ]
     },
     "metadata": {
      "needs_background": "light"
     },
     "output_type": "display_data"
    }
   ],
   "source": [
    "_=plt.hist(outNN1['fpfs_M00'],range=(-0.01,0.5),bins=100)"
   ]
  },
  {
   "cell_type": "code",
   "execution_count": 21,
   "id": "bae2e949-daf9-498f-af84-0383bfdf0d62",
   "metadata": {},
   "outputs": [
    {
     "data": {
      "text/plain": [
       "array([1.0000053 , 0.99999639, 1.00000016, ..., 1.00000114, 0.99999945,\n",
       "       1.00000082])"
      ]
     },
     "execution_count": 21,
     "metadata": {},
     "output_type": "execute_result"
    }
   ],
   "source": [
    "outNN1['fpfs_M00']/detM1['fpfs_v22']"
   ]
  },
  {
   "cell_type": "code",
   "execution_count": 22,
   "id": "4279ae72-3c82-4db0-9c7f-45d6c0103e40",
   "metadata": {},
   "outputs": [
    {
     "data": {
      "image/png": "[encoded data removed]",
      "text/plain": [
       "<Figure size 432x288 with 1 Axes>"
      ]
     },
     "metadata": {
      "needs_background": "light"
     },
     "output_type": "display_data"
    }
   ],
   "source": [
    "_=plt.hist(-outNN1['fpfs_M20'],range=(-0.01,0.5),bins=100)"
   ]
  },
  {
   "cell_type": "code",
   "execution_count": 23,
   "id": "a349b12d-dd91-43db-b226-a0c206312501",
   "metadata": {},
   "outputs": [
    {
     "data": {
      "image/png": "[encoded data removed]",
      "text/plain": [
       "<Figure size 432x288 with 1 Axes>"
      ]
     },
     "metadata": {
      "needs_background": "light"
     },
     "output_type": "display_data"
    }
   ],
   "source": [
    "plt.close()\n",
    "_=plt.hist(outNN1['fpfs_M00']+outNN1['fpfs_M20'],range=(-0.04,0.5),bins=100)"
   ]
  },
  {
   "cell_type": "code",
   "execution_count": 71,
   "id": "4b340775-9331-4c66-b528-184045204e2c",
   "metadata": {},
   "outputs": [
    {
     "data": {
      "image/png": "[encoded data removed]",
      "text/plain": [
       "<Figure size 432x288 with 1 Axes>"
      ]
     },
     "metadata": {
      "needs_background": "light"
     },
     "output_type": "display_data"
    }
   ],
   "source": [
    "plt.close()\n",
    "_=plt.hist(ellM1['fpfs_RE'],range=(-0.1,0.7),bins=100)"
   ]
  },
  {
   "cell_type": "code",
   "execution_count": 72,
   "id": "7f43cc40-47b0-4518-8abc-cfbff4fd60a0",
   "metadata": {},
   "outputs": [
    {
     "name": "stdout",
     "output_type": "stream",
     "text": [
      "0.0\n",
      "0.06\n",
      "0.12\n",
      "0.18\n",
      "0.24\n",
      "0.3\n",
      "0.36\n",
      "0.42\n",
      "[-0.0003791633012504292, 0.0005556399558808156, 0.000975491376889126, 0.0003914204789337017, 0.00016332145989150781, 5.473347952822394e-05, -3.2909531193614505e-05, 4.888569866046133e-05]\n"
     ]
    },
    {
     "data": {
      "image/png": "[encoded data removed]",
      "text/plain": [
       "<Figure size 576x432 with 1 Axes>"
      ]
     },
     "metadata": {
      "needs_background": "light"
     },
     "output_type": "display_data"
    }
   ],
   "source": [
    "gc.collect()\n",
    "plt.close()\n",
    "use_sig=False\n",
    "fig,axes=pltutil.make_figure_axes(1,1)\n",
    "ax=axes[0]\n",
    "\n",
    "xlabel='$M_{00}$';selnm='fpfs_M00';cornm='fpfs_RS0'\n",
    "scol1=outNN1[selnm];scol2=outNN2[selnm]\n",
    "ccol1=ellM1[cornm];ccol2=ellM2[cornm]\n",
    "cncol1=(outNN1['fpfs_N00N00']/1.2-outNN1['fpfs_N00N40'])/(outNN1['fpfs_M00']+Const)\n",
    "cncol2=(outNN2['fpfs_N00N00']/1.2-outNN2['fpfs_N00N40'])/(outNN2['fpfs_M00']+Const)\n",
    "\n",
    "ax.set_xlim(-0.01,0.5)\n",
    "\n",
    "dcc=0.06 # delta cut\n",
    "cutB=0.00 # \n",
    "cutsig=0.08\n",
    "\n",
    "x=[]\n",
    "y1=[]\n",
    "y2=[]\n",
    "yerr=[]\n",
    "for i in range(0,8):\n",
    "    # update cut array\n",
    "    cut=cutB+dcc*i\n",
    "    print(cut)\n",
    "\n",
    "    # weight array\n",
    "    ws1 = np.ones(len(detM1))\n",
    "    _wtmp= selfunc(scol1,mu=cut,sigma=cutsig,use_sig=use_sig)\n",
    "    ws1=ws1*_wtmp\n",
    "    # weight array\n",
    "    ws2 = np.ones(len(detM2))\n",
    "    _wtmp= selfunc(scol2,mu=cut,sigma=cutsig,use_sig=use_sig)\n",
    "    ws2=ws2*_wtmp\n",
    "\n",
    "    cor1 = get_selbias(scol1,ws1,ccol1,cut,cutsig,use_sig)\n",
    "    cor2 = get_selbias(scol2,ws2,ccol2,cut,cutsig,use_sig)\n",
    "    corD1= get_wnoibias(scol1,ws1,cncol1,cut,cutsig,use_sig)\n",
    "    corD2= get_wnoibias(scol2,ws2,cncol2,cut,cutsig,use_sig)\n",
    "    de   = np.sum(ellM2['fpfs_e1']*ws2)-np.sum(ellM1['fpfs_e1']*ws1)\n",
    "    rave = (np.sum(ellM2['fpfs_RE']*ws2)+np.sum(ellM1['fpfs_RE']*ws1))/2.\n",
    "    raveR= (np.sum(ellM2['fpfs_RE']*ws2)+np.sum(ellM1['fpfs_RE']*ws1)+cor1+cor2+corD1+corD2)/2.\n",
    "    x.append(cut)\n",
    "    y1.append(de/rave/0.04-1)\n",
    "    y2.append(de/raveR/0.04-1)\n",
    "    yerr.append(0.15*np.sqrt(np.sum((ellM2['fpfs_RE']*ws2)**2.))/raveR/0.04)\n",
    "gc.collect()\n",
    "\n",
    "ax.errorbar(np.array(x)*1.01,np.array(y1),np.array(yerr),label='w/o correction',color=pltutil.colors[0])\n",
    "ax.errorbar(np.array(x)/1.01,np.array(y2),np.array(yerr),label='with correction',color=pltutil.colors[1])\n",
    "ax.set_xlabel(xlabel)\n",
    "ax.set_ylabel('multiplicative bias')\n",
    "ax.set_ylim(-0.10,0.02)\n",
    "ax.grid()\n",
    "ax.legend()\n",
    "plt.tight_layout()\n",
    "#fig.savefig('../../html/noisy_knownRef_%s.png' %pn)\n",
    "print(y2)"
   ]
  },
  {
   "cell_type": "code",
   "execution_count": null,
   "id": "b64d2c37-4e20-4b65-9253-8871e0fcfb71",
   "metadata": {},
   "outputs": [
    {
     "name": "stdout",
     "output_type": "stream",
     "text": [
      "0.0\n",
      "0.06\n"
     ]
    }
   ],
   "source": [
    "gc.collect()\n",
    "plt.close()\n",
    "use_sig=False\n",
    "fig,axes=pltutil.make_figure_axes(1,1)\n",
    "ax=axes[0]\n",
    "\n",
    "xlabel='$-M_{20}$';selnm='fpfs_M20';cornm='fpfs_RS2'\n",
    "scol1=-outNN1[selnm];scol2=-outNN2[selnm]\n",
    "ccol1=-ellM1[cornm];ccol2=-ellM2[cornm]\n",
    "cncol1=-(outNN1['fpfs_N00N20']-outNN1['fpfs_N20N40'])/(outNN1['fpfs_M00']+Const)\n",
    "cncol2=-(outNN2['fpfs_N00N20']-outNN2['fpfs_N20N40'])/(outNN2['fpfs_M00']+Const)\n",
    "\n",
    "\n",
    "ax.set_xlim(-0.01,0.5)\n",
    "\n",
    "dcc=0.06 # delta cut\n",
    "cutB=0.00 # \n",
    "cutsig=0.08\n",
    "\n",
    "x=[]\n",
    "y1=[]\n",
    "y2=[]\n",
    "yerr=[]\n",
    "for i in range(0,8):\n",
    "    # update cut array\n",
    "    cut=cutB+dcc*i\n",
    "    print(cut)\n",
    "\n",
    "    # weight array\n",
    "    ws1 = np.ones(len(detM1))\n",
    "    _wtmp= selfunc(scol1,mu=cut,sigma=cutsig,use_sig=use_sig)\n",
    "    ws1=ws1*_wtmp\n",
    "    # weight array\n",
    "    ws2 = np.ones(len(detM2))\n",
    "    _wtmp= selfunc(scol2,mu=cut,sigma=cutsig,use_sig=use_sig)\n",
    "    ws2=ws2*_wtmp\n",
    "\n",
    "    cor1 = get_selbias(scol1,ws1,ccol1,cut,cutsig,use_sig)\n",
    "    cor2 = get_selbias(scol2,ws2,ccol2,cut,cutsig,use_sig)\n",
    "    corD1= get_wnoibias(scol1,ws1,cncol1,cut,cutsig,use_sig)\n",
    "    corD2= get_wnoibias(scol2,ws2,cncol2,cut,cutsig,use_sig)\n",
    "    de   = np.sum(ellM2['fpfs_e1']*ws2)-np.sum(ellM1['fpfs_e1']*ws1)\n",
    "    rave = (np.sum(ellM2['fpfs_RE']*ws2)+np.sum(ellM1['fpfs_RE']*ws1))/2.\n",
    "    raveR= (np.sum(ellM2['fpfs_RE']*ws2)+np.sum(ellM1['fpfs_RE']*ws1)+cor1+cor2+corD1+corD2)/2.\n",
    "    x.append(cut)\n",
    "    y1.append(de/rave/0.04-1)\n",
    "    y2.append(de/raveR/0.04-1)\n",
    "    yerr.append(0.15*np.sqrt(np.sum((ellM2['fpfs_RE']*ws2)**2.))/raveR/0.04)\n",
    "gc.collect()\n",
    "\n",
    "ax.errorbar(np.array(x)*1.01,np.array(y1),np.array(yerr),label='w/o correction',color=pltutil.colors[0])\n",
    "ax.errorbar(np.array(x)/1.01,np.array(y2),np.array(yerr),label='with correction',color=pltutil.colors[1])\n",
    "ax.set_xlabel(xlabel)\n",
    "ax.set_ylabel('multiplicative bias')\n",
    "ax.set_ylim(-0.10,0.02)\n",
    "ax.grid()\n",
    "ax.legend()\n",
    "plt.tight_layout()\n",
    "#fig.savefig('../../html/noisy_knownRef_%s.png' %pn)\n",
    "print(y2)"
   ]
  },
  {
   "cell_type": "code",
   "execution_count": 84,
   "id": "3f19b0a2-9df6-41de-bec3-c4d9b60062ab",
   "metadata": {},
   "outputs": [
    {
     "data": {
      "text/plain": [
       "array([3.84835475e-05, 3.84835475e-05, 3.84835475e-05, ...,\n",
       "       3.84835475e-05, 3.84835475e-05, 3.84835475e-05])"
      ]
     },
     "execution_count": 84,
     "metadata": {},
     "output_type": "execute_result"
    }
   ],
   "source": [
    "outNN1['fpfs_N00N20']-outNN1['fpfs_N20N40']"
   ]
  },
  {
   "cell_type": "code",
   "execution_count": 85,
   "id": "e0f820c1-2bc9-4b5f-b673-40a0f514bffa",
   "metadata": {},
   "outputs": [
    {
     "data": {
      "text/plain": [
       "array([-6.46846311e-05, -6.46846311e-05, -6.46846311e-05, ...,\n",
       "       -6.46846311e-05, -6.46846311e-05, -6.46846311e-05])"
      ]
     },
     "execution_count": 85,
     "metadata": {},
     "output_type": "execute_result"
    }
   ],
   "source": [
    "outNN1['fpfs_N20N40']"
   ]
  },
  {
   "cell_type": "code",
   "execution_count": 25,
   "id": "ba750d65-100f-4e3e-b7cb-b5fa8fc3a0b2",
   "metadata": {},
   "outputs": [
    {
     "name": "stdout",
     "output_type": "stream",
     "text": [
      "0.0\n",
      "0.06\n",
      "0.12\n",
      "0.18\n",
      "0.24\n",
      "0.3\n",
      "0.36\n",
      "0.42\n",
      "[-0.0009015282158778559, -0.0010205314265390175, 0.005188875294960038, 0.007541630719779313, 0.005392213756329367, 0.007285960174707284, 0.009241250041899463, 0.013656816479628464]\n"
     ]
    },
    {
     "data": {
      "image/png": "[encoded data removed]",
      "text/plain": [
       "<Figure size 576x432 with 1 Axes>"
      ]
     },
     "metadata": {
      "needs_background": "light"
     },
     "output_type": "display_data"
    }
   ],
   "source": [
    "use_sig=False\n",
    "x=[]\n",
    "y1=[]\n",
    "y2=[]\n",
    "yerr=[]\n",
    "\n",
    "\n",
    "plt.close()\n",
    "fig,axes=pltutil.make_figure_axes(1,1)\n",
    "ax=axes[0]\n",
    "    \n",
    "xlabel='$-M_{20}$'\n",
    "ax.set_xlim(-0.01,0.5)\n",
    "selnm='fpfs_v21'\n",
    "cornm='fpfs_RS021'\n",
    "\n",
    "scol1=detM1[selnm]\n",
    "scol2=detM2[selnm]\n",
    "ccol1=ellM1[cornm]\n",
    "ccol2=ellM2[cornm]\n",
    "\n",
    "dcc=0.06 # delta cut\n",
    "cutB=0.00 # \n",
    "cutsig=0.08\n",
    "    \n",
    "for i in range(0,8):\n",
    "    # update cut array\n",
    "    cut=cutB+dcc*i\n",
    "    print(cut)\n",
    "    \n",
    "    # weight array\n",
    "    ws1 = np.ones(len(detM1))\n",
    "    if use_sig:\n",
    "        _wtmp= sigmoid_func(scol1,mu=cut,sigma=cutsig)\n",
    "    else:\n",
    "        _wtmp= truncSine_func(scol1,mu=cut,sigma=cutsig)\n",
    "    ws1=ws1*_wtmp\n",
    "        \n",
    "    # weight array\n",
    "    ws2 = np.ones(len(detM2))\n",
    "    if use_sig:\n",
    "        _wtmp= sigmoid_func(scol2,mu=cut,sigma=cutsig)\n",
    "    else:\n",
    "        _wtmp= truncSine_func(scol2,mu=cut,sigma=cutsig)\n",
    "    ws2=ws2*_wtmp\n",
    "\n",
    "    cor1,cor1b = get_selbias(scol1,ccol1,ws1,cut,cutsig)\n",
    "    cor2,cor2b = get_selbias(scol2,ccol2,ws2,cut,cutsig)\n",
    "    de   = np.sum(ellM2['fpfs_e1']*ws2)-np.sum(ellM1['fpfs_e1']*ws1)\n",
    "    rave = (np.sum(ellM2['fpfs_RE']*ws2)+np.sum(ellM1['fpfs_RE']*ws1))/2.\n",
    "    raveR= (np.sum(ellM2['fpfs_RE']*ws2)+np.sum(ellM1['fpfs_RE']*ws1)+cor1+cor2)/2.\n",
    "    x.append(cut)\n",
    "    y1.append(de/rave/0.04-1)\n",
    "    y2.append(de/raveR/0.04-1)\n",
    "    yerr.append(0.15*np.sqrt(np.sum((ellM2['fpfs_RE']*ws2)**2.))/raveR/0.04)\n",
    "gc.collect()\n",
    "\n",
    "ax.errorbar(np.array(x)*1.01,np.array(y1),np.array(yerr),label='w/o correction',color=pltutil.colors[0])\n",
    "ax.errorbar(np.array(x)/1.01,np.array(y2),np.array(yerr),label='with correction',color=pltutil.colors[1])\n",
    "ax.set_xlabel(xlabel)\n",
    "ax.set_ylabel('multiplicative bias')\n",
    "ax.set_ylim(-0.10,0.02)\n",
    "ax.grid()\n",
    "ax.legend()\n",
    "plt.tight_layout()\n",
    "#fig.savefig('../../html/noisy_knownRef_%s.png' %pn)\n",
    "print(y2)"
   ]
  },
  {
   "cell_type": "code",
   "execution_count": null,
   "id": "b99532c9-1336-498d-a9d4-4029876c26a2",
   "metadata": {},
   "outputs": [
    {
     "name": "stdout",
     "output_type": "stream",
     "text": [
      "0.0\n",
      "0.06\n",
      "0.12\n",
      "0.18\n",
      "0.24\n"
     ]
    }
   ],
   "source": [
    "use_sig=False\n",
    "x=[]\n",
    "y1=[]\n",
    "y2=[]\n",
    "yerr=[]\n",
    "\n",
    "\n",
    "plt.close()\n",
    "fig,axes=pltutil.make_figure_axes(1,1)\n",
    "ax=axes[0]\n",
    "    \n",
    "xlabel='$-M_{20}$'\n",
    "ax.set_xlim(-0.01,0.5)\n",
    "selnm='fpfs_M20'\n",
    "cornm='fpfs_RS2'\n",
    "\n",
    "scol1=-outNN1[selnm]\n",
    "scol2=-outNN2[selnm]\n",
    "ccol1=-ellM1[cornm]\n",
    "ccol2=-ellM2[cornm]\n",
    "\n",
    "dcc=0.06 # delta cut\n",
    "cutB=0.00 # \n",
    "cutsig=0.08\n",
    "    \n",
    "for i in range(0,8):\n",
    "    # update cut array\n",
    "    cut=cutB+dcc*i\n",
    "    print(cut)\n",
    "    \n",
    "    # weight array\n",
    "    ws1 = np.ones(len(detM1))\n",
    "    if use_sig:\n",
    "        _wtmp= sigmoid_func(scol1,mu=cut,sigma=cutsig)\n",
    "    else:\n",
    "        _wtmp= truncSine_func(scol1,mu=cut,sigma=cutsig)\n",
    "    ws1=ws1*_wtmp\n",
    "        \n",
    "    # weight array\n",
    "    ws2 = np.ones(len(detM2))\n",
    "    if use_sig:\n",
    "        _wtmp= sigmoid_func(scol2,mu=cut,sigma=cutsig)\n",
    "    else:\n",
    "        _wtmp= truncSine_func(scol2,mu=cut,sigma=cutsig)\n",
    "    ws2=ws2*_wtmp\n",
    "\n",
    "    cor1,cor1b = get_selbias(scol1,ccol1,ws1,cut,cutsig)\n",
    "    cor2,cor2b = get_selbias(scol2,ccol2,ws2,cut,cutsig)\n",
    "    de   = np.sum(ellM2['fpfs_e1']*ws2)-np.sum(ellM1['fpfs_e1']*ws1)\n",
    "    rave = (np.sum(ellM2['fpfs_RE']*ws2)+np.sum(ellM1['fpfs_RE']*ws1))/2.\n",
    "    raveR= (np.sum(ellM2['fpfs_RE']*ws2)+np.sum(ellM1['fpfs_RE']*ws1)+cor1+cor2)/2.\n",
    "    x.append(cut)\n",
    "    y1.append(de/rave/0.04-1)\n",
    "    y2.append(de/raveR/0.04-1)\n",
    "    yerr.append(0.15*np.sqrt(np.sum((ellM2['fpfs_RE']*ws2)**2.))/raveR/0.04)\n",
    "gc.collect()\n",
    "\n",
    "ax.errorbar(np.array(x)*1.01,np.array(y1),np.array(yerr),label='w/o correction',color=pltutil.colors[0])\n",
    "ax.errorbar(np.array(x)/1.01,np.array(y2),np.array(yerr),label='with correction',color=pltutil.colors[1])\n",
    "ax.set_xlabel(xlabel)\n",
    "ax.set_ylabel('multiplicative bias')\n",
    "ax.set_ylim(-0.10,0.02)\n",
    "ax.grid()\n",
    "ax.legend()\n",
    "plt.tight_layout()\n",
    "#fig.savefig('../../html/noisy_knownRef_%s.png' %pn)\n",
    "print(y2)"
   ]
  },
  {
   "cell_type": "code",
   "execution_count": 154,
   "id": "a5d4d7ff-bb77-4dbf-817f-d99519e6fcba",
   "metadata": {},
   "outputs": [
    {
     "name": "stdout",
     "output_type": "stream",
     "text": [
      "-0.04\n",
      "0.019999999999999997\n",
      "0.07999999999999999\n",
      "0.13999999999999999\n",
      "0.19999999999999998\n",
      "0.26\n",
      "0.32\n",
      "0.38\n",
      "[-0.001970045560202416, -0.019195448744232513, -0.006142500145207119, -0.00205777186478473, -0.0011411840834733011, -0.0008688435065981048, -0.0006116727169097613, -0.0006379531110554115]\n"
     ]
    },
    {
     "data": {
      "image/png": "[encoded data removed]",
      "text/plain": [
       "<Figure size 576x432 with 1 Axes>"
      ]
     },
     "metadata": {
      "needs_background": "light"
     },
     "output_type": "display_data"
    }
   ],
   "source": [
    "use_sig=False\n",
    "x=[]\n",
    "y1=[]\n",
    "y2=[]\n",
    "yerr=[]\n",
    "\n",
    "\n",
    "gc.collect()\n",
    "plt.close()\n",
    "fig,axes=pltutil.make_figure_axes(1,1)\n",
    "ax=axes[0]\n",
    "    \n",
    "xlabel='$M_{00}+M_{20}$'\n",
    "ax.set_xlim(-0.05,0.5)\n",
    "\n",
    "scol1=outNN1['fpfs_M00']+outNN1['fpfs_M20']\n",
    "scol2=outNN2['fpfs_M00']+outNN2['fpfs_M20']\n",
    "ccol1=ellM1['fpfs_RS0']+ellM1['fpfs_RS2']\n",
    "ccol2=ellM2['fpfs_RS0']+ellM2['fpfs_RS2']\n",
    "\n",
    "dcc=0.06 # delta cut\n",
    "cutB=-0.04 # \n",
    "cutsig=0.05\n",
    "\n",
    "for i in range(0,8):\n",
    "    # update cut array\n",
    "    cut=cutB+dcc*i\n",
    "    print(cut)\n",
    "    \n",
    "    # weight array\n",
    "    ws1 = np.ones(len(detM1))\n",
    "    if use_sig:\n",
    "        _wtmp= sigmoid_func(scol1,mu=cut,sigma=cutsig)\n",
    "    else:\n",
    "        _wtmp= truncSine_func(scol1,mu=cut,sigma=cutsig)\n",
    "    ws1=ws1*_wtmp\n",
    "        \n",
    "    # weight array\n",
    "    ws2 = np.ones(len(detM2))\n",
    "    if use_sig:\n",
    "        _wtmp= sigmoid_func(scol2,mu=cut,sigma=cutsig)\n",
    "    else:\n",
    "        _wtmp= truncSine_func(scol2,mu=cut,sigma=cutsig)\n",
    "    ws2=ws2*_wtmp\n",
    "\n",
    "    cor1,cor1b = get_selbias(scol1,ccol1,ws1,cut,cutsig)\n",
    "    cor2,cor2b = get_selbias(scol2,ccol2,ws2,cut,cutsig)\n",
    "    de   = np.sum(ellM2['fpfs_e1']*ws2)-np.sum(ellM1['fpfs_e1']*ws1)\n",
    "    rave = (np.sum(ellM2['fpfs_RE']*ws2)+np.sum(ellM1['fpfs_RE']*ws1))/2.\n",
    "    raveR= (np.sum(ellM2['fpfs_RE']*ws2)+np.sum(ellM1['fpfs_RE']*ws1)+cor1+cor2)/2.\n",
    "    x.append(cut)\n",
    "    y1.append(de/rave/0.04-1)\n",
    "    y2.append(de/raveR/0.04-1)\n",
    "    yerr.append(0.15*np.sqrt(np.sum((ellM2['fpfs_RE']*ws2)**2.))/raveR/0.04)\n",
    "gc.collect()\n",
    "\n",
    "ax.errorbar(np.array(x)*1.01,np.array(y1),np.array(yerr),label='w/o correction',color=pltutil.colors[0])\n",
    "ax.errorbar(np.array(x)/1.01,np.array(y2),np.array(yerr),label='with correction',color=pltutil.colors[1])\n",
    "ax.set_xlabel(xlabel)\n",
    "ax.set_ylabel('multiplicative bias')\n",
    "ax.set_ylim(-0.04,0.10)\n",
    "ax.grid()\n",
    "ax.legend()\n",
    "plt.tight_layout()\n",
    "#fig.savefig('../../html/noisy_knownRef_%s.png' %pn)\n",
    "print(y2)"
   ]
  }
 ],
 "metadata": {
  "kernelspec": {
   "display_name": "Python 3 (ipykernel)",
   "language": "python",
   "name": "python3"
  },
  "language_info": {
   "codemirror_mode": {
    "name": "ipython",
    "version": 3
   },
   "file_extension": ".py",
   "mimetype": "text/x-python",
   "name": "python",
   "nbconvert_exporter": "python",
   "pygments_lexer": "ipython3",
   "version": "3.8.13"
  }
 },
 "nbformat": 4,
 "nbformat_minor": 5
}
