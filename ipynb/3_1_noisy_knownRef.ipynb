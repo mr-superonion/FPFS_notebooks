{
 "cells": [
  {
   "cell_type": "code",
   "execution_count": 16,
   "id": "a8916355-47a0-4b39-acac-edc5b66b6a0f",
   "metadata": {},
   "outputs": [
    {
     "name": "stdout",
     "output_type": "stream",
     "text": [
      "Populating the interactive namespace from numpy and matplotlib\n"
     ]
    },
    {
     "name": "stderr",
     "output_type": "stream",
     "text": [
      "/lustre/work/xiangchong.li/ana/miniconda3/envs/cosmosis-mpich/lib/python3.7/site-packages/IPython/core/magics/pylab.py:160: UserWarning: pylab import has clobbered these variables: ['beta', 'plt']\n",
      "`%matplotlib` prevents importing * from pylab and numpy\n",
      "  \"\\n`%matplotlib` prevents importing * from pylab and numpy\"\n"
     ]
    }
   ],
   "source": [
    "%pylab inline\n",
    "\n",
    "import gc\n",
    "import fpfs\n",
    "import numpy as np\n",
    "from fpfs import simutil\n",
    "import matplotlib.pylab as plt\n",
    "import astropy.io.fits as pyfits\n",
    "import numpy.lib.recfunctions as rfn\n",
    "import pdet\n",
    "import pltutil"
   ]
  },
  {
   "cell_type": "code",
   "execution_count": 23,
   "id": "2703f65b-005d-452b-9b1b-5aca49a5a3b9",
   "metadata": {},
   "outputs": [],
   "source": [
    "ishear =1\n",
    "igroup =0\n",
    "do_plot=False\n",
    "ngrid  =64\n",
    "ngal=  1\n",
    "img1=  simutil.make_basic_sim('basicCenter_psf60','g%d-0000' %ishear,0,ny=ngal,nx=ngal,do_write=False)\n",
    "img2=  simutil.make_basic_sim('basicCenter_psf60','g%d-2222' %ishear,0,ny=ngal,nx=ngal,do_write=False)\n",
    "ngrid2=ngrid*ngal\n",
    "beta=  0.75\n",
    "gsigma =   6.*2.*np.pi/64\n",
    "\n",
    "\n",
    "# PSF\n",
    "psf     =   pyfits.getdata('../sim/galaxy_basic_psf60/psf-60.fits')\n",
    "npad    =   (ngrid2-psf.shape[0])//2\n",
    "psfData =   np.pad(psf,(npad+1,npad),mode='constant')\n",
    "assert psfData.shape[0]==ngrid2\n",
    "\n",
    "rcut    =   16\n",
    "beg     =   ngrid//2-rcut\n",
    "end     =   beg+2*rcut\n",
    "psfData2=   psfData[beg:end,beg:end]\n",
    "\n",
    "noiVar      =   4e-3\n",
    "noiFname    =   os.path.join('../sim/noise','noi0000.fits')\n",
    "# multiply by 10 since the noise has variance 0.01\n",
    "noiData     =   pyfits.open(noiFname)[0].data*10.\n",
    "# same for the noivar model\n",
    "powIn       =   np.load('../sim/corPre/noiPows2.npy',allow_pickle=True).item()['%s'%rcut]*noiVar*100\n",
    "powModel    =   np.zeros((1,powIn.shape[0],powIn.shape[1]))\n",
    "powModel[0] =   powIn\n",
    "fpTask      =   fpfs.fpfsBase.fpfsTask(psfData2,noiFit=powModel[0],beta=beta)\n",
    "\n",
    "indX    =   np.arange(32,64,64)\n",
    "indY    =   np.arange(32,64,64)\n",
    "inds    =   np.meshgrid(indY,indX,indexing='ij')\n",
    "\n",
    "coords  =   np.array(np.zeros(inds[0].size),dtype=[('pdet_y','i4'),('pdet_x','i4')])\n",
    "coords['pdet_y']=   np.ravel(inds[0])\n",
    "coords['pdet_x']=   np.ravel(inds[1])\n",
    "del indX,indY,inds"
   ]
  },
  {
   "cell_type": "code",
   "execution_count": 43,
   "id": "e97e2b3f-ecc8-4c6c-b44c-dde3377f4e99",
   "metadata": {},
   "outputs": [
    {
     "data": {
      "text/plain": [
       "0"
      ]
     },
     "execution_count": 43,
     "metadata": {},
     "output_type": "execute_result"
    }
   ],
   "source": [
    "fpTask0 =   fpfs.fpfsBase.fpfsTask(psfData2,beta=beta)\n",
    "# noiseless measurement\n",
    "imgList =   [img1[cc['pdet_y']-rcut:cc['pdet_y']+rcut,\\\n",
    "            cc['pdet_x']-rcut:cc['pdet_x']+rcut] for cc in coords]\n",
    "o       =   fpTask0.measure(imgList)\n",
    "ell0    =   fpfs.fpfsBase.fpfsM2E(o,const=100)\n",
    "out0    =   pdet.get_shear_response(img1,psfData,gsigma=gsigma,\\\n",
    "            coords=coords)\n",
    "del imgList,o\n",
    "gc.collect()"
   ]
  },
  {
   "cell_type": "code",
   "execution_count": 44,
   "id": "012ae4e5-f226-40f3-9c14-4c476a2a95a3",
   "metadata": {},
   "outputs": [
    {
     "ename": "ValueError",
     "evalue": "no field of name fpfs_e1",
     "output_type": "error",
     "traceback": [
      "\u001b[0;31m---------------------------------------------------------------------------\u001b[0m",
      "\u001b[0;31mValueError\u001b[0m                                Traceback (most recent call last)",
      "\u001b[0;32m/var/tmp/pbs.89275.idark/ipykernel_175972/590894863.py\u001b[0m in \u001b[0;36m<module>\u001b[0;34m\u001b[0m\n\u001b[1;32m      9\u001b[0m         out     =   pdet.get_shear_response(imn,psfData,gsigma=gsigma,\\\n\u001b[1;32m     10\u001b[0m                     coords=coords)\n\u001b[0;32m---> 11\u001b[0;31m         \u001b[0mdAll1\u001b[0m\u001b[0;34m.\u001b[0m\u001b[0mappend\u001b[0m\u001b[0;34m(\u001b[0m\u001b[0mo\u001b[0m\u001b[0;34m[\u001b[0m\u001b[0;34m'fpfs_e1'\u001b[0m\u001b[0;34m]\u001b[0m\u001b[0;34m*\u001b[0m\u001b[0mo1\u001b[0m\u001b[0;34m[\u001b[0m\u001b[0;34m'pdet_v22r1'\u001b[0m\u001b[0;34m]\u001b[0m\u001b[0;34m)\u001b[0m\u001b[0;34m\u001b[0m\u001b[0;34m\u001b[0m\u001b[0m\n\u001b[0m\u001b[1;32m     12\u001b[0m         \u001b[0;32mdel\u001b[0m \u001b[0mo\u001b[0m\u001b[0;34m\u001b[0m\u001b[0;34m\u001b[0m\u001b[0m\n",
      "\u001b[0;31mValueError\u001b[0m: no field of name fpfs_e1"
     ]
    }
   ],
   "source": [
    "dAll1=[]\n",
    "for j in range(1):\n",
    "    for i in range(1):\n",
    "        imn=img1+noiData[j*64:(j+1)*64,i*64:(i+1)*64]\n",
    "        imgList =   [imn[cc['pdet_y']-rcut:cc['pdet_y']+rcut,\\\n",
    "                    cc['pdet_x']-rcut:cc['pdet_x']+rcut] for cc in coords]\n",
    "        o       =   fpTask0.measure(imgList)\n",
    "        ell     =   fpfs.fpfsBase.fpfsM2E(o,const=100)\n",
    "        out     =   pdet.get_shear_response(imn,psfData,gsigma=gsigma,\\\n",
    "                    coords=coords)\n",
    "        dAll1.append(o['fpfs_e1']*o1['pdet_v22r1'])\n",
    "        del o"
   ]
  },
  {
   "cell_type": "code",
   "execution_count": 41,
   "id": "7e127152-2398-44d7-b7db-b68fb8f8a765",
   "metadata": {},
   "outputs": [
    {
     "data": {
      "text/plain": [
       "array((22371.82451703, 1089.36514904, 7799.07635582, 157467.20370865),\n",
       "      dtype=[('fpfs_M00', '>f8'), ('fpfs_M22c', '>f8'), ('fpfs_M22s', '>f8'), ('fpfs_M40', '>f8')])"
      ]
     },
     "execution_count": 41,
     "metadata": {},
     "output_type": "execute_result"
    }
   ],
   "source": [
    "o"
   ]
  },
  {
   "cell_type": "code",
   "execution_count": null,
   "id": "20a89fbe-dc14-48e5-a5ef-a95c2a256b95",
   "metadata": {},
   "outputs": [],
   "source": []
  }
 ],
 "metadata": {
  "kernelspec": {
   "display_name": "Python 3 (ipykernel)",
   "language": "python",
   "name": "python3"
  },
  "language_info": {
   "codemirror_mode": {
    "name": "ipython",
    "version": 3
   },
   "file_extension": ".py",
   "mimetype": "text/x-python",
   "name": "python",
   "nbconvert_exporter": "python",
   "pygments_lexer": "ipython3",
   "version": "3.7.12"
  }
 },
 "nbformat": 4,
 "nbformat_minor": 5
}
