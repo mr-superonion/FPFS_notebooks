{
 "cells": [
  {
   "cell_type": "code",
   "execution_count": 1,
   "metadata": {},
   "outputs": [
    {
     "name": "stdout",
     "output_type": "stream",
     "text": [
      "Populating the interactive namespace from numpy and matplotlib\n"
     ]
    }
   ],
   "source": [
    "%pylab inline\n",
    "import galsim\n",
    "import numpy as np\n",
    "import astropy.io.fits as pyfits\n",
    "\n",
    "import imgutil\n",
    "import fpfsBase"
   ]
  },
  {
   "cell_type": "code",
   "execution_count": 2,
   "metadata": {},
   "outputs": [
    {
     "name": "stdout",
     "output_type": "stream",
     "text": [
      "/home/xiangchong/work/gw_ipmu/work/FPFS2/sim\n"
     ]
    }
   ],
   "source": [
    "cd wrkDir/FPFS2/sim"
   ]
  },
  {
   "cell_type": "markdown",
   "metadata": {},
   "source": [
    "+ correlation of shape modes"
   ]
  },
  {
   "cell_type": "code",
   "execution_count": 3,
   "metadata": {},
   "outputs": [],
   "source": [
    "# Get the  galaxy generator      \n",
    "# Load data\n",
    "catName     =   'real_galaxy_catalog_25.2.fits'\n",
    "directory   =   '../../galsim_train/COSMOS_25.2_training_sample/'\n",
    "cosmos_cat  =   galsim.COSMOSCatalog(catName, dir=directory)"
   ]
  },
  {
   "cell_type": "code",
   "execution_count": 4,
   "metadata": {},
   "outputs": [
    {
     "name": "stdout",
     "output_type": "stream",
     "text": [
      "(64, 64)\n"
     ]
    }
   ],
   "source": [
    "# PSF preparation\n",
    "psfPre='psfPre'\n",
    "# Basic parameters\n",
    "ngrid       =   64\n",
    "nrot        =   1\n",
    "nx          =   1\n",
    "ny          =   100000\n",
    "ndata       =   nx*ny\n",
    "scale       =   0.168\n",
    "ngridTot    =   ngrid*nx\n",
    "flux_scaling=   2.587\n",
    "\n",
    "bigfft      =   galsim.GSParams(maximum_fft_size=10240)\n",
    "# index\n",
    "ifield=1\n",
    "index_use   =   cosmos_cat.orig_index\n",
    "# parametric catalog\n",
    "param_cat   =   cosmos_cat.param_cat[index_use]\n",
    "index       =   ifield%81400\n",
    "record      =   param_cat[index]\n",
    "# prepare the galaxies\n",
    "gal0        =   cosmos_cat.makeGalaxy(gal_type='parametric',index=index,gsparams=bigfft)\n",
    "gal0        *=  flux_scaling\n",
    "\n",
    "# Get the psf and nosie information \n",
    "psfFname    =   os.path.join(psfPre,'psf%04d.fits'%(ifield))\n",
    "psfImg      =   galsim.fits.read(psfFname)\n",
    "psfData=np.pad(psfImg.array,(11,10))\n",
    "print(psfData.shape)\n",
    "\n",
    "noiseHead   =   pyfits.getheader(psfFname)\n",
    "psfInt      =   galsim.InterpolatedImage(psfImg,scale=scale,flux = 1.) \n",
    "# Get the shear information\n",
    "g1          =   noiseHead['g1']\n",
    "g2          =   noiseHead['g2']\n",
    "fwhm        =   noiseHead['fwhm'] \n",
    "#variance   =   noiseHead['var']\n",
    "variance    =   noiseHead['var']/100.\n",
    "rescale     =   noiseHead['rescale']\n",
    "ud          =   galsim.UniformDeviate(ifield*10000+1)\n",
    "np.random.seed(ifield*10000+1)\n",
    "final       =   galsim.Convolve([psfInt,gal0],gsparams=bigfft)"
   ]
  },
  {
   "cell_type": "code",
   "execution_count": 5,
   "metadata": {},
   "outputs": [],
   "source": [
    "# Noise\n",
    "corPre='corPre'\n",
    "corFname    =   os.path.join(corPre,'correlation.fits')\n",
    "corNoise    =   galsim.getCOSMOSNoise(file_name=corFname,rng=ud,cosmos_scale=scale,variance=variance)\n",
    "\n",
    "corIn=pyfits.getdata(corFname)*variance\n",
    "corIn=np.pad(corIn,(23,22))\n",
    "corNum=np.fft.fftshift(np.fft.ifft2(np.abs(np.fft.fft2(np.ones((ngrid,ngrid))))**2.)).real\n",
    "corIn=corIn*corNum\n",
    "powIn=np.fft.fftshift(np.fft.fft2(np.fft.fftshift(corIn)).real)\n",
    "powModel=np.zeros((1,ngrid,ngrid))\n",
    "powModel[0]=powIn"
   ]
  },
  {
   "cell_type": "code",
   "execution_count": 6,
   "metadata": {},
   "outputs": [
    {
     "name": "stdout",
     "output_type": "stream",
     "text": [
      "(100000, 64, 64)\n"
     ]
    },
    {
     "data": {
      "text/plain": [
       "<matplotlib.image.AxesImage at 0x7f4d3c8e2700>"
      ]
     },
     "execution_count": 6,
     "metadata": {},
     "output_type": "execute_result"
    },
    {
     "data": {
      "image/png": "[encoded data removed]",
      "text/plain": [
       "<Figure size 432x288 with 1 Axes>"
      ]
     },
     "metadata": {
      "needs_background": "light"
     },
     "output_type": "display_data"
    }
   ],
   "source": [
    "# original galaxy image\n",
    "gal_image0   =   galsim.ImageF(ngrid,ngrid,scale=scale)\n",
    "gal_image0.setOrigin(0,0)\n",
    "final.drawImage(gal_image0,method='no_pixel')\n",
    "\n",
    "# noisy galaxy image\n",
    "gal_image   =   galsim.ImageF(nx*ngrid,ny*ngrid,scale=scale)\n",
    "gal_image.setOrigin(0,0)\n",
    "for i in range(ny):\n",
    "    # Prepare the subimage\n",
    "    ix      =   0\n",
    "    iy      =   i\n",
    "    b       =   galsim.BoundsI(ix*ngrid, (ix+1)*ngrid-1,iy*ngrid,(iy+1)*ngrid-1)\n",
    "    sub_gal_image = gal_image[b]\n",
    "    # Draw the galaxy image\n",
    "    final.drawImage(sub_gal_image,method='no_pixel')\n",
    "\n",
    "corNoise.applyTo(gal_image)\n",
    "# image arrays\n",
    "image_list=np.stack(np.vsplit(gal_image.array,ny))\n",
    "print(image_list.shape)\n",
    "galPow=imgutil.getFouPow(image_list[0])\n",
    "subPow=imgutil.fitNoiPow(ngrid,galPow,np.ones((1,ngrid,ngrid)),26)\n",
    "imshow(galPow-subPow)"
   ]
  },
  {
   "cell_type": "code",
   "execution_count": 7,
   "metadata": {},
   "outputs": [],
   "source": [
    "fpTask=fpfsBase.fpfsTask(psfData)\n",
    "a0=fpTask.measure(gal_image0.array)"
   ]
  },
  {
   "cell_type": "markdown",
   "metadata": {},
   "source": [
    "## First Test: precise variance estiamtion\n",
    "input noiFit which means the noise power function is known"
   ]
  },
  {
   "cell_type": "code",
   "execution_count": 8,
   "metadata": {},
   "outputs": [
    {
     "name": "stdout",
     "output_type": "stream",
     "text": [
      "testing\n"
     ]
    }
   ],
   "source": [
    "fpTask=fpfsBase.fpfsTask(psfData,noiFit=powModel[0])\n",
    "a=fpTask.measure(image_list)"
   ]
  },
  {
   "cell_type": "code",
   "execution_count": 9,
   "metadata": {},
   "outputs": [
    {
     "name": "stdout",
     "output_type": "stream",
     "text": [
      "46.41449800200595 47.80960258476143 47.77823476490142 166.80524987718775\n",
      "46.58830304427995 47.81557994546739 48.01344353588302 167.47580141242676\n"
     ]
    }
   ],
   "source": [
    "print(np.var(a['fpfs_M00']),np.var(a['fpfs_M22c']),np.var(a['fpfs_M22s']),np.var(a['fpfs_M40']))\n",
    "print(np.average(a['fpfs_N00N00']),np.average(a['fpfs_N22cN22c']),np.average(a['fpfs_N22sN22s']),np.average(a['fpfs_N40N40']))"
   ]
  },
  {
   "cell_type": "code",
   "execution_count": 10,
   "metadata": {},
   "outputs": [
    {
     "name": "stdout",
     "output_type": "stream",
     "text": [
      "N00N22c:\n",
      "-1.0904811540025907\n",
      "-0.8503915378101836\n",
      "N00N22s:\n",
      "5.396743933564852\n",
      "5.5372505435105435\n",
      "N00N40:\n",
      "-4.0720984160193145\n",
      "-3.7131322380585625\n"
     ]
    }
   ],
   "source": [
    "print('N00N22c:')\n",
    "ff=(a['fpfs_M00']-a0['fpfs_M00'])*(a['fpfs_M22c']-a0['fpfs_M22c'])\n",
    "print(np.average(ff))\n",
    "print(np.average(a['fpfs_N00N22c']))\n",
    "print('N00N22s:')\n",
    "ff=(a['fpfs_M00']-a0['fpfs_M00'])*(a['fpfs_M22s']-a0['fpfs_M22s'])\n",
    "print(np.average(ff))\n",
    "print(np.average(a['fpfs_N00N22s']))\n",
    "print('N00N40:')\n",
    "ff=(a['fpfs_M00']-a0['fpfs_M00'])*(a['fpfs_M40']-a0['fpfs_M40'])\n",
    "print(np.average(ff))\n",
    "print(np.average(a['fpfs_N00N40']))"
   ]
  },
  {
   "cell_type": "markdown",
   "metadata": {},
   "source": [
    "## Second Test: noisy variance estiamtion\n",
    "input noiModel which means the noise power function is not known, we use template to fit the noise power"
   ]
  },
  {
   "cell_type": "code",
   "execution_count": 11,
   "metadata": {},
   "outputs": [],
   "source": [
    "fpTask=fpfsBase.fpfsTask(psfData,noiModel=powModel)\n",
    "a=fpTask.measure(image_list)"
   ]
  },
  {
   "cell_type": "code",
   "execution_count": 12,
   "metadata": {},
   "outputs": [
    {
     "name": "stdout",
     "output_type": "stream",
     "text": [
      "46.4758118150164 47.80945438102356 47.778038406215174 170.66656337077987\n",
      "46.76354740040787 47.99237154032659 48.19113717617458 168.04963715026952\n"
     ]
    }
   ],
   "source": [
    "print(np.var(a['fpfs_M00']),np.var(a['fpfs_M22c']),np.var(a['fpfs_M22s']),np.var(a['fpfs_M40']))\n",
    "print(np.average(a['fpfs_N00N00']),np.average(a['fpfs_N22cN22c']),np.average(a['fpfs_N22sN22s']),np.average(a['fpfs_N40N40']))"
   ]
  },
  {
   "cell_type": "code",
   "execution_count": 13,
   "metadata": {},
   "outputs": [
    {
     "name": "stdout",
     "output_type": "stream",
     "text": [
      "N00N22c:\n",
      "-1.0898017191882838\n",
      "-0.8536211879186771\n",
      "N00N22s:\n",
      "5.393757988911009\n",
      "5.558350553828465\n",
      "N00N40:\n",
      "-3.573336045512658\n",
      "-3.7291476557675085\n"
     ]
    }
   ],
   "source": [
    "print('N00N22c:')\n",
    "ff=(a['fpfs_M00']-a0['fpfs_M00'])*(a['fpfs_M22c']-a0['fpfs_M22c'])\n",
    "print(np.average(ff))\n",
    "print(np.average(a['fpfs_N00N22c']))\n",
    "print('N00N22s:')\n",
    "ff=(a['fpfs_M00']-a0['fpfs_M00'])*(a['fpfs_M22s']-a0['fpfs_M22s'])\n",
    "print(np.average(ff))\n",
    "print(np.average(a['fpfs_N00N22s']))\n",
    "print('N00N40:')\n",
    "ff=(a['fpfs_M00']-a0['fpfs_M00'])*(a['fpfs_M40']-a0['fpfs_M40'])\n",
    "print(np.average(ff))\n",
    "print(np.average(a['fpfs_N00N40']))"
   ]
  }
 ],
 "metadata": {
  "kernelspec": {
   "display_name": "Python 3",
   "language": "python",
   "name": "python3"
  },
  "language_info": {
   "codemirror_mode": {
    "name": "ipython",
    "version": 3
   },
   "file_extension": ".py",
   "mimetype": "text/x-python",
   "name": "python",
   "nbconvert_exporter": "python",
   "pygments_lexer": "ipython3",
   "version": "3.7.8"
  }
 },
 "nbformat": 4,
 "nbformat_minor": 4
}
