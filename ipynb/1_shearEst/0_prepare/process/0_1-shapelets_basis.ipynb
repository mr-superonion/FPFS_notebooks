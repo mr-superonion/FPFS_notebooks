{
 "cells": [
  {
   "cell_type": "code",
   "execution_count": 1,
   "metadata": {},
   "outputs": [
    {
     "name": "stdout",
     "output_type": "stream",
     "text": [
      "Populating the interactive namespace from numpy and matplotlib\n"
     ]
    }
   ],
   "source": [
    "%pylab inline\n",
    "import os\n",
    "import numpy as np\n",
    "pltDir=os.path.join(os.environ['homeWrk'],'FPFS2','sim','plot','demo')"
   ]
  },
  {
   "cell_type": "code",
   "execution_count": 2,
   "metadata": {},
   "outputs": [],
   "source": [
    "def shapeletsPrepare(nord,ngrid,sigma):\n",
    "    # prepare the shapelets function\n",
    "    mord    =   nord\n",
    "    rfunc   =   np.zeros((ngrid,ngrid))\n",
    "    afunc   =   np.zeros((ngrid,ngrid))\n",
    "    lfunc   =   np.zeros((nord+1,mord+1,ngrid,ngrid))\n",
    "    chiC    =   np.zeros((nord+1,mord+1,ngrid,ngrid))\n",
    "    chiS    =   np.zeros((nord+1,mord+1,ngrid,ngrid))\n",
    "    #set up the r*r and theta function\n",
    "    for j in range(ngrid):\n",
    "        for i in range(ngrid):\n",
    "            x   =   (i-ngrid/2.)/sigma\n",
    "            y   =   (j-ngrid/2.)/sigma\n",
    "            r   =   np.sqrt(x**2.+y**2.)\n",
    "            rfunc[j,i]=r\n",
    "            if r==0:\n",
    "                afunc[j,i]=0\n",
    "            elif y>=0:\n",
    "                afunc[j,i]=np.arccos(x/r)\n",
    "            elif y<0:\n",
    "                afunc[j,i]=-np.arccos(x/r)\n",
    "    #set up l function\n",
    "    for n in range(nord+1):\n",
    "        for m in range(mord+1):\n",
    "            if n==0:\n",
    "                lfunc[n,m,:,:]=1.\n",
    "            elif n==1:\n",
    "                lfunc[n,m,:,:]=m+1.-rfunc*rfunc\n",
    "            elif n>1:\n",
    "                lfunc[n,m,:,:]=(2.+(m-1.-rfunc*rfunc)/n)*lfunc[n-1,m,:,:]-(1.+(m-1.)/n)*lfunc[n-2,m,:,:]\n",
    "    \n",
    "    for nn in range(nord+1):\n",
    "        for mm in range(nn,-1,-2):\n",
    "            c1=(nn-abs(mm))/2\n",
    "            d1=(nn+abs(mm))/2\n",
    "            cc=np.math.factorial(c1)+0.\n",
    "            dd=np.math.factorial(d1)+0.\n",
    "            cc=cc/dd/np.pi\n",
    "            chiC[nn,mm,:,:]=pow(-1.,d1)/sigma*pow(cc,0.5)*lfunc[np.int(c1),abs(mm),:,:]*pow(rfunc,abs(mm))*np.exp(-rfunc*rfunc/2.)*np.cos(mm*afunc)\n",
    "            chiS[nn,mm,:,:]=pow(-1.,d1)/sigma*pow(cc,0.5)*lfunc[np.int(c1),abs(mm),:,:]*pow(rfunc,abs(mm))*np.exp(-rfunc*rfunc/2.)*np.sin(mm*afunc)\n",
    "    return (chiC,chiS)"
   ]
  },
  {
   "cell_type": "code",
   "execution_count": 9,
   "metadata": {},
   "outputs": [
    {
     "name": "stdout",
     "output_type": "stream",
     "text": [
      "0.18806319451591874\n",
      "-0.18806319451591874\n"
     ]
    }
   ],
   "source": [
    "basis=shapeletsPrepare(4,32,3)\n",
    "chiCBasis=basis[0]\n",
    "chiSBasis=basis[1]\n",
    "print(np.max(chiCBasis))\n",
    "print(np.min(chiCBasis))"
   ]
  },
  {
   "cell_type": "code",
   "execution_count": 4,
   "metadata": {},
   "outputs": [
    {
     "data": {
      "text/plain": [
       "<matplotlib.image.AxesImage at 0x2b40e1401c50>"
      ]
     },
     "execution_count": 4,
     "metadata": {},
     "output_type": "execute_result"
    },
    {
     "data": {
      "image/png": "[encoded data removed]",
      "text/plain": [
       "<Figure size 432x288 with 1 Axes>"
      ]
     },
     "metadata": {
      "needs_background": "light"
     },
     "output_type": "display_data"
    }
   ],
   "source": [
    "imshow(chiCBasis[0,0])"
   ]
  },
  {
   "cell_type": "code",
   "execution_count": 12,
   "metadata": {},
   "outputs": [
    {
     "data": {
      "image/png": "[encoded data removed]",
      "text/plain": [
       "<Figure size 720x720 with 25 Axes>"
      ]
     },
     "metadata": {},
     "output_type": "display_data"
    }
   ],
   "source": [
    "mm=-0.18\n",
    "MM=0.18\n",
    "fig, axes = plt.subplots(5, 5, figsize=(10, 10),\n",
    "            subplot_kw={'xticks': [], 'yticks': []},frameon=False)\n",
    "axfla=axes.flat\n",
    "axfla[0].axis('off')\n",
    "axfla[1].axis('off')\n",
    "fs=20\n",
    "axfla[2].imshow(chiCBasis[2,2],cmap='gray',vmin=mm,vmax=MM)\n",
    "axfla[2].set_title(r'$\\chi_{22c}$',weight='bold',fontsize=fs)\n",
    "axfla[3].axis('off')\n",
    "axfla[4].imshow(chiCBasis[4,2],cmap='gray',vmin=mm,vmax=MM)\n",
    "axfla[4].set_title(r'$\\chi_{42c}$',weight='bold',fontsize=fs)\n",
    "\n",
    "axfla[5].axis('off')\n",
    "axfla[6].imshow(chiCBasis[1,1],cmap='gray',vmin=mm,vmax=MM)\n",
    "axfla[6].set_title(r'$\\chi_{11c}$',weight='bold',fontsize=fs)\n",
    "axfla[7].axis('off')\n",
    "axfla[8].imshow(chiCBasis[3,1],cmap='gray',vmin=mm,vmax=MM)\n",
    "axfla[8].set_title(r'$\\chi_{31c}$',weight='bold',fontsize=fs)\n",
    "axfla[9].axis('off')\n",
    "\n",
    "axfla[10].imshow(chiCBasis[0,0],cmap='gray',vmin=mm,vmax=MM)\n",
    "axfla[10].set_title(r'$\\chi_{00}$',weight='bold',fontsize=fs)\n",
    "axfla[11].axis('off')\n",
    "axfla[12].imshow(chiCBasis[2,0],cmap='gray',vmin=mm,vmax=MM)\n",
    "axfla[12].set_title(r'$\\chi_{20}$',weight='bold',fontsize=fs)\n",
    "axfla[13].axis('off')\n",
    "axfla[14].imshow(chiCBasis[4,0],cmap='gray',vmin=mm,vmax=MM)\n",
    "axfla[14].set_title(r'$\\chi_{40}$',weight='bold',fontsize=fs)\n",
    "\n",
    "\n",
    "axfla[15].axis('off')\n",
    "axfla[16].imshow(chiSBasis[1,1],cmap='gray',vmin=mm,vmax=MM)\n",
    "axfla[16].set_title(r'$\\chi_{11s}$',weight='bold',fontsize=fs)\n",
    "axfla[17].axis('off')\n",
    "axfla[18].imshow(chiSBasis[3,1],cmap='gray',vmin=mm,vmax=MM)\n",
    "axfla[18].set_title(r'$\\chi_{31s}$',weight='bold',fontsize=fs)\n",
    "axfla[19].axis('off')\n",
    "\n",
    "axfla[20].axis('off')\n",
    "axfla[21].axis('off')\n",
    "axfla[22].imshow(chiSBasis[2,2],cmap='gray',vmin=mm,vmax=MM)\n",
    "axfla[22].set_title(r'$\\chi_{22s}$',weight='bold',fontsize=fs)\n",
    "axfla[23].axis('off')\n",
    "axfla[24].imshow(chiSBasis[4,2],cmap='gray',vmin=mm,vmax=MM)\n",
    "axfla[24].set_title(r'$\\chi_{42s}$',weight='bold',fontsize=fs)\n",
    "\n",
    "fig.subplots_adjust(left=0.01,\n",
    "                bottom=0.01,\n",
    "                right=0.98, \n",
    "                top=0.90, \n",
    "                wspace=-0.2, \n",
    "                hspace=-0.00)\n",
    "#plt.tight_layout()"
   ]
  },
  {
   "cell_type": "code",
   "execution_count": 13,
   "metadata": {},
   "outputs": [],
   "source": [
    "fig.savefig(os.path.join(pltDir,'shapeletsExample.pdf'))\n",
    "fig.savefig(os.path.join(pltDir,'shapeletsExample.png'))"
   ]
  },
  {
   "cell_type": "code",
   "execution_count": null,
   "metadata": {},
   "outputs": [],
   "source": []
  }
 ],
 "metadata": {
  "kernelspec": {
   "display_name": "Python 3",
   "language": "python",
   "name": "python3"
  },
  "language_info": {
   "codemirror_mode": {
    "name": "ipython",
    "version": 3
   },
   "file_extension": ".py",
   "mimetype": "text/x-python",
   "name": "python",
   "nbconvert_exporter": "python",
   "pygments_lexer": "ipython3",
   "version": "3.7.8"
  }
 },
 "nbformat": 4,
 "nbformat_minor": 4
}
