{
 "cells": [
  {
   "cell_type": "code",
   "execution_count": 1,
   "metadata": {},
   "outputs": [
    {
     "name": "stdout",
     "output_type": "stream",
     "text": [
      "/lustre/work/xiangchong.li/work/FPFS2/sim\n"
     ]
    }
   ],
   "source": [
    "cd wrkDir/FPFS2/sim"
   ]
  },
  {
   "cell_type": "code",
   "execution_count": 2,
   "metadata": {},
   "outputs": [
    {
     "name": "stdout",
     "output_type": "stream",
     "text": [
      "Populating the interactive namespace from numpy and matplotlib\n"
     ]
    }
   ],
   "source": [
    "%pylab inline\n",
    "import gc\n",
    "import galsim\n",
    "from fpfs import fpfsBase\n",
    "import imgSimutil\n",
    "import numpy as np\n",
    "import astropy.io.fits as pyfits\n",
    "import numpy.lib.recfunctions as rfn\n",
    "from astropy.table import Table,vstack,hstack\n",
    "\n",
    "pltDir='plot/histograms/'\n",
    "if not os.path.isdir(pltDir):\n",
    "    os.mkdir(pltDir)\n",
    "vdir='outcome-var7em3'"
   ]
  },
  {
   "cell_type": "code",
   "execution_count": 16,
   "metadata": {},
   "outputs": [],
   "source": [
    "def selCat(catalog):\n",
    "    ngrid=64\n",
    "    ngalR=100\n",
    "    catalog['centDist'] =   ((catalog['base_SdssCentroid_y']%ngrid-ngrid/2)**2.+\n",
    "                    (catalog['base_SdssCentroid_x']%ngrid-ngrid/2)**2.)\n",
    "\n",
    "    catalog['centDist'] =   np.sqrt(catalog['centDist'])\n",
    "    catalog             =   catalog[(catalog['centDist']<5.)]\n",
    "\n",
    "    # First, keep only detections that are the closest to the grid point\n",
    "    # Get sorted index by grid index and grid distance\n",
    "    # Add a gridIndex column instead of using the index column, for compatibility\n",
    "    catalog['ipos']     =   (catalog['base_SdssCentroid_y']//ngrid)*ngalR +(catalog['base_SdssCentroid_x']//ngrid)\n",
    "    catalog['ipos']     =   catalog['ipos'].astype(np.int)\n",
    "    inds        =   np.lexsort([catalog['centDist'], catalog['ipos']])\n",
    "    catalog     =   catalog[inds]\n",
    "    inds_unique =   np.unique(catalog['ipos'], return_index=True)[1]\n",
    "    return catalog[inds_unique]"
   ]
  },
  {
   "cell_type": "code",
   "execution_count": 30,
   "metadata": {},
   "outputs": [],
   "source": [
    "fatAll=[]\n",
    "datAll=[]\n",
    "for igroup in range(7):\n",
    "    for ii in range(2):\n",
    "        ifield=igroup*250+ii\n",
    "        fname0=os.path.join(vdir,'fpfs-rcut16-psf60-%d/src%04d-g1-0000.fits' %(igroup,ifield))\n",
    "        fat=Table.read(fname0)\n",
    "        fname=os.path.join(vdir,'src-psf60-%d/src%04d-g1-0000.fits' %(igroup,ifield))\n",
    "        dat=Table.read(fname)\n",
    "        dat=selCat(dat)\n",
    "        dat=hstack([fat[dat['ipos']],dat])\n",
    "        datAll.append(dat)\n",
    "        del dat,fname\n",
    "        del fat,fname0\n",
    "        gc.collect()\n",
    "        \n",
    "datAll=vstack(datAll)"
   ]
  },
  {
   "cell_type": "code",
   "execution_count": 53,
   "metadata": {},
   "outputs": [],
   "source": [
    "C1=500.\n",
    "ell1=fpfsBase.fpfsM2E(datAll,C1,rev=True)\n",
    "w1=1. / (1 + C1/datAll['fpfs_M00'])\n",
    "C2=2000.\n",
    "ell2=fpfsBase.fpfsM2E(datAll,C2,rev=True)\n",
    "w2=1. / (1 + C2/datAll['fpfs_M00'])\n",
    "snr=datAll['modelfit_CModel_initial_instFlux']/datAll['modelfit_CModel_initial_instFluxErr']"
   ]
  },
  {
   "cell_type": "code",
   "execution_count": 56,
   "metadata": {},
   "outputs": [
    {
     "data": {
      "image/png": "[encoded data removed]",
      "text/plain": [
       "<Figure size 504x432 with 1 Axes>"
      ]
     },
     "metadata": {
      "needs_background": "light"
     },
     "output_type": "display_data"
    }
   ],
   "source": [
    "plt.close()\n",
    "fig=plt.figure(figsize=(7,6))\n",
    "ax=fig.add_subplot(1,1,1)\n",
    "ax.hist(snr,bins=60,range=(0.,100),density=True,color='black',histtype='step',\\\n",
    "        linewidth=3.,ls='-',label=r'C=0')\n",
    "ax.hist(snr,bins=60,range=(0.,100),weights=w1,density=True,color='black',histtype='step',\\\n",
    "        linewidth=3.,ls='--',label=r'C=500')\n",
    "ax.hist(snr,bins=60,range=(0.,100),weights=w2,density=True,color='black',histtype='step',\\\n",
    "        linewidth=3.,ls=':',label=r'C=2000')\n",
    "ax.set_xlabel(r'CModel SNR')\n",
    "ax.set_ylabel(r'Number histogram')\n",
    "ax.legend(loc='lower right')\n",
    "ax.set_xlim(0,100)\n",
    "ax.set_ylim(1e-4,1e-1)\n",
    "ax.set_yscale('log')\n",
    "plt.tight_layout()\n",
    "fig.savefig(os.path.join(pltDir,'histCModel.png'))\n",
    "fig.savefig(os.path.join(pltDir,'histCModel.pdf'))"
   ]
  },
  {
   "cell_type": "code",
   "execution_count": null,
   "metadata": {},
   "outputs": [],
   "source": []
  }
 ],
 "metadata": {
  "kernelspec": {
   "display_name": "Python 3",
   "language": "python",
   "name": "python3"
  },
  "language_info": {
   "codemirror_mode": {
    "name": "ipython",
    "version": 3
   },
   "file_extension": ".py",
   "mimetype": "text/x-python",
   "name": "python",
   "nbconvert_exporter": "python",
   "pygments_lexer": "ipython3",
   "version": "3.7.8"
  }
 },
 "nbformat": 4,
 "nbformat_minor": 4
}
