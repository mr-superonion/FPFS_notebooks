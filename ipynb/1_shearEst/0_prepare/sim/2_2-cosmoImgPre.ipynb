{
 "cells": [
  {
   "cell_type": "code",
   "execution_count": 1,
   "metadata": {},
   "outputs": [
    {
     "name": "stdout",
     "output_type": "stream",
     "text": [
      "Populating the interactive namespace from numpy and matplotlib\n"
     ]
    }
   ],
   "source": [
    "%pylab inline\n",
    "import os\n",
    "import gc\n",
    "import scipy\n",
    "import healpy as hp\n",
    "import numpy as np\n",
    "import astropy.io.fits as pyfits\n",
    "import astropy.table as astTable\n",
    "import catutil as utilities\n",
    "import imgSimutil as imgUtil"
   ]
  },
  {
   "cell_type": "code",
   "execution_count": 2,
   "metadata": {},
   "outputs": [
    {
     "name": "stdout",
     "output_type": "stream",
     "text": [
      "/lustre/work/xiangchong.li/work/FPFS2/sim\n"
     ]
    }
   ],
   "source": [
    "cd wrkDir/FPFS2/sim/"
   ]
  },
  {
   "cell_type": "code",
   "execution_count": 4,
   "metadata": {},
   "outputs": [],
   "source": [
    "igroup      =   1744588\n",
    "ngrid       =   64\n",
    "ngridT      =   ngrid*100\n",
    "noiVar      =   3.6e-3\n",
    "opend       =   'var36em4'\n",
    "pixScale    =   0.168\n",
    "psfFWHM     =   '60'\n",
    "psfFWHMF    =   eval(psfFWHM)/100.\n",
    "\n",
    "# necessary directories\n",
    "galDir      =   'galaxy_cosmo_psf%s' %psfFWHM\n",
    "galDir2     =   'galaxy_cosmoE_psf%s' %psfFWHM\n",
    "noiDir      =   'noise'\n",
    "assert os.path.exists(galDir)\n",
    "assert os.path.exists(galDir2)\n",
    "assert os.path.exists(noiDir)\n",
    "\n",
    "# noise\n",
    "ifield      =   1\n",
    "noiFname    =   os.path.join(noiDir,'noi%04d.fits' %ifield)\n",
    "# multiply by 10 since the noise has variance 0.01\n",
    "noiData     =   pyfits.getdata(noiFname)*10."
   ]
  },
  {
   "cell_type": "code",
   "execution_count": 7,
   "metadata": {},
   "outputs": [],
   "source": [
    "ishear      =   'g1-0000'#,'g1-0002','g1-0020','g1-0200','g1-2000','g1-2222']\n",
    "for pixId in imgUtil.cosmoHSThpix:\n",
    "    galFname    =   os.path.join(galDir,'image-%s-%s.fits' %(igroup,ishear))\n",
    "    galData     =   pyfits.getdata(galFname)\n",
    "    galFname2   =   os.path.join(galDir2,'image-%s-%s.fits' %(igroup,ishear))\n",
    "    galData2    =   pyfits.getdata(galFname2)\n",
    "    assert galData2.shape==galData.shape"
   ]
  },
  {
   "cell_type": "code",
   "execution_count": 6,
   "metadata": {},
   "outputs": [],
   "source": [
    "# PSF\n",
    "psfFname    =   os.path.join(galDir,'psf-%s.fits' %psfFWHM)\n",
    "psfData     =   pyfits.getdata(psfFname)\n",
    "npad        =   (ngrid-psfData.shape[0])//2\n",
    "psfData2    =   np.pad(psfData,(npad+1,npad),mode='constant')\n",
    "assert psfData2.shape[0]==ngrid"
   ]
  },
  {
   "cell_type": "code",
   "execution_count": 12,
   "metadata": {},
   "outputs": [],
   "source": [
    "ishear      =   'g1-0000'#,'g1-0002','g1-0020','g1-0200','g1-2000','g1-2222']\n",
    "galFname    =   os.path.join(galDir,'image-%s-%s.fits' %(igroup,ishear))\n",
    "galData     =   pyfits.getdata(galFname)\n",
    "ny,nx       =   galData.shape\n",
    "galData     =   galData+noiData[0:ny,0:nx]*np.sqrt(noiVar)\n",
    "#exposure    =   makeHSCExposure(galData,psfData,pixScale,noiVar)"
   ]
  },
  {
   "cell_type": "code",
   "execution_count": null,
   "metadata": {},
   "outputs": [],
   "source": [
    "def makeHSCExposure(galData,psfData,pixScale,variance):\n",
    "    ny,nx=galData.shape\n",
    "    exposure    =   afwImg.ExposureF(nx,ny)\n",
    "    exposure.getMaskedImage().getImage().getArray()[:,:]=galData\n",
    "    exposure.getMaskedImage().getVariance().getArray()[:,:]=variance\n",
    "    #Set the PSF\n",
    "    ngridPsf    =   psfData.shape[0]\n",
    "    psfLsst     =   afwImg.ImageF(ngridPsf,ngridPsf)\n",
    "    psfLsst.getArray()[:,:]= psfData\n",
    "    psfLsst     =   psfLsst.convertD()\n",
    "    kernel      =   afwMath.FixedKernel(psfLsst)\n",
    "    kernelPSF   =   meaAlg.KernelPsf(kernel)\n",
    "    exposure.setPsf(kernelPSF)\n",
    "    #prepare the wcs\n",
    "    #Rotation\n",
    "    cdelt   =   (pixScale*afwGeom.arcseconds)\n",
    "    CD      =   afwGeom.makeCdMatrix(cdelt, afwGeom.Angle(0.))#no rotation\n",
    "    #wcs\n",
    "    crval   =   afwGeom.SpherePoint(afwGeom.Angle(0.,afwGeom.degrees),afwGeom.Angle(0.,afwGeom.degrees))\n",
    "    crpix   =   afwGeom.Point2D(0.0, 0.0)\n",
    "    dataWcs =   afwGeom.makeSkyWcs(crpix,crval,CD)\n",
    "    exposure.setWcs(dataWcs)\n",
    "    #prepare the frc\n",
    "    dataCalib = afwImg.makePhotoCalibFromCalibZeroPoint(63095734448.0194)\n",
    "    exposure.setPhotoCalib(dataCalib)\n",
    "    return exposure"
   ]
  }
 ],
 "metadata": {
  "kernelspec": {
   "display_name": "Python 3 (ipykernel)",
   "language": "python",
   "name": "python3"
  },
  "language_info": {
   "codemirror_mode": {
    "name": "ipython",
    "version": 3
   },
   "file_extension": ".py",
   "mimetype": "text/x-python",
   "name": "python",
   "nbconvert_exporter": "python",
   "pygments_lexer": "ipython3",
   "version": "3.8.13"
  }
 },
 "nbformat": 4,
 "nbformat_minor": 4
}
