{
 "cells": [
  {
   "cell_type": "code",
   "execution_count": 2,
   "metadata": {},
   "outputs": [
    {
     "name": "stdout",
     "output_type": "stream",
     "text": [
      "Populating the interactive namespace from numpy and matplotlib\n"
     ]
    }
   ],
   "source": [
    "%pylab inline\n",
    "import os\n",
    "import gc\n",
    "import galsim\n",
    "import numpy as np\n",
    "from fpfs import fpfsBase\n",
    "import astropy.io.fits as pyfits\n",
    "pltDir='plot/demo'"
   ]
  },
  {
   "cell_type": "code",
   "execution_count": 3,
   "metadata": {},
   "outputs": [
    {
     "name": "stdout",
     "output_type": "stream",
     "text": [
      "/lustre/work/xiangchong.li/work/FPFS2/sim2\n"
     ]
    }
   ],
   "source": [
    "cd wrkDir/FPFS2/sim2"
   ]
  },
  {
   "cell_type": "code",
   "execution_count": 14,
   "metadata": {},
   "outputs": [
    {
     "name": "stdout",
     "output_type": "stream",
     "text": [
      "48\n"
     ]
    }
   ],
   "source": [
    "ifield      =   2\n",
    "ngrid       =   64\n",
    "nx          =   1\n",
    "ny          =   1\n",
    "ndata       =   nx*ny\n",
    "nrot        =   4\n",
    "scale       =   0.168\n",
    "bigfft      =   galsim.GSParams(maximum_fft_size=10240)\n",
    "flux_scaling=   2.587\n",
    "\n",
    "variance    =   0.0035\n",
    "ud          =   galsim.UniformDeviate(ifield*10000+1)\n",
    "np.random.seed(ifield*10000+1)\n",
    "\n",
    "# training data\n",
    "catName     =   'real_galaxy_catalog_25.2.fits'\n",
    "directory   =   os.path.join(os.environ['homeWrk'],'COSMOS/galsim_train/COSMOS_25.2_training_sample/')\n",
    "\n",
    "cosmos_cat  =   galsim.COSMOSCatalog(catName, dir=directory)\n",
    "\n",
    "# index\n",
    "index_use   =   cosmos_cat.orig_index\n",
    "# parametric catalog\n",
    "param_cat   =   cosmos_cat.param_cat[index_use]\n",
    "ngAll       =   len(index_use)\n",
    "\n",
    "# Get the psf\n",
    "if True:\n",
    "    psfFname    =   os.path.join('psfPre','psf%04d.fits'%(ifield))\n",
    "    psfImg      =   galsim.fits.read(psfFname)\n",
    "    psfInt      =   galsim.InterpolatedImage(psfImg,scale=scale,flux = 1.)\n",
    "else:\n",
    "    psfInt=galsim.Moffat(beta=3.5,fwhm=0.615,trunc=0.615*4.)\n",
    "    psfInt=psfInt.shear(e1=0.,e2=0.02)\n",
    "    psfImg   =   psfInt.drawImage(nx=45,ny=45,scale=scale)\n",
    "\n",
    "\n",
    "outFname1   =   'gal%04d-00.fits' %(ifield)\n",
    "outFname2   =   'gal%04d-20.fits' %(ifield)\n",
    "gal_image1  =   galsim.ImageF(nx*ngrid,ny*ngrid,scale=scale)\n",
    "gal_image1.setOrigin(0,0)\n",
    "gal_image2  =   galsim.ImageF(nx*ngrid,ny*ngrid,scale=scale)\n",
    "gal_image2.setOrigin(0,0)\n",
    "\n",
    "data_rows   =   []\n",
    "i           =   0\n",
    "while i <ndata:\n",
    "    # Prepare the subimage\n",
    "    ix      =   i%nx\n",
    "    iy      =   i//nx\n",
    "    b       =   galsim.BoundsI(ix*ngrid,(ix+1)*ngrid-1,iy*ngrid,(iy+1)*ngrid-1)\n",
    "    sub_image1 = gal_image1[b]\n",
    "    sub_image2 = gal_image2[b]\n",
    "    #simulate the galaxy\n",
    "    if i%nrot==0:\n",
    "        # update galaxy\n",
    "        index   =   150#np.random.randint(0,ngAll)\n",
    "        ss      =   param_cat[index]\n",
    "        if ss['use_bulgefit']:\n",
    "            bparams = ss['bulgefit']\n",
    "            gal_q   = bparams[3]\n",
    "            gal_beta= bparams[7]*galsim.radians\n",
    "            hlr     = ss['hlr'][2]\n",
    "        else:\n",
    "            sparams =   ss['sersicfit']\n",
    "            gal_q   =   sparams[3]\n",
    "            gal_beta=   sparams[7]*galsim.radians\n",
    "            hlr     =   ss['hlr'][0]\n",
    "\n",
    "        fluxhsc =   10**((27-ss['mag_auto'])/2.5)\n",
    "        # prepare the galaxies\n",
    "        gal0    =   cosmos_cat.makeGalaxy(gal_type='parametric',index=index,gsparams=bigfft)\n",
    "        gal0    *=  flux_scaling\n",
    "\n",
    "        npoints =   int(ud()*10+5)\n",
    "        gal_not0=   galsim.RandomKnots(half_light_radius=min(hlr+0.1,0.8),npoints=npoints,flux=fluxhsc/100.*npoints)\n",
    "        gal_not0=   gal_not0.shear(q=gal_q,beta=gal_beta)\n",
    "        gal0    =   (gal0+gal_not0)/(1+npoints/100.)\n",
    "        gal0    =   gal0.dilate(1+(ud()-0.5)*0.1)\n",
    "        #gal0    =   gal_not0\n",
    "\n",
    "        # rotate the galaxy\n",
    "        ang     =   ud()*2.*np.pi * galsim.radians\n",
    "        gal0    =   gal0.rotate(ang)\n",
    "    else:\n",
    "        gal0    =   gal0.rotate(1./nrot*np.pi*galsim.radians)\n",
    "    print(gal0.getGoodImageSize(scale))\n",
    "    gal1        =   gal0.shear(g1=-0.02,g2=0.)\n",
    "    final1      =   galsim.Convolve([psfInt,gal1],gsparams=bigfft)\n",
    "    final1.drawImage(sub_image1)\n",
    "    gal2         =   gal0.shear(g1=0.02,g2=0.)\n",
    "    final2       =   galsim.Convolve([psfInt,gal2],gsparams=bigfft)\n",
    "    final2.drawImage(sub_image2)\n",
    "    row=(i,index,ss['IDENT'],ss['mag_auto'],ss['zphot'])\n",
    "    data_rows.append(row)\n",
    "    i   +=  1\n",
    "    gc.collect\n",
    "#pyfits.writeto(outFname1,gal_image1.array,overwrite=True)\n",
    "#pyfits.writeto(outFname2,gal_image2.array,overwrite=True)\n",
    "#del gal_image1,gal_image2\n",
    "#gc.collect()"
   ]
  },
  {
   "cell_type": "code",
   "execution_count": 17,
   "metadata": {},
   "outputs": [
    {
     "data": {
      "text/plain": [
       "1"
      ]
     },
     "execution_count": 17,
     "metadata": {},
     "output_type": "execute_result"
    }
   ],
   "source": [
    "np.min([1,2,3,4])"
   ]
  },
  {
   "cell_type": "code",
   "execution_count": 5,
   "metadata": {},
   "outputs": [
    {
     "name": "stdout",
     "output_type": "stream",
     "text": [
      "(62, 62)\n"
     ]
    }
   ],
   "source": [
    "psfData=np.pad(psfImg.array,(10,9))\n",
    "print(psfData.shape)\n",
    "powModel=np.zeros((1,ngrid,ngrid))\n",
    "powModel[0]=np.ones((ngrid,ngrid))\n",
    "fpTask=fpfsBase.fpfsTask(psfData)\n",
    "image_list=np.stack(np.vsplit(gal_image2.array,ny))\n",
    "#a=fpTask.measure(image_list)"
   ]
  },
  {
   "cell_type": "code",
   "execution_count": 6,
   "metadata": {},
   "outputs": [
    {
     "data": {
      "text/plain": [
       "(2, 64, 64)"
      ]
     },
     "execution_count": 6,
     "metadata": {},
     "output_type": "execute_result"
    }
   ],
   "source": [
    "image_list.shape"
   ]
  },
  {
   "cell_type": "code",
   "execution_count": 9,
   "metadata": {},
   "outputs": [
    {
     "data": {
      "text/plain": [
       "<matplotlib.image.AxesImage at 0x2ab9bd8e8c90>"
      ]
     },
     "execution_count": 9,
     "metadata": {},
     "output_type": "execute_result"
    },
    {
     "data": {
      "image/png": "[encoded data removed]",
      "text/plain": [
       "<Figure size 432x288 with 1 Axes>"
      ]
     },
     "metadata": {
      "needs_background": "light"
     },
     "output_type": "display_data"
    }
   ],
   "source": [
    "imshow(psfData)"
   ]
  },
  {
   "cell_type": "code",
   "execution_count": 10,
   "metadata": {},
   "outputs": [
    {
     "data": {
      "text/plain": [
       "0.03484406080537212"
      ]
     },
     "execution_count": 10,
     "metadata": {},
     "output_type": "execute_result"
    }
   ],
   "source": [
    "psfData[32,32]"
   ]
  },
  {
   "cell_type": "code",
   "execution_count": 19,
   "metadata": {},
   "outputs": [],
   "source": [
    "image_list=np.vsplit(gal_image1.array,ny)\n",
    "a=fpTask.measure(image_list)\n",
    "b=fpfsBase.fpfsM2E(a,C)\n",
    "ga1=-np.average(b['fpfs_e1'])/np.average(b['fpfs_RE'])"
   ]
  },
  {
   "cell_type": "code",
   "execution_count": 20,
   "metadata": {},
   "outputs": [
    {
     "name": "stdout",
     "output_type": "stream",
     "text": [
      "0.3655369498439971\n",
      "17.276847492199856\n"
     ]
    }
   ],
   "source": [
    "C=10\n",
    "b=fpfsBase.fpfsM2E(a,C)\n",
    "gb1=-np.average(b['fpfs_e1'])/np.average(b['fpfs_RE'])\n",
    "print(gb1)\n",
    "print(gb1/0.02-1)"
   ]
  },
  {
   "cell_type": "code",
   "execution_count": 15,
   "metadata": {},
   "outputs": [
    {
     "data": {
      "text/plain": [
       "-1.0"
      ]
     },
     "execution_count": 15,
     "metadata": {},
     "output_type": "execute_result"
    }
   ],
   "source": [
    "(gb1-ga1)/0.04-1."
   ]
  },
  {
   "cell_type": "code",
   "execution_count": 7,
   "metadata": {},
   "outputs": [
    {
     "data": {
      "text/plain": [
       "<function gc.collect(generation=2)>"
      ]
     },
     "execution_count": 7,
     "metadata": {},
     "output_type": "execute_result"
    }
   ],
   "source": [
    "ngrid       =   32\n",
    "nx          =   1\n",
    "ny          =   1\n",
    "ndata       =   nx*ny\n",
    "nrot        =   4\n",
    "scale       =   0.168\n",
    "bigfft      =   galsim.GSParams(maximum_fft_size=10240)\n",
    "flux_scaling=   2.587\n",
    "\n",
    "variance    =   0.0035\n",
    "ud          =   galsim.UniformDeviate(1)\n",
    "np.random.seed(1)\n",
    "\n",
    "# training data\n",
    "catName     =   'real_galaxy_catalog_25.2.fits'\n",
    "directory   =   os.path.join(os.environ['homeWrk'],'COSMOS/galsim_train/COSMOS_25.2_training_sample/')\n",
    "\n",
    "# Get the psf\n",
    "psfFname    =   os.path.join('psfPre','psf%04d.fits'%(2))\n",
    "psfImg      =   galsim.fits.read(psfFname)\n",
    "psfInt      =   galsim.InterpolatedImage(psfImg,scale=scale,flux = 1.)\n",
    "\n",
    "#simulate the galaxy\n",
    "gal0    =   galsim.Sersic(n=1.,half_light_radius=0.3,trunc=3,flux=0.1)\n",
    "gal0    =   gal0.shear(g1=0.14,g2=0.2)\n",
    "gal0b   =   gal0.shift(0.3,0.8)\n",
    "gal1b   =   galsim.Sersic(n=1.1,half_light_radius=0.2,trunc=3,flux=0.08)\n",
    "gal1b   =   gal1b.shear(g1=-0.1,g2=0.13).shift(-0.3,-0.8)\n",
    "final1  =   gal0\n",
    "final2  =   galsim.Convolve([psfInt,gal0],gsparams=bigfft)\n",
    "final2b =   galsim.Convolve([psfInt,(gal0b+gal1b)],gsparams=bigfft)\n",
    "gal_image1  =   galsim.ImageF(nx*ngrid*8,ny*ngrid*8,scale=scale/8.)\n",
    "final1.drawImage(gal_image1,method='real_space')\n",
    "gal_image2  =   galsim.ImageF(nx*ngrid,ny*ngrid,scale=scale)\n",
    "final2.drawImage(gal_image2)\n",
    "gal_image2b  =   galsim.ImageF(nx*ngrid,ny*ngrid,scale=scale)\n",
    "final2b.drawImage(gal_image2b)\n",
    "del gal0,final1,final2\n",
    "gc.collect"
   ]
  },
  {
   "cell_type": "code",
   "execution_count": 8,
   "metadata": {},
   "outputs": [
    {
     "data": {
      "image/png": "[encoded data removed]",
      "text/plain": [
       "<Figure size 1152x288 with 4 Axes>"
      ]
     },
     "metadata": {
      "needs_background": "light"
     },
     "output_type": "display_data"
    }
   ],
   "source": [
    "plt.close()\n",
    "cc='black'\n",
    "fs=16\n",
    "figure=plt.figure(figsize=(16,4))\n",
    "ax=figure.add_subplot(1,4,1)\n",
    "ax.set_title(r'Intrinsic shape',fontsize=fs,weight='bold')\n",
    "ax.imshow(gal_image1.array)\n",
    "ax.get_xaxis().set_visible(False)\n",
    "ax.get_yaxis().set_visible(False)\n",
    "for pos in ['top','right','left','bottom']:\n",
    "    sp=ax.spines[pos]\n",
    "    sp.set_color(cc)\n",
    "    sp.set_linewidth(4)\n",
    "\n",
    "ax=figure.add_subplot(1,4,2)\n",
    "ax.set_title(r'With PSF',fontsize=fs,weight='bold')\n",
    "ax.imshow(gal_image2.array)\n",
    "ax.get_xaxis().set_visible(False)\n",
    "ax.get_yaxis().set_visible(False)\n",
    "for pos in ['top','right','left','bottom']:\n",
    "    sp=ax.spines[pos]\n",
    "    sp.set_color(cc)\n",
    "    sp.set_linewidth(4)\n",
    "    \n",
    "vn          =   galsim.GaussianNoise(ud,6e-5)\n",
    "gal_image2.addNoise(vn)\n",
    "ax=figure.add_subplot(1,4,3)\n",
    "ax.set_title(r'With noise',fontsize=fs,weight='bold')\n",
    "ax.imshow(gal_image2.array)\n",
    "ax.get_xaxis().set_visible(False)\n",
    "ax.get_yaxis().set_visible(False)\n",
    "for pos in ['top','right','left','bottom']:\n",
    "    sp=ax.spines[pos]\n",
    "    sp.set_color(cc)\n",
    "    sp.set_linewidth(4)\n",
    "\n",
    "gal_image2b.addNoise(vn)\n",
    "ax=figure.add_subplot(1,4,4)\n",
    "ax.set_title(r'With blending',fontsize=fs,weight='bold')\n",
    "ax.imshow(gal_image2b.array)\n",
    "ax.get_xaxis().set_visible(False)\n",
    "ax.get_yaxis().set_visible(False)\n",
    "for pos in ['top','right','left','bottom']:\n",
    "    sp=ax.spines[pos]\n",
    "    sp.set_color(cc)\n",
    "    sp.set_linewidth(4)\n",
    "\n",
    "figure.subplots_adjust(left=0.02,\n",
    "                bottom=0.02, \n",
    "                right=0.98, \n",
    "                top=0.90, \n",
    "                wspace=-0.24)\n",
    "figure.savefig(os.path.join(pltDir,'shearEstSystematics.png'))"
   ]
  },
  {
   "cell_type": "markdown",
   "metadata": {},
   "source": [
    "## PSF"
   ]
  },
  {
   "cell_type": "code",
   "execution_count": 6,
   "metadata": {},
   "outputs": [],
   "source": [
    "# PSF\n",
    "scale=0.168\n",
    "for psfFWHM in [0.60,1.05]:\n",
    "    fname='galaxy_cosmoR_psf%d/psf-%d.fits' %(psfFWHM*100,psfFWHM*100)\n",
    "    if not os.path.isfile(fname):\n",
    "        psfInt  =   galsim.Moffat(beta=3.5,fwhm=psfFWHM,trunc=psfFWHM*4.)\n",
    "        psfInt  =   psfInt.shear(e1=0.02,e2=-0.02)\n",
    "        psfImg  =   psfInt.drawImage(nx=45,ny=45,scale=scale)\n",
    "        psfImg.write(fname)"
   ]
  }
 ],
 "metadata": {
  "kernelspec": {
   "display_name": "Python 3 (ipykernel)",
   "language": "python",
   "name": "python3"
  },
  "language_info": {
   "codemirror_mode": {
    "name": "ipython",
    "version": 3
   },
   "file_extension": ".py",
   "mimetype": "text/x-python",
   "name": "python",
   "nbconvert_exporter": "python",
   "pygments_lexer": "ipython3",
   "version": "3.9.7"
  }
 },
 "nbformat": 4,
 "nbformat_minor": 4
}
