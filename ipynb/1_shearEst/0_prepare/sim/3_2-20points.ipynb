{
 "cells": [
  {
   "cell_type": "code",
   "execution_count": 2,
   "metadata": {},
   "outputs": [
    {
     "name": "stdout",
     "output_type": "stream",
     "text": [
      "Populating the interactive namespace from numpy and matplotlib\n"
     ]
    }
   ],
   "source": [
    "%pylab inline\n",
    "import gc\n",
    "import os\n",
    "import fpfs\n",
    "import numpy as np\n",
    "import galsim\n",
    "import astropy.io.fits as pyfits\n",
    "hscDir=os.path.join(os.environ['homeWrk'],'S16ACatalogs','S16AStandardV2')"
   ]
  },
  {
   "cell_type": "code",
   "execution_count": 3,
   "metadata": {},
   "outputs": [
    {
     "name": "stdout",
     "output_type": "stream",
     "text": [
      "/lustre/work/xiangchong.li/work/FPFS2/sim\n"
     ]
    }
   ],
   "source": [
    "cd wrkDir/FPFS2/sim"
   ]
  },
  {
   "cell_type": "code",
   "execution_count": 11,
   "metadata": {},
   "outputs": [],
   "source": [
    "psfFWHM='60'\n",
    "nx      =   100\n",
    "ny      =   100\n",
    "ngrid   =   64\n",
    "rcut    =   16\n",
    "beg     =   ngrid//2-rcut\n",
    "end     =   beg+2*rcut\n",
    "beta    =   0.75\n",
    "noiVar  =   7e-3\n",
    "pixScale=   0.168\n",
    "g2      =   0.00"
   ]
  },
  {
   "cell_type": "code",
   "execution_count": 11,
   "metadata": {},
   "outputs": [
    {
     "name": "stdout",
     "output_type": "stream",
     "text": [
      "small0_psf60/image-0-g1-0000.fits\n",
      "small1_psf60/image-0-g1-0000.fits\n",
      "small2_psf60/image-0-g1-0000.fits\n",
      "small0_psf60/image-0-g1-2222.fits\n",
      "small1_psf60/image-0-g1-2222.fits\n",
      "small2_psf60/image-0-g1-2222.fits\n"
     ]
    }
   ],
   "source": [
    "FWHM    =   eval(psfFWHM)/100.\n",
    "psfInt  =   galsim.Moffat(beta=3.5,fwhm=FWHM,trunc=FWHM*4.)\n",
    "psfInt  =   psfInt.shear(e1=0.02,e2=-0.02)\n",
    "scale   =   0.168\n",
    "npoints =  20\n",
    "\n",
    "ud      =   galsim.UniformDeviate(1)\n",
    "for g1,pend  in   zip([-0.02,0.02],['g1-0000','g1-2222']):\n",
    "    for radius in [0.07,0.15,0.20]:\n",
    "        gal_image   =   galsim.ImageF(nx*ngrid,ny*ngrid,scale=scale)\n",
    "        gal_image.setOrigin(0,0)\n",
    "        for ix in range(100):\n",
    "            for iy in range(100):\n",
    "                igal   =   ix*100+iy\n",
    "                b       =   galsim.BoundsI(ix*ngrid,(ix+1)*ngrid-1,iy*ngrid,(iy+1)*ngrid-1)\n",
    "                if igal%4==0:\n",
    "                    gal0     =   galsim.RandomKnots(half_light_radius=radius,npoints=npoints,flux=10.,rng=ud)\n",
    "                sub_gal_image = gal_image[b]\n",
    "                ang    =   igal%4*np.pi/4. * galsim.radians\n",
    "                gal     =   gal0.rotate(ang)\n",
    "                # Shear the galaxy\n",
    "                gal     =   gal.shear(g1=g1,g2=g2)\n",
    "                gal     =   galsim.Convolve([psfInt,gal])\n",
    "                # Draw the galaxy image\n",
    "                gal.drawImage(sub_gal_image)\n",
    "                del gal\n",
    "                gc.collect()\n",
    "        outfname=os.path.join('small%d_psf60' %int(radius*10),'image-0-%s.fits' %pend)\n",
    "        print(outfname)\n",
    "        pyfits.writeto(outfname,gal_image.array,overwrite=True)\n",
    "        del gal_image\n",
    "        gc.collect()"
   ]
  },
  {
   "cell_type": "code",
   "execution_count": 12,
   "metadata": {},
   "outputs": [
    {
     "name": "stdout",
     "output_type": "stream",
     "text": [
      "-0.019992226314277474\n",
      "-0.0003932470704929303\n",
      "-1.1633228695936669e-07\n"
     ]
    }
   ],
   "source": [
    "def measureShear(psfImg,galImgAll):\n",
    "    fpTask=fpfs.fpfsBase.fpfsTask(psfImg)\n",
    "    # Read GAL image\n",
    "    imgList=[galImgAll[j*64:(j+1)*64,i*64:(i+1)*64] for i in range(100) for j in range(100)]\n",
    "\n",
    "    # Measure FPFS moments\n",
    "    a=fpTask.measure(imgList)\n",
    "\n",
    "    # Measure FPFS ellipticity, FPFS response\n",
    "    # The weighting parameter\n",
    "    C=100\n",
    "    # Again, for noiseless galaxies, you do not need to set rev=True\n",
    "    # to revise second-order noise bias\n",
    "    b=fpfs.fpfsBase.fpfsM2E(a,C)\n",
    "    # Estimate shear\n",
    "    return np.average(b['fpfs_e1']),np.average(b['fpfs_RE'])\n",
    "radius=0.07\n",
    "psfFname=   os.path.join('small%d_psf%s/' %(int(radius*10),psfFWHM),'psf-%s.fits' %psfFWHM)\n",
    "psfData   =   pyfits.getdata(psfFname)\n",
    "npad       =   (ngrid-psfData.shape[0])//2\n",
    "psfData2 =   np.pad(psfData,(npad+1,npad),mode='constant')\n",
    "assert psfData2.shape[0]==ngrid\n",
    "\n",
    "pend='g1-0000'\n",
    "gal_all=pyfits.getdata(os.path.join('small%d_psf60' %int(radius*10),'image-3-%s.fits' %pend))\n",
    "em,rm=measureShear(psfData2,gal_all)\n",
    "print(gm)\n",
    "pend='g1-2222'\n",
    "gal_all=pyfits.getdata(os.path.join('small%d_psf60' %int(radius*10),'image-3-%s.fits' %pend))\n",
    "ep,rp=measureShear(psfData2,gal_all)\n",
    "print((ep-em)/(rp+rm)*2./0.04-1)\n",
    "print((ep+em)/(rp+rm))"
   ]
  },
  {
   "cell_type": "code",
   "execution_count": 10,
   "metadata": {},
   "outputs": [
    {
     "data": {
      "text/plain": [
       "26"
      ]
     },
     "execution_count": 10,
     "metadata": {},
     "output_type": "execute_result"
    }
   ],
   "source": [
    "gc.collect()"
   ]
  },
  {
   "cell_type": "code",
   "execution_count": null,
   "metadata": {},
   "outputs": [],
   "source": []
  }
 ],
 "metadata": {
  "kernelspec": {
   "display_name": "Python 3 (ipykernel)",
   "language": "python",
   "name": "python3"
  },
  "language_info": {
   "codemirror_mode": {
    "name": "ipython",
    "version": 3
   },
   "file_extension": ".py",
   "mimetype": "text/x-python",
   "name": "python",
   "nbconvert_exporter": "python",
   "pygments_lexer": "ipython3",
   "version": "3.7.12"
  }
 },
 "nbformat": 4,
 "nbformat_minor": 4
}
