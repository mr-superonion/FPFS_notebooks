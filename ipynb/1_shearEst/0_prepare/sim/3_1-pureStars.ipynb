{
 "cells": [
  {
   "cell_type": "code",
   "execution_count": 1,
   "metadata": {},
   "outputs": [
    {
     "name": "stdout",
     "output_type": "stream",
     "text": [
      "Populating the interactive namespace from numpy and matplotlib\n"
     ]
    }
   ],
   "source": [
    "%pylab inline\n",
    "import os\n",
    "import numpy as np\n",
    "import astropy.io.fits as pyfits\n",
    "hscDir=os.path.join(os.environ['homeWrk'],'S16ACatalogs','S16AStandardV2')"
   ]
  },
  {
   "cell_type": "code",
   "execution_count": 2,
   "metadata": {},
   "outputs": [
    {
     "name": "stdout",
     "output_type": "stream",
     "text": [
      "/lustre/work/xiangchong.li/work/FPFS2/sim\n"
     ]
    }
   ],
   "source": [
    "cd wrkDir/FPFS2/sim"
   ]
  },
  {
   "cell_type": "code",
   "execution_count": 3,
   "metadata": {},
   "outputs": [],
   "source": [
    "starcat=pyfits.getdata(os.path.join(hscDir,'field/GAMA09H_stars.fits'))\n",
    "flux=10**((starcat['imag_psf']-27)/(-2.5))   \n",
    "msk=starcat['imag_psf']>22.\n",
    "flux=flux[msk]\n",
    "starcat=starcat[msk]"
   ]
  },
  {
   "cell_type": "code",
   "execution_count": 4,
   "metadata": {},
   "outputs": [
    {
     "data": {
      "text/plain": [
       "80.03202"
      ]
     },
     "execution_count": 4,
     "metadata": {},
     "output_type": "execute_result"
    }
   ],
   "source": [
    "np.average(flux)"
   ]
  },
  {
   "cell_type": "code",
   "execution_count": 5,
   "metadata": {},
   "outputs": [
    {
     "data": {
      "text/plain": [
       "(array([2.0000e+00, 2.0000e+00, 2.3100e+02, 4.7170e+03, 1.3978e+04,\n",
       "        1.4158e+04, 7.1330e+03, 1.9210e+03, 3.4900e+02, 3.1000e+01]),\n",
       " array([  0.54450631,  37.19562371,  73.84674111, 110.49785851,\n",
       "        147.14897592, 183.80009332, 220.45121072, 257.10232812,\n",
       "        293.75344552, 330.40456292, 367.05568033]),\n",
       " <a list of 10 Patch objects>)"
      ]
     },
     "execution_count": 5,
     "metadata": {},
     "output_type": "execute_result"
    },
    {
     "data": {
      "image/png": "[encoded data removed]",
      "text/plain": [
       "<Figure size 432x288 with 1 Axes>"
      ]
     },
     "metadata": {
      "needs_background": "light"
     },
     "output_type": "display_data"
    }
   ],
   "source": [
    "plt.hist(starcat['iflux_psf']/starcat['iflux_psf_err'])"
   ]
  },
  {
   "cell_type": "code",
   "execution_count": 6,
   "metadata": {},
   "outputs": [],
   "source": [
    "ngrid=64\n",
    "psfFWHM='60'\n",
    "psfFname=   os.path.join('./star_psf%s/' %psfFWHM,'psf-%s.fits' %psfFWHM)\n",
    "psfData   =   pyfits.getdata(psfFname)\n",
    "npad       =   (ngrid-psfData.shape[0])//2\n",
    "psfData2 =   np.pad(psfData,(npad+1,npad),mode='constant')\n",
    "assert psfData2.shape[0]==ngrid"
   ]
  },
  {
   "cell_type": "code",
   "execution_count": 7,
   "metadata": {},
   "outputs": [
    {
     "data": {
      "text/plain": [
       "<matplotlib.image.AxesImage at 0x2b6e0bf77d10>"
      ]
     },
     "execution_count": 7,
     "metadata": {},
     "output_type": "execute_result"
    },
    {
     "data": {
      "image/png": "[encoded data removed]",
      "text/plain": [
       "<Figure size 432x288 with 1 Axes>"
      ]
     },
     "metadata": {
      "needs_background": "light"
     },
     "output_type": "display_data"
    }
   ],
   "source": [
    "plt.imshow(psfData2)"
   ]
  },
  {
   "cell_type": "code",
   "execution_count": 8,
   "metadata": {},
   "outputs": [],
   "source": [
    "outfname=os.path.join('star_psf60','image-0-g1-1111.fits')\n",
    "pyfits.writeto(outfname,10*np.tile(psfData2,(100,100)),overwrite=True)"
   ]
  },
  {
   "cell_type": "code",
   "execution_count": null,
   "metadata": {},
   "outputs": [],
   "source": []
  }
 ],
 "metadata": {
  "kernelspec": {
   "display_name": "Python 3",
   "language": "python",
   "name": "python3"
  },
  "language_info": {
   "codemirror_mode": {
    "name": "ipython",
    "version": 3
   },
   "file_extension": ".py",
   "mimetype": "text/x-python",
   "name": "python",
   "nbconvert_exporter": "python",
   "pygments_lexer": "ipython3",
   "version": "3.7.8"
  }
 },
 "nbformat": 4,
 "nbformat_minor": 4
}
