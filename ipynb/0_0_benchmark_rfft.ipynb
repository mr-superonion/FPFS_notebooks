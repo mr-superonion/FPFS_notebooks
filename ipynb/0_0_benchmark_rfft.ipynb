{
 "cells": [
  {
   "cell_type": "code",
   "execution_count": 1,
   "id": "a8916355-47a0-4b39-acac-edc5b66b6a0f",
   "metadata": {},
   "outputs": [
    {
     "name": "stdout",
     "output_type": "stream",
     "text": [
      "Populating the interactive namespace from numpy and matplotlib\n",
      "Do not have lsst pipeline!\n"
     ]
    }
   ],
   "source": [
    "%pylab inline\n",
    "%load_ext autoreload\n",
    "%autoreload 1\n",
    "\n",
    "import gc\n",
    "import fpfs\n",
    "import fitsio\n",
    "import numpy as np\n",
    "from fpfs import simutil\n",
    "import matplotlib.pylab as plt\n",
    "import numpy.lib.recfunctions as rfn\n",
    "\n",
    "%aimport pdet\n",
    "import pltutil"
   ]
  },
  {
   "cell_type": "code",
   "execution_count": 2,
   "id": "2703f65b-005d-452b-9b1b-5aca49a5a3b9",
   "metadata": {},
   "outputs": [],
   "source": [
    "ishear =1\n",
    "igroup =0\n",
    "do_plot=False\n",
    "ngrid  =64\n",
    "ngal=  10\n",
    "img1=  simutil.make_basic_sim('basicCenter_psf60','g%d-0000' %ishear,0,ny=ngal,nx=ngal,do_write=False)\n",
    "ngrid2=ngrid*ngal\n",
    "gsigma =   6.*2.*np.pi/64\n",
    "\n",
    "\n",
    "# PSF\n",
    "psfname =   os.path.join(os.environ['homeWrk'],'FPFS2','sim/galaxy_basic_psf60/psf-60.fits')\n",
    "psf     =   fitsio.read(psfname)\n",
    "npad    =   (ngrid2-psf.shape[0])//2\n",
    "psfData =   np.pad(psf,(npad+1,npad),mode='constant')\n",
    "assert psfData.shape[0]==ngrid2\n",
    "\n",
    "indX    =   np.arange(32,64*ngal,64)\n",
    "indY    =   np.arange(32,64*ngal,64)\n",
    "inds    =   np.meshgrid(indY,indX,indexing='ij')\n",
    "\n",
    "coords  =   np.array(np.zeros(inds[0].size),dtype=[('pdet_y','i4'),('pdet_x','i4')])\n",
    "coords['pdet_y']=   np.ravel(inds[0])\n",
    "coords['pdet_x']=   np.ravel(inds[1])\n",
    "del indX,indY,inds"
   ]
  },
  {
   "cell_type": "code",
   "execution_count": 3,
   "id": "e97e2b3f-ecc8-4c6c-b44c-dde3377f4e99",
   "metadata": {},
   "outputs": [
    {
     "data": {
      "text/plain": [
       "0"
      ]
     },
     "execution_count": 3,
     "metadata": {},
     "output_type": "execute_result"
    }
   ],
   "source": [
    "out0    =   pdet.get_shear_response(img1,psfData,gsigma=gsigma,\\\n",
    "            coords=coords)\n",
    "out1    =   pdet.get_shear_response_rfft(img1,psfData,gsigma=gsigma,\\\n",
    "            coords=coords)\n",
    "for j in range(1,4):\n",
    "    for i in range(1,4):\n",
    "        np.testing.assert_almost_equal(np.max(out1['pdet_v%d%dr1' %(j,i)]-out0['pdet_v%d%dr1' %(j,i)]),0,6)\n",
    "        np.testing.assert_almost_equal(np.max(out1['pdet_v%d%dr2' %(j,i)]-out0['pdet_v%d%dr2' %(j,i)]),0,6)\n",
    "        np.testing.assert_almost_equal(np.max(out1['pdet_v%d%d' %(j,i)]-out0['pdet_v%d%d' %(j,i)]),0,6)\n",
    "gc.collect()"
   ]
  },
  {
   "cell_type": "code",
   "execution_count": 4,
   "id": "ba2f0bde-7c8c-4180-b73e-83dad666016c",
   "metadata": {},
   "outputs": [
    {
     "name": "stdout",
     "output_type": "stream",
     "text": [
      "CPU times: user 1.19 s, sys: 196 ms, total: 1.39 s\n",
      "Wall time: 1.39 s\n"
     ]
    }
   ],
   "source": [
    "%%time\n",
    "for _ in range(10):\n",
    "    out0    =   pdet.get_shear_response(img1,psfData,gsigma=gsigma,\\\n",
    "            coords=coords)"
   ]
  },
  {
   "cell_type": "code",
   "execution_count": 13,
   "id": "b4420883-5a5a-4c42-8fb2-207cbb5b4824",
   "metadata": {},
   "outputs": [
    {
     "ename": "TypingError",
     "evalue": "Failed in nopython mode pipeline (step: nopython frontend)\n\u001b[1m\u001b[1m\u001b[1mNo implementation of function Function(<built-in function array>) found for signature:\n \n >>> array(array(float64, 1d, C), dtype=reflected list(UniTuple(unicode_type x 2))<iv=None>)\n \nThere are 4 candidate implementations:\n\u001b[1m  - Of which 4 did not match due to:\n  Overload in function '_OverloadWrapper._build.<locals>.ol_generated': File: numba/core/overload_glue.py: Line 131.\n    With argument(s): '(array(float64, 1d, C), dtype=reflected list(UniTuple(unicode_type x 2))<iv=None>)':\u001b[0m\n\u001b[1m   Rejected as the implementation raised a specific error:\n     TypingError: Failed in nopython mode pipeline (step: nopython frontend)\n   \u001b[1m\u001b[1m\u001b[1mNo implementation of function Function(<intrinsic stub>) found for signature:\n    \n    >>> stub(array(float64, 1d, C), reflected list(UniTuple(unicode_type x 2))<iv=None>)\n    \n   There are 2 candidate implementations:\n   \u001b[1m  - Of which 2 did not match due to:\n     Intrinsic in function 'stub': File: numba/core/overload_glue.py: Line 35.\n       With argument(s): '(array(float64, 1d, C), reflected list(UniTuple(unicode_type x 2))<iv=None>)':\u001b[0m\n   \u001b[1m   Rejected as the implementation raised a specific error:\n        TypingError: \u001b[1marray(float64, 1d, C) not allowed in a homogeneous sequence\u001b[0m\u001b[0m\n     raised from /lustre/work/xiangchong.li/ana/miniconda3/envs/cosmosis-mpich/lib/python3.7/site-packages/numba/core/typing/npydecl.py:487\n   \u001b[0m\n   \u001b[0m\u001b[1mDuring: resolving callee type: Function(<intrinsic stub>)\u001b[0m\n   \u001b[0m\u001b[1mDuring: typing of call at <string> (3)\n   \u001b[0m\n   \u001b[1m\n   File \"<string>\", line 3:\u001b[0m\n   \u001b[1m<source missing, REPL/exec in use?>\u001b[0m\n\u001b[0m\n  raised from /lustre/work/xiangchong.li/ana/miniconda3/envs/cosmosis-mpich/lib/python3.7/site-packages/numba/core/typeinfer.py:1086\n\u001b[0m\n\u001b[0m\u001b[1mDuring: resolving callee type: Function(<built-in function array>)\u001b[0m\n\u001b[0m\u001b[1mDuring: typing of call at /lustre/work/xiangchong.li/work/FPFS2/sdet_notebooks/run/pdet.py (212)\n\u001b[0m\n\u001b[1m\nFile \"../run/pdet.py\", line 212:\u001b[0m\n\u001b[1mdef create_peak_array(coords,types,imgCov,imgCovQ1,imgCovQ2,imgCovD1,imgCovD2,separate):\n\u001b[1m    out     =   np.array(np.zeros(coords.size),dtype=types)\n\u001b[0m    \u001b[1m^\u001b[0m\u001b[0m\n",
     "output_type": "error",
     "traceback": [
      "\u001b[0;31m---------------------------------------------------------------------------\u001b[0m",
      "\u001b[0;31mTypingError\u001b[0m                               Traceback (most recent call last)",
      "\u001b[0;32m<timed exec>\u001b[0m in \u001b[0;36m<module>\u001b[0;34m\u001b[0m\n",
      "\u001b[0;32m/lustre/work/xiangchong.li/work/FPFS2/sdet_notebooks/run/pdet.py\u001b[0m in \u001b[0;36mget_shear_response_rfft\u001b[0;34m(***failed resolving arguments***)\u001b[0m\n\u001b[1;32m    206\u001b[0m     \u001b[0mtypes\u001b[0m   \u001b[0;34m=\u001b[0m   \u001b[0mtypes\u001b[0m\u001b[0;34m+\u001b[0m\u001b[0mnn\u001b[0m\u001b[0;34m\u001b[0m\u001b[0;34m\u001b[0m\u001b[0m\n\u001b[1;32m    207\u001b[0m \u001b[0;34m\u001b[0m\u001b[0m\n\u001b[0;32m--> 208\u001b[0;31m     \u001b[0;32mreturn\u001b[0m \u001b[0mcreate_peak_array\u001b[0m\u001b[0;34m(\u001b[0m\u001b[0mcoords\u001b[0m\u001b[0;34m,\u001b[0m\u001b[0mtypes\u001b[0m\u001b[0;34m,\u001b[0m\u001b[0mimgCov\u001b[0m\u001b[0;34m,\u001b[0m\u001b[0mimgCovQ1\u001b[0m\u001b[0;34m,\u001b[0m\u001b[0mimgCovQ2\u001b[0m\u001b[0;34m,\u001b[0m\u001b[0mimgCovD1\u001b[0m\u001b[0;34m,\u001b[0m\u001b[0mimgCovD2\u001b[0m\u001b[0;34m,\u001b[0m\u001b[0mseparate\u001b[0m\u001b[0;34m)\u001b[0m\u001b[0;34m\u001b[0m\u001b[0;34m\u001b[0m\u001b[0m\n\u001b[0m\u001b[1;32m    209\u001b[0m \u001b[0;34m\u001b[0m\u001b[0m\n\u001b[1;32m    210\u001b[0m \u001b[0;34m@\u001b[0m\u001b[0mtry_numba_njit\u001b[0m\u001b[0;34m(\u001b[0m\u001b[0;34m)\u001b[0m\u001b[0;34m\u001b[0m\u001b[0;34m\u001b[0m\u001b[0m\n",
      "\u001b[0;32m/lustre/work/xiangchong.li/ana/miniconda3/envs/cosmosis-mpich/lib/python3.7/site-packages/numba/core/dispatcher.py\u001b[0m in \u001b[0;36m_compile_for_args\u001b[0;34m(self, *args, **kws)\u001b[0m\n\u001b[1;32m    466\u001b[0m                 \u001b[0me\u001b[0m\u001b[0;34m.\u001b[0m\u001b[0mpatch_message\u001b[0m\u001b[0;34m(\u001b[0m\u001b[0mmsg\u001b[0m\u001b[0;34m)\u001b[0m\u001b[0;34m\u001b[0m\u001b[0;34m\u001b[0m\u001b[0m\n\u001b[1;32m    467\u001b[0m \u001b[0;34m\u001b[0m\u001b[0m\n\u001b[0;32m--> 468\u001b[0;31m             \u001b[0merror_rewrite\u001b[0m\u001b[0;34m(\u001b[0m\u001b[0me\u001b[0m\u001b[0;34m,\u001b[0m \u001b[0;34m'typing'\u001b[0m\u001b[0;34m)\u001b[0m\u001b[0;34m\u001b[0m\u001b[0;34m\u001b[0m\u001b[0m\n\u001b[0m\u001b[1;32m    469\u001b[0m         \u001b[0;32mexcept\u001b[0m \u001b[0merrors\u001b[0m\u001b[0;34m.\u001b[0m\u001b[0mUnsupportedError\u001b[0m \u001b[0;32mas\u001b[0m \u001b[0me\u001b[0m\u001b[0;34m:\u001b[0m\u001b[0;34m\u001b[0m\u001b[0;34m\u001b[0m\u001b[0m\n\u001b[1;32m    470\u001b[0m             \u001b[0;31m# Something unsupported is present in the user code, add help info\u001b[0m\u001b[0;34m\u001b[0m\u001b[0;34m\u001b[0m\u001b[0;34m\u001b[0m\u001b[0m\n",
      "\u001b[0;32m/lustre/work/xiangchong.li/ana/miniconda3/envs/cosmosis-mpich/lib/python3.7/site-packages/numba/core/dispatcher.py\u001b[0m in \u001b[0;36merror_rewrite\u001b[0;34m(e, issue_type)\u001b[0m\n\u001b[1;32m    407\u001b[0m                 \u001b[0;32mraise\u001b[0m \u001b[0me\u001b[0m\u001b[0;34m\u001b[0m\u001b[0;34m\u001b[0m\u001b[0m\n\u001b[1;32m    408\u001b[0m             \u001b[0;32melse\u001b[0m\u001b[0;34m:\u001b[0m\u001b[0;34m\u001b[0m\u001b[0;34m\u001b[0m\u001b[0m\n\u001b[0;32m--> 409\u001b[0;31m                 \u001b[0;32mraise\u001b[0m \u001b[0me\u001b[0m\u001b[0;34m.\u001b[0m\u001b[0mwith_traceback\u001b[0m\u001b[0;34m(\u001b[0m\u001b[0;32mNone\u001b[0m\u001b[0;34m)\u001b[0m\u001b[0;34m\u001b[0m\u001b[0;34m\u001b[0m\u001b[0m\n\u001b[0m\u001b[1;32m    410\u001b[0m \u001b[0;34m\u001b[0m\u001b[0m\n\u001b[1;32m    411\u001b[0m         \u001b[0margtypes\u001b[0m \u001b[0;34m=\u001b[0m \u001b[0;34m[\u001b[0m\u001b[0;34m]\u001b[0m\u001b[0;34m\u001b[0m\u001b[0;34m\u001b[0m\u001b[0m\n",
      "\u001b[0;31mTypingError\u001b[0m: Failed in nopython mode pipeline (step: nopython frontend)\n\u001b[1m\u001b[1m\u001b[1mNo implementation of function Function(<built-in function array>) found for signature:\n \n >>> array(array(float64, 1d, C), dtype=reflected list(UniTuple(unicode_type x 2))<iv=None>)\n \nThere are 4 candidate implementations:\n\u001b[1m  - Of which 4 did not match due to:\n  Overload in function '_OverloadWrapper._build.<locals>.ol_generated': File: numba/core/overload_glue.py: Line 131.\n    With argument(s): '(array(float64, 1d, C), dtype=reflected list(UniTuple(unicode_type x 2))<iv=None>)':\u001b[0m\n\u001b[1m   Rejected as the implementation raised a specific error:\n     TypingError: Failed in nopython mode pipeline (step: nopython frontend)\n   \u001b[1m\u001b[1m\u001b[1mNo implementation of function Function(<intrinsic stub>) found for signature:\n    \n    >>> stub(array(float64, 1d, C), reflected list(UniTuple(unicode_type x 2))<iv=None>)\n    \n   There are 2 candidate implementations:\n   \u001b[1m  - Of which 2 did not match due to:\n     Intrinsic in function 'stub': File: numba/core/overload_glue.py: Line 35.\n       With argument(s): '(array(float64, 1d, C), reflected list(UniTuple(unicode_type x 2))<iv=None>)':\u001b[0m\n   \u001b[1m   Rejected as the implementation raised a specific error:\n        TypingError: \u001b[1marray(float64, 1d, C) not allowed in a homogeneous sequence\u001b[0m\u001b[0m\n     raised from /lustre/work/xiangchong.li/ana/miniconda3/envs/cosmosis-mpich/lib/python3.7/site-packages/numba/core/typing/npydecl.py:487\n   \u001b[0m\n   \u001b[0m\u001b[1mDuring: resolving callee type: Function(<intrinsic stub>)\u001b[0m\n   \u001b[0m\u001b[1mDuring: typing of call at <string> (3)\n   \u001b[0m\n   \u001b[1m\n   File \"<string>\", line 3:\u001b[0m\n   \u001b[1m<source missing, REPL/exec in use?>\u001b[0m\n\u001b[0m\n  raised from /lustre/work/xiangchong.li/ana/miniconda3/envs/cosmosis-mpich/lib/python3.7/site-packages/numba/core/typeinfer.py:1086\n\u001b[0m\n\u001b[0m\u001b[1mDuring: resolving callee type: Function(<built-in function array>)\u001b[0m\n\u001b[0m\u001b[1mDuring: typing of call at /lustre/work/xiangchong.li/work/FPFS2/sdet_notebooks/run/pdet.py (212)\n\u001b[0m\n\u001b[1m\nFile \"../run/pdet.py\", line 212:\u001b[0m\n\u001b[1mdef create_peak_array(coords,types,imgCov,imgCovQ1,imgCovQ2,imgCovD1,imgCovD2,separate):\n\u001b[1m    out     =   np.array(np.zeros(coords.size),dtype=types)\n\u001b[0m    \u001b[1m^\u001b[0m\u001b[0m\n"
     ]
    }
   ],
   "source": [
    "%%time\n",
    "for _ in range(10):\n",
    "    out1    =   pdet.get_shear_response_rfft(img1,psfData,gsigma=gsigma,coords=coords)"
   ]
  },
  {
   "cell_type": "code",
   "execution_count": null,
   "id": "965335aa-55c0-4055-866c-b878963851c8",
   "metadata": {},
   "outputs": [],
   "source": []
  }
 ],
 "metadata": {
  "kernelspec": {
   "display_name": "Python 3 (ipykernel)",
   "language": "python",
   "name": "python3"
  },
  "language_info": {
   "codemirror_mode": {
    "name": "ipython",
    "version": 3
   },
   "file_extension": ".py",
   "mimetype": "text/x-python",
   "name": "python",
   "nbconvert_exporter": "python",
   "pygments_lexer": "ipython3",
   "version": "3.7.12"
  }
 },
 "nbformat": 4,
 "nbformat_minor": 5
}
