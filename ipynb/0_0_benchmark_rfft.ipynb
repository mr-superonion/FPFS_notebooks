{
 "cells": [
  {
   "cell_type": "code",
   "execution_count": 1,
   "id": "a8916355-47a0-4b39-acac-edc5b66b6a0f",
   "metadata": {},
   "outputs": [
    {
     "name": "stdout",
     "output_type": "stream",
     "text": [
      "Populating the interactive namespace from numpy and matplotlib\n",
      "Do not have lsst pipeline!\n"
     ]
    }
   ],
   "source": [
    "%pylab inline\n",
    "%load_ext autoreload\n",
    "%autoreload 1\n",
    "\n",
    "import gc\n",
    "import fpfs\n",
    "import fitsio\n",
    "import numpy as np\n",
    "from fpfs import simutil\n",
    "import matplotlib.pylab as plt\n",
    "import numpy.lib.recfunctions as rfn\n",
    "\n",
    "%aimport pdet\n",
    "import pltutil"
   ]
  },
  {
   "cell_type": "code",
   "execution_count": 2,
   "id": "2703f65b-005d-452b-9b1b-5aca49a5a3b9",
   "metadata": {},
   "outputs": [],
   "source": [
    "ishear =1\n",
    "igroup =0\n",
    "do_plot=False\n",
    "ngrid  =64\n",
    "ngal=  10\n",
    "img1=  simutil.make_basic_sim('basicCenter_psf60','g%d-0000' %ishear,0,ny=ngal,nx=ngal,do_write=False)\n",
    "ngrid2=ngrid*ngal\n",
    "gsigma =   6.*2.*np.pi/64\n",
    "\n",
    "\n",
    "# PSF\n",
    "psfname =   os.path.join(os.environ['homeWrk'],'FPFS2','sim/galaxy_basic_psf60/psf-60.fits')\n",
    "psf     =   fitsio.read(psfname)\n",
    "npad    =   (ngrid2-psf.shape[0])//2\n",
    "psfData =   np.pad(psf,(npad+1,npad),mode='constant')\n",
    "assert psfData.shape[0]==ngrid2\n",
    "\n",
    "indX    =   np.arange(32,64*ngal,64)\n",
    "indY    =   np.arange(32,64*ngal,64)\n",
    "inds    =   np.meshgrid(indY,indX,indexing='ij')\n",
    "\n",
    "coords  =   np.array(np.zeros(inds[0].size),dtype=[('pdet_y','i4'),('pdet_x','i4')])\n",
    "coords['pdet_y']=   np.ravel(inds[0])\n",
    "coords['pdet_x']=   np.ravel(inds[1])\n",
    "del indX,indY,inds"
   ]
  },
  {
   "cell_type": "code",
   "execution_count": 3,
   "id": "e97e2b3f-ecc8-4c6c-b44c-dde3377f4e99",
   "metadata": {},
   "outputs": [
    {
     "name": "stdout",
     "output_type": "stream",
     "text": [
      "used memory: 0.199\n",
      "used memory: 0.199\n",
      "used memory: 0.171\n",
      "used memory: 0.171\n"
     ]
    },
    {
     "data": {
      "text/plain": [
       "0"
      ]
     },
     "execution_count": 3,
     "metadata": {},
     "output_type": "execute_result"
    }
   ],
   "source": [
    "out0    =   pdet.get_shear_response(img1,psfData,gsigma=gsigma,\\\n",
    "            coords=coords)\n",
    "out1    =   pdet.get_shear_response_rfft(img1,psfData,gsigma=gsigma,\\\n",
    "            coords=coords)\n",
    "for j in range(1,4):\n",
    "    for i in range(1,4):\n",
    "        np.testing.assert_almost_equal(np.max(out1['pdet_v%d%dr1' %(j,i)]-out0['pdet_v%d%dr1' %(j,i)]),0,6)\n",
    "        np.testing.assert_almost_equal(np.max(out1['pdet_v%d%dr2' %(j,i)]-out0['pdet_v%d%dr2' %(j,i)]),0,6)\n",
    "        np.testing.assert_almost_equal(np.max(out1['pdet_v%d%d' %(j,i)]-out0['pdet_v%d%d' %(j,i)]),0,6)\n",
    "gc.collect()"
   ]
  },
  {
   "cell_type": "code",
   "execution_count": 4,
   "id": "ba2f0bde-7c8c-4180-b73e-83dad666016c",
   "metadata": {},
   "outputs": [
    {
     "name": "stdout",
     "output_type": "stream",
     "text": [
      "used memory: 0.199\n",
      "used memory: 0.199\n",
      "used memory: 0.199\n",
      "used memory: 0.199\n",
      "used memory: 0.199\n",
      "used memory: 0.199\n",
      "used memory: 0.199\n",
      "used memory: 0.199\n",
      "used memory: 0.199\n",
      "used memory: 0.199\n",
      "used memory: 0.199\n",
      "used memory: 0.199\n",
      "used memory: 0.199\n",
      "used memory: 0.199\n",
      "used memory: 0.199\n",
      "used memory: 0.199\n",
      "used memory: 0.199\n",
      "used memory: 0.199\n",
      "used memory: 0.199\n",
      "used memory: 0.199\n",
      "CPU times: user 1.18 s, sys: 222 ms, total: 1.4 s\n",
      "Wall time: 1.39 s\n"
     ]
    }
   ],
   "source": [
    "%%time\n",
    "for _ in range(10):\n",
    "    out0    =   pdet.get_shear_response(img1,psfData,gsigma=gsigma,\\\n",
    "            coords=coords)"
   ]
  },
  {
   "cell_type": "code",
   "execution_count": 5,
   "id": "b4420883-5a5a-4c42-8fb2-207cbb5b4824",
   "metadata": {},
   "outputs": [
    {
     "name": "stdout",
     "output_type": "stream",
     "text": [
      "used memory: 0.171\n",
      "used memory: 0.171\n",
      "used memory: 0.171\n",
      "used memory: 0.171\n",
      "used memory: 0.171\n",
      "used memory: 0.171\n",
      "used memory: 0.171\n",
      "used memory: 0.171\n",
      "used memory: 0.171\n",
      "used memory: 0.171\n",
      "used memory: 0.171\n",
      "used memory: 0.171\n",
      "used memory: 0.171\n",
      "used memory: 0.171\n",
      "used memory: 0.171\n",
      "used memory: 0.171\n",
      "used memory: 0.171\n",
      "used memory: 0.171\n",
      "used memory: 0.171\n",
      "used memory: 0.171\n",
      "CPU times: user 827 ms, sys: 19.3 ms, total: 846 ms\n",
      "Wall time: 841 ms\n"
     ]
    }
   ],
   "source": [
    "%%time\n",
    "for _ in range(10):\n",
    "    out1    =   pdet.get_shear_response_rfft(img1,psfData,gsigma=gsigma,coords=coords)"
   ]
  },
  {
   "cell_type": "code",
   "execution_count": 10,
   "id": "1e7b7648-b7dc-44dc-9526-c9bc20ed504f",
   "metadata": {},
   "outputs": [
    {
     "name": "stdout",
     "output_type": "stream",
     "text": [
      "CPU times: user 5 µs, sys: 1 µs, total: 6 µs\n",
      "Wall time: 7.87 µs\n"
     ]
    },
    {
     "data": {
      "text/plain": [
       "100"
      ]
     },
     "execution_count": 10,
     "metadata": {},
     "output_type": "execute_result"
    }
   ],
   "source": [
    "%%time\n",
    "pdet.test_numba(100)"
   ]
  },
  {
   "cell_type": "code",
   "execution_count": 9,
   "id": "942ef238-918f-43d9-ac60-0fa0a4cdc45f",
   "metadata": {},
   "outputs": [
    {
     "name": "stdout",
     "output_type": "stream",
     "text": [
      "CPU times: user 37.6 ms, sys: 126 µs, total: 37.8 ms\n",
      "Wall time: 36.7 ms\n"
     ]
    },
    {
     "data": {
      "text/plain": [
       "100"
      ]
     },
     "execution_count": 9,
     "metadata": {},
     "output_type": "execute_result"
    }
   ],
   "source": [
    "%%time\n",
    "pdet.test_numba_njit(100)"
   ]
  },
  {
   "cell_type": "code",
   "execution_count": null,
   "id": "9714a37e-ee94-4356-b76d-988623669579",
   "metadata": {},
   "outputs": [],
   "source": []
  }
 ],
 "metadata": {
  "kernelspec": {
   "display_name": "Python 3 (ipykernel)",
   "language": "python",
   "name": "python3"
  },
  "language_info": {
   "codemirror_mode": {
    "name": "ipython",
    "version": 3
   },
   "file_extension": ".py",
   "mimetype": "text/x-python",
   "name": "python",
   "nbconvert_exporter": "python",
   "pygments_lexer": "ipython3",
   "version": "3.7.12"
  }
 },
 "nbformat": 4,
 "nbformat_minor": 5
}
